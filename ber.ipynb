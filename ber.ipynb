{
 "cells": [
  {
   "cell_type": "code",
   "execution_count": 1,
   "metadata": {
    "collapsed": true
   },
   "outputs": [],
   "source": [
    "# Import libraries\n",
    "import json\n",
    "import matplotlib.pyplot as plt\n",
    "import numpy as np\n",
    "import pandas as pd\n",
    "import scipy.signal\n",
    "import scipy.stats"
   ]
  },
  {
   "cell_type": "code",
   "execution_count": 2,
   "metadata": {
    "collapsed": true
   },
   "outputs": [],
   "source": [
    "# Load settings\n",
    "TECH = 'B'\n",
    "with open(f\"data/tech{TECH}/settings.json\") as sfile:\n",
    "    settings = json.load(sfile)\n",
    "\n",
    "# Load data for technology\n",
    "colnames = [\"addr\", \"time\", \"r\", \"g\", \"gi\", \"range\", \"timept\"]\n",
    "data = pd.read_csv(f\"data/tech{TECH}/relaxdata.min.tsv.gz\", names=colnames, sep='\\t')"
   ]
  },
  {
   "cell_type": "code",
   "execution_count": 3,
   "metadata": {
    "collapsed": true
   },
   "outputs": [],
   "source": [
    "# Binary mapping\n",
    "Dict_2bit = {0: '00', 1: '01', 2: '11', 3: '10'}"
   ]
  },
  {
   "cell_type": "code",
   "execution_count": 6,
   "metadata": {
    "collapsed": true
   },
   "outputs": [],
   "source": [
    "# Letters\n",
    "def diff_letters(a,b):\n",
    "    results = []\n",
    "    for i in range(len(a)):\n",
    "        if a[i] != b[i]:\n",
    "            results.append(i)\n",
    "    return results"
   ]
  },
  {
   "cell_type": "code",
   "execution_count": 7,
   "metadata": {
    "collapsed": true
   },
   "outputs": [],
   "source": [
    "# Array error calculation\n",
    "def error_array_calculation_2(index):\n",
    "    data = pd.read_csv(f\"data/tech{TECH}/relaxdata.min.tsv.gz\", names=colnames, sep='\\t')\n",
    "    symbol_error_array = np.zeros((len(index),len(index)))\n",
    "    bits = int(np.log2(len(index)))\n",
    "    page_error_array = np.zeros(bits)\n",
    "    threshold = np.zeros(5)\n",
    "    threshold[-1] = 300\n",
    "    for k in range(len(index)-1):\n",
    "        rdata_left = data[(data[\"range\"] == index[k]) & (data[\"timept\"] == 1e5)][\"g\"]*1e6\n",
    "        rdata_right = data[(data[\"range\"] == index[k+1]) & (data[\"timept\"] == 1e5)][\"g\"]*1e6\n",
    "        gx = np.linspace(0, settings[\"gmax\"]*1.1e6, 500)\n",
    "        pdf_left = scipy.stats.gaussian_kde(rdata_left).pdf(gx)\n",
    "        pdf_right = scipy.stats.gaussian_kde(rdata_right).pdf(gx)\n",
    "        intersection = np.argmax((1-np.abs(pdf_left-pdf_right))*(gx>np.median(rdata_left))*(gx<np.median(rdata_right)))\n",
    "        threshold[k+1] = gx[intersection]\n",
    "    for k in range(len(index)):\n",
    "        rdata = data[(data[\"range\"] == index[k]) & (data[\"timept\"] == 1e5)][\"g\"]*1e6\n",
    "        for kk in range(len(index)):\n",
    "            if k == kk:\n",
    "                continue\n",
    "            else:\n",
    "                symbol_error_array[k,kk] = np.sum((rdata<threshold[kk+1]) * (rdata>threshold[kk]))/len(rdata)\n",
    "                bits_difference = diff_letters(Dict_2bit[k],Dict_2bit[kk])\n",
    "                for bit in bits_difference:\n",
    "                    page_error_array[bit] += symbol_error_array[k,kk]/len(index)    \n",
    "    return symbol_error_array, page_error_array, threshold"
   ]
  },
  {
   "cell_type": "code",
   "execution_count": 8,
   "metadata": {},
   "outputs": [
    {
     "name": "stderr",
     "output_type": "stream",
     "text": [
      "/home/users/xzheng3/.local/lib/python3.6/site-packages/pandas/core/computation/expressions.py:180: UserWarning: evaluating in Python space because the '*' operator is not supported by numexpr for the bool dtype, use '&' instead\n",
      "  .format(op=op_str, alt_op=unsupported[op_str]))\n"
     ]
    },
    {
     "name": "stdout",
     "output_type": "stream",
     "text": [
      "0.22849888684656328\n",
      "0.19769618863589938\n",
      "0.1976836063937896\n",
      "0.19368817260383525\n",
      "0.16777308129059249\n",
      "0.10787326092283692\n",
      "0.09487470201755915\n",
      "0.08443297529803875\n",
      "0.06418880600577327\n",
      "0.046812326593221716\n",
      "0.04320810934037387\n",
      "0.03484921238916673\n",
      "0.032185792265458056\n",
      "0.0283545939938634\n",
      "100\n",
      "0.0216087740011185\n",
      "0.019974760013240646\n",
      "0.01790949977683936\n",
      "0.010677991742113003\n",
      "0.010065814943863724\n",
      "0.006649124296183119\n",
      "0.006141186766711535\n",
      "0.004944564646057184\n",
      "0.0034485590740838427\n",
      "200\n",
      "300\n",
      "400\n"
     ]
    }
   ],
   "source": [
    "# Find best combinations\n",
    "from itertools import combinations\n",
    "symbol_error_array_min = 100\n",
    "page_error_array_min = 100\n",
    "index_min_1 = index_min_2 = np.zeros(4)\n",
    "comb = combinations(np.arange(30)+1, 2)\n",
    "i_sum = 0\n",
    "index = np.array([0,0,0,31])\n",
    "for i in list(comb):\n",
    "    index[1] = i[0]\n",
    "    index[2] = i[1]\n",
    "    i_sum += 1\n",
    "    if i_sum % 100 == 0:\n",
    "        print(i_sum)\n",
    "    symbol_error_array, page_error_array, _ = error_array_calculation_2(index)\n",
    "#    if np.mean(symbol_error_array)<symbol_error_array_min:\n",
    "#        symbol_error_array_min = np.mean(symbol_error_array)\n",
    "#        index_min_1 = index.copy()\n",
    "    if np.max(page_error_array)<page_error_array_min:\n",
    "        page_error_array_min = np.max(page_error_array)\n",
    "        index_min_2 = index.copy()    \n",
    "        print(page_error_array_min)"
   ]
  },
  {
   "cell_type": "code",
   "execution_count": 9,
   "metadata": {},
   "outputs": [
    {
     "name": "stderr",
     "output_type": "stream",
     "text": [
      "/home/users/xzheng3/.local/lib/python3.6/site-packages/pandas/core/computation/expressions.py:180: UserWarning: evaluating in Python space because the '*' operator is not supported by numexpr for the bool dtype, use '&' instead\n",
      "  .format(op=op_str, alt_op=unsupported[op_str]))\n"
     ]
    }
   ],
   "source": [
    "symbol_error_array, page_error_array, threshold = error_array_calculation_2(index_min_2)"
   ]
  },
  {
   "cell_type": "code",
   "execution_count": 10,
   "metadata": {},
   "outputs": [
    {
     "name": "stdout",
     "output_type": "stream",
     "text": [
      "[ 0  7 23 31]\n",
      "[  0.          11.56873747  61.22965932 110.32625251 300.        ]\n"
     ]
    }
   ],
   "source": [
    "print(index_min_2)\n",
    "print(threshold)"
   ]
  },
  {
   "cell_type": "code",
   "execution_count": 11,
   "metadata": {},
   "outputs": [
    {
     "name": "stderr",
     "output_type": "stream",
     "text": [
      "/home/users/xzheng3/.local/lib/python3.6/site-packages/matplotlib/backends/backend_agg.py:211: RuntimeWarning: Glyph 181 missing from current font.\n",
      "  font.set_text(s, 0.0, flags=flags)\n",
      "/home/users/xzheng3/.local/lib/python3.6/site-packages/matplotlib/backends/backend_agg.py:180: RuntimeWarning: Glyph 181 missing from current font.\n",
      "  font.set_text(s, 0, flags=flags)\n"
     ]
    },
    {
     "data": {
      "image/png": "[encoded data removed]",
      "text/plain": [
       "<Figure size 288x194.4 with 1 Axes>"
      ]
     },
     "metadata": {},
     "output_type": "display_data"
    }
   ],
   "source": [
    "ranges = index_min_2\n",
    "data = pd.read_csv(f\"data/tech{TECH}/relaxdata.min.tsv.gz\", names=colnames, sep='\\t')\n",
    "# Conductance broadening behavior\n",
    "fig = plt.figure(figsize=(4, 2.7))\n",
    "ax = fig.add_subplot(111)\n",
    "ax.set_title(f\"Conductance Dist. Broadening\\n(Tech {TECH}, Room Temp)\")\n",
    "colors = plt.rcParams[\"axes.prop_cycle\"].by_key()[\"color\"]\n",
    "for time, color in zip(settings[\"times\"], colors):\n",
    "    if time == 1e5:\n",
    "        for r in ranges:\n",
    "            gx = np.linspace(0, settings[\"gmax\"]*1.1e6, 500)\n",
    "            gvals = data[(data[\"range\"] == r) & (data[\"timept\"] == 1e5)][\"g\"]\n",
    "            pdf = scipy.stats.gaussian_kde(gvals*1e6).pdf(gx)\n",
    "            label = (f\"t={time}\" if time < 100 else f\"t=1E{int(np.log10(time))}\") if r == 0 else None\n",
    "            plt.plot(gx, pdf, color=color, label=label, linewidth=0.8)\n",
    "for tick in threshold[1:-1]:\n",
    "    plt.axvline(tick, color='red', linestyle='--', linewidth=1, alpha=1)\n",
    "ax.legend(ncol=3, handletextpad=0.2)\n",
    "ax.set_ylim(*settings[\"gbroad_ylim\"])\n",
    "ax.set_xlabel(\"Conductance (µS)\")\n",
    "ax.set_ylabel(\"KDE Probability Density\")\n",
    "plt.show()"
   ]
  },
  {
   "cell_type": "code",
   "execution_count": 12,
   "metadata": {},
   "outputs": [
    {
     "name": "stdout",
     "output_type": "stream",
     "text": [
      "            00     01     11     10\n",
      "     00    0.0    0.9    0.0    0.0\n",
      "     01    0.2    0.0    0.2    0.0\n",
      "     11    0.0    1.0    0.0    0.0\n",
      "     10    0.0    0.0    0.3    0.0\n"
     ]
    }
   ],
   "source": [
    "dota_teams = Dict_2bit.values()\n",
    "data = np.round_(symbol_error_array*100, decimals = 1).tolist()\n",
    "format_row = \"{:>7}\" * (len(dota_teams) + 1)\n",
    "print(format_row.format(\"\", *dota_teams))\n",
    "for team, row in zip(dota_teams, data):\n",
    "    print(format_row.format(team, *row))"
   ]
  },
  {
   "cell_type": "code",
   "execution_count": 13,
   "metadata": {},
   "outputs": [
    {
     "name": "stdout",
     "output_type": "stream",
     "text": [
      "[0.00321842 0.00344856]\n"
     ]
    }
   ],
   "source": [
    "print(page_error_array)"
   ]
  }
 ],
 "metadata": {
  "kernelspec": {
   "display_name": "Python 3",
   "language": "python",
   "name": "python3"
  },
  "language_info": {
   "codemirror_mode": {
    "name": "ipython",
    "version": 3
   },
   "file_extension": ".py",
   "mimetype": "text/x-python",
   "name": "python",
   "nbconvert_exporter": "python",
   "pygments_lexer": "ipython3",
   "version": "3.6.1"
  }
 },
 "nbformat": 4,
 "nbformat_minor": 2
}