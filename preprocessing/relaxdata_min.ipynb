{
 "metadata": {
  "language_info": {
   "codemirror_mode": {
    "name": "ipython",
    "version": 3
   },
   "file_extension": ".py",
   "mimetype": "text/x-python",
   "name": "python",
   "nbconvert_exporter": "python",
   "pygments_lexer": "ipython3",
   "version": "3.8.3"
  },
  "orig_nbformat": 4,
  "kernelspec": {
   "name": "python3",
   "display_name": "Python 3.8.3 64-bit ('base': conda)"
  },
  "interpreter": {
   "hash": "f85c0ae1067a86ad6a96b144378883e79fd1516474b579ba33ee3a7084540002"
  }
 },
 "nbformat": 4,
 "nbformat_minor": 2,
 "cells": [
  {
   "cell_type": "code",
   "execution_count": 1,
   "metadata": {},
   "outputs": [],
   "source": [
    "# Import libraries\n",
    "import json\n",
    "import numpy as np\n",
    "import pandas as pd"
   ]
  },
  {
   "cell_type": "code",
   "execution_count": 2,
   "metadata": {},
   "outputs": [],
   "source": [
    "# Select technology\n",
    "TECH = 'B'"
   ]
  },
  {
   "cell_type": "code",
   "execution_count": 3,
   "metadata": {},
   "outputs": [],
   "source": [
    "# Load settings for technology\n",
    "with open(f\"../data/tech{TECH}/settings.json\") as sfile:\n",
    "    settings = json.load(sfile)"
   ]
  },
  {
   "cell_type": "code",
   "execution_count": 4,
   "metadata": {},
   "outputs": [],
   "source": [
    "# Load tech B time series data\n",
    "colnames = [\"addr\", \"time\", \"r\", \"g\"]\n",
    "data = pd.read_csv(f\"../data/tech{TECH}/relaxdata.tsv.gz\", names=colnames, sep='\\t')"
   ]
  },
  {
   "cell_type": "code",
   "execution_count": 5,
   "metadata": {},
   "outputs": [
    {
     "output_type": "execute_result",
     "data": {
      "text/plain": [
       "           addr          time              r         g\n",
       "71260894  10480  1.626754e+09    9522.314500  0.000105\n",
       "71260895  10482  1.626754e+09    9253.414362  0.000108\n",
       "71260896  10484  1.626754e+09    9722.581455  0.000103\n",
       "71260897  10486  1.626754e+09  316811.587540  0.000003\n",
       "71260898  10488  1.626754e+09    8955.346274  0.000112"
      ],
      "text/html": "<div>\n<style scoped>\n    .dataframe tbody tr th:only-of-type {\n        vertical-align: middle;\n    }\n\n    .dataframe tbody tr th {\n        vertical-align: top;\n    }\n\n    .dataframe thead th {\n        text-align: right;\n    }\n</style>\n<table border=\"1\" class=\"dataframe\">\n  <thead>\n    <tr style=\"text-align: right;\">\n      <th></th>\n      <th>addr</th>\n      <th>time</th>\n      <th>r</th>\n      <th>g</th>\n    </tr>\n  </thead>\n  <tbody>\n    <tr>\n      <th>71260894</th>\n      <td>10480</td>\n      <td>1.626754e+09</td>\n      <td>9522.314500</td>\n      <td>0.000105</td>\n    </tr>\n    <tr>\n      <th>71260895</th>\n      <td>10482</td>\n      <td>1.626754e+09</td>\n      <td>9253.414362</td>\n      <td>0.000108</td>\n    </tr>\n    <tr>\n      <th>71260896</th>\n      <td>10484</td>\n      <td>1.626754e+09</td>\n      <td>9722.581455</td>\n      <td>0.000103</td>\n    </tr>\n    <tr>\n      <th>71260897</th>\n      <td>10486</td>\n      <td>1.626754e+09</td>\n      <td>316811.587540</td>\n      <td>0.000003</td>\n    </tr>\n    <tr>\n      <th>71260898</th>\n      <td>10488</td>\n      <td>1.626754e+09</td>\n      <td>8955.346274</td>\n      <td>0.000112</td>\n    </tr>\n  </tbody>\n</table>\n</div>"
     },
     "metadata": {},
     "execution_count": 5
    }
   ],
   "source": [
    "# Check data\n",
    "data.head()\n",
    "data.tail()"
   ]
  },
  {
   "cell_type": "code",
   "execution_count": 6,
   "metadata": {},
   "outputs": [],
   "source": [
    "# Subtract initial time and compute range and gi\n",
    "data[\"time\"] -= data.groupby(\"addr\")[\"time\"].transform(\"first\") \n",
    "data[\"gi\"] = data.groupby(\"addr\")[\"g\"].transform(\"first\")\n",
    "data[\"range\"] = np.int32(data[\"gi\"] / settings[\"gmax\"] * 32)\n",
    "\n",
    "# For tech B, subtract and make new virtual cells\n",
    "if TECH == 'B':\n",
    "    data.drop(data[(data[\"time\"] < 10)].index, inplace=True) # & (data[\"time\"] > 1)\n",
    "    # data.loc[data[\"time\"] >= 10, \"addr\"] += 1000000\n",
    "\n",
    "    # Do again\n",
    "    data[\"time\"] -= data.groupby(\"addr\")[\"time\"].transform(\"first\") \n",
    "    data[\"gi\"] = data.groupby(\"addr\")[\"g\"].transform(\"first\")\n",
    "    data[\"range\"] = np.int32(data[\"gi\"] / settings[\"gmax\"] * 32)"
   ]
  },
  {
   "cell_type": "code",
   "execution_count": 7,
   "metadata": {},
   "outputs": [
    {
     "output_type": "execute_result",
     "data": {
      "text/plain": [
       "      addr  time              r         g        gi  range\n",
       "5505     0   0.0  416797.383397  0.000002  0.000002      0\n",
       "5506     2   0.0   94570.348039  0.000011  0.000011      2\n",
       "5507     4   0.0   64998.894320  0.000015  0.000015      3\n",
       "5508     6   0.0   62715.065513  0.000016  0.000016      3\n",
       "5509     8   0.0   82504.325744  0.000012  0.000012      3"
      ],
      "text/html": "<div>\n<style scoped>\n    .dataframe tbody tr th:only-of-type {\n        vertical-align: middle;\n    }\n\n    .dataframe tbody tr th {\n        vertical-align: top;\n    }\n\n    .dataframe thead th {\n        text-align: right;\n    }\n</style>\n<table border=\"1\" class=\"dataframe\">\n  <thead>\n    <tr style=\"text-align: right;\">\n      <th></th>\n      <th>addr</th>\n      <th>time</th>\n      <th>r</th>\n      <th>g</th>\n      <th>gi</th>\n      <th>range</th>\n    </tr>\n  </thead>\n  <tbody>\n    <tr>\n      <th>5505</th>\n      <td>0</td>\n      <td>0.0</td>\n      <td>416797.383397</td>\n      <td>0.000002</td>\n      <td>0.000002</td>\n      <td>0</td>\n    </tr>\n    <tr>\n      <th>5506</th>\n      <td>2</td>\n      <td>0.0</td>\n      <td>94570.348039</td>\n      <td>0.000011</td>\n      <td>0.000011</td>\n      <td>2</td>\n    </tr>\n    <tr>\n      <th>5507</th>\n      <td>4</td>\n      <td>0.0</td>\n      <td>64998.894320</td>\n      <td>0.000015</td>\n      <td>0.000015</td>\n      <td>3</td>\n    </tr>\n    <tr>\n      <th>5508</th>\n      <td>6</td>\n      <td>0.0</td>\n      <td>62715.065513</td>\n      <td>0.000016</td>\n      <td>0.000016</td>\n      <td>3</td>\n    </tr>\n    <tr>\n      <th>5509</th>\n      <td>8</td>\n      <td>0.0</td>\n      <td>82504.325744</td>\n      <td>0.000012</td>\n      <td>0.000012</td>\n      <td>3</td>\n    </tr>\n  </tbody>\n</table>\n</div>"
     },
     "metadata": {},
     "execution_count": 7
    }
   ],
   "source": [
    "# Check data as needed\n",
    "data.head()\n",
    "# data.groupby('range')['range'].count() / 5500"
   ]
  },
  {
   "cell_type": "code",
   "execution_count": 8,
   "metadata": {},
   "outputs": [
    {
     "output_type": "stream",
     "name": "stdout",
     "text": [
      "16384\n",
      "16384\n",
      "16384\n",
      "14419\n",
      "16384\n",
      "16384\n",
      "16384\n",
      "16384\n",
      "16384\n",
      "16384\n"
     ]
    }
   ],
   "source": [
    "# Get times\n",
    "tdata = []\n",
    "for time in settings[\"times\"]:\n",
    "    idx = (data[\"time\"] - time).abs().groupby(data[\"addr\"]).idxmin()\n",
    "    d = data[data.index.isin(idx)]\n",
    "    print(len(d))\n",
    "    d = d[(d[\"time\"] <= time*1.2) & (d[\"time\"] >= time*0.8)]\n",
    "    print(len(d))\n",
    "    d[\"timept\"] = time\n",
    "    tdata.append(d)\n",
    "tdata = pd.concat(tdata)"
   ]
  },
  {
   "cell_type": "code",
   "execution_count": 9,
   "metadata": {},
   "outputs": [],
   "source": [
    "# Write to file\n",
    "fopts = {\"sep\": '\\t', \"header\": False, \"index\": False}\n",
    "tdata.to_csv(f\"../data/tech{TECH}/relaxdata.min.tsv.gz\", **fopts)"
   ]
  }
 ]
}