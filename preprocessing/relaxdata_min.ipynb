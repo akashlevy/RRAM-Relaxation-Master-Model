{
 "metadata": {
  "language_info": {
   "codemirror_mode": {
    "name": "ipython",
    "version": 3
   },
   "file_extension": ".py",
   "mimetype": "text/x-python",
   "name": "python",
   "nbconvert_exporter": "python",
   "pygments_lexer": "ipython3",
   "version": "3.8.3"
  },
  "orig_nbformat": 4,
  "kernelspec": {
   "name": "python3",
   "display_name": "Python 3.8.3 64-bit ('base': conda)"
  },
  "interpreter": {
   "hash": "f85c0ae1067a86ad6a96b144378883e79fd1516474b579ba33ee3a7084540002"
  }
 },
 "nbformat": 4,
 "nbformat_minor": 2,
 "cells": [
  {
   "cell_type": "code",
   "execution_count": 1,
   "metadata": {},
   "outputs": [],
   "source": [
    "# Import libraries\n",
    "import json\n",
    "import numpy as np\n",
    "import pandas as pd"
   ]
  },
  {
   "cell_type": "code",
   "execution_count": 2,
   "metadata": {},
   "outputs": [],
   "source": [
    "# Select technology\n",
    "TECH = 'A'"
   ]
  },
  {
   "cell_type": "code",
   "execution_count": 3,
   "metadata": {},
   "outputs": [],
   "source": [
    "# Load settings for technology\n",
    "with open(f\"../data/tech{TECH}/settings.json\") as sfile:\n",
    "    settings = json.load(sfile)"
   ]
  },
  {
   "cell_type": "code",
   "execution_count": 4,
   "metadata": {},
   "outputs": [],
   "source": [
    "# Load tech time series data\n",
    "colnames = [\"addr\", \"time\", \"r\", \"g\"]\n",
    "data = pd.read_csv(f\"../data/tech{TECH}/relaxdata.tsv.gz\", names=colnames, sep='\\t')"
   ]
  },
  {
   "cell_type": "code",
   "execution_count": 5,
   "metadata": {},
   "outputs": [
    {
     "output_type": "execute_result",
     "data": {
      "text/plain": [
       "           addr          time            r         g\n",
       "53807852  85748  1.627072e+09  6698.984526  0.000149\n",
       "53807853  85749  1.627072e+09  6199.247729  0.000161\n",
       "53807854  85750  1.627072e+09  5968.758767  0.000168\n",
       "53807855  85751  1.627072e+09  5518.205790  0.000181\n",
       "53807856  85752  1.627072e+09  5617.495363  0.000178"
      ],
      "text/html": "<div>\n<style scoped>\n    .dataframe tbody tr th:only-of-type {\n        vertical-align: middle;\n    }\n\n    .dataframe tbody tr th {\n        vertical-align: top;\n    }\n\n    .dataframe thead th {\n        text-align: right;\n    }\n</style>\n<table border=\"1\" class=\"dataframe\">\n  <thead>\n    <tr style=\"text-align: right;\">\n      <th></th>\n      <th>addr</th>\n      <th>time</th>\n      <th>r</th>\n      <th>g</th>\n    </tr>\n  </thead>\n  <tbody>\n    <tr>\n      <th>53807852</th>\n      <td>85748</td>\n      <td>1.627072e+09</td>\n      <td>6698.984526</td>\n      <td>0.000149</td>\n    </tr>\n    <tr>\n      <th>53807853</th>\n      <td>85749</td>\n      <td>1.627072e+09</td>\n      <td>6199.247729</td>\n      <td>0.000161</td>\n    </tr>\n    <tr>\n      <th>53807854</th>\n      <td>85750</td>\n      <td>1.627072e+09</td>\n      <td>5968.758767</td>\n      <td>0.000168</td>\n    </tr>\n    <tr>\n      <th>53807855</th>\n      <td>85751</td>\n      <td>1.627072e+09</td>\n      <td>5518.205790</td>\n      <td>0.000181</td>\n    </tr>\n    <tr>\n      <th>53807856</th>\n      <td>85752</td>\n      <td>1.627072e+09</td>\n      <td>5617.495363</td>\n      <td>0.000178</td>\n    </tr>\n  </tbody>\n</table>\n</div>"
     },
     "metadata": {},
     "execution_count": 5
    }
   ],
   "source": [
    "# Check data\n",
    "data.head()\n",
    "data.tail()"
   ]
  },
  {
   "cell_type": "code",
   "execution_count": 6,
   "metadata": {},
   "outputs": [],
   "source": [
    "# Subtract initial time and compute range and gi\n",
    "data[\"time\"] -= data.groupby(\"addr\")[\"time\"].transform(\"first\") \n",
    "data[\"gi\"] = data.groupby(\"addr\")[\"g\"].transform(\"first\")\n",
    "data[\"range\"] = np.int32(data[\"gi\"] / settings[\"gmax\"] * 32)\n",
    "\n",
    "# For tech B, subtract and make new virtual cells\n",
    "if TECH == 'B':\n",
    "    data.drop(data[(data[\"time\"] < 10)].index, inplace=True) # & (data[\"time\"] > 1)\n",
    "    # data.loc[data[\"time\"] >= 10, \"addr\"] += 1000000\n",
    "\n",
    "    # Do again\n",
    "    data[\"time\"] -= data.groupby(\"addr\")[\"time\"].transform(\"first\") \n",
    "    data[\"gi\"] = data.groupby(\"addr\")[\"g\"].transform(\"first\")\n",
    "    data[\"range\"] = np.int32(data[\"gi\"] / settings[\"gmax\"] * 32)"
   ]
  },
  {
   "cell_type": "code",
   "execution_count": 7,
   "metadata": {},
   "outputs": [
    {
     "output_type": "execute_result",
     "data": {
      "text/plain": [
       "    addr      time              r         g        gi  range\n",
       "0  80000  0.000000  337532.079408  0.000003  0.000003      0\n",
       "1  80000  0.002000  373198.486437  0.000003  0.000003      0\n",
       "2  80000  0.003998  283369.159874  0.000004  0.000003      0\n",
       "3  80000  0.005997  280555.408797  0.000004  0.000003      0\n",
       "4  80000  0.007995  266026.890670  0.000004  0.000003      0"
      ],
      "text/html": "<div>\n<style scoped>\n    .dataframe tbody tr th:only-of-type {\n        vertical-align: middle;\n    }\n\n    .dataframe tbody tr th {\n        vertical-align: top;\n    }\n\n    .dataframe thead th {\n        text-align: right;\n    }\n</style>\n<table border=\"1\" class=\"dataframe\">\n  <thead>\n    <tr style=\"text-align: right;\">\n      <th></th>\n      <th>addr</th>\n      <th>time</th>\n      <th>r</th>\n      <th>g</th>\n      <th>gi</th>\n      <th>range</th>\n    </tr>\n  </thead>\n  <tbody>\n    <tr>\n      <th>0</th>\n      <td>80000</td>\n      <td>0.000000</td>\n      <td>337532.079408</td>\n      <td>0.000003</td>\n      <td>0.000003</td>\n      <td>0</td>\n    </tr>\n    <tr>\n      <th>1</th>\n      <td>80000</td>\n      <td>0.002000</td>\n      <td>373198.486437</td>\n      <td>0.000003</td>\n      <td>0.000003</td>\n      <td>0</td>\n    </tr>\n    <tr>\n      <th>2</th>\n      <td>80000</td>\n      <td>0.003998</td>\n      <td>283369.159874</td>\n      <td>0.000004</td>\n      <td>0.000003</td>\n      <td>0</td>\n    </tr>\n    <tr>\n      <th>3</th>\n      <td>80000</td>\n      <td>0.005997</td>\n      <td>280555.408797</td>\n      <td>0.000004</td>\n      <td>0.000003</td>\n      <td>0</td>\n    </tr>\n    <tr>\n      <th>4</th>\n      <td>80000</td>\n      <td>0.007995</td>\n      <td>266026.890670</td>\n      <td>0.000004</td>\n      <td>0.000003</td>\n      <td>0</td>\n    </tr>\n  </tbody>\n</table>\n</div>"
     },
     "metadata": {},
     "execution_count": 7
    }
   ],
   "source": [
    "# Check data as needed\n",
    "data.head()\n",
    "# data.groupby('range')['range'].count() / 5500"
   ]
  },
  {
   "cell_type": "code",
   "execution_count": 8,
   "metadata": {},
   "outputs": [
    {
     "output_type": "stream",
     "name": "stdout",
     "text": [
      "16384\n",
      "16384\n",
      "16384\n",
      "16286\n",
      "16384\n",
      "16384\n",
      "16384\n",
      "16384\n",
      "16384\n",
      "11346\n",
      "16384\n",
      "16384\n",
      "16384\n",
      "16384\n",
      "16384\n",
      "16384\n"
     ]
    }
   ],
   "source": [
    "# Get times\n",
    "tdata = []\n",
    "for time in settings[\"times\"]:\n",
    "    idx = (data[\"time\"] - time).abs().groupby(data[\"addr\"]).idxmin()\n",
    "    d = data[data.index.isin(idx)]\n",
    "    print(len(d))\n",
    "    d = d[(d[\"time\"] <= time*1.2) & (d[\"time\"] >= time*0.8)]\n",
    "    print(len(d))\n",
    "    d[\"timept\"] = time\n",
    "    tdata.append(d)\n",
    "tdata = pd.concat(tdata)"
   ]
  },
  {
   "cell_type": "code",
   "execution_count": 9,
   "metadata": {},
   "outputs": [],
   "source": [
    "# Write to file\n",
    "fopts = {\"sep\": '\\t', \"header\": False, \"index\": False}\n",
    "tdata.to_csv(f\"../data/tech{TECH}/relaxdata.min.tsv.gz\", **fopts)\n",
    "\n",
    "# Write to modeling file\n",
    "fopts[\"header\"] = True\n",
    "tdata[[\"addr\",\"timept\",\"g\",\"range\"]].sort_values(by=\"addr\").to_csv(f\"../data/tech{TECH}/model.tsv\", **fopts)"
   ]
  }
 ]
}