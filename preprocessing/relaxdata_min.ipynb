{
 "metadata": {
  "language_info": {
   "codemirror_mode": {
    "name": "ipython",
    "version": 3
   },
   "file_extension": ".py",
   "mimetype": "text/x-python",
   "name": "python",
   "nbconvert_exporter": "python",
   "pygments_lexer": "ipython3",
   "version": "3.8.3"
  },
  "orig_nbformat": 4,
  "kernelspec": {
   "name": "python3",
   "display_name": "Python 3.8.3 64-bit ('base': conda)"
  },
  "interpreter": {
   "hash": "f85c0ae1067a86ad6a96b144378883e79fd1516474b579ba33ee3a7084540002"
  }
 },
 "nbformat": 4,
 "nbformat_minor": 2,
 "cells": [
  {
   "cell_type": "code",
   "execution_count": 1,
   "metadata": {},
   "outputs": [],
   "source": [
    "# Import libraries\n",
    "import json\n",
    "import numpy as np\n",
    "import pandas as pd"
   ]
  },
  {
   "cell_type": "code",
   "execution_count": 2,
   "metadata": {},
   "outputs": [],
   "source": [
    "# Select technology\n",
    "TECH = 'B'"
   ]
  },
  {
   "cell_type": "code",
   "execution_count": 3,
   "metadata": {},
   "outputs": [],
   "source": [
    "# Load settings for technology\n",
    "with open(f\"../data/tech{TECH}/settings.json\") as sfile:\n",
    "    settings = json.load(sfile)"
   ]
  },
  {
   "cell_type": "code",
   "execution_count": 4,
   "metadata": {},
   "outputs": [],
   "source": [
    "# Load tech time series data\n",
    "colnames = [\"addr\", \"time\", \"r\", \"g\"]\n",
    "data = pd.read_csv(f\"../data/tech{TECH}/relaxdata.tsv.gz\", names=colnames, sep='\\t')"
   ]
  },
  {
   "cell_type": "code",
   "execution_count": 5,
   "metadata": {},
   "outputs": [
    {
     "output_type": "execute_result",
     "data": {
      "text/plain": [
       "          addr          time             r         g\n",
       "42403246  6188  1.627208e+09  12763.561190  0.000078\n",
       "42403247  6190  1.627208e+09  11411.352389  0.000088\n",
       "42403248  6192  1.627208e+09  10819.457210  0.000092\n",
       "42403249  6194  1.627208e+09  11125.209294  0.000090\n",
       "42403250  6196  1.627208e+09   9866.573718  0.000101"
      ],
      "text/html": "<div>\n<style scoped>\n    .dataframe tbody tr th:only-of-type {\n        vertical-align: middle;\n    }\n\n    .dataframe tbody tr th {\n        vertical-align: top;\n    }\n\n    .dataframe thead th {\n        text-align: right;\n    }\n</style>\n<table border=\"1\" class=\"dataframe\">\n  <thead>\n    <tr style=\"text-align: right;\">\n      <th></th>\n      <th>addr</th>\n      <th>time</th>\n      <th>r</th>\n      <th>g</th>\n    </tr>\n  </thead>\n  <tbody>\n    <tr>\n      <th>42403246</th>\n      <td>6188</td>\n      <td>1.627208e+09</td>\n      <td>12763.561190</td>\n      <td>0.000078</td>\n    </tr>\n    <tr>\n      <th>42403247</th>\n      <td>6190</td>\n      <td>1.627208e+09</td>\n      <td>11411.352389</td>\n      <td>0.000088</td>\n    </tr>\n    <tr>\n      <th>42403248</th>\n      <td>6192</td>\n      <td>1.627208e+09</td>\n      <td>10819.457210</td>\n      <td>0.000092</td>\n    </tr>\n    <tr>\n      <th>42403249</th>\n      <td>6194</td>\n      <td>1.627208e+09</td>\n      <td>11125.209294</td>\n      <td>0.000090</td>\n    </tr>\n    <tr>\n      <th>42403250</th>\n      <td>6196</td>\n      <td>1.627208e+09</td>\n      <td>9866.573718</td>\n      <td>0.000101</td>\n    </tr>\n  </tbody>\n</table>\n</div>"
     },
     "metadata": {},
     "execution_count": 5
    }
   ],
   "source": [
    "# Check data\n",
    "data.head()\n",
    "data.tail()"
   ]
  },
  {
   "cell_type": "code",
   "execution_count": 6,
   "metadata": {},
   "outputs": [],
   "source": [
    "# Subtract initial time and compute range and gi\n",
    "data[\"time\"] -= data.groupby(\"addr\")[\"time\"].transform(\"first\") \n",
    "data[\"gi\"] = data.groupby(\"addr\")[\"g\"].transform(\"first\")\n",
    "data[\"range\"] = np.int32(data[\"gi\"] / settings[\"gmax\"] * 32)\n",
    "\n",
    "# # For tech B, subtract and make new virtual cells\n",
    "# if TECH == 'B':\n",
    "#     data.drop(data[(data[\"time\"] < 10)].index, inplace=True) # & (data[\"time\"] > 1)\n",
    "#     # data.loc[data[\"time\"] >= 10, \"addr\"] += 1000000\n",
    "\n",
    "#     # Do again\n",
    "#     data[\"time\"] -= data.groupby(\"addr\")[\"time\"].transform(\"first\") \n",
    "#     data[\"gi\"] = data.groupby(\"addr\")[\"g\"].transform(\"first\")\n",
    "#     data[\"range\"] = np.int32(data[\"gi\"] / settings[\"gmax\"] * 32)"
   ]
  },
  {
   "cell_type": "code",
   "execution_count": 7,
   "metadata": {},
   "outputs": [
    {
     "output_type": "execute_result",
     "data": {
      "text/plain": [
       "   addr      time              r         g        gi  range\n",
       "0     0  0.000000  394055.654398  0.000003  0.000003      0\n",
       "1     0  0.008992  375526.174252  0.000003  0.000003      0\n",
       "2     0  0.014989  349686.935004  0.000003  0.000003      0\n",
       "3     0  0.017986  360976.997817  0.000003  0.000003      0\n",
       "4     0  0.020987  356374.604909  0.000003  0.000003      0"
      ],
      "text/html": "<div>\n<style scoped>\n    .dataframe tbody tr th:only-of-type {\n        vertical-align: middle;\n    }\n\n    .dataframe tbody tr th {\n        vertical-align: top;\n    }\n\n    .dataframe thead th {\n        text-align: right;\n    }\n</style>\n<table border=\"1\" class=\"dataframe\">\n  <thead>\n    <tr style=\"text-align: right;\">\n      <th></th>\n      <th>addr</th>\n      <th>time</th>\n      <th>r</th>\n      <th>g</th>\n      <th>gi</th>\n      <th>range</th>\n    </tr>\n  </thead>\n  <tbody>\n    <tr>\n      <th>0</th>\n      <td>0</td>\n      <td>0.000000</td>\n      <td>394055.654398</td>\n      <td>0.000003</td>\n      <td>0.000003</td>\n      <td>0</td>\n    </tr>\n    <tr>\n      <th>1</th>\n      <td>0</td>\n      <td>0.008992</td>\n      <td>375526.174252</td>\n      <td>0.000003</td>\n      <td>0.000003</td>\n      <td>0</td>\n    </tr>\n    <tr>\n      <th>2</th>\n      <td>0</td>\n      <td>0.014989</td>\n      <td>349686.935004</td>\n      <td>0.000003</td>\n      <td>0.000003</td>\n      <td>0</td>\n    </tr>\n    <tr>\n      <th>3</th>\n      <td>0</td>\n      <td>0.017986</td>\n      <td>360976.997817</td>\n      <td>0.000003</td>\n      <td>0.000003</td>\n      <td>0</td>\n    </tr>\n    <tr>\n      <th>4</th>\n      <td>0</td>\n      <td>0.020987</td>\n      <td>356374.604909</td>\n      <td>0.000003</td>\n      <td>0.000003</td>\n      <td>0</td>\n    </tr>\n  </tbody>\n</table>\n</div>"
     },
     "metadata": {},
     "execution_count": 7
    }
   ],
   "source": [
    "# Check data as needed\n",
    "data.head()\n",
    "# data.groupby('range')['range'].count() / 5500"
   ]
  },
  {
   "cell_type": "code",
   "execution_count": 8,
   "metadata": {},
   "outputs": [
    {
     "output_type": "stream",
     "name": "stdout",
     "text": [
      "16384\n",
      "16384\n",
      "16384\n",
      "16036\n",
      "16384\n",
      "16384\n",
      "16384\n",
      "16384\n",
      "16384\n",
      "10440\n",
      "16384\n",
      "16384\n",
      "16384\n",
      "16384\n",
      "16384\n",
      "16384\n"
     ]
    }
   ],
   "source": [
    "# Get times\n",
    "tdata = []\n",
    "for time in settings[\"times\"]:\n",
    "    idx = (data[\"time\"] - time).abs().groupby(data[\"addr\"]).idxmin()\n",
    "    d = data[data.index.isin(idx)]\n",
    "    print(len(d))\n",
    "    d = d[(d[\"time\"] <= time*1.2) & (d[\"time\"] >= time*0.8)]\n",
    "    print(len(d))\n",
    "    d[\"timept\"] = time\n",
    "    tdata.append(d)\n",
    "tdata = pd.concat(tdata)"
   ]
  },
  {
   "cell_type": "code",
   "execution_count": 9,
   "metadata": {},
   "outputs": [],
   "source": [
    "# Write to file\n",
    "fopts = {\"sep\": '\\t', \"header\": False, \"index\": False}\n",
    "tdata.to_csv(f\"../data/tech{TECH}/relaxdata.min.tsv.gz\", **fopts)\n",
    "\n",
    "# Write to modeling file\n",
    "fopts[\"header\"] = True\n",
    "tdata[[\"addr\",\"timept\",\"g\",\"range\"]].sort_values(by=\"addr\").to_csv(f\"../data/tech{TECH}/model.tsv\", **fopts)"
   ]
  }
 ]
}