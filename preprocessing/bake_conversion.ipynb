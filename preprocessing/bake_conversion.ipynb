{
 "metadata": {
  "language_info": {
   "codemirror_mode": {
    "name": "ipython",
    "version": 3
   },
   "file_extension": ".py",
   "mimetype": "text/x-python",
   "name": "python",
   "nbconvert_exporter": "python",
   "pygments_lexer": "ipython3",
   "version": "3.8.3"
  },
  "orig_nbformat": 4,
  "kernelspec": {
   "name": "python3",
   "display_name": "Python 3.8.3 64-bit ('base': conda)"
  },
  "interpreter": {
   "hash": "f85c0ae1067a86ad6a96b144378883e79fd1516474b579ba33ee3a7084540002"
  }
 },
 "nbformat": 4,
 "nbformat_minor": 2,
 "cells": [
  {
   "cell_type": "code",
   "execution_count": 1,
   "metadata": {},
   "outputs": [],
   "source": [
    "# Import libraries\n",
    "import json\n",
    "import numpy as np\n",
    "import pandas as pd"
   ]
  },
  {
   "cell_type": "code",
   "execution_count": 2,
   "metadata": {},
   "outputs": [],
   "source": [
    "# Choose technology here\n",
    "TECH = 'C'\n",
    "\n",
    "# Load settings for technology\n",
    "with open(f\"../data/tech{TECH}/settings.json\") as sfile:\n",
    "    settings = json.load(sfile)"
   ]
  },
  {
   "cell_type": "code",
   "execution_count": 3,
   "metadata": {},
   "outputs": [],
   "source": [
    "# Select two data points, one before and one after baking\n",
    "colnames = [\"addr\", \"time\", \"r\", \"g\"]\n",
    "data = []\n",
    "for temp in settings[\"temps\"]:\n",
    "    Tdata = pd.read_csv(f\"../data/tech{TECH}/bake_{temp}C.tsv.gz\", names=colnames, sep='\\t')\n",
    "    Tdata[\"time\"] -= Tdata.groupby(\"addr\")[\"time\"].transform(\"first\")\n",
    "    Tdata[\"temp\"] = temp\n",
    "    data.append(Tdata.loc[Tdata[Tdata[\"time\"] < 10].groupby(\"addr\")[\"time\"].idxmax()])\n",
    "    data.append(Tdata.loc[Tdata[Tdata[\"time\"] > 10].groupby(\"addr\")[\"time\"].idxmin()])\n",
    "data = pd.concat(data)"
   ]
  },
  {
   "cell_type": "code",
   "execution_count": 4,
   "metadata": {},
   "outputs": [],
   "source": [
    "# Output to TSV\n",
    "data.to_csv(f\"../data/tech{TECH}/bake.tsv.gz\", sep='\\t', index=False, header=False)"
   ]
  }
 ]
}