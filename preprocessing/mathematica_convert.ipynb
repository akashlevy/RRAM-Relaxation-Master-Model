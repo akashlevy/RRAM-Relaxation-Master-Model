{
 "metadata": {
  "language_info": {
   "codemirror_mode": {
    "name": "ipython",
    "version": 3
   },
   "file_extension": ".py",
   "mimetype": "text/x-python",
   "name": "python",
   "nbconvert_exporter": "python",
   "pygments_lexer": "ipython3",
   "version": "3.8.3"
  },
  "orig_nbformat": 4,
  "kernelspec": {
   "name": "python3",
   "display_name": "Python 3.8.3 64-bit ('base': conda)"
  },
  "interpreter": {
   "hash": "f85c0ae1067a86ad6a96b144378883e79fd1516474b579ba33ee3a7084540002"
  }
 },
 "nbformat": 4,
 "nbformat_minor": 2,
 "cells": [
  {
   "cell_type": "code",
   "execution_count": 1,
   "metadata": {},
   "outputs": [],
   "source": [
    "# Import libraries\n",
    "import gzip\n",
    "\n",
    "# Print output helper function\n",
    "def print_output(fout):\n",
    "    indices = [min(range(len(t_Addr)), key=lambda i: abs(t_Addr[i] - _)) for _ in t_test]\n",
    "    cnt = 0\n",
    "    for idx in indices:\n",
    "        fout.write('%d\\t%f\\t%.15e\\n' % (int(Addr_prev), t_test[cnt], Gt_Addr[idx]))\n",
    "        cnt = cnt + 1"
   ]
  },
  {
   "cell_type": "code",
   "execution_count": 2,
   "metadata": {},
   "outputs": [],
   "source": [
    "# Specify technology\n",
    "TECH = 'C'\n",
    "\n",
    "# Set file names\n",
    "input_file = f'../data/tech{TECH}/relaxdata.tsv.gz'\n",
    "output_file = f'../data/tech{TECH}/model.tsv'\n",
    "\n",
    "# Specify times to extract\n",
    "t_test = [0, 1e-2, 1e-1, 1, 10, 1e5]"
   ]
  },
  {
   "cell_type": "code",
   "execution_count": 3,
   "metadata": {},
   "outputs": [],
   "source": [
    "# Initialize\n",
    "Addr_prev = None\n",
    "t_Addr = []\n",
    "Gt_Addr = []\n",
    "\n",
    "# Convert file\n",
    "with gzip.open(input_file, 'rb') as fin, open(output_file, 'w') as fout:\n",
    "    for line in fin:\n",
    "        [Addr, t, R, G] = line.split()\n",
    "        if Addr != Addr_prev:\n",
    "            if Addr_prev is not None:\n",
    "                print_output(fout)\n",
    "            Addr_prev = Addr\n",
    "            t_Addr = []\n",
    "            Gt_Addr = []\n",
    "        t_Addr.append(float(t))\n",
    "        Gt_Addr.append(float(G))\n",
    "    print_output(fout)"
   ]
  }
 ]
}