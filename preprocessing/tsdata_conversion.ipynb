{
 "metadata": {
  "language_info": {
   "codemirror_mode": {
    "name": "ipython",
    "version": 3
   },
   "file_extension": ".py",
   "mimetype": "text/x-python",
   "name": "python",
   "nbconvert_exporter": "python",
   "pygments_lexer": "ipython3",
   "version": "3.8.3"
  },
  "orig_nbformat": 4,
  "kernelspec": {
   "name": "python3",
   "display_name": "Python 3.8.3 64-bit ('base': conda)"
  },
  "interpreter": {
   "hash": "f85c0ae1067a86ad6a96b144378883e79fd1516474b579ba33ee3a7084540002"
  }
 },
 "nbformat": 4,
 "nbformat_minor": 2,
 "cells": [
  {
   "cell_type": "code",
   "execution_count": null,
   "metadata": {},
   "outputs": [],
   "source": [
    "# Import libraries\n",
    "import numpy as np\n",
    "import pandas as pd"
   ]
  },
  {
   "cell_type": "code",
   "execution_count": null,
   "metadata": {},
   "outputs": [],
   "source": [
    "# Load tech A or tech C time series data\n",
    "colnames = [\"addr\", \"time\", \"r\", \"g\"]\n",
    "tsdata = pd.read_csv(f\"tsdataA.in.tsv.gz\", names=colnames, sep='\\t')"
   ]
  },
  {
   "cell_type": "code",
   "execution_count": null,
   "metadata": {},
   "outputs": [],
   "source": [
    "# Cleaner format\n",
    "# range_index TAB g0 TAB g1 TAB g2 ...\n",
    "with open(\"../data/techA/tsdata.tsv\", \"w\") as outf:\n",
    "    for r, (addr, ts) in enumerate(tsdata.groupby(\"addr\")[\"g\"]):\n",
    "        outf.write(f\"{r % 32}\\t0\\t\")\n",
    "        np.savetxt(outf, np.expand_dims(ts, 0), delimiter='\\t')"
   ]
  },
  {
   "cell_type": "code",
   "execution_count": null,
   "metadata": {},
   "outputs": [],
   "source": [
    "# Same cleaner format for subset of ranges we want to use\n",
    "ranges = [0, 8, 16, 31]\n",
    "offsets = [0, 0, 0, 0] #[0, 2, 4, 0]\n",
    "indices = [r+32*o for r, o in zip(ranges, offsets)]\n",
    "with open(\"../data/techA/tsdata.min.tsv\", \"w\") as outf:\n",
    "    for i, (addr, ts) in enumerate(tsdata.groupby(\"addr\")[\"g\"]):\n",
    "        if i not in indices:\n",
    "            continue\n",
    "        outf.write(f\"{i % 32}\\t0\\t\")\n",
    "        np.savetxt(outf, np.expand_dims(ts, 0), delimiter='\\t')"
   ]
  },
  {
   "cell_type": "code",
   "execution_count": null,
   "metadata": {},
   "outputs": [],
   "source": [
    "# Get time series data for tech B\n",
    "target_ranges = [0, 8, 16, 31]\n",
    "waveforms = []\n",
    "with open(\"tsdataB.in.tsv\") as fp:\n",
    "    for i, line in enumerate(fp):\n",
    "        if i in target_ranges:\n",
    "            data = np.array(line.strip().split('\\t'), dtype=np.float32)\n",
    "            waveforms.append(data)"
   ]
  },
  {
   "cell_type": "code",
   "execution_count": null,
   "metadata": {},
   "outputs": [],
   "source": [
    "# Output results for tech B\n",
    "waveforms = np.array(waveforms)\n",
    "np.savetxt(\"tsdata.min.tsv.gz\", waveforms, delimiter='\\t')"
   ]
  }
 ]
}