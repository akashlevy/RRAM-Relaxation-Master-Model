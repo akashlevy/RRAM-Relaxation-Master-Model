{
 "cells": [
  {
   "cell_type": "code",
   "execution_count": null,
   "metadata": {},
   "outputs": [],
   "source": [
    "# Import libraries\n",
    "import gzip\n",
    "import json\n",
    "import numpy as np\n",
    "import pandas as pd"
   ]
  },
  {
   "cell_type": "code",
   "execution_count": null,
   "metadata": {},
   "outputs": [],
   "source": [
    "# Choose technology here\n",
    "TECH = 'C'\n",
    "\n",
    "# Load settings for technology\n",
    "with open(f\"../data/tech{TECH}/settings.json\") as sfile:\n",
    "    settings = json.load(sfile)"
   ]
  },
  {
   "cell_type": "markdown",
   "metadata": {},
   "source": [
    "## Tech A and Tech C\n",
    "\n",
    "Tech A and C were collected as a bunch of software-timed measurements. This part just selects a few cells to reduce the data size."
   ]
  },
  {
   "cell_type": "code",
   "execution_count": null,
   "metadata": {},
   "outputs": [],
   "source": [
    "# Load tech A or tech C time series data\n",
    "colnames = [\"addr\", \"time\", \"r\", \"g\"]\n",
    "tsdata = pd.read_csv(f\"tsdata{TECH}.in.tsv.gz\", names=colnames, sep='\\t')"
   ]
  },
  {
   "cell_type": "code",
   "execution_count": null,
   "metadata": {},
   "outputs": [],
   "source": [
    "# Cleaner format\n",
    "# range_index TAB g0 TAB g1 TAB g2 ...\n",
    "with open(f\"../data/tech{TECH}/tsdata.tsv\", \"w\") as outf:\n",
    "    for r, (addr, ts) in enumerate(tsdata.groupby(\"addr\", sort=False)[\"g\"]):\n",
    "        outf.write(f\"{r % 32}\\t0\\t\")\n",
    "        np.savetxt(outf, np.expand_dims(ts, 0), delimiter='\\t')"
   ]
  },
  {
   "cell_type": "code",
   "execution_count": null,
   "metadata": {},
   "outputs": [],
   "source": [
    "# Same cleaner format for subset of ranges we want to use\n",
    "if TECH == 'A':\n",
    "    indices = sorted([r+32*o for r, o in zip(settings[\"ts_ranges\"], settings[\"ts_index_offsets\"])])\n",
    "elif TECH == 'C':\n",
    "    indices = sorted([o+r*10//2 for r, o in zip(settings[\"ts_ranges\"], settings[\"ts_index_offsets\"])])\n",
    "with open(f\"../data/tech{TECH}/tsdata.min.tsv\", \"w\") as outf:\n",
    "    for i, (addr, ts) in enumerate(tsdata.groupby(\"addr\", sort=False)[\"g\"]):\n",
    "        if i not in indices:\n",
    "            continue\n",
    "        outf.write(f\"{i % 32}\\t0\\t\")\n",
    "        np.savetxt(outf, np.expand_dims(ts, 0), delimiter='\\t')"
   ]
  },
  {
   "cell_type": "markdown",
   "metadata": {},
   "source": [
    "## Tech B\n",
    "\n",
    "Tech B was collected with the high-frequency scope so it is in a different format the Techs A and C. Here, we simply filter the data down to a few ranges we care about."
   ]
  },
  {
   "cell_type": "code",
   "execution_count": null,
   "metadata": {},
   "outputs": [],
   "source": [
    "# Get time series data for tech B\n",
    "waveforms = []\n",
    "with open(\"tsdataB.in.tsv\") as fp:\n",
    "    for i, line in enumerate(fp):\n",
    "        if i in settings[\"ts_ranges\"]:\n",
    "            data = np.array(line.strip().split('\\t'), dtype=np.float32)\n",
    "            waveforms.append(data)"
   ]
  },
  {
   "cell_type": "code",
   "execution_count": null,
   "metadata": {},
   "outputs": [],
   "source": [
    "# Output results for tech B\n",
    "waveforms = np.array(waveforms)\n",
    "np.savetxt(\"../data/techB/tsdata.min.tsv.gz\", waveforms, delimiter='\\t')"
   ]
  }
 ],
 "metadata": {
  "interpreter": {
   "hash": "c30f2af5f468e7f5b45bcc30fca5f4886c90d54777aed916ed5f6294dfb24bf2"
  },
  "kernelspec": {
   "display_name": "Python 3.8.3 64-bit ('base': conda)",
   "name": "python3"
  },
  "language_info": {
   "codemirror_mode": {
    "name": "ipython",
    "version": 3
   },
   "file_extension": ".py",
   "mimetype": "text/x-python",
   "name": "python",
   "nbconvert_exporter": "python",
   "pygments_lexer": "ipython3",
   "version": "3.8.3"
  },
  "orig_nbformat": 4
 },
 "nbformat": 4,
 "nbformat_minor": 2
}
