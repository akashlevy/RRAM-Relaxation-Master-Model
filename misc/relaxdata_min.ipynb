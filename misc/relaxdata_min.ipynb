{
 "metadata": {
  "language_info": {
   "codemirror_mode": {
    "name": "ipython",
    "version": 3
   },
   "file_extension": ".py",
   "mimetype": "text/x-python",
   "name": "python",
   "nbconvert_exporter": "python",
   "pygments_lexer": "ipython3",
   "version": "3.8.3"
  },
  "orig_nbformat": 4,
  "kernelspec": {
   "name": "python3",
   "display_name": "Python 3.8.3 64-bit ('base': conda)"
  },
  "interpreter": {
   "hash": "f85c0ae1067a86ad6a96b144378883e79fd1516474b579ba33ee3a7084540002"
  }
 },
 "nbformat": 4,
 "nbformat_minor": 2,
 "cells": [
  {
   "cell_type": "code",
   "execution_count": 1,
   "metadata": {},
   "outputs": [],
   "source": [
    "# Import libraries\n",
    "import json\n",
    "import numpy as np\n",
    "import pandas as pd"
   ]
  },
  {
   "cell_type": "code",
   "execution_count": 2,
   "metadata": {},
   "outputs": [],
   "source": [
    "# Select technology\n",
    "TECH = 'C'"
   ]
  },
  {
   "cell_type": "code",
   "execution_count": 3,
   "metadata": {},
   "outputs": [],
   "source": [
    "# Load settings for technology\n",
    "with open(f\"../data/tech{TECH}/settings.json\") as sfile:\n",
    "    settings = json.load(sfile)"
   ]
  },
  {
   "cell_type": "code",
   "execution_count": 4,
   "metadata": {},
   "outputs": [],
   "source": [
    "# Load tech B time series data\n",
    "colnames = [\"addr\", \"time\", \"r\", \"g\"]\n",
    "data = pd.read_csv(f\"../data/tech{TECH}/relaxdata.tsv.gz\", names=colnames, sep='\\t')"
   ]
  },
  {
   "cell_type": "code",
   "execution_count": 5,
   "metadata": {},
   "outputs": [
    {
     "output_type": "execute_result",
     "data": {
      "text/plain": [
       "    addr      time             r             g\n",
       "0  10354  0.000000  2.082326e+06  4.802322e-07\n",
       "1  10354  0.006997  5.372904e+06  1.861191e-07\n",
       "2  10354  0.016950  5.513018e+06  1.813889e-07\n",
       "3  10354  0.023997  5.602565e+06  1.784897e-07\n",
       "4  10354  0.030978  5.537474e+06  1.805878e-07"
      ],
      "text/html": "<div>\n<style scoped>\n    .dataframe tbody tr th:only-of-type {\n        vertical-align: middle;\n    }\n\n    .dataframe tbody tr th {\n        vertical-align: top;\n    }\n\n    .dataframe thead th {\n        text-align: right;\n    }\n</style>\n<table border=\"1\" class=\"dataframe\">\n  <thead>\n    <tr style=\"text-align: right;\">\n      <th></th>\n      <th>addr</th>\n      <th>time</th>\n      <th>r</th>\n      <th>g</th>\n    </tr>\n  </thead>\n  <tbody>\n    <tr>\n      <th>0</th>\n      <td>10354</td>\n      <td>0.000000</td>\n      <td>2.082326e+06</td>\n      <td>4.802322e-07</td>\n    </tr>\n    <tr>\n      <th>1</th>\n      <td>10354</td>\n      <td>0.006997</td>\n      <td>5.372904e+06</td>\n      <td>1.861191e-07</td>\n    </tr>\n    <tr>\n      <th>2</th>\n      <td>10354</td>\n      <td>0.016950</td>\n      <td>5.513018e+06</td>\n      <td>1.813889e-07</td>\n    </tr>\n    <tr>\n      <th>3</th>\n      <td>10354</td>\n      <td>0.023997</td>\n      <td>5.602565e+06</td>\n      <td>1.784897e-07</td>\n    </tr>\n    <tr>\n      <th>4</th>\n      <td>10354</td>\n      <td>0.030978</td>\n      <td>5.537474e+06</td>\n      <td>1.805878e-07</td>\n    </tr>\n  </tbody>\n</table>\n</div>"
     },
     "metadata": {},
     "execution_count": 5
    }
   ],
   "source": [
    "# Check data\n",
    "data.head()"
   ]
  },
  {
   "cell_type": "code",
   "execution_count": 6,
   "metadata": {},
   "outputs": [],
   "source": [
    "# Subtract initial time and compute range and gi\n",
    "data[\"time\"] -= data.groupby(\"addr\")[\"time\"].transform(\"first\") \n",
    "data[\"gi\"] = data.groupby(\"addr\")[\"g\"].transform(\"first\")\n",
    "data[\"range\"] = np.int32(data[\"gi\"] / settings[\"gmax\"] * 32)"
   ]
  },
  {
   "cell_type": "code",
   "execution_count": 7,
   "metadata": {},
   "outputs": [
    {
     "output_type": "execute_result",
     "data": {
      "text/plain": [
       "    addr      time             r             g            gi  range\n",
       "0  10354  0.000000  2.082326e+06  4.802322e-07  4.802322e-07      0\n",
       "1  10354  0.006997  5.372904e+06  1.861191e-07  4.802322e-07      0\n",
       "2  10354  0.016950  5.513018e+06  1.813889e-07  4.802322e-07      0\n",
       "3  10354  0.023997  5.602565e+06  1.784897e-07  4.802322e-07      0\n",
       "4  10354  0.030978  5.537474e+06  1.805878e-07  4.802322e-07      0"
      ],
      "text/html": "<div>\n<style scoped>\n    .dataframe tbody tr th:only-of-type {\n        vertical-align: middle;\n    }\n\n    .dataframe tbody tr th {\n        vertical-align: top;\n    }\n\n    .dataframe thead th {\n        text-align: right;\n    }\n</style>\n<table border=\"1\" class=\"dataframe\">\n  <thead>\n    <tr style=\"text-align: right;\">\n      <th></th>\n      <th>addr</th>\n      <th>time</th>\n      <th>r</th>\n      <th>g</th>\n      <th>gi</th>\n      <th>range</th>\n    </tr>\n  </thead>\n  <tbody>\n    <tr>\n      <th>0</th>\n      <td>10354</td>\n      <td>0.000000</td>\n      <td>2.082326e+06</td>\n      <td>4.802322e-07</td>\n      <td>4.802322e-07</td>\n      <td>0</td>\n    </tr>\n    <tr>\n      <th>1</th>\n      <td>10354</td>\n      <td>0.006997</td>\n      <td>5.372904e+06</td>\n      <td>1.861191e-07</td>\n      <td>4.802322e-07</td>\n      <td>0</td>\n    </tr>\n    <tr>\n      <th>2</th>\n      <td>10354</td>\n      <td>0.016950</td>\n      <td>5.513018e+06</td>\n      <td>1.813889e-07</td>\n      <td>4.802322e-07</td>\n      <td>0</td>\n    </tr>\n    <tr>\n      <th>3</th>\n      <td>10354</td>\n      <td>0.023997</td>\n      <td>5.602565e+06</td>\n      <td>1.784897e-07</td>\n      <td>4.802322e-07</td>\n      <td>0</td>\n    </tr>\n    <tr>\n      <th>4</th>\n      <td>10354</td>\n      <td>0.030978</td>\n      <td>5.537474e+06</td>\n      <td>1.805878e-07</td>\n      <td>4.802322e-07</td>\n      <td>0</td>\n    </tr>\n  </tbody>\n</table>\n</div>"
     },
     "metadata": {},
     "execution_count": 7
    }
   ],
   "source": [
    "# Check data as needed\n",
    "data.head()\n",
    "# data.groupby('range')['range'].count() / 5500"
   ]
  },
  {
   "cell_type": "code",
   "execution_count": 8,
   "metadata": {},
   "outputs": [
    {
     "output_type": "stream",
     "name": "stdout",
     "text": [
      "16292\n",
      "16292\n",
      "16292\n",
      "16205\n",
      "16292\n",
      "16290\n",
      "16292\n",
      "16292\n",
      "16292\n",
      "7744\n",
      "16292\n",
      "16292\n"
     ]
    }
   ],
   "source": [
    "# Get times\n",
    "tdata = []\n",
    "for time in settings[\"times\"]:\n",
    "    idx = (data[\"time\"] - time).abs().groupby(data[\"addr\"]).idxmin()\n",
    "    d = data[data.index.isin(idx)]\n",
    "    print(len(d))\n",
    "    d = d[(d[\"time\"] <= time*1.2) & (d[\"time\"] >= time*0.8)]\n",
    "    print(len(d))\n",
    "    d[\"timept\"] = time\n",
    "    tdata.append(d)\n",
    "tdata = pd.concat(tdata)"
   ]
  },
  {
   "cell_type": "code",
   "execution_count": 9,
   "metadata": {},
   "outputs": [],
   "source": [
    "# Write to file\n",
    "fopts = {\"sep\": '\\t', \"header\": False, \"index\": False}\n",
    "tdata.to_csv(f\"../data/tech{TECH}/relaxdata.min.tsv.gz\", **fopts)"
   ]
  }
 ]
}