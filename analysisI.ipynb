{
 "metadata": {
  "language_info": {
   "codemirror_mode": {
    "name": "ipython",
    "version": 3
   },
   "file_extension": ".py",
   "mimetype": "text/x-python",
   "name": "python",
   "nbconvert_exporter": "python",
   "pygments_lexer": "ipython3",
   "version": "3.8.3"
  },
  "orig_nbformat": 4,
  "kernelspec": {
   "name": "python3",
   "display_name": "Python 3.8.3 64-bit ('base': conda)"
  },
  "interpreter": {
   "hash": "f85c0ae1067a86ad6a96b144378883e79fd1516474b579ba33ee3a7084540002"
  }
 },
 "nbformat": 4,
 "nbformat_minor": 2,
 "cells": [
  {
   "cell_type": "markdown",
   "source": [
    "# RRAM Relaxation Data Notebook\n",
    "\n",
    "This notebook contains the analysis on empirical RRAM relaxation data across three technologies (A, B, C). It loads and processes the measurements taken for each technology."
   ],
   "metadata": {}
  },
  {
   "cell_type": "code",
   "execution_count": null,
   "source": [
    "# Imports\n",
    "import gzip\n",
    "import json\n",
    "import matplotlib.pyplot as plt\n",
    "import numpy as np\n",
    "import pandas as pd\n",
    "import scipy.signal\n",
    "import scipy.stats\n",
    "# from matplotlib.offsetbox import AnchoredText\n",
    "\n",
    "%config InlineBackend.figure_format = 'svg'"
   ],
   "outputs": [],
   "metadata": {}
  },
  {
   "cell_type": "markdown",
   "source": [
    "## Load the technology and its settings\n",
    "\n",
    "Below, choose which technology to load data and settings for:"
   ],
   "metadata": {}
  },
  {
   "cell_type": "code",
   "execution_count": null,
   "source": [
    "# Choose technology here\n",
    "TECH = 'B'\n",
    "\n",
    "# Load settings for technology\n",
    "with open(f\"data/tech{TECH}/settings.json\") as sfile:\n",
    "    settings = json.load(sfile)"
   ],
   "outputs": [],
   "metadata": {}
  },
  {
   "cell_type": "markdown",
   "source": [
    "## Time series analysis\n",
    "In this section, we will look at example time series data on a log scale and also examine the power spectral density (PSD). First, let us load the time series data:"
   ],
   "metadata": {}
  },
  {
   "cell_type": "markdown",
   "source": [
    "### Example Time Series Data\n",
    "\n",
    "Below, we can look at the time series data for the ranges chosen above:"
   ],
   "metadata": {}
  },
  {
   "cell_type": "code",
   "execution_count": null,
   "source": [
    "# Load data for technology\n",
    "with gzip.open(f\"data/tech{TECH}/tsdata.min.tsv.gz\", \"rt\") as datafile:\n",
    "    # Plot example time series data\n",
    "    fig = plt.figure(figsize=(4,2.7))\n",
    "    ax = fig.add_subplot(111)\n",
    "    ax.set_title(f\"READ Current Time Series Examples\\n(Tech {TECH}, Room Temp)\")\n",
    "    for r in settings[\"ts_ranges\"]:\n",
    "        # Select data\n",
    "        d = datafile.readline()\n",
    "        print(r, \"step 1\")\n",
    "        d = np.fromstring(d, dtype=float, sep='\\t')[2:]\n",
    "        print(r, \"step 2\")\n",
    "\n",
    "        # Plot time series data\n",
    "        plt.plot(np.linspace(0, len(d)*settings[\"fs\"], len(d), endpoint=False), d*1e6*0.2, label=r, linewidth=0.8)\n",
    "\n",
    "    # Format and display\n",
    "    ax.legend(title=\"Conductance Range #\", ncol=4, loc=9)\n",
    "    ax.set_ylim(*[v*0.2 for v in settings[\"ts_ylim\"]])\n",
    "    ax.set_xlabel(\"Time (s)\")\n",
    "    ax.set_ylabel(\"READ Current (µA)\")\n",
    "    ax.set_xscale(\"log\")\n",
    "    plt.savefig(f\"figs/tech{TECH}/time-series-i.png\", dpi=300, bbox_inches=\"tight\")\n",
    "    plt.show()"
   ],
   "outputs": [],
   "metadata": {}
  },
  {
   "cell_type": "markdown",
   "source": [
    "### Power Spectral Density (PSD)\n",
    "\n",
    "In this section, we will look at the PSDs to understand the relaxation behavior better:"
   ],
   "metadata": {}
  },
  {
   "cell_type": "code",
   "execution_count": null,
   "source": [
    "# Load data for technology\n",
    "with gzip.open(f\"data/tech{TECH}/tsdata.min.tsv.gz\", \"rt\") as datafile:\n",
    "    # Plot power spectral density (PSD)\n",
    "    fig = plt.figure(figsize=(4,4))\n",
    "    ax = fig.add_subplot(111)\n",
    "    ax.set_title(f\"READ Current Power Spectral Density\\n(Tech {TECH}, Room Temp)\")\n",
    "    slopes = []\n",
    "    for i, r in enumerate(settings[\"ts_ranges\"]):\n",
    "        # Select data\n",
    "        d = datafile.readline()\n",
    "        print(r, \"step 1\")\n",
    "        d = np.fromstring(d, dtype=float, sep='\\t')[2:]\n",
    "        print(r, \"step 2\")\n",
    "\n",
    "        # # Lomb-Scargle PSD\n",
    "        # f = np.logspace(np.log10(1/600), np.log10(2), 500)\n",
    "        # f = np.logspace(np.log10(2), np.log10(400/2), 1000)\n",
    "        # p = scipy.signal.lombscargle(d[\"time\"], d[\"g\"], f)\n",
    "\n",
    "        # Welch PSD\n",
    "        f, p = scipy.signal.welch(d*0.2, fs=settings[\"fs\"], nperseg=settings[\"psd_nperseg\"])\n",
    "        plt.plot(f, p, label=r, linewidth=0.8)\n",
    "\n",
    "        # # Power law fit\n",
    "        # a, b = np.polyfit(np.log(f[[30,-30]]), np.log(p[[30,-30]]), 1)\n",
    "        # print(f\"Range {r} slope: {a}\")\n",
    "        # slopes.append(a)\n",
    "        # plt.plot(f[1:], np.exp(a*np.log(f[1:]) + b), 'k--', zorder=10, linewidth=2)\n",
    "\n",
    "        # # 1/f fit\n",
    "        # fitfn = lambda logf, A: A - logf\n",
    "        # params, _ = scipy.optimize.curve_fit(fitfn, np.log(f), np.log(p))\n",
    "        # A = params[0]\n",
    "        # print(A)\n",
    "        # plt.plot(f, np.exp(fitfn(np.log(f), A)), 'k--', zorder=10, linewidth=2)\n",
    "\n",
    "    # Format and display\n",
    "    # ax.add_artist(AnchoredText(\"Slopes: [%.2f, %.2f]\" % (max(slopes), min(slopes)), loc=1, frameon=False))\n",
    "    plt.plot(settings[\"psd_fpts\"][0], np.array(settings[\"psd_fpts\"][1])*0.2**2, 'k--', zorder=10, linewidth=4)\n",
    "    if \"psd_f2pts\" in settings:\n",
    "        plt.plot(settings[\"psd_f2pts\"][0], np.array(settings[\"psd_f2pts\"][1])*0.2**2, 'k--', zorder=10, linewidth=4)\n",
    "    ax.legend(title=\"Cond. Range #\", ncol=2, loc=3)\n",
    "    ax.set_xlabel(\"Frequency (Hz)\")\n",
    "    ax.set_ylabel(\"Current Power Spectral Density (A$^2$/Hz)\")\n",
    "    ax.set_xscale(\"log\")\n",
    "    ax.set_xlim(*settings[\"psd_xlim\"])\n",
    "    ax.set_ylim(*[v*0.2**2 for v in settings[\"psd_ylim\"]])\n",
    "    ax.set_yscale(\"log\")\n",
    "    plt.text(settings[\"psd_ftextloc\"][0], settings[\"psd_ftextloc\"][1]*0.2**2, \"1/f behavior\")\n",
    "    if \"psd_f2textloc\" in settings:\n",
    "        plt.text(settings[\"psd_f2textloc\"][0], settings[\"psd_f2textloc\"][1]*0.2**2, \"1/f$^2$\")\n",
    "    plt.savefig(f\"figs/tech{TECH}/psd-i.png\", dpi=300, bbox_inches=\"tight\")\n",
    "    plt.show()"
   ],
   "outputs": [],
   "metadata": {}
  },
  {
   "cell_type": "markdown",
   "source": [
    "## Relaxation data analysis\n",
    "\n",
    "Here, we will be analyzing the large dataset relaxation behavior. We will examine: (1) examples of conductance distribution broadening behavior over time, (2) scatterplot of conductance deviation vs. conductance, (3) standard deviation vs. time for different starting conductance values. First let us load the data:"
   ],
   "metadata": {}
  },
  {
   "cell_type": "code",
   "execution_count": null,
   "source": [
    "# Load data for technology\n",
    "colnames = [\"addr\", \"time\", \"r\", \"g\", \"gi\", \"range\", \"timept\"]\n",
    "data = pd.read_csv(f\"data/tech{TECH}/relaxdata.min.tsv.gz\", names=colnames, sep='\\t')\n",
    "data.head()"
   ],
   "outputs": [],
   "metadata": {}
  },
  {
   "cell_type": "markdown",
   "source": [
    "### Conductance distribution broadening behavior\n",
    "\n",
    "Below are examples of conductance broadening behavior over time:"
   ],
   "metadata": {}
  },
  {
   "cell_type": "code",
   "execution_count": null,
   "source": [
    "# Select ranges to study\n",
    "ranges = [0, 8, 16, 24, 31]\n",
    "\n",
    "# Conductance broadening behavior\n",
    "fig = plt.figure(figsize=(4, 2.7))\n",
    "ax = fig.add_subplot(111)\n",
    "ax.set_title(f\"READ Current Dist. Broadening\\n(Tech {TECH}, Room Temp)\")\n",
    "colors = plt.rcParams[\"axes.prop_cycle\"].by_key()[\"color\"]\n",
    "for time, color in zip(settings[\"times\"], colors):\n",
    "    for r in ranges:\n",
    "        gx = np.linspace(0, settings[\"gmax\"]*1.1e6, 500)\n",
    "        gvals = data[(data[\"range\"] == r) & (data[\"timept\"] == time)][\"g\"]\n",
    "        pdf = scipy.stats.gaussian_kde(gvals*1e6).pdf(gx)\n",
    "        label = (f\"t={time}s\" if time < 100 else f\"t=1E{int(np.log10(time))}s\") if r == 0 else None\n",
    "        plt.plot(gx*0.2, pdf, color=color, label=label, linewidth=0.8)\n",
    "ax.legend(ncol=3, handletextpad=0.2, fontsize=\"small\")\n",
    "ax.set_ylim(*settings[\"gbroad_ylim\"])\n",
    "ax.set_xlabel(\"READ Current (µA)\")\n",
    "ax.set_ylabel(\"KDE Probability Density\")\n",
    "plt.savefig(f\"figs/tech{TECH}/broadening-time-i.pdf\", bbox_inches=\"tight\")\n",
    "plt.show()"
   ],
   "outputs": [],
   "metadata": {
    "tags": []
   }
  },
  {
   "cell_type": "markdown",
   "source": [
    "### Mean Drift and Variance Growth (Time Dependence)\n",
    "Here, we examine the drift of the distribution mean and variance growth as a function of time."
   ],
   "metadata": {}
  },
  {
   "cell_type": "code",
   "execution_count": null,
   "source": [
    "# Mean drift behavior (time dependence)\n",
    "fig = plt.figure(figsize=(4, 3.5))\n",
    "ax = fig.add_subplot(111)\n",
    "ax.set_title(f\"Mean READ Current Drift vs. Time\\n(Tech {TECH}, Room Temp)\")\n",
    "colors = plt.rcParams[\"axes.prop_cycle\"].by_key()[\"color\"]\n",
    "for r, color in zip(ranges, colors):\n",
    "    d = data[(data[\"range\"] == r) & (data[\"gi\"] <= settings[\"gmax\"])]\n",
    "    gi = d.groupby(\"timept\").mean()[\"gi\"]*1e6\n",
    "    gf = d.groupby(\"timept\").mean()[\"g\"]*1e6\n",
    "    deltag = gf - gi\n",
    "    plt.plot(deltag.index, deltag * 0.2, '-D', color=color, label=r, linewidth=0.8)\n",
    "ax.legend(title=\"Cond. Range #\", ncol=2 if TECH == 'C' else 3, handletextpad=0.2)\n",
    "if \"gmeandrift_t_ylim\" in settings:\n",
    "    ax.set_ylim(*[v*0.2 for v in settings[\"gmeandrift_t_ylim\"]])\n",
    "ax.set_xscale(\"log\")\n",
    "ax.set_xlabel(\"Time (s)\")\n",
    "ax.set_ylabel(\"Mean READ Current Drift (µA)\")\n",
    "plt.savefig(f\"figs/tech{TECH}/mean-drift-vs-time-i.pdf\", bbox_inches=\"tight\")\n",
    "plt.show()"
   ],
   "outputs": [],
   "metadata": {}
  },
  {
   "cell_type": "code",
   "execution_count": null,
   "source": [
    "# Variance behavior (time dependence)\n",
    "fig = plt.figure(figsize=(4, 3.5))\n",
    "ax = fig.add_subplot(111)\n",
    "ax.set_title(f\"READ Current Variance vs. Time\\n(Tech {TECH}, Room Temp)\")\n",
    "colors = plt.rcParams[\"axes.prop_cycle\"].by_key()[\"color\"]\n",
    "for r, color in zip(ranges, colors):\n",
    "    d = data[(data[\"range\"] == r) & (data[\"gi\"] <= settings[\"gmax\"])]\n",
    "    gfvar = d.groupby(\"timept\").var()[\"g\"]*(0.2e6**2)\n",
    "    plt.plot(gfvar.index, gfvar, '-D', color=color, label=r, linewidth=0.8)\n",
    "ax.legend(title=\"Cond. Range #\", ncol=2, handletextpad=0.2)\n",
    "if \"gvar_t_ylim\" in settings:\n",
    "    ax.set_ylim(*[v*0.2**2 for v in settings[\"gvar_t_ylim\"]])\n",
    "ax.set_xscale(\"log\")\n",
    "ax.set_xlabel(\"Time (s)\")\n",
    "ax.set_ylabel(\"READ Current Variance (µA$^2$)\")\n",
    "plt.savefig(f\"figs/tech{TECH}/var-vs-time-i.pdf\", bbox_inches=\"tight\")\n",
    "plt.show()"
   ],
   "outputs": [],
   "metadata": {}
  },
  {
   "cell_type": "markdown",
   "source": [
    "### Mean Drift and Variance Growth (Conductance Dependence)\n",
    "Here, we examine the drift of the distribution mean and variance growth as a function of conductance."
   ],
   "metadata": {}
  },
  {
   "cell_type": "code",
   "execution_count": null,
   "source": [
    "# Mean drift behavior (conductance dependence)\n",
    "fig = plt.figure(figsize=(4, 3.5))\n",
    "ax = fig.add_subplot(111)\n",
    "ax.set_title(f\"Mean Drift vs. Init. READ Current\\n(Tech {TECH}, Room Temp)\")\n",
    "colors = plt.rcParams[\"axes.prop_cycle\"].by_key()[\"color\"]\n",
    "for time, color in zip(settings[\"times\"], colors):\n",
    "    d = data[(data[\"timept\"] == time) & (data[\"gi\"] <= settings[\"gmax\"])]\n",
    "    gi = d.groupby(\"range\").mean()[\"gi\"]*1e6\n",
    "    gf = d.groupby(\"range\").mean()[\"g\"]*1e6\n",
    "    deltag = gf - gi\n",
    "    label = (f\"t={time}s\" if time < 100 else f\"t=1E{int(np.log10(time))}s\")\n",
    "    plt.plot(gi*0.2, deltag*0.2, '-+', color=color, label=label, linewidth=0.8)\n",
    "ax.legend(ncol=3, handletextpad=0.2, fontsize=\"small\")\n",
    "ax.set_ylim(*[v*0.2 for v in settings[\"gmeandrift_gi_ylim\"]])\n",
    "ax.set_xlabel(\"Initial READ Current (µA)\")\n",
    "ax.set_ylabel(\"Mean READ Current Drift (µA)\")\n",
    "plt.savefig(f\"figs/tech{TECH}/mean-drift-vs-g-i.pdf\", bbox_inches=\"tight\")\n",
    "plt.show()"
   ],
   "outputs": [],
   "metadata": {}
  },
  {
   "cell_type": "code",
   "execution_count": null,
   "source": [
    "# Variance behavior (conductance dependence)\n",
    "fig = plt.figure(figsize=(4, 3.5))\n",
    "ax = fig.add_subplot(111)\n",
    "ax.set_title(f\"Variance vs. Init. READ Current\\n(Tech {TECH}, Room Temp)\")\n",
    "colors = plt.rcParams[\"axes.prop_cycle\"].by_key()[\"color\"]\n",
    "for time, color in zip(settings[\"times\"], colors):\n",
    "    d = data[(data[\"timept\"] == time) & (data[\"gi\"] <= settings[\"gmax\"])]\n",
    "    gi = d.groupby(\"range\").mean()[\"gi\"]*1e6\n",
    "    gfvar = (d.groupby(\"range\")).var()[\"g\"]*(1e6**2)\n",
    "    label = (f\"t={time}s\" if time < 100 else f\"t=1E{int(np.log10(time))}s\")\n",
    "    plt.plot(gi*0.2, gfvar*0.2**2, '-+', color=color, label=label, linewidth=0.8)\n",
    "ax.legend(ncol=3, handletextpad=0.2, fontsize=\"small\")\n",
    "ax.set_ylim(*[v*0.2**2 for v in settings[\"gvar_gi_ylim\"]])\n",
    "ax.set_xlabel(\"Initial READ Current (µA)\")\n",
    "ax.set_ylabel(\"READ Current Variance (µA$^2$)\")\n",
    "plt.savefig(f\"figs/tech{TECH}/var-vs-g-i.pdf\", bbox_inches=\"tight\")\n",
    "plt.show()"
   ],
   "outputs": [],
   "metadata": {}
  },
  {
   "cell_type": "code",
   "execution_count": null,
   "source": [
    "# Norm. stdev. behavior (conductance dependence)\n",
    "fig = plt.figure(figsize=(4, 3.5))\n",
    "ax = fig.add_subplot(111)\n",
    "ax.set_title(f\"Norm. Stdev. vs. Init. READ Current\\n(Tech {TECH}, Room Temp)\")\n",
    "colors = plt.rcParams[\"axes.prop_cycle\"].by_key()[\"color\"]\n",
    "for time, color in zip(settings[\"times\"], colors):\n",
    "    d = data[(data[\"timept\"] == time) & (data[\"gi\"] <= settings[\"gmax\"])]\n",
    "    gi = d.groupby(\"range\").mean()[\"gi\"]*1e6\n",
    "    gfnormdev = d.groupby(\"range\").std()[\"g\"] / d.groupby(\"range\").mean()[\"gi\"]\n",
    "    label = (f\"t={time}s\" if time < 100 else f\"t=1E{int(np.log10(time))}s\")\n",
    "    plt.plot(gi, gfnormdev, '-+', color=color, label=label, linewidth=0.8)\n",
    "ax.legend(ncol=3, handletextpad=0.2, fontsize=\"small\")\n",
    "ax.set_xlabel(\"Initial READ Current (µS)\")\n",
    "ax.set_ylabel(\"Stdev. / Init. READ Current\")\n",
    "plt.savefig(f\"figs/tech{TECH}/norm-stdev-vs-g-i.pdf\", bbox_inches=\"tight\")\n",
    "plt.show()"
   ],
   "outputs": [],
   "metadata": {}
  },
  {
   "cell_type": "markdown",
   "source": [
    "## Temperature dependence analysis via 1hr bake\n",
    "\n",
    "Here, we analyze the effect of baking on the distribution broadening. In particular, we will examine examples of the conductance distributions broadening for different temperatures and then analyze the temperature-dependent mean drift and variance. We can first load the data and preprocess it a little bit:"
   ],
   "metadata": {}
  },
  {
   "cell_type": "code",
   "execution_count": null,
   "source": [
    "# Load data for technology\n",
    "colnames = [\"addr\", \"time\", \"r\", \"g\", \"temp\"]\n",
    "data = pd.read_csv(f\"data/tech{TECH}/bake.tsv.gz\", names=colnames, sep='\\t')\n",
    "\n",
    "# Get conductance range\n",
    "data[\"gi\"] = data.groupby([\"addr\", \"temp\"])[\"g\"].transform(\"first\")\n",
    "data[\"range\"] = np.int32(data[\"gi\"] / settings[\"gmax\"] * 32)\n",
    "\n",
    "# Filter out the rest of the data\n",
    "data = data[data[\"time\"] > 100].groupby([\"addr\", \"temp\"]).first().reset_index()\n",
    "\n",
    "# Show data\n",
    "data.head()"
   ],
   "outputs": [],
   "metadata": {}
  },
  {
   "cell_type": "markdown",
   "source": [
    "### Conductance distribution broadening behavior\n",
    "\n",
    "Below are examples of conductance broadening behavior at different temperatures:"
   ],
   "metadata": {}
  },
  {
   "cell_type": "code",
   "execution_count": null,
   "source": [
    "# Select ranges to study\n",
    "ranges = [0, 8, 16, 24, 31]\n",
    "\n",
    "# Conductance broadening behavior\n",
    "fig = plt.figure(figsize=(4, 2.7))\n",
    "ax = fig.add_subplot(111)\n",
    "ax.set_title(f\"READ Current Dist. Broadening\\n(Tech {TECH}, 1hr Bake @ Temp T)\")\n",
    "colors = plt.rcParams[\"axes.prop_cycle\"].by_key()[\"color\"]\n",
    "for temp, color in zip(settings[\"temps\"], colors):\n",
    "    for r in ranges:\n",
    "        gx = np.linspace(0, settings[\"gmax\"]*1.1e6, 500)\n",
    "        gvals = data[(data[\"range\"] == r) & (data[\"temp\"] == temp)][\"g\"]\n",
    "        pdf = scipy.stats.gaussian_kde(gvals*1e6).pdf(gx)\n",
    "        plt.plot(gx*0.2, pdf, color=color, label=f\"T={temp}°C\" if r==0 else None, linewidth=0.8)\n",
    "ax.legend(ncol=2, handletextpad=0.2)\n",
    "ax.set_xlim(0, settings[\"gmax\"]*1.1e6*0.2)\n",
    "ax.set_ylim(*settings[\"gbroad_temp_ylim\"])\n",
    "ax.set_xlabel(\"READ Current (µA)\")\n",
    "ax.set_ylabel(\"KDE Probability Density\")\n",
    "plt.savefig(f\"figs/tech{TECH}/broadening-temp-i.pdf\", bbox_inches=\"tight\")\n",
    "plt.show()"
   ],
   "outputs": [],
   "metadata": {}
  },
  {
   "cell_type": "code",
   "execution_count": null,
   "source": [
    "# Mean drift behavior (temperature dependence)\n",
    "fig = plt.figure(figsize=(4, 3.5))\n",
    "ax = fig.add_subplot(111)\n",
    "ax.set_title(f\"Mean READ Current Drift vs. Temperature\\n(Tech {TECH}, 1hr Bake @ Temp T)\")\n",
    "colors = plt.rcParams[\"axes.prop_cycle\"].by_key()[\"color\"]\n",
    "for r, color in zip(ranges, colors):\n",
    "    d = data[data[\"range\"] == r]\n",
    "    gi = d.groupby(\"temp\").mean()[\"gi\"]*1e6\n",
    "    gf = d.groupby(\"temp\").mean()[\"g\"]*1e6\n",
    "    deltag = gf - gi\n",
    "    plt.plot(deltag.index, deltag * 0.2, '-D', color=color, label=r, linewidth=0.8)\n",
    "ax.legend(title=\"Conductance Range #\", ncol=2 if TECH == 'C' else 3, handletextpad=0.2)\n",
    "if \"gmeandrift_temp_ylim\" in settings:\n",
    "    ax.set_ylim(*[v*0.2 for v in settings[\"gmeandrift_temp_ylim\"]])\n",
    "ax.set_xlabel(\"Temperature (°C)\")\n",
    "ax.set_ylabel(\"Mean READ Current Drift (µA)\")\n",
    "plt.savefig(f\"figs/tech{TECH}/mean-drift-vs-temp-i.pdf\", bbox_inches=\"tight\")\n",
    "plt.show()"
   ],
   "outputs": [],
   "metadata": {}
  },
  {
   "cell_type": "code",
   "execution_count": null,
   "source": [
    "# Variance behavior (temperature dependence)\n",
    "fig = plt.figure(figsize=(4, 3.5))\n",
    "ax = fig.add_subplot(111)\n",
    "ax.set_title(f\"READ Current Variance vs. Temperature\\n(Tech {TECH}, 1hr Bake @ Temp T)\")\n",
    "colors = plt.rcParams[\"axes.prop_cycle\"].by_key()[\"color\"]\n",
    "for r, color in zip(ranges, colors):\n",
    "    d = data[data[\"range\"] == r]\n",
    "    gfvar = d.groupby(\"temp\").var()[\"g\"]*(1e6**2)\n",
    "    plt.plot(gfvar.index, gfvar*0.2**2, '-D', color=color, label=r, linewidth=0.8)\n",
    "ax.legend(title=\"Cond. Range #\", ncol=1, handletextpad=0.2)\n",
    "if \"gvar_temp_ylim\" in settings:\n",
    "    ax.set_ylim(*[v*0.2**2 for v in settings[\"gvar_temp_ylim\"]])\n",
    "ax.set_xlabel(\"Temperature (°C)\")\n",
    "ax.set_ylabel(\"READ Current Variance (µA$^2$)\")\n",
    "plt.savefig(f\"figs/tech{TECH}/var-vs-temp-i.pdf\", bbox_inches=\"tight\")\n",
    "plt.show()"
   ],
   "outputs": [],
   "metadata": {}
  }
 ]
}