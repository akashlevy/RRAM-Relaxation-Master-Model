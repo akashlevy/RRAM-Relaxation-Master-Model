{
 "cells": [
  {
   "cell_type": "markdown",
   "metadata": {},
   "source": [
    "# RRAM Relaxation Data Notebook\n",
    "\n",
    "This notebook contains the analysis on empirical RRAM relaxation data across three technologies (A, B, C). It loads and processes the measurements taken for each technology."
   ]
  },
  {
   "cell_type": "code",
   "execution_count": null,
   "metadata": {},
   "outputs": [],
   "source": [
    "# Imports\n",
    "import gzip\n",
    "import json\n",
    "import matplotlib.pyplot as plt\n",
    "import numpy as np\n",
    "import pandas as pd\n",
    "import scipy.signal\n",
    "import scipy.stats\n",
    "# from matplotlib.offsetbox import AnchoredText\n",
    "\n",
    "%config InlineBackend.figure_format = 'svg'"
   ]
  },
  {
   "cell_type": "markdown",
   "metadata": {},
   "source": [
    "## Load the technology and its settings\n",
    "\n",
    "Below, choose which technology to load data and settings for:"
   ]
  },
  {
   "cell_type": "code",
   "execution_count": null,
   "metadata": {},
   "outputs": [],
   "source": [
    "# Choose technology here\n",
    "TECH = 'B'\n",
    "\n",
    "# Load settings for technology\n",
    "with open(f\"data/tech{TECH}/settings.json\") as sfile:\n",
    "    settings = json.load(sfile)"
   ]
  },
  {
   "cell_type": "markdown",
   "metadata": {},
   "source": [
    "## Time series analysis\n",
    "In this section, we will look at example time series data on a log scale and also examine the power spectral density (PSD). First, let us load the time series data:"
   ]
  },
  {
   "cell_type": "markdown",
   "metadata": {},
   "source": [
    "### Example Time Series Data\n",
    "\n",
    "Below, we can look at the time series data for the ranges chosen above:"
   ]
  },
  {
   "cell_type": "code",
   "execution_count": null,
   "metadata": {},
   "outputs": [],
   "source": [
    "# Load data for technology\n",
    "with gzip.open(f\"data/tech{TECH}/tsdata.min.tsv.gz\", \"rt\") as datafile:\n",
    "    # Plot example time series data\n",
    "    fig = plt.figure(figsize=(4,2.7))\n",
    "    ax = fig.add_subplot(111)\n",
    "    ax.set_title(f\"Conductance Time Series Examples\\n(Tech {TECH}, Room Temp)\")\n",
    "    for r in settings[\"ts_ranges\"]:\n",
    "        # Select data\n",
    "        d = datafile.readline()\n",
    "        print(r, \"step 1\")\n",
    "        d = np.fromstring(d, dtype=float, sep='\\t')[2:]\n",
    "        print(r, \"step 2\")\n",
    "\n",
    "        # Plot time series data\n",
    "        plt.plot(np.arange(len(d))/settings[\"fs\"], d*1e6, label=r, linewidth=0.8)\n",
    "\n",
    "    # Format and display\n",
    "    ax.legend(title=\"Conductance Range #\", ncol=4, loc=9)\n",
    "    ax.set_ylim(*settings[\"ts_ylim\"])\n",
    "    ax.set_xlabel(\"Time (s)\")\n",
    "    ax.set_ylabel(\"Meas. Conductance (µS)\")\n",
    "    ax.set_xscale(\"log\")\n",
    "    plt.savefig(f\"figs/tech{TECH}/time-series.png\", dpi=300, bbox_inches=\"tight\")\n",
    "    plt.show()"
   ]
  },
  {
   "cell_type": "markdown",
   "metadata": {},
   "source": [
    "### Power Spectral Density (PSD)\n",
    "\n",
    "In this section, we will look at the PSDs to understand the relaxation behavior better:"
   ]
  },
  {
   "cell_type": "code",
   "execution_count": null,
   "metadata": {},
   "outputs": [],
   "source": [
    "# Load data for technology\n",
    "with gzip.open(f\"data/tech{TECH}/tsdata.min.tsv.gz\", \"rt\") as datafile:\n",
    "    # Plot power spectral density (PSD)\n",
    "    fig = plt.figure(figsize=(4,4))\n",
    "    ax = fig.add_subplot(111)\n",
    "    ax.set_title(f\"Conductance Power Spectral Density\\n(Tech {TECH}, Room Temp)\")\n",
    "    slopes = []\n",
    "    for i, r in enumerate(settings[\"ts_ranges\"]):\n",
    "        # Select data\n",
    "        d = datafile.readline()\n",
    "        print(r, \"step 1\")\n",
    "        d = np.fromstring(d, dtype=float, sep='\\t')[2:]\n",
    "        print(r, \"step 2\")\n",
    "\n",
    "        # # Lomb-Scargle PSD\n",
    "        # f = np.logspace(np.log10(1/600), np.log10(2), 500)\n",
    "        # f = np.logspace(np.log10(2), np.log10(400/2), 1000)\n",
    "        # p = scipy.signal.lombscargle(d[\"time\"], d[\"g\"], f)\n",
    "\n",
    "        # Welch PSD\n",
    "        f, p = scipy.signal.welch(d, fs=settings[\"fs\"], nperseg=settings[\"psd_nperseg\"])\n",
    "        plt.plot(f, p, label=r, linewidth=0.8)\n",
    "\n",
    "        # # Power law fit\n",
    "        # a, b = np.polyfit(np.log(f[[30,-30]]), np.log(p[[30,-30]]), 1)\n",
    "        # print(f\"Range {r} slope: {a}\")\n",
    "        # slopes.append(a)\n",
    "        # plt.plot(f[1:], np.exp(a*np.log(f[1:]) + b), 'k--', zorder=10, linewidth=2)\n",
    "\n",
    "        # # 1/f fit\n",
    "        # fitfn = lambda logf, A: A - logf\n",
    "        # params, _ = scipy.optimize.curve_fit(fitfn, np.log(f), np.log(p))\n",
    "        # A = params[0]\n",
    "        # print(A)\n",
    "        # plt.plot(f, np.exp(fitfn(np.log(f), A)), 'k--', zorder=10, linewidth=2)\n",
    "\n",
    "    # Format and display\n",
    "    # ax.add_artist(AnchoredText(\"Slopes: [%.2f, %.2f]\" % (max(slopes), min(slopes)), loc=1, frameon=False))\n",
    "    plt.plot(*settings[\"psd_fpts\"], 'k--', zorder=10, linewidth=4)\n",
    "    if \"psd_f2pts\" in settings:\n",
    "        plt.plot(*settings[\"psd_f2pts\"], 'k--', zorder=10, linewidth=4)\n",
    "    ax.legend(title=\"Cond. Range #\", ncol=2, loc=3)\n",
    "    ax.set_xlabel(\"Frequency (Hz)\")\n",
    "    ax.set_ylabel(\"Power Spectral Density (S$^2$/Hz)\")\n",
    "    ax.set_xscale(\"log\")\n",
    "    ax.set_xlim(*settings[\"psd_xlim\"])\n",
    "    ax.set_ylim(*settings[\"psd_ylim\"])\n",
    "    ax.set_yscale(\"log\")\n",
    "    plt.text(*settings[\"psd_ftextloc\"], \"1/f behavior\")\n",
    "    if \"psd_f2textloc\" in settings:\n",
    "        plt.text(*settings[\"psd_f2textloc\"], \"1/f$^2$\")\n",
    "    plt.savefig(f\"figs/tech{TECH}/psd.png\", dpi=300, bbox_inches=\"tight\")\n",
    "    plt.show()"
   ]
  },
  {
   "cell_type": "markdown",
   "metadata": {},
   "source": [
    "## Relaxation data analysis\n",
    "\n",
    "Here, we will be analyzing the large dataset relaxation behavior. We will examine: (1) examples of conductance distribution broadening behavior over time, (2) scatterplot of conductance deviation vs. conductance, (3) standard deviation vs. time for different starting conductance values. First let us load the data:"
   ]
  },
  {
   "cell_type": "code",
   "execution_count": null,
   "metadata": {},
   "outputs": [],
   "source": [
    "# Load data for technology\n",
    "colnames = [\"addr\", \"time\", \"r\", \"g\", \"gi\", \"range\", \"timept\"]\n",
    "data = pd.read_csv(f\"data/tech{TECH}/relaxdata.min.tsv.gz\", names=colnames, sep='\\t')\n",
    "data = data[data[\"addr\"] % 2 == 0]\n",
    "data = data[data[\"range\"] % 2 == 0]\n",
    "data.head()"
   ]
  },
  {
   "cell_type": "markdown",
   "metadata": {},
   "source": [
    "### Conductance distribution broadening behavior\n",
    "\n",
    "Below are examples of conductance broadening behavior over time:"
   ]
  },
  {
   "cell_type": "code",
   "execution_count": null,
   "metadata": {
    "tags": []
   },
   "outputs": [],
   "source": [
    "# Select ranges to study\n",
    "ranges = [0, 8, 16, 24, 31]\n",
    "\n",
    "# Conductance broadening behavior\n",
    "fig = plt.figure(figsize=(4, 2.7))\n",
    "ax = fig.add_subplot(111)\n",
    "ax.set_title(f\"Conductance Dist. Broadening\\n(Tech {TECH}, Room Temp)\")\n",
    "colors = plt.rcParams[\"axes.prop_cycle\"].by_key()[\"color\"]\n",
    "for time, color in zip(settings[\"times\"], colors):\n",
    "    for r in ranges:\n",
    "        gx = np.linspace(0, settings[\"gmax\"] * 1.1e6, 500)\n",
    "        gvals = data[(data[\"range\"] == r) & (data[\"timept\"] == time)][\"g\"]\n",
    "        # pdf = scipy.stats.gaussian_kde(gvals * 1e6).pdf(gx)\n",
    "        def smooth(y, box_pts):\n",
    "            box = np.ones(box_pts)/box_pts\n",
    "            y_smooth = np.convolve(y, box, mode='valid')\n",
    "            return y_smooth\n",
    "        print(r, time)\n",
    "        scipy.stats.probplot(gvals, dist='levy_stable', plot=plt, fit=True)\n",
    "        plt.show()\n",
    "        cdf = np.sort(gvals) * 1e6\n",
    "        cdfy = np.linspace(0, 1, len(cdf))\n",
    "        smoothcdf = smooth(cdf,20)\n",
    "        pdf = len(smoothcdf)/np.gradient(smoothcdf)\n",
    "        label = (f\"t={time}s\" if time < 100 else f\"t=1E{int(np.log10(time))}s\") if r == 30 else None\n",
    "#         plt.plot(cdf, cdfy, color=color, label=label, linewidth=0.8)\n",
    "# ax.legend(ncol=3, handletextpad=0.2, fontsize=\"small\")\n",
    "# ax.set_ylim(-0.4, 1.1)\n",
    "# ax.set_xlabel(\"Conductance (µS)\")\n",
    "# ax.set_ylabel(\"KDE Probability Density\")\n",
    "# plt.savefig(f\"figs/tech{TECH}/broadening-time.pdf\", bbox_inches=\"tight\")\n",
    "# plt.show()"
   ]
  },
  {
   "cell_type": "markdown",
   "metadata": {},
   "source": [
    "### Mean Drift and Variance Growth (Time Dependence)\n",
    "Here, we examine the drift of the distribution mean and variance growth as a function of time."
   ]
  },
  {
   "cell_type": "code",
   "execution_count": null,
   "metadata": {},
   "outputs": [],
   "source": [
    "# Mean drift behavior (time dependence)\n",
    "fig = plt.figure(figsize=(4, 3.5))\n",
    "ax = fig.add_subplot(111)\n",
    "ax.set_title(f\"Mean Conductance Drift vs. Time\\n(Tech {TECH}, Room Temp)\")\n",
    "colors = plt.rcParams[\"axes.prop_cycle\"].by_key()[\"color\"]\n",
    "for r, color in zip(ranges, colors):\n",
    "    d = data[(data[\"range\"] == r) & (data[\"gi\"] <= settings[\"gmax\"])]\n",
    "    gi = d.groupby(\"timept\").mean()[\"gi\"] * 1e6\n",
    "    gf = d.groupby(\"timept\").mean()[\"g\"] * 1e6\n",
    "    deltag = gf - gi\n",
    "    plt.plot(deltag.index, deltag, '-D', color=color, label=r, linewidth=0.8)\n",
    "ax.legend(title=\"Cond. Range #\", ncol=2 if TECH == 'C' else 3, handletextpad=0.2)\n",
    "if \"gmeandrift_t_ylim\" in settings:\n",
    "    ax.set_ylim(*settings[\"gmeandrift_t_ylim\"])\n",
    "ax.set_xscale(\"log\")\n",
    "ax.set_xlabel(\"Time (s)\")\n",
    "ax.set_ylabel(\"Mean Drift (µS)\")\n",
    "plt.savefig(f\"figs/tech{TECH}/mean-drift-vs-time.pdf\", bbox_inches=\"tight\")\n",
    "plt.show()"
   ]
  },
  {
   "cell_type": "code",
   "execution_count": null,
   "metadata": {
    "collapsed": false,
    "pycharm": {
     "name": "#%%\n"
    }
   },
   "outputs": [],
   "source": [
    "# Variance behavior fitting on time dependence (var(g, t) = C1(g) * log(t) + C2(g))\n",
    "fig = plt.figure(figsize=(4, 3.5))\n",
    "ax = fig.add_subplot(111)\n",
    "ax.set_title(f\"Conductance Variance vs. Time\\n(Tech {TECH}, Room Temp)\")\n",
    "C_fit = np.zeros((32, 2))\n",
    "for r in range(0, 32, 2):\n",
    "    d = data[(data[\"range\"] == r) & (data[\"gi\"] <= settings[\"gmax\"]) & (data[\"timept\"] > 0)]\n",
    "    gfvar = d.groupby(\"timept\").var()[\"g\"] * (1e6 ** 2)\n",
    "    #gfvar = d.groupby(\"timept\").agg(lambda x : scipy.stats.median_abs_deviation(x)**2)[\"g\"] * (1e6 ** 2)\n",
    "    fit = np.polyfit(np.log10(gfvar.index), gfvar.values, 1)\n",
    "    p = np.poly1d(fit)\n",
    "    if r in ranges:\n",
    "        C_fit[r, :] = fit\n",
    "        print(r, fit)\n",
    "        color = colors[ranges.index(r)]\n",
    "        ax.plot(gfvar.index, gfvar, '-D', color=color, label=r)\n",
    "        ax.plot(gfvar.index, p(np.log10(gfvar.index)), '--', color=color)\n",
    "ax.set_xscale(\"log\")\n",
    "ax.legend(title=\"Cond. Range #\", ncol=2, handletextpad=0.2)\n",
    "ax.set_xlabel(\"Time (s)\")\n",
    "ax.set_ylabel(\"Variance (µS$^2$)\")\n",
    "plt.savefig(f\"figs/tech{TECH}/var-vs-time.pdf\", bbox_inches=\"tight\")\n",
    "plt.show()\n",
    "\n",
    "fig = plt.figure(figsize=(4, 3.5))\n",
    "ax = fig.add_subplot(111)\n",
    "ax.plot(range(32), C_fit[:, 0], range(32), C_fit[:, 1] / C_fit[:, 0]) # C_fit[:, 1] / C_fit[:, 0] should be constant log(fs/2)\n",
    "ax.set_xlabel(\"Range\")\n",
    "plt.show()"
   ]
  },
  {
   "cell_type": "code",
   "execution_count": null,
   "metadata": {},
   "outputs": [],
   "source": []
  },
  {
   "cell_type": "markdown",
   "metadata": {},
   "source": [
    "### Mean Drift and Variance Growth (Conductance Dependence)\n",
    "Here, we examine the drift of the distribution mean and variance growth as a function of conductance."
   ]
  },
  {
   "cell_type": "code",
   "execution_count": null,
   "metadata": {},
   "outputs": [],
   "source": [
    "# Mean drift behavior (conductance dependence)\n",
    "fig = plt.figure(figsize=(4, 3.5))\n",
    "ax = fig.add_subplot(111)\n",
    "ax.set_title(f\"Mean Drift vs. Init. Conductance\\n(Tech {TECH}, Room Temp)\")\n",
    "colors = plt.rcParams[\"axes.prop_cycle\"].by_key()[\"color\"]\n",
    "for time, color in zip(settings[\"times\"], colors):\n",
    "    d = data[(data[\"timept\"] == time) & (data[\"gi\"] <= settings[\"gmax\"])]\n",
    "    gi = d.groupby(\"range\").mean()[\"gi\"] * 1e6\n",
    "    gf = d.groupby(\"range\").mean()[\"g\"] * 1e6\n",
    "    deltag = gf - gi\n",
    "    label = (f\"t={time}s\" if time < 100 else f\"t=1E{int(np.log10(time))}s\")\n",
    "    plt.plot(gi, deltag, '-+', color=color, label=label, linewidth=0.8)\n",
    "ax.legend(ncol=3, handletextpad=0.2, fontsize=\"small\")\n",
    "ax.set_ylim(*settings[\"gmeandrift_gi_ylim\"])\n",
    "ax.set_xlabel(\"Initial Conductance (µS)\")\n",
    "ax.set_ylabel(\"Mean Drift (µS)\")\n",
    "plt.savefig(f\"figs/tech{TECH}/mean-drift-vs-g.pdf\", bbox_inches=\"tight\")\n",
    "plt.show()"
   ]
  },
  {
   "cell_type": "code",
   "execution_count": null,
   "metadata": {},
   "outputs": [],
   "source": [
    "# Variance behavior (conductance dependence)\n",
    "fig = plt.figure(figsize=(4, 3.5))\n",
    "ax = fig.add_subplot(111)\n",
    "ax.set_title(f\"Variance vs. Init. Conductance\\n(Tech {TECH}, Room Temp)\")\n",
    "colors = plt.rcParams[\"axes.prop_cycle\"].by_key()[\"color\"]\n",
    "for time, color in zip(settings[\"times\"], colors):\n",
    "    d = data[(data[\"timept\"] == time) & (data[\"gi\"] <= settings[\"gmax\"])]\n",
    "    gi = d.groupby(\"range\").mean()[\"gi\"] * 1e6\n",
    "    gfvar = (d.groupby(\"range\")).var()[\"g\"] * (1e6 ** 2)\n",
    "    #gfvar = (d.groupby(\"range\")).agg(lambda x : scipy.stats.median_abs_deviation(x)**2)[\"g\"] * (1e6 ** 2)\n",
    "    label = (f\"t={time}s\" if time < 100 else f\"t=1E{int(np.log10(time))}s\")\n",
    "    plt.plot(gi, gfvar, '-+', color=color, label=label, linewidth=0.8)\n",
    "ax.legend(ncol=3, handletextpad=0.2, fontsize=\"small\")\n",
    "ax.set_ylim(*settings[\"gvar_gi_ylim\"])\n",
    "ax.set_xlabel(\"Initial Conductance (µS)\")\n",
    "ax.set_ylabel(\"Variance (µS$^2$)\")\n",
    "plt.savefig(f\"figs/tech{TECH}/var-vs-g.pdf\", bbox_inches=\"tight\")\n",
    "plt.show()"
   ]
  },
  {
   "cell_type": "code",
   "execution_count": null,
   "metadata": {},
   "outputs": [],
   "source": [
    "# Norm. stdev. behavior (conductance dependence)\n",
    "fig = plt.figure(figsize=(4, 3.5))\n",
    "ax = fig.add_subplot(111)\n",
    "ax.set_title(f\"Norm. Stdev. vs. Init. Conductance\\n(Tech {TECH}, Room Temp)\")\n",
    "colors = plt.rcParams[\"axes.prop_cycle\"].by_key()[\"color\"]\n",
    "for time, color in zip(settings[\"times\"], colors):\n",
    "    d = data[(data[\"timept\"] == time) & (data[\"gi\"] <= settings[\"gmax\"])]\n",
    "    gi = d.groupby(\"range\").mean()[\"gi\"]*1e6\n",
    "    gfnormdev = d.groupby(\"range\").std()[\"g\"] / d.groupby(\"range\").mean()[\"gi\"]\n",
    "    label = (f\"t={time}s\" if time < 100 else f\"t=1E{int(np.log10(time))}s\")\n",
    "    plt.plot(gi, gfnormdev, '-+', color=color, label=label, linewidth=0.8)\n",
    "ax.legend(ncol=3, handletextpad=0.2, fontsize=\"small\")\n",
    "#ax.set_ylim(*settings[\"gvar_gi_ylim\"])\n",
    "ax.set_xlabel(\"Initial Conductance (µS)\")\n",
    "ax.set_ylabel(\"Stdev. / Init. Conductance\")\n",
    "plt.savefig(f\"figs/tech{TECH}/norm-stdev-vs-g.pdf\", bbox_inches=\"tight\")\n",
    "plt.show()"
   ]
  },
  {
   "cell_type": "markdown",
   "metadata": {},
   "source": [
    "## Temperature dependence analysis via 1hr bake\n",
    "\n",
    "Here, we analyze the effect of baking on the distribution broadening. In particular, we will examine examples of the conductance distributions broadening for different temperatures and then analyze the temperature-dependent mean drift and variance. We can first load the data and preprocess it a little bit:"
   ]
  },
  {
   "cell_type": "code",
   "execution_count": null,
   "metadata": {},
   "outputs": [],
   "source": [
    "# Load data for technology\n",
    "colnames = [\"addr\", \"time\", \"r\", \"g\", \"temp\"]\n",
    "data = pd.read_csv(f\"data/tech{TECH}/bake.tsv.gz\", names=colnames, sep='\\t')\n",
    "\n",
    "# Get conductance range\n",
    "data[\"gi\"] = data.groupby([\"addr\", \"temp\"])[\"g\"].transform(\"first\")\n",
    "data[\"range\"] = np.int32(data[\"gi\"] / settings[\"gmax\"] * 32)\n",
    "\n",
    "# Filter out the rest of the data\n",
    "data = data[data[\"time\"] > 100].groupby([\"addr\", \"temp\"]).first().reset_index()\n",
    "\n",
    "# Show data\n",
    "data.head()"
   ]
  },
  {
   "cell_type": "markdown",
   "metadata": {},
   "source": [
    "### Conductance distribution broadening behavior\n",
    "\n",
    "Below are examples of conductance broadening behavior at different temperatures:"
   ]
  },
  {
   "cell_type": "code",
   "execution_count": null,
   "metadata": {},
   "outputs": [],
   "source": [
    "# Select ranges to study\n",
    "ranges = [0, 8, 16, 24, 31]\n",
    "\n",
    "# Conductance broadening behavior\n",
    "fig = plt.figure(figsize=(4, 2.7))\n",
    "ax = fig.add_subplot(111)\n",
    "ax.set_title(f\"Conductance Dist. Broadening\\n(Tech {TECH}, 1hr Bake @ Temp T)\")\n",
    "colors = plt.rcParams[\"axes.prop_cycle\"].by_key()[\"color\"]\n",
    "for temp, color in zip(settings[\"temps\"], colors):\n",
    "    for r in ranges:\n",
    "        gx = np.linspace(0, settings[\"gmax\"]*1.1e6, 500)\n",
    "        gvals = data[(data[\"range\"] == r) & (data[\"temp\"] == temp)][\"g\"]\n",
    "        pdf = scipy.stats.gaussian_kde(gvals*1e6).pdf(gx)\n",
    "        plt.plot(gx, pdf, color=color, label=f\"T={temp}°C\" if r==0 else None, linewidth=0.8)\n",
    "ax.legend(ncol=2, handletextpad=0.2)\n",
    "ax.set_xlim(0, settings[\"gmax\"]*1.1e6)\n",
    "ax.set_ylim(*settings[\"gbroad_temp_ylim\"])\n",
    "ax.set_xlabel(\"Conductance (µS)\")\n",
    "ax.set_ylabel(\"KDE Probability Density\")\n",
    "plt.savefig(f\"figs/tech{TECH}/broadening-temp.pdf\", bbox_inches=\"tight\")\n",
    "plt.show()"
   ]
  },
  {
   "cell_type": "code",
   "execution_count": null,
   "metadata": {},
   "outputs": [],
   "source": [
    "# Mean drift behavior (temperature dependence)\n",
    "fig = plt.figure(figsize=(4, 3.5))\n",
    "ax = fig.add_subplot(111)\n",
    "ax.set_title(f\"Mean Conductance Drift vs. Temperature\\n(Tech {TECH}, 1hr Bake @ Temp T)\")\n",
    "colors = plt.rcParams[\"axes.prop_cycle\"].by_key()[\"color\"]\n",
    "for r, color in zip(ranges, colors):\n",
    "    d = data[data[\"range\"] == r]\n",
    "    gi = d.groupby(\"temp\").mean()[\"gi\"]*1e6\n",
    "    gf = d.groupby(\"temp\").mean()[\"g\"]*1e6\n",
    "    deltag = gf - gi\n",
    "    plt.plot(deltag.index, deltag, '-D', color=color, label=r, linewidth=0.8)\n",
    "ax.legend(title=\"Conductance Range #\", ncol=2 if TECH == 'C' else 3, handletextpad=0.2)\n",
    "if \"gmeandrift_temp_ylim\" in settings:\n",
    "    ax.set_ylim(*settings[\"gmeandrift_temp_ylim\"])\n",
    "ax.set_xlabel(\"Temperature (°C)\")\n",
    "ax.set_ylabel(\"Mean Drift (µS)\")\n",
    "plt.savefig(f\"figs/tech{TECH}/mean-drift-vs-temp.pdf\", bbox_inches=\"tight\")\n",
    "plt.show()"
   ]
  },
  {
   "cell_type": "code",
   "execution_count": null,
   "metadata": {},
   "outputs": [],
   "source": [
    "# Variance behavior (temperature dependence)\n",
    "fig = plt.figure(figsize=(4, 3.5))\n",
    "ax = fig.add_subplot(111)\n",
    "ax.set_title(f\"Conductance Variance vs. Temperature\\n(Tech {TECH}, 1hr Bake @ Temp T)\")\n",
    "colors = plt.rcParams[\"axes.prop_cycle\"].by_key()[\"color\"]\n",
    "for r, color in zip(ranges, colors):\n",
    "    d = data[data[\"range\"] == r]\n",
    "    gfvar = d.groupby(\"temp\").var()[\"g\"]*(1e6**2)\n",
    "    plt.plot(gfvar.index, gfvar, '-D', color=color, label=r, linewidth=0.8)\n",
    "ax.legend(title=\"Cond. Range #\", ncol=1, handletextpad=0.2)\n",
    "if \"gvar_temp_ylim\" in settings:\n",
    "    ax.set_ylim(*settings[\"gvar_temp_ylim\"])\n",
    "ax.set_xlabel(\"Temperature (°C)\")\n",
    "ax.set_ylabel(\"Variance (µS$^2$)\")\n",
    "plt.savefig(f\"figs/tech{TECH}/var-vs-temp.pdf\", bbox_inches=\"tight\")\n",
    "plt.show()"
   ]
  },
  {
   "cell_type": "code",
   "execution_count": null,
   "metadata": {},
   "outputs": [],
   "source": [
    "# TTF behavior (temperature dependence)\n",
    "fig = plt.figure(figsize=(4, 3.5))\n",
    "ax = fig.add_subplot(111)\n",
    "ax.set_title(f\"TTV 100uS$^2$ vs. 1/Temperature\\n(Tech {TECH}, 1hr Bake @ Temp T)\")\n",
    "colors = plt.rcParams[\"axes.prop_cycle\"].by_key()[\"color\"]\n",
    "for r, color in zip(ranges, colors):\n",
    "    d = data[data[\"range\"] == r]\n",
    "    gfvar = d.groupby(\"temp\").var()[\"g\"]*(1e6**2)\n",
    "    fit = C_fit[r,:]\n",
    "    invfitfn = np.poly1d([1/fit[0], -fit[1]/fit[0]])\n",
    "    times = invfitfn(gfvar)\n",
    "    plt.plot(1/(gfvar.index+273), times, '-D', color=color, label=r, linewidth=0.8)\n",
    "ax.legend(title=\"Cond. Range #\", ncol=1, handletextpad=0.2)\n",
    "ax.set_yscale('log')\n",
    "ax.set_xlabel(\"1/T (K$^{-1}$)\")\n",
    "ax.set_ylabel(\"Time to Variance (s)\")\n",
    "plt.savefig(f\"figs/tech{TECH}/var-vs-temp.pdf\", bbox_inches=\"tight\")\n",
    "plt.show()\n",
    "\n"
   ]
  },
  {
   "cell_type": "markdown",
   "metadata": {},
   "source": [
    "### Temperature dependence fitting\n",
    "\n",
    "Here we fit the temperature dependence parameters. The basic idea is to match the time dependence with the temperature dependence, and limit the number of assumptions made to derive the carrier distribution from temperature dependence. According to the equation $\\sigma_{\\Delta x}^2(t, T) = \\frac{\\pi (\\rho_x w_0^3)^2 \\ln(f_s t / 2)}{(E_{a2}-E_{a1})/kT + \\gamma (d_2 - d_1)}$, for any temperature $T_1$ other than room temperature $T_0$, there exists some time $\\tilde{t}$ such that $\\sigma_{\\Delta x}^2(\\tilde{t}, T_1) = \\sigma_{\\Delta x}^2(t, T_0)$ holds on both width and length directions. Hence without approximating the final conductance variance on only one dimension, there should be $\\text{Var}(g_j, \\tilde{t}, T_1) = \\text{Var}(g_j, t, T_0)$ for all $j$.\n",
    "\n",
    "For any time dependence relationship $\\text{Var}(g_j, t, T_0) = f_j (t)$, we could extract $\\tilde{t}$ from the temperature-dependent variance data, and get the ratio of the denominator $(E_{a2}-E_{a1})/kT + \\gamma (d_2 - d_1)$ from $\\ln(f_s t / 2)$. In tech B example, the time dependence is shows a linear $\\ln(f_s t / 2)$ relationship, so the denominator ratio would be exactly the variance ratio, but such a linear $\\ln{t}$ relationship is not needed for assumption here. We could derive the ratio between $E_{a2}-E_{a1}$ and $\\gamma (d_2 - d_1)$ from the plot. Moreover, the denominator might not be linear with $1/kT$ if the carriers are not uniformly distributed, in which case the more complicated relationship could be reversely derived from the $\\ln(f_s \\tilde{t} / 2)$-$1/kT$ relationship."
   ]
  },
  {
   "cell_type": "code",
   "execution_count": null,
   "metadata": {
    "collapsed": false,
    "pycharm": {
     "name": "#%%\n"
    }
   },
   "outputs": [],
   "source": [
    "fig = plt.figure(figsize=(4, 3.5))\n",
    "ax = fig.add_subplot(111)\n",
    "colors = plt.rcParams[\"axes.prop_cycle\"].by_key()[\"color\"]\n",
    "ranges = list(range(16, 31, 2))\n",
    "for r, color in zip(ranges, colors):\n",
    "    temp = np.array(settings[\"temps\"]) + 273.15\n",
    "    d = data[data[\"range\"] == r]\n",
    "    gfvar = d.groupby(\"temp\").var()[\"g\"]\n",
    "    ttrv = np.exp(gfvar)\n",
    "    ax.plot(1 / temp[:-2], 1 / gfvar[:-2], '-x', color=color, label=r, linewidth=0.8)\n",
    "    ax.set_xlabel(\"1/T (1/K)\")\n",
    "    # fit = np.polyfit(1 / temp, 1 / x, 1)\n",
    "    # print(fit)\n",
    "ax.legend(title=\"Cond. Range #\", ncol=1, handletextpad=0.2)\n",
    "ax.set_yscale('log')\n",
    "plt.show()"
   ]
  }
 ],
 "metadata": {
  "interpreter": {
   "hash": "c30f2af5f468e7f5b45bcc30fca5f4886c90d54777aed916ed5f6294dfb24bf2"
  },
  "kernelspec": {
   "display_name": "Python 3.8.3 64-bit ('base': conda)",
   "name": "python3"
  },
  "language_info": {
   "codemirror_mode": {
    "name": "ipython",
    "version": 3
   },
   "file_extension": ".py",
   "mimetype": "text/x-python",
   "name": "python",
   "nbconvert_exporter": "python",
   "pygments_lexer": "ipython3",
   "version": "3.8.3"
  },
  "orig_nbformat": 4
 },
 "nbformat": 4,
 "nbformat_minor": 2
}
