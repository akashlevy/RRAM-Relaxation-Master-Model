{
 "cells": [
  {
   "cell_type": "markdown",
   "metadata": {},
   "source": [
    "# RRAM Relaxation Data Notebook\n",
    "\n",
    "This notebook contains the analysis on empirical RRAM relaxation data across three technologies (A, B, C). It loads and processes the measurements taken for each technology."
   ]
  },
  {
   "cell_type": "code",
   "execution_count": 1,
   "metadata": {},
   "outputs": [],
   "source": [
    "# Imports\n",
    "import gzip\n",
    "import json\n",
    "import matplotlib.pyplot as plt\n",
    "import numpy as np\n",
    "import pandas as pd\n",
    "import scipy.signal\n",
    "import scipy.stats\n",
    "# from matplotlib.offsetbox import AnchoredText\n",
    "\n",
    "%config InlineBackend.figure_format = 'svg'"
   ]
  },
  {
   "cell_type": "markdown",
   "metadata": {},
   "source": [
    "## Load the technology and its settings\n",
    "\n",
    "Below, choose which technology to load data and settings for:"
   ]
  },
  {
   "cell_type": "code",
   "execution_count": 2,
   "metadata": {},
   "outputs": [],
   "source": [
    "# Choose technology here\n",
    "TECH = 'C'\n",
    "\n",
    "# Load settings for technology\n",
    "with open(f\"data/tech{TECH}/settings.json\") as sfile:\n",
    "    settings = json.load(sfile)"
   ]
  },
  {
   "cell_type": "markdown",
   "metadata": {},
   "source": [
    "## Time series analysis\n",
    "In this section, we will look at example time series data on a log scale and also examine the power spectral density (PSD). First, let us load the time series data:"
   ]
  },
  {
   "cell_type": "markdown",
   "metadata": {},
   "source": [
    "### Example Time Series Data\n",
    "\n",
    "Below, we can look at the time series data for the ranges chosen above:"
   ]
  },
  {
   "cell_type": "code",
   "execution_count": null,
   "metadata": {},
   "outputs": [],
   "source": [
    "# Load data for technology\n",
    "with gzip.open(f\"data/tech{TECH}/tsdata.min.tsv.gz\", \"rt\") as datafile:\n",
    "    # Plot example time series data\n",
    "    fig = plt.figure(figsize=(4,2.7))\n",
    "    ax = fig.add_subplot(111)\n",
    "    ax.set_title(f\"Conductance Time Series Examples\\n(Tech {TECH}, Room Temp)\")\n",
    "    for r in settings[\"ts_ranges\"]:\n",
    "        # Select data\n",
    "        d = datafile.readline()\n",
    "        print(r, \"step 1\")\n",
    "        d = np.fromstring(d, dtype=float, sep='\\t')[2:]\n",
    "        print(r, \"step 2\")\n",
    "\n",
    "        # Plot time series data\n",
    "        plt.plot(np.arange(len(d))/settings[\"fs\"], d*1e6, label=r, linewidth=0.8)\n",
    "\n",
    "    # Format and display\n",
    "    ax.legend(title=\"Conductance Range #\", ncol=4, loc=9)\n",
    "    ax.set_ylim(*settings[\"ts_ylim\"])\n",
    "    ax.set_xlabel(\"Time (s)\")\n",
    "    ax.set_ylabel(\"Meas. Conductance (µS)\")\n",
    "    ax.set_xscale(\"log\")\n",
    "    plt.savefig(f\"figs/tech{TECH}/time-series.png\", dpi=300, bbox_inches=\"tight\")\n",
    "    plt.show()"
   ]
  },
  {
   "cell_type": "markdown",
   "metadata": {},
   "source": [
    "### Power Spectral Density (PSD)\n",
    "\n",
    "In this section, we will look at the PSDs to understand the relaxation behavior better:"
   ]
  },
  {
   "cell_type": "code",
   "execution_count": null,
   "metadata": {},
   "outputs": [],
   "source": [
    "# Load data for technology\n",
    "with gzip.open(f\"data/tech{TECH}/tsdata.min.tsv.gz\", \"rt\") as datafile:\n",
    "    # Plot power spectral density (PSD)\n",
    "    fig = plt.figure(figsize=(4,4))\n",
    "    ax = fig.add_subplot(111)\n",
    "    ax.set_title(f\"Conductance Power Spectral Density\\n(Tech {TECH}, Room Temp)\")\n",
    "    slopes = []\n",
    "    for i, r in enumerate(settings[\"ts_ranges\"]):\n",
    "        # Select data\n",
    "        d = datafile.readline()\n",
    "        print(r, \"step 1\")\n",
    "        d = np.fromstring(d, dtype=float, sep='\\t')[2:]\n",
    "        print(r, \"step 2\")\n",
    "\n",
    "        # # Lomb-Scargle PSD\n",
    "        # f = np.logspace(np.log10(1/600), np.log10(2), 500)\n",
    "        # f = np.logspace(np.log10(2), np.log10(400/2), 1000)\n",
    "        # p = scipy.signal.lombscargle(d[\"time\"], d[\"g\"], f)\n",
    "\n",
    "        # Welch PSD\n",
    "        f, p = scipy.signal.welch(d, fs=settings[\"fs\"], nperseg=settings[\"psd_nperseg\"])\n",
    "        plt.plot(f, p, label=r, linewidth=0.8)\n",
    "\n",
    "        # # Power law fit\n",
    "        # a, b = np.polyfit(np.log(f[[30,-30]]), np.log(p[[30,-30]]), 1)\n",
    "        # print(f\"Range {r} slope: {a}\")\n",
    "        # slopes.append(a)\n",
    "        # plt.plot(f[1:], np.exp(a*np.log(f[1:]) + b), 'k--', zorder=10, linewidth=2)\n",
    "\n",
    "        # # 1/f fit\n",
    "        # fitfn = lambda logf, A: A - logf\n",
    "        # params, _ = scipy.optimize.curve_fit(fitfn, np.log(f), np.log(p))\n",
    "        # A = params[0]\n",
    "        # print(A)\n",
    "        # plt.plot(f, np.exp(fitfn(np.log(f), A)), 'k--', zorder=10, linewidth=2)\n",
    "\n",
    "    # Format and display\n",
    "    # ax.add_artist(AnchoredText(\"Slopes: [%.2f, %.2f]\" % (max(slopes), min(slopes)), loc=1, frameon=False))\n",
    "    plt.plot(*settings[\"psd_fpts\"], 'k--', zorder=10, linewidth=4)\n",
    "    if \"psd_f2pts\" in settings:\n",
    "        plt.plot(*settings[\"psd_f2pts\"], 'k--', zorder=10, linewidth=4)\n",
    "    ax.legend(title=\"Cond. Range #\", ncol=2, loc=3)\n",
    "    ax.set_xlabel(\"Frequency (Hz)\")\n",
    "    ax.set_ylabel(\"Power Spectral Density (S$^2$/Hz)\")\n",
    "    ax.set_xscale(\"log\")\n",
    "    ax.set_xlim(*settings[\"psd_xlim\"])\n",
    "    ax.set_ylim(*settings[\"psd_ylim\"])\n",
    "    ax.set_yscale(\"log\")\n",
    "    plt.text(*settings[\"psd_ftextloc\"], \"1/f behavior\")\n",
    "    if \"psd_f2textloc\" in settings:\n",
    "        plt.text(*settings[\"psd_f2textloc\"], \"1/f$^2$\")\n",
    "    plt.savefig(f\"figs/tech{TECH}/psd.png\", dpi=300, bbox_inches=\"tight\")\n",
    "    plt.show()"
   ]
  },
  {
   "cell_type": "markdown",
   "metadata": {},
   "source": [
    "## Relaxation data analysis\n",
    "\n",
    "Here, we will be analyzing the large dataset relaxation behavior. We will examine: (1) examples of conductance distribution broadening behavior over time, (2) scatterplot of conductance deviation vs. conductance, (3) standard deviation vs. time for different starting conductance values. First let us load the data:"
   ]
  },
  {
   "cell_type": "code",
   "execution_count": 4,
   "metadata": {},
   "outputs": [
    {
     "data": {
      "text/html": [
       "<div>\n",
       "<style scoped>\n",
       "    .dataframe tbody tr th:only-of-type {\n",
       "        vertical-align: middle;\n",
       "    }\n",
       "\n",
       "    .dataframe tbody tr th {\n",
       "        vertical-align: top;\n",
       "    }\n",
       "\n",
       "    .dataframe thead th {\n",
       "        text-align: right;\n",
       "    }\n",
       "</style>\n",
       "<table border=\"1\" class=\"dataframe\">\n",
       "  <thead>\n",
       "    <tr style=\"text-align: right;\">\n",
       "      <th></th>\n",
       "      <th>addr</th>\n",
       "      <th>time</th>\n",
       "      <th>r</th>\n",
       "      <th>g</th>\n",
       "      <th>gi</th>\n",
       "      <th>range</th>\n",
       "      <th>timept</th>\n",
       "    </tr>\n",
       "  </thead>\n",
       "  <tbody>\n",
       "    <tr>\n",
       "      <th>0</th>\n",
       "      <td>10354</td>\n",
       "      <td>0.0</td>\n",
       "      <td>2.082326e+06</td>\n",
       "      <td>4.802322e-07</td>\n",
       "      <td>4.802322e-07</td>\n",
       "      <td>0</td>\n",
       "      <td>0.0</td>\n",
       "    </tr>\n",
       "    <tr>\n",
       "      <th>4</th>\n",
       "      <td>2216</td>\n",
       "      <td>0.0</td>\n",
       "      <td>2.542619e+06</td>\n",
       "      <td>3.932953e-07</td>\n",
       "      <td>3.932953e-07</td>\n",
       "      <td>0</td>\n",
       "      <td>0.0</td>\n",
       "    </tr>\n",
       "    <tr>\n",
       "      <th>9</th>\n",
       "      <td>4822</td>\n",
       "      <td>0.0</td>\n",
       "      <td>1.634824e+06</td>\n",
       "      <td>6.116867e-07</td>\n",
       "      <td>6.116867e-07</td>\n",
       "      <td>0</td>\n",
       "      <td>0.0</td>\n",
       "    </tr>\n",
       "    <tr>\n",
       "      <th>10</th>\n",
       "      <td>7936</td>\n",
       "      <td>0.0</td>\n",
       "      <td>1.040832e+06</td>\n",
       "      <td>9.607697e-07</td>\n",
       "      <td>9.607697e-07</td>\n",
       "      <td>0</td>\n",
       "      <td>0.0</td>\n",
       "    </tr>\n",
       "    <tr>\n",
       "      <th>14</th>\n",
       "      <td>14568</td>\n",
       "      <td>0.0</td>\n",
       "      <td>1.230607e+06</td>\n",
       "      <td>8.126068e-07</td>\n",
       "      <td>8.126068e-07</td>\n",
       "      <td>0</td>\n",
       "      <td>0.0</td>\n",
       "    </tr>\n",
       "  </tbody>\n",
       "</table>\n",
       "</div>"
      ],
      "text/plain": [
       "     addr  time             r             g            gi  range  timept\n",
       "0   10354   0.0  2.082326e+06  4.802322e-07  4.802322e-07      0     0.0\n",
       "4    2216   0.0  2.542619e+06  3.932953e-07  3.932953e-07      0     0.0\n",
       "9    4822   0.0  1.634824e+06  6.116867e-07  6.116867e-07      0     0.0\n",
       "10   7936   0.0  1.040832e+06  9.607697e-07  9.607697e-07      0     0.0\n",
       "14  14568   0.0  1.230607e+06  8.126068e-07  8.126068e-07      0     0.0"
      ]
     },
     "execution_count": 4,
     "metadata": {},
     "output_type": "execute_result"
    }
   ],
   "source": [
    "# Load data for technology\n",
    "colnames = [\"addr\", \"time\", \"r\", \"g\", \"gi\", \"range\", \"timept\"]\n",
    "data = pd.read_csv(f\"data/tech{TECH}/relaxdata.min.tsv.gz\", names=colnames, sep='\\t')\n",
    "data = data[data[\"addr\"] % 2 == 0]\n",
    "data = data[data[\"range\"] % 2 == 0]\n",
    "data.head()"
   ]
  },
  {
   "cell_type": "markdown",
   "metadata": {},
   "source": [
    "### Conductance distribution broadening behavior\n",
    "\n",
    "Below are examples of conductance broadening behavior over time:"
   ]
  },
  {
   "cell_type": "code",
   "execution_count": 12,
   "metadata": {
    "tags": []
   },
   "outputs": [
    {
     "name": "stdout",
     "output_type": "stream",
     "text": [
      "[0.01428962 0.03249407 0.0519228  0.07895947 0.08237362 0.10237694\n",
      " 0.1070118  0.11301994 0.12462616 0.12968063 0.14090538 0.14291763\n",
      " 0.17375946 0.17604828 0.189991   0.19224167 0.19462585 0.19893646\n",
      " 0.20317078 0.20385742 0.20547867 0.21852493 0.22068024 0.22071838\n",
      " 0.22298813 0.22880554 0.23612976 0.24360657 0.24652481 0.25730133\n",
      " 0.25932312 0.26525497 0.28676987 0.29939651 0.3024292  0.31488419\n",
      " 0.32697678 0.33615112 0.35125732 0.35224915 0.35282135 0.38265228\n",
      " 0.38978577 0.39093018 0.39329529 0.39348602 0.39684296 0.4000473\n",
      " 0.41351318 0.41793823 0.42221069 0.42953491 0.43327332 0.43476105\n",
      " 0.43754578 0.43838501 0.45158386 0.45639038 0.45658112 0.46230316\n",
      " 0.47554016 0.48023224 0.48175812 0.48194885 0.48233032 0.48271179\n",
      " 0.48435211 0.4851532  0.48519135 0.49884796 0.50544739 0.50626755\n",
      " 0.5140686  0.51647186 0.51734924 0.52890778 0.5298233  0.53043365\n",
      " 0.53508759 0.53966522 0.54172516 0.5683136  0.57590485 0.57933807\n",
      " 0.585289   0.58994293 0.59734344 0.60077667 0.60211182 0.60424805\n",
      " 0.6048584  0.60943604 0.61168671 0.61439514 0.61553955 0.6268692\n",
      " 0.6319809  0.6362915  0.63770294 0.64418793 0.65097809 0.65929413\n",
      " 0.65986633 0.67222595 0.67367554 0.67741394 0.68069458 0.69610596\n",
      " 0.69625854 0.69648743 0.70075989 0.70274353 0.7118988  0.71273804\n",
      " 0.71285248 0.71327209 0.71510315 0.72044373 0.7257843  0.73631287\n",
      " 0.74195862 0.74447632 0.74707031 0.75004578 0.76118469 0.77011108\n",
      " 0.78231812 0.782547   0.78453064 0.78567505 0.7862854  0.78941345\n",
      " 0.7938385  0.79406738 0.79666138 0.79818726 0.79856873 0.80482483\n",
      " 0.80856323 0.81047058 0.81062317 0.81092834 0.81260681 0.8216095\n",
      " 0.83045959 0.83648682 0.83694458 0.83862305 0.83908081 0.8391571\n",
      " 0.84564209 0.85014343 0.8518219  0.85250854 0.85456848 0.86898804\n",
      " 0.87020874 0.87921143 0.88020325 0.88050842 0.883255   0.88401794\n",
      " 0.88912964 0.89195251 0.89279175 0.89309692 0.8997345  0.90248108\n",
      " 0.90286255 0.90423584 0.91041565 0.91049194 0.93025208 0.93032837\n",
      " 0.93254089 0.93254089 0.93582153 0.93765259 0.94032288 0.94284058\n",
      " 0.94650269 0.94810486 0.94993591 0.96076965 0.96221924 0.97343445\n",
      " 0.97480774 0.9828186  0.98426819 0.98678589 0.99136353 0.99594116\n",
      " 0.99990845 1.00349426 1.00898743 1.00906372 1.01356506 1.01509094\n",
      " 1.02233887 1.02867126 1.0333252  1.03561401 1.04057312 1.04377747\n",
      " 1.04423523 1.04682922 1.05026245 1.05232239 1.05285645 1.05537415\n",
      " 1.06193542 1.06269836 1.06750488 1.06933594 1.08596802 1.09313965\n",
      " 1.09893799 1.11442566 1.11602783 1.12434387 1.12617493 1.12808228\n",
      " 1.12976074 1.13006592 1.1466217  1.1466217  1.15592957 1.16600037\n",
      " 1.16912842 1.17446899 1.17675781 1.17744446 1.17759705 1.18286133\n",
      " 1.18751526 1.18888855 1.19155884 1.19567871 1.19987488 1.19995117\n",
      " 1.21673584 1.21704102 1.21780396 1.21803284 1.22085571 1.22337341\n",
      " 1.23161316 1.23603821 1.23809814]\n"
     ]
    },
    {
     "ename": "ValueError",
     "evalue": "x and y must have same first dimension, but have shapes (249,) and (248,)",
     "output_type": "error",
     "traceback": [
      "\u001b[0;31m---------------------------------------------------------------------------\u001b[0m",
      "\u001b[0;31mValueError\u001b[0m                                Traceback (most recent call last)",
      "\u001b[0;32m<ipython-input-12-c14eb4732a17>\u001b[0m in \u001b[0;36m<module>\u001b[0;34m\u001b[0m\n\u001b[1;32m     16\u001b[0m         \u001b[0mpdf\u001b[0m \u001b[0;34m=\u001b[0m \u001b[0mlen\u001b[0m\u001b[0;34m(\u001b[0m\u001b[0mgvals\u001b[0m\u001b[0;34m)\u001b[0m\u001b[0;34m/\u001b[0m\u001b[0mnp\u001b[0m\u001b[0;34m.\u001b[0m\u001b[0mdiff\u001b[0m\u001b[0;34m(\u001b[0m\u001b[0mnp\u001b[0m\u001b[0;34m.\u001b[0m\u001b[0msort\u001b[0m\u001b[0;34m(\u001b[0m\u001b[0mgvals\u001b[0m\u001b[0;34m)\u001b[0m \u001b[0;34m*\u001b[0m \u001b[0;36m1e6\u001b[0m\u001b[0;34m)\u001b[0m\u001b[0;34m\u001b[0m\u001b[0;34m\u001b[0m\u001b[0m\n\u001b[1;32m     17\u001b[0m         \u001b[0mlabel\u001b[0m \u001b[0;34m=\u001b[0m \u001b[0;34m(\u001b[0m\u001b[0;34mf\"t={time}s\"\u001b[0m \u001b[0;32mif\u001b[0m \u001b[0mtime\u001b[0m \u001b[0;34m<\u001b[0m \u001b[0;36m100\u001b[0m \u001b[0;32melse\u001b[0m \u001b[0;34mf\"t=1E{int(np.log10(time))}s\"\u001b[0m\u001b[0;34m)\u001b[0m \u001b[0;32mif\u001b[0m \u001b[0mr\u001b[0m \u001b[0;34m==\u001b[0m \u001b[0;36m30\u001b[0m \u001b[0;32melse\u001b[0m \u001b[0;32mNone\u001b[0m\u001b[0;34m\u001b[0m\u001b[0;34m\u001b[0m\u001b[0m\n\u001b[0;32m---> 18\u001b[0;31m         \u001b[0mplt\u001b[0m\u001b[0;34m.\u001b[0m\u001b[0mplot\u001b[0m\u001b[0;34m(\u001b[0m\u001b[0mnp\u001b[0m\u001b[0;34m.\u001b[0m\u001b[0msort\u001b[0m\u001b[0;34m(\u001b[0m\u001b[0mgvals\u001b[0m\u001b[0;34m)\u001b[0m \u001b[0;34m*\u001b[0m \u001b[0;36m1e6\u001b[0m\u001b[0;34m,\u001b[0m \u001b[0mpdf\u001b[0m\u001b[0;34m,\u001b[0m \u001b[0mcolor\u001b[0m\u001b[0;34m=\u001b[0m\u001b[0mcolor\u001b[0m\u001b[0;34m,\u001b[0m \u001b[0mlabel\u001b[0m\u001b[0;34m=\u001b[0m\u001b[0mlabel\u001b[0m\u001b[0;34m,\u001b[0m \u001b[0mlinewidth\u001b[0m\u001b[0;34m=\u001b[0m\u001b[0;36m0.8\u001b[0m\u001b[0;34m)\u001b[0m\u001b[0;34m\u001b[0m\u001b[0;34m\u001b[0m\u001b[0m\n\u001b[0m\u001b[1;32m     19\u001b[0m \u001b[0max\u001b[0m\u001b[0;34m.\u001b[0m\u001b[0mlegend\u001b[0m\u001b[0;34m(\u001b[0m\u001b[0mncol\u001b[0m\u001b[0;34m=\u001b[0m\u001b[0;36m3\u001b[0m\u001b[0;34m,\u001b[0m \u001b[0mhandletextpad\u001b[0m\u001b[0;34m=\u001b[0m\u001b[0;36m0.2\u001b[0m\u001b[0;34m,\u001b[0m \u001b[0mfontsize\u001b[0m\u001b[0;34m=\u001b[0m\u001b[0;34m\"small\"\u001b[0m\u001b[0;34m)\u001b[0m\u001b[0;34m\u001b[0m\u001b[0;34m\u001b[0m\u001b[0m\n\u001b[1;32m     20\u001b[0m \u001b[0max\u001b[0m\u001b[0;34m.\u001b[0m\u001b[0mset_ylim\u001b[0m\u001b[0;34m(\u001b[0m\u001b[0;34m*\u001b[0m\u001b[0msettings\u001b[0m\u001b[0;34m[\u001b[0m\u001b[0;34m\"gbroad_ylim\"\u001b[0m\u001b[0;34m]\u001b[0m\u001b[0;34m)\u001b[0m\u001b[0;34m\u001b[0m\u001b[0;34m\u001b[0m\u001b[0m\n",
      "\u001b[0;32m/usr/local/Caskroom/miniconda/base/lib/python3.8/site-packages/matplotlib/pyplot.py\u001b[0m in \u001b[0;36mplot\u001b[0;34m(scalex, scaley, data, *args, **kwargs)\u001b[0m\n\u001b[1;32m   2838\u001b[0m \u001b[0;34m@\u001b[0m\u001b[0m_copy_docstring_and_deprecators\u001b[0m\u001b[0;34m(\u001b[0m\u001b[0mAxes\u001b[0m\u001b[0;34m.\u001b[0m\u001b[0mplot\u001b[0m\u001b[0;34m)\u001b[0m\u001b[0;34m\u001b[0m\u001b[0;34m\u001b[0m\u001b[0m\n\u001b[1;32m   2839\u001b[0m \u001b[0;32mdef\u001b[0m \u001b[0mplot\u001b[0m\u001b[0;34m(\u001b[0m\u001b[0;34m*\u001b[0m\u001b[0margs\u001b[0m\u001b[0;34m,\u001b[0m \u001b[0mscalex\u001b[0m\u001b[0;34m=\u001b[0m\u001b[0;32mTrue\u001b[0m\u001b[0;34m,\u001b[0m \u001b[0mscaley\u001b[0m\u001b[0;34m=\u001b[0m\u001b[0;32mTrue\u001b[0m\u001b[0;34m,\u001b[0m \u001b[0mdata\u001b[0m\u001b[0;34m=\u001b[0m\u001b[0;32mNone\u001b[0m\u001b[0;34m,\u001b[0m \u001b[0;34m**\u001b[0m\u001b[0mkwargs\u001b[0m\u001b[0;34m)\u001b[0m\u001b[0;34m:\u001b[0m\u001b[0;34m\u001b[0m\u001b[0;34m\u001b[0m\u001b[0m\n\u001b[0;32m-> 2840\u001b[0;31m     return gca().plot(\n\u001b[0m\u001b[1;32m   2841\u001b[0m         \u001b[0;34m*\u001b[0m\u001b[0margs\u001b[0m\u001b[0;34m,\u001b[0m \u001b[0mscalex\u001b[0m\u001b[0;34m=\u001b[0m\u001b[0mscalex\u001b[0m\u001b[0;34m,\u001b[0m \u001b[0mscaley\u001b[0m\u001b[0;34m=\u001b[0m\u001b[0mscaley\u001b[0m\u001b[0;34m,\u001b[0m\u001b[0;34m\u001b[0m\u001b[0;34m\u001b[0m\u001b[0m\n\u001b[1;32m   2842\u001b[0m         **({\"data\": data} if data is not None else {}), **kwargs)\n",
      "\u001b[0;32m/usr/local/Caskroom/miniconda/base/lib/python3.8/site-packages/matplotlib/axes/_axes.py\u001b[0m in \u001b[0;36mplot\u001b[0;34m(self, scalex, scaley, data, *args, **kwargs)\u001b[0m\n\u001b[1;32m   1741\u001b[0m         \"\"\"\n\u001b[1;32m   1742\u001b[0m         \u001b[0mkwargs\u001b[0m \u001b[0;34m=\u001b[0m \u001b[0mcbook\u001b[0m\u001b[0;34m.\u001b[0m\u001b[0mnormalize_kwargs\u001b[0m\u001b[0;34m(\u001b[0m\u001b[0mkwargs\u001b[0m\u001b[0;34m,\u001b[0m \u001b[0mmlines\u001b[0m\u001b[0;34m.\u001b[0m\u001b[0mLine2D\u001b[0m\u001b[0;34m)\u001b[0m\u001b[0;34m\u001b[0m\u001b[0;34m\u001b[0m\u001b[0m\n\u001b[0;32m-> 1743\u001b[0;31m         \u001b[0mlines\u001b[0m \u001b[0;34m=\u001b[0m \u001b[0;34m[\u001b[0m\u001b[0;34m*\u001b[0m\u001b[0mself\u001b[0m\u001b[0;34m.\u001b[0m\u001b[0m_get_lines\u001b[0m\u001b[0;34m(\u001b[0m\u001b[0;34m*\u001b[0m\u001b[0margs\u001b[0m\u001b[0;34m,\u001b[0m \u001b[0mdata\u001b[0m\u001b[0;34m=\u001b[0m\u001b[0mdata\u001b[0m\u001b[0;34m,\u001b[0m \u001b[0;34m**\u001b[0m\u001b[0mkwargs\u001b[0m\u001b[0;34m)\u001b[0m\u001b[0;34m]\u001b[0m\u001b[0;34m\u001b[0m\u001b[0;34m\u001b[0m\u001b[0m\n\u001b[0m\u001b[1;32m   1744\u001b[0m         \u001b[0;32mfor\u001b[0m \u001b[0mline\u001b[0m \u001b[0;32min\u001b[0m \u001b[0mlines\u001b[0m\u001b[0;34m:\u001b[0m\u001b[0;34m\u001b[0m\u001b[0;34m\u001b[0m\u001b[0m\n\u001b[1;32m   1745\u001b[0m             \u001b[0mself\u001b[0m\u001b[0;34m.\u001b[0m\u001b[0madd_line\u001b[0m\u001b[0;34m(\u001b[0m\u001b[0mline\u001b[0m\u001b[0;34m)\u001b[0m\u001b[0;34m\u001b[0m\u001b[0;34m\u001b[0m\u001b[0m\n",
      "\u001b[0;32m/usr/local/Caskroom/miniconda/base/lib/python3.8/site-packages/matplotlib/axes/_base.py\u001b[0m in \u001b[0;36m__call__\u001b[0;34m(self, data, *args, **kwargs)\u001b[0m\n\u001b[1;32m    271\u001b[0m                 \u001b[0mthis\u001b[0m \u001b[0;34m+=\u001b[0m \u001b[0margs\u001b[0m\u001b[0;34m[\u001b[0m\u001b[0;36m0\u001b[0m\u001b[0;34m]\u001b[0m\u001b[0;34m,\u001b[0m\u001b[0;34m\u001b[0m\u001b[0;34m\u001b[0m\u001b[0m\n\u001b[1;32m    272\u001b[0m                 \u001b[0margs\u001b[0m \u001b[0;34m=\u001b[0m \u001b[0margs\u001b[0m\u001b[0;34m[\u001b[0m\u001b[0;36m1\u001b[0m\u001b[0;34m:\u001b[0m\u001b[0;34m]\u001b[0m\u001b[0;34m\u001b[0m\u001b[0;34m\u001b[0m\u001b[0m\n\u001b[0;32m--> 273\u001b[0;31m             \u001b[0;32myield\u001b[0m \u001b[0;32mfrom\u001b[0m \u001b[0mself\u001b[0m\u001b[0;34m.\u001b[0m\u001b[0m_plot_args\u001b[0m\u001b[0;34m(\u001b[0m\u001b[0mthis\u001b[0m\u001b[0;34m,\u001b[0m \u001b[0mkwargs\u001b[0m\u001b[0;34m)\u001b[0m\u001b[0;34m\u001b[0m\u001b[0;34m\u001b[0m\u001b[0m\n\u001b[0m\u001b[1;32m    274\u001b[0m \u001b[0;34m\u001b[0m\u001b[0m\n\u001b[1;32m    275\u001b[0m     \u001b[0;32mdef\u001b[0m \u001b[0mget_next_color\u001b[0m\u001b[0;34m(\u001b[0m\u001b[0mself\u001b[0m\u001b[0;34m)\u001b[0m\u001b[0;34m:\u001b[0m\u001b[0;34m\u001b[0m\u001b[0;34m\u001b[0m\u001b[0m\n",
      "\u001b[0;32m/usr/local/Caskroom/miniconda/base/lib/python3.8/site-packages/matplotlib/axes/_base.py\u001b[0m in \u001b[0;36m_plot_args\u001b[0;34m(self, tup, kwargs)\u001b[0m\n\u001b[1;32m    397\u001b[0m \u001b[0;34m\u001b[0m\u001b[0m\n\u001b[1;32m    398\u001b[0m         \u001b[0;32mif\u001b[0m \u001b[0mx\u001b[0m\u001b[0;34m.\u001b[0m\u001b[0mshape\u001b[0m\u001b[0;34m[\u001b[0m\u001b[0;36m0\u001b[0m\u001b[0;34m]\u001b[0m \u001b[0;34m!=\u001b[0m \u001b[0my\u001b[0m\u001b[0;34m.\u001b[0m\u001b[0mshape\u001b[0m\u001b[0;34m[\u001b[0m\u001b[0;36m0\u001b[0m\u001b[0;34m]\u001b[0m\u001b[0;34m:\u001b[0m\u001b[0;34m\u001b[0m\u001b[0;34m\u001b[0m\u001b[0m\n\u001b[0;32m--> 399\u001b[0;31m             raise ValueError(f\"x and y must have same first dimension, but \"\n\u001b[0m\u001b[1;32m    400\u001b[0m                              f\"have shapes {x.shape} and {y.shape}\")\n\u001b[1;32m    401\u001b[0m         \u001b[0;32mif\u001b[0m \u001b[0mx\u001b[0m\u001b[0;34m.\u001b[0m\u001b[0mndim\u001b[0m \u001b[0;34m>\u001b[0m \u001b[0;36m2\u001b[0m \u001b[0;32mor\u001b[0m \u001b[0my\u001b[0m\u001b[0;34m.\u001b[0m\u001b[0mndim\u001b[0m \u001b[0;34m>\u001b[0m \u001b[0;36m2\u001b[0m\u001b[0;34m:\u001b[0m\u001b[0;34m\u001b[0m\u001b[0;34m\u001b[0m\u001b[0m\n",
      "\u001b[0;31mValueError\u001b[0m: x and y must have same first dimension, but have shapes (249,) and (248,)"
     ]
    },
    {
     "data": {
      "image/svg+xml": "<?xml version=\"1.0\" encoding=\"utf-8\" standalone=\"no\"?>\n<!DOCTYPE svg PUBLIC \"-//W3C//DTD SVG 1.1//EN\"\n  \"http://www.w3.org/Graphics/SVG/1.1/DTD/svg11.dtd\">\n<!-- Created with matplotlib (https://matplotlib.org/) -->\n<svg height=\"206.405625pt\" version=\"1.1\" viewBox=\"0 0 268.454688 206.405625\" width=\"268.454688pt\" xmlns=\"http://www.w3.org/2000/svg\" xmlns:xlink=\"http://www.w3.org/1999/xlink\">\n <metadata>\n  <rdf:RDF xmlns:cc=\"http://creativecommons.org/ns#\" xmlns:dc=\"http://purl.org/dc/elements/1.1/\" xmlns:rdf=\"http://www.w3.org/1999/02/22-rdf-syntax-ns#\">\n   <cc:Work>\n    <dc:type rdf:resource=\"http://purl.org/dc/dcmitype/StillImage\"/>\n    <dc:date>2022-01-21T16:32:19.359307</dc:date>\n    <dc:format>image/svg+xml</dc:format>\n    <dc:creator>\n     <cc:Agent>\n      <dc:title>Matplotlib v3.3.3, https://matplotlib.org/</dc:title>\n     </cc:Agent>\n    </dc:creator>\n   </cc:Work>\n  </rdf:RDF>\n </metadata>\n <defs>\n  <style type=\"text/css\">*{stroke-linecap:butt;stroke-linejoin:round;}</style>\n </defs>\n <g id=\"figure_1\">\n  <g id=\"patch_1\">\n   <path d=\"M 0 206.405625 \nL 268.454688 206.405625 \nL 268.454688 0 \nL 0 0 \nz\n\" style=\"fill:none;\"/>\n  </g>\n  <g id=\"axes_1\">\n   <g id=\"patch_2\">\n    <path d=\"M 30.103125 182.5275 \nL 253.303125 182.5275 \nL 253.303125 35.7555 \nL 30.103125 35.7555 \nz\n\" style=\"fill:#ffffff;\"/>\n   </g>\n   <g id=\"matplotlib.axis_1\">\n    <g id=\"xtick_1\">\n     <g id=\"line2d_1\">\n      <defs>\n       <path d=\"M 0 0 \nL 0 3.5 \n\" id=\"mc67572f2b7\" style=\"stroke:#000000;stroke-width:0.8;\"/>\n      </defs>\n      <g>\n       <use style=\"stroke:#000000;stroke-width:0.8;\" x=\"30.103125\" xlink:href=\"#mc67572f2b7\" y=\"182.5275\"/>\n      </g>\n     </g>\n     <g id=\"text_1\">\n      <!-- 0.0 -->\n      <g transform=\"translate(22.151563 197.125937)scale(0.1 -0.1)\">\n       <defs>\n        <path d=\"M 31.78125 66.40625 \nQ 24.171875 66.40625 20.328125 58.90625 \nQ 16.5 51.421875 16.5 36.375 \nQ 16.5 21.390625 20.328125 13.890625 \nQ 24.171875 6.390625 31.78125 6.390625 \nQ 39.453125 6.390625 43.28125 13.890625 \nQ 47.125 21.390625 47.125 36.375 \nQ 47.125 51.421875 43.28125 58.90625 \nQ 39.453125 66.40625 31.78125 66.40625 \nz\nM 31.78125 74.21875 \nQ 44.046875 74.21875 50.515625 64.515625 \nQ 56.984375 54.828125 56.984375 36.375 \nQ 56.984375 17.96875 50.515625 8.265625 \nQ 44.046875 -1.421875 31.78125 -1.421875 \nQ 19.53125 -1.421875 13.0625 8.265625 \nQ 6.59375 17.96875 6.59375 36.375 \nQ 6.59375 54.828125 13.0625 64.515625 \nQ 19.53125 74.21875 31.78125 74.21875 \nz\n\" id=\"DejaVuSans-48\"/>\n        <path d=\"M 10.6875 12.40625 \nL 21 12.40625 \nL 21 0 \nL 10.6875 0 \nz\n\" id=\"DejaVuSans-46\"/>\n       </defs>\n       <use xlink:href=\"#DejaVuSans-48\"/>\n       <use x=\"63.623047\" xlink:href=\"#DejaVuSans-46\"/>\n       <use x=\"95.410156\" xlink:href=\"#DejaVuSans-48\"/>\n      </g>\n     </g>\n    </g>\n    <g id=\"xtick_2\">\n     <g id=\"line2d_2\">\n      <g>\n       <use style=\"stroke:#000000;stroke-width:0.8;\" x=\"74.743125\" xlink:href=\"#mc67572f2b7\" y=\"182.5275\"/>\n      </g>\n     </g>\n     <g id=\"text_2\">\n      <!-- 0.2 -->\n      <g transform=\"translate(66.791563 197.125937)scale(0.1 -0.1)\">\n       <defs>\n        <path d=\"M 19.1875 8.296875 \nL 53.609375 8.296875 \nL 53.609375 0 \nL 7.328125 0 \nL 7.328125 8.296875 \nQ 12.9375 14.109375 22.625 23.890625 \nQ 32.328125 33.6875 34.8125 36.53125 \nQ 39.546875 41.84375 41.421875 45.53125 \nQ 43.3125 49.21875 43.3125 52.78125 \nQ 43.3125 58.59375 39.234375 62.25 \nQ 35.15625 65.921875 28.609375 65.921875 \nQ 23.96875 65.921875 18.8125 64.3125 \nQ 13.671875 62.703125 7.8125 59.421875 \nL 7.8125 69.390625 \nQ 13.765625 71.78125 18.9375 73 \nQ 24.125 74.21875 28.421875 74.21875 \nQ 39.75 74.21875 46.484375 68.546875 \nQ 53.21875 62.890625 53.21875 53.421875 \nQ 53.21875 48.921875 51.53125 44.890625 \nQ 49.859375 40.875 45.40625 35.40625 \nQ 44.1875 33.984375 37.640625 27.21875 \nQ 31.109375 20.453125 19.1875 8.296875 \nz\n\" id=\"DejaVuSans-50\"/>\n       </defs>\n       <use xlink:href=\"#DejaVuSans-48\"/>\n       <use x=\"63.623047\" xlink:href=\"#DejaVuSans-46\"/>\n       <use x=\"95.410156\" xlink:href=\"#DejaVuSans-50\"/>\n      </g>\n     </g>\n    </g>\n    <g id=\"xtick_3\">\n     <g id=\"line2d_3\">\n      <g>\n       <use style=\"stroke:#000000;stroke-width:0.8;\" x=\"119.383125\" xlink:href=\"#mc67572f2b7\" y=\"182.5275\"/>\n      </g>\n     </g>\n     <g id=\"text_3\">\n      <!-- 0.4 -->\n      <g transform=\"translate(111.431563 197.125937)scale(0.1 -0.1)\">\n       <defs>\n        <path d=\"M 37.796875 64.3125 \nL 12.890625 25.390625 \nL 37.796875 25.390625 \nz\nM 35.203125 72.90625 \nL 47.609375 72.90625 \nL 47.609375 25.390625 \nL 58.015625 25.390625 \nL 58.015625 17.1875 \nL 47.609375 17.1875 \nL 47.609375 0 \nL 37.796875 0 \nL 37.796875 17.1875 \nL 4.890625 17.1875 \nL 4.890625 26.703125 \nz\n\" id=\"DejaVuSans-52\"/>\n       </defs>\n       <use xlink:href=\"#DejaVuSans-48\"/>\n       <use x=\"63.623047\" xlink:href=\"#DejaVuSans-46\"/>\n       <use x=\"95.410156\" xlink:href=\"#DejaVuSans-52\"/>\n      </g>\n     </g>\n    </g>\n    <g id=\"xtick_4\">\n     <g id=\"line2d_4\">\n      <g>\n       <use style=\"stroke:#000000;stroke-width:0.8;\" x=\"164.023125\" xlink:href=\"#mc67572f2b7\" y=\"182.5275\"/>\n      </g>\n     </g>\n     <g id=\"text_4\">\n      <!-- 0.6 -->\n      <g transform=\"translate(156.071563 197.125937)scale(0.1 -0.1)\">\n       <defs>\n        <path d=\"M 33.015625 40.375 \nQ 26.375 40.375 22.484375 35.828125 \nQ 18.609375 31.296875 18.609375 23.390625 \nQ 18.609375 15.53125 22.484375 10.953125 \nQ 26.375 6.390625 33.015625 6.390625 \nQ 39.65625 6.390625 43.53125 10.953125 \nQ 47.40625 15.53125 47.40625 23.390625 \nQ 47.40625 31.296875 43.53125 35.828125 \nQ 39.65625 40.375 33.015625 40.375 \nz\nM 52.59375 71.296875 \nL 52.59375 62.3125 \nQ 48.875 64.0625 45.09375 64.984375 \nQ 41.3125 65.921875 37.59375 65.921875 \nQ 27.828125 65.921875 22.671875 59.328125 \nQ 17.53125 52.734375 16.796875 39.40625 \nQ 19.671875 43.65625 24.015625 45.921875 \nQ 28.375 48.1875 33.59375 48.1875 \nQ 44.578125 48.1875 50.953125 41.515625 \nQ 57.328125 34.859375 57.328125 23.390625 \nQ 57.328125 12.15625 50.6875 5.359375 \nQ 44.046875 -1.421875 33.015625 -1.421875 \nQ 20.359375 -1.421875 13.671875 8.265625 \nQ 6.984375 17.96875 6.984375 36.375 \nQ 6.984375 53.65625 15.1875 63.9375 \nQ 23.390625 74.21875 37.203125 74.21875 \nQ 40.921875 74.21875 44.703125 73.484375 \nQ 48.484375 72.75 52.59375 71.296875 \nz\n\" id=\"DejaVuSans-54\"/>\n       </defs>\n       <use xlink:href=\"#DejaVuSans-48\"/>\n       <use x=\"63.623047\" xlink:href=\"#DejaVuSans-46\"/>\n       <use x=\"95.410156\" xlink:href=\"#DejaVuSans-54\"/>\n      </g>\n     </g>\n    </g>\n    <g id=\"xtick_5\">\n     <g id=\"line2d_5\">\n      <g>\n       <use style=\"stroke:#000000;stroke-width:0.8;\" x=\"208.663125\" xlink:href=\"#mc67572f2b7\" y=\"182.5275\"/>\n      </g>\n     </g>\n     <g id=\"text_5\">\n      <!-- 0.8 -->\n      <g transform=\"translate(200.711563 197.125937)scale(0.1 -0.1)\">\n       <defs>\n        <path d=\"M 31.78125 34.625 \nQ 24.75 34.625 20.71875 30.859375 \nQ 16.703125 27.09375 16.703125 20.515625 \nQ 16.703125 13.921875 20.71875 10.15625 \nQ 24.75 6.390625 31.78125 6.390625 \nQ 38.8125 6.390625 42.859375 10.171875 \nQ 46.921875 13.96875 46.921875 20.515625 \nQ 46.921875 27.09375 42.890625 30.859375 \nQ 38.875 34.625 31.78125 34.625 \nz\nM 21.921875 38.8125 \nQ 15.578125 40.375 12.03125 44.71875 \nQ 8.5 49.078125 8.5 55.328125 \nQ 8.5 64.0625 14.71875 69.140625 \nQ 20.953125 74.21875 31.78125 74.21875 \nQ 42.671875 74.21875 48.875 69.140625 \nQ 55.078125 64.0625 55.078125 55.328125 \nQ 55.078125 49.078125 51.53125 44.71875 \nQ 48 40.375 41.703125 38.8125 \nQ 48.828125 37.15625 52.796875 32.3125 \nQ 56.78125 27.484375 56.78125 20.515625 \nQ 56.78125 9.90625 50.3125 4.234375 \nQ 43.84375 -1.421875 31.78125 -1.421875 \nQ 19.734375 -1.421875 13.25 4.234375 \nQ 6.78125 9.90625 6.78125 20.515625 \nQ 6.78125 27.484375 10.78125 32.3125 \nQ 14.796875 37.15625 21.921875 38.8125 \nz\nM 18.3125 54.390625 \nQ 18.3125 48.734375 21.84375 45.5625 \nQ 25.390625 42.390625 31.78125 42.390625 \nQ 38.140625 42.390625 41.71875 45.5625 \nQ 45.3125 48.734375 45.3125 54.390625 \nQ 45.3125 60.0625 41.71875 63.234375 \nQ 38.140625 66.40625 31.78125 66.40625 \nQ 25.390625 66.40625 21.84375 63.234375 \nQ 18.3125 60.0625 18.3125 54.390625 \nz\n\" id=\"DejaVuSans-56\"/>\n       </defs>\n       <use xlink:href=\"#DejaVuSans-48\"/>\n       <use x=\"63.623047\" xlink:href=\"#DejaVuSans-46\"/>\n       <use x=\"95.410156\" xlink:href=\"#DejaVuSans-56\"/>\n      </g>\n     </g>\n    </g>\n    <g id=\"xtick_6\">\n     <g id=\"line2d_6\">\n      <g>\n       <use style=\"stroke:#000000;stroke-width:0.8;\" x=\"253.303125\" xlink:href=\"#mc67572f2b7\" y=\"182.5275\"/>\n      </g>\n     </g>\n     <g id=\"text_6\">\n      <!-- 1.0 -->\n      <g transform=\"translate(245.351562 197.125937)scale(0.1 -0.1)\">\n       <defs>\n        <path d=\"M 12.40625 8.296875 \nL 28.515625 8.296875 \nL 28.515625 63.921875 \nL 10.984375 60.40625 \nL 10.984375 69.390625 \nL 28.421875 72.90625 \nL 38.28125 72.90625 \nL 38.28125 8.296875 \nL 54.390625 8.296875 \nL 54.390625 0 \nL 12.40625 0 \nz\n\" id=\"DejaVuSans-49\"/>\n       </defs>\n       <use xlink:href=\"#DejaVuSans-49\"/>\n       <use x=\"63.623047\" xlink:href=\"#DejaVuSans-46\"/>\n       <use x=\"95.410156\" xlink:href=\"#DejaVuSans-48\"/>\n      </g>\n     </g>\n    </g>\n   </g>\n   <g id=\"matplotlib.axis_2\">\n    <g id=\"ytick_1\">\n     <g id=\"line2d_7\">\n      <defs>\n       <path d=\"M 0 0 \nL -3.5 0 \n\" id=\"m1aef1a5d9e\" style=\"stroke:#000000;stroke-width:0.8;\"/>\n      </defs>\n      <g>\n       <use style=\"stroke:#000000;stroke-width:0.8;\" x=\"30.103125\" xlink:href=\"#m1aef1a5d9e\" y=\"182.5275\"/>\n      </g>\n     </g>\n     <g id=\"text_7\">\n      <!-- 0.0 -->\n      <g transform=\"translate(7.2 186.326719)scale(0.1 -0.1)\">\n       <use xlink:href=\"#DejaVuSans-48\"/>\n       <use x=\"63.623047\" xlink:href=\"#DejaVuSans-46\"/>\n       <use x=\"95.410156\" xlink:href=\"#DejaVuSans-48\"/>\n      </g>\n     </g>\n    </g>\n    <g id=\"ytick_2\">\n     <g id=\"line2d_8\">\n      <g>\n       <use style=\"stroke:#000000;stroke-width:0.8;\" x=\"30.103125\" xlink:href=\"#m1aef1a5d9e\" y=\"153.1731\"/>\n      </g>\n     </g>\n     <g id=\"text_8\">\n      <!-- 0.2 -->\n      <g transform=\"translate(7.2 156.972319)scale(0.1 -0.1)\">\n       <use xlink:href=\"#DejaVuSans-48\"/>\n       <use x=\"63.623047\" xlink:href=\"#DejaVuSans-46\"/>\n       <use x=\"95.410156\" xlink:href=\"#DejaVuSans-50\"/>\n      </g>\n     </g>\n    </g>\n    <g id=\"ytick_3\">\n     <g id=\"line2d_9\">\n      <g>\n       <use style=\"stroke:#000000;stroke-width:0.8;\" x=\"30.103125\" xlink:href=\"#m1aef1a5d9e\" y=\"123.8187\"/>\n      </g>\n     </g>\n     <g id=\"text_9\">\n      <!-- 0.4 -->\n      <g transform=\"translate(7.2 127.617919)scale(0.1 -0.1)\">\n       <use xlink:href=\"#DejaVuSans-48\"/>\n       <use x=\"63.623047\" xlink:href=\"#DejaVuSans-46\"/>\n       <use x=\"95.410156\" xlink:href=\"#DejaVuSans-52\"/>\n      </g>\n     </g>\n    </g>\n    <g id=\"ytick_4\">\n     <g id=\"line2d_10\">\n      <g>\n       <use style=\"stroke:#000000;stroke-width:0.8;\" x=\"30.103125\" xlink:href=\"#m1aef1a5d9e\" y=\"94.4643\"/>\n      </g>\n     </g>\n     <g id=\"text_10\">\n      <!-- 0.6 -->\n      <g transform=\"translate(7.2 98.263519)scale(0.1 -0.1)\">\n       <use xlink:href=\"#DejaVuSans-48\"/>\n       <use x=\"63.623047\" xlink:href=\"#DejaVuSans-46\"/>\n       <use x=\"95.410156\" xlink:href=\"#DejaVuSans-54\"/>\n      </g>\n     </g>\n    </g>\n    <g id=\"ytick_5\">\n     <g id=\"line2d_11\">\n      <g>\n       <use style=\"stroke:#000000;stroke-width:0.8;\" x=\"30.103125\" xlink:href=\"#m1aef1a5d9e\" y=\"65.1099\"/>\n      </g>\n     </g>\n     <g id=\"text_11\">\n      <!-- 0.8 -->\n      <g transform=\"translate(7.2 68.909119)scale(0.1 -0.1)\">\n       <use xlink:href=\"#DejaVuSans-48\"/>\n       <use x=\"63.623047\" xlink:href=\"#DejaVuSans-46\"/>\n       <use x=\"95.410156\" xlink:href=\"#DejaVuSans-56\"/>\n      </g>\n     </g>\n    </g>\n    <g id=\"ytick_6\">\n     <g id=\"line2d_12\">\n      <g>\n       <use style=\"stroke:#000000;stroke-width:0.8;\" x=\"30.103125\" xlink:href=\"#m1aef1a5d9e\" y=\"35.7555\"/>\n      </g>\n     </g>\n     <g id=\"text_12\">\n      <!-- 1.0 -->\n      <g transform=\"translate(7.2 39.554719)scale(0.1 -0.1)\">\n       <use xlink:href=\"#DejaVuSans-49\"/>\n       <use x=\"63.623047\" xlink:href=\"#DejaVuSans-46\"/>\n       <use x=\"95.410156\" xlink:href=\"#DejaVuSans-48\"/>\n      </g>\n     </g>\n    </g>\n   </g>\n   <g id=\"patch_3\">\n    <path d=\"M 30.103125 182.5275 \nL 30.103125 35.7555 \n\" style=\"fill:none;stroke:#000000;stroke-linecap:square;stroke-linejoin:miter;stroke-width:0.8;\"/>\n   </g>\n   <g id=\"patch_4\">\n    <path d=\"M 253.303125 182.5275 \nL 253.303125 35.7555 \n\" style=\"fill:none;stroke:#000000;stroke-linecap:square;stroke-linejoin:miter;stroke-width:0.8;\"/>\n   </g>\n   <g id=\"patch_5\">\n    <path d=\"M 30.103125 182.5275 \nL 253.303125 182.5275 \n\" style=\"fill:none;stroke:#000000;stroke-linecap:square;stroke-linejoin:miter;stroke-width:0.8;\"/>\n   </g>\n   <g id=\"patch_6\">\n    <path d=\"M 30.103125 35.7555 \nL 253.303125 35.7555 \n\" style=\"fill:none;stroke:#000000;stroke-linecap:square;stroke-linejoin:miter;stroke-width:0.8;\"/>\n   </g>\n   <g id=\"text_13\">\n    <!-- Conductance Dist. Broadening -->\n    <g transform=\"translate(50.443125 16.318125)scale(0.12 -0.12)\">\n     <defs>\n      <path d=\"M 64.40625 67.28125 \nL 64.40625 56.890625 \nQ 59.421875 61.53125 53.78125 63.8125 \nQ 48.140625 66.109375 41.796875 66.109375 \nQ 29.296875 66.109375 22.65625 58.46875 \nQ 16.015625 50.828125 16.015625 36.375 \nQ 16.015625 21.96875 22.65625 14.328125 \nQ 29.296875 6.6875 41.796875 6.6875 \nQ 48.140625 6.6875 53.78125 8.984375 \nQ 59.421875 11.28125 64.40625 15.921875 \nL 64.40625 5.609375 \nQ 59.234375 2.09375 53.4375 0.328125 \nQ 47.65625 -1.421875 41.21875 -1.421875 \nQ 24.65625 -1.421875 15.125 8.703125 \nQ 5.609375 18.84375 5.609375 36.375 \nQ 5.609375 53.953125 15.125 64.078125 \nQ 24.65625 74.21875 41.21875 74.21875 \nQ 47.75 74.21875 53.53125 72.484375 \nQ 59.328125 70.75 64.40625 67.28125 \nz\n\" id=\"DejaVuSans-67\"/>\n      <path d=\"M 30.609375 48.390625 \nQ 23.390625 48.390625 19.1875 42.75 \nQ 14.984375 37.109375 14.984375 27.296875 \nQ 14.984375 17.484375 19.15625 11.84375 \nQ 23.34375 6.203125 30.609375 6.203125 \nQ 37.796875 6.203125 41.984375 11.859375 \nQ 46.1875 17.53125 46.1875 27.296875 \nQ 46.1875 37.015625 41.984375 42.703125 \nQ 37.796875 48.390625 30.609375 48.390625 \nz\nM 30.609375 56 \nQ 42.328125 56 49.015625 48.375 \nQ 55.71875 40.765625 55.71875 27.296875 \nQ 55.71875 13.875 49.015625 6.21875 \nQ 42.328125 -1.421875 30.609375 -1.421875 \nQ 18.84375 -1.421875 12.171875 6.21875 \nQ 5.515625 13.875 5.515625 27.296875 \nQ 5.515625 40.765625 12.171875 48.375 \nQ 18.84375 56 30.609375 56 \nz\n\" id=\"DejaVuSans-111\"/>\n      <path d=\"M 54.890625 33.015625 \nL 54.890625 0 \nL 45.90625 0 \nL 45.90625 32.71875 \nQ 45.90625 40.484375 42.875 44.328125 \nQ 39.84375 48.1875 33.796875 48.1875 \nQ 26.515625 48.1875 22.3125 43.546875 \nQ 18.109375 38.921875 18.109375 30.90625 \nL 18.109375 0 \nL 9.078125 0 \nL 9.078125 54.6875 \nL 18.109375 54.6875 \nL 18.109375 46.1875 \nQ 21.34375 51.125 25.703125 53.5625 \nQ 30.078125 56 35.796875 56 \nQ 45.21875 56 50.046875 50.171875 \nQ 54.890625 44.34375 54.890625 33.015625 \nz\n\" id=\"DejaVuSans-110\"/>\n      <path d=\"M 45.40625 46.390625 \nL 45.40625 75.984375 \nL 54.390625 75.984375 \nL 54.390625 0 \nL 45.40625 0 \nL 45.40625 8.203125 \nQ 42.578125 3.328125 38.25 0.953125 \nQ 33.9375 -1.421875 27.875 -1.421875 \nQ 17.96875 -1.421875 11.734375 6.484375 \nQ 5.515625 14.40625 5.515625 27.296875 \nQ 5.515625 40.1875 11.734375 48.09375 \nQ 17.96875 56 27.875 56 \nQ 33.9375 56 38.25 53.625 \nQ 42.578125 51.265625 45.40625 46.390625 \nz\nM 14.796875 27.296875 \nQ 14.796875 17.390625 18.875 11.75 \nQ 22.953125 6.109375 30.078125 6.109375 \nQ 37.203125 6.109375 41.296875 11.75 \nQ 45.40625 17.390625 45.40625 27.296875 \nQ 45.40625 37.203125 41.296875 42.84375 \nQ 37.203125 48.484375 30.078125 48.484375 \nQ 22.953125 48.484375 18.875 42.84375 \nQ 14.796875 37.203125 14.796875 27.296875 \nz\n\" id=\"DejaVuSans-100\"/>\n      <path d=\"M 8.5 21.578125 \nL 8.5 54.6875 \nL 17.484375 54.6875 \nL 17.484375 21.921875 \nQ 17.484375 14.15625 20.5 10.265625 \nQ 23.53125 6.390625 29.59375 6.390625 \nQ 36.859375 6.390625 41.078125 11.03125 \nQ 45.3125 15.671875 45.3125 23.6875 \nL 45.3125 54.6875 \nL 54.296875 54.6875 \nL 54.296875 0 \nL 45.3125 0 \nL 45.3125 8.40625 \nQ 42.046875 3.421875 37.71875 1 \nQ 33.40625 -1.421875 27.6875 -1.421875 \nQ 18.265625 -1.421875 13.375 4.4375 \nQ 8.5 10.296875 8.5 21.578125 \nz\nM 31.109375 56 \nz\n\" id=\"DejaVuSans-117\"/>\n      <path d=\"M 48.78125 52.59375 \nL 48.78125 44.1875 \nQ 44.96875 46.296875 41.140625 47.34375 \nQ 37.3125 48.390625 33.40625 48.390625 \nQ 24.65625 48.390625 19.8125 42.84375 \nQ 14.984375 37.3125 14.984375 27.296875 \nQ 14.984375 17.28125 19.8125 11.734375 \nQ 24.65625 6.203125 33.40625 6.203125 \nQ 37.3125 6.203125 41.140625 7.25 \nQ 44.96875 8.296875 48.78125 10.40625 \nL 48.78125 2.09375 \nQ 45.015625 0.34375 40.984375 -0.53125 \nQ 36.96875 -1.421875 32.421875 -1.421875 \nQ 20.0625 -1.421875 12.78125 6.34375 \nQ 5.515625 14.109375 5.515625 27.296875 \nQ 5.515625 40.671875 12.859375 48.328125 \nQ 20.21875 56 33.015625 56 \nQ 37.15625 56 41.109375 55.140625 \nQ 45.0625 54.296875 48.78125 52.59375 \nz\n\" id=\"DejaVuSans-99\"/>\n      <path d=\"M 18.3125 70.21875 \nL 18.3125 54.6875 \nL 36.8125 54.6875 \nL 36.8125 47.703125 \nL 18.3125 47.703125 \nL 18.3125 18.015625 \nQ 18.3125 11.328125 20.140625 9.421875 \nQ 21.96875 7.515625 27.59375 7.515625 \nL 36.8125 7.515625 \nL 36.8125 0 \nL 27.59375 0 \nQ 17.1875 0 13.234375 3.875 \nQ 9.28125 7.765625 9.28125 18.015625 \nL 9.28125 47.703125 \nL 2.6875 47.703125 \nL 2.6875 54.6875 \nL 9.28125 54.6875 \nL 9.28125 70.21875 \nz\n\" id=\"DejaVuSans-116\"/>\n      <path d=\"M 34.28125 27.484375 \nQ 23.390625 27.484375 19.1875 25 \nQ 14.984375 22.515625 14.984375 16.5 \nQ 14.984375 11.71875 18.140625 8.90625 \nQ 21.296875 6.109375 26.703125 6.109375 \nQ 34.1875 6.109375 38.703125 11.40625 \nQ 43.21875 16.703125 43.21875 25.484375 \nL 43.21875 27.484375 \nz\nM 52.203125 31.203125 \nL 52.203125 0 \nL 43.21875 0 \nL 43.21875 8.296875 \nQ 40.140625 3.328125 35.546875 0.953125 \nQ 30.953125 -1.421875 24.3125 -1.421875 \nQ 15.921875 -1.421875 10.953125 3.296875 \nQ 6 8.015625 6 15.921875 \nQ 6 25.140625 12.171875 29.828125 \nQ 18.359375 34.515625 30.609375 34.515625 \nL 43.21875 34.515625 \nL 43.21875 35.40625 \nQ 43.21875 41.609375 39.140625 45 \nQ 35.0625 48.390625 27.6875 48.390625 \nQ 23 48.390625 18.546875 47.265625 \nQ 14.109375 46.140625 10.015625 43.890625 \nL 10.015625 52.203125 \nQ 14.9375 54.109375 19.578125 55.046875 \nQ 24.21875 56 28.609375 56 \nQ 40.484375 56 46.34375 49.84375 \nQ 52.203125 43.703125 52.203125 31.203125 \nz\n\" id=\"DejaVuSans-97\"/>\n      <path d=\"M 56.203125 29.59375 \nL 56.203125 25.203125 \nL 14.890625 25.203125 \nQ 15.484375 15.921875 20.484375 11.0625 \nQ 25.484375 6.203125 34.421875 6.203125 \nQ 39.59375 6.203125 44.453125 7.46875 \nQ 49.3125 8.734375 54.109375 11.28125 \nL 54.109375 2.78125 \nQ 49.265625 0.734375 44.1875 -0.34375 \nQ 39.109375 -1.421875 33.890625 -1.421875 \nQ 20.796875 -1.421875 13.15625 6.1875 \nQ 5.515625 13.8125 5.515625 26.8125 \nQ 5.515625 40.234375 12.765625 48.109375 \nQ 20.015625 56 32.328125 56 \nQ 43.359375 56 49.78125 48.890625 \nQ 56.203125 41.796875 56.203125 29.59375 \nz\nM 47.21875 32.234375 \nQ 47.125 39.59375 43.09375 43.984375 \nQ 39.0625 48.390625 32.421875 48.390625 \nQ 24.90625 48.390625 20.390625 44.140625 \nQ 15.875 39.890625 15.1875 32.171875 \nz\n\" id=\"DejaVuSans-101\"/>\n      <path id=\"DejaVuSans-32\"/>\n      <path d=\"M 19.671875 64.796875 \nL 19.671875 8.109375 \nL 31.59375 8.109375 \nQ 46.6875 8.109375 53.6875 14.9375 \nQ 60.6875 21.78125 60.6875 36.53125 \nQ 60.6875 51.171875 53.6875 57.984375 \nQ 46.6875 64.796875 31.59375 64.796875 \nz\nM 9.8125 72.90625 \nL 30.078125 72.90625 \nQ 51.265625 72.90625 61.171875 64.09375 \nQ 71.09375 55.28125 71.09375 36.53125 \nQ 71.09375 17.671875 61.125 8.828125 \nQ 51.171875 0 30.078125 0 \nL 9.8125 0 \nz\n\" id=\"DejaVuSans-68\"/>\n      <path d=\"M 9.421875 54.6875 \nL 18.40625 54.6875 \nL 18.40625 0 \nL 9.421875 0 \nz\nM 9.421875 75.984375 \nL 18.40625 75.984375 \nL 18.40625 64.59375 \nL 9.421875 64.59375 \nz\n\" id=\"DejaVuSans-105\"/>\n      <path d=\"M 44.28125 53.078125 \nL 44.28125 44.578125 \nQ 40.484375 46.53125 36.375 47.5 \nQ 32.28125 48.484375 27.875 48.484375 \nQ 21.1875 48.484375 17.84375 46.4375 \nQ 14.5 44.390625 14.5 40.28125 \nQ 14.5 37.15625 16.890625 35.375 \nQ 19.28125 33.59375 26.515625 31.984375 \nL 29.59375 31.296875 \nQ 39.15625 29.25 43.1875 25.515625 \nQ 47.21875 21.78125 47.21875 15.09375 \nQ 47.21875 7.46875 41.1875 3.015625 \nQ 35.15625 -1.421875 24.609375 -1.421875 \nQ 20.21875 -1.421875 15.453125 -0.5625 \nQ 10.6875 0.296875 5.421875 2 \nL 5.421875 11.28125 \nQ 10.40625 8.6875 15.234375 7.390625 \nQ 20.0625 6.109375 24.8125 6.109375 \nQ 31.15625 6.109375 34.5625 8.28125 \nQ 37.984375 10.453125 37.984375 14.40625 \nQ 37.984375 18.0625 35.515625 20.015625 \nQ 33.0625 21.96875 24.703125 23.78125 \nL 21.578125 24.515625 \nQ 13.234375 26.265625 9.515625 29.90625 \nQ 5.8125 33.546875 5.8125 39.890625 \nQ 5.8125 47.609375 11.28125 51.796875 \nQ 16.75 56 26.8125 56 \nQ 31.78125 56 36.171875 55.265625 \nQ 40.578125 54.546875 44.28125 53.078125 \nz\n\" id=\"DejaVuSans-115\"/>\n      <path d=\"M 19.671875 34.8125 \nL 19.671875 8.109375 \nL 35.5 8.109375 \nQ 43.453125 8.109375 47.28125 11.40625 \nQ 51.125 14.703125 51.125 21.484375 \nQ 51.125 28.328125 47.28125 31.5625 \nQ 43.453125 34.8125 35.5 34.8125 \nz\nM 19.671875 64.796875 \nL 19.671875 42.828125 \nL 34.28125 42.828125 \nQ 41.5 42.828125 45.03125 45.53125 \nQ 48.578125 48.25 48.578125 53.8125 \nQ 48.578125 59.328125 45.03125 62.0625 \nQ 41.5 64.796875 34.28125 64.796875 \nz\nM 9.8125 72.90625 \nL 35.015625 72.90625 \nQ 46.296875 72.90625 52.390625 68.21875 \nQ 58.5 63.53125 58.5 54.890625 \nQ 58.5 48.1875 55.375 44.234375 \nQ 52.25 40.28125 46.1875 39.3125 \nQ 53.46875 37.75 57.5 32.78125 \nQ 61.53125 27.828125 61.53125 20.40625 \nQ 61.53125 10.640625 54.890625 5.3125 \nQ 48.25 0 35.984375 0 \nL 9.8125 0 \nz\n\" id=\"DejaVuSans-66\"/>\n      <path d=\"M 41.109375 46.296875 \nQ 39.59375 47.171875 37.8125 47.578125 \nQ 36.03125 48 33.890625 48 \nQ 26.265625 48 22.1875 43.046875 \nQ 18.109375 38.09375 18.109375 28.8125 \nL 18.109375 0 \nL 9.078125 0 \nL 9.078125 54.6875 \nL 18.109375 54.6875 \nL 18.109375 46.1875 \nQ 20.953125 51.171875 25.484375 53.578125 \nQ 30.03125 56 36.53125 56 \nQ 37.453125 56 38.578125 55.875 \nQ 39.703125 55.765625 41.0625 55.515625 \nz\n\" id=\"DejaVuSans-114\"/>\n      <path d=\"M 45.40625 27.984375 \nQ 45.40625 37.75 41.375 43.109375 \nQ 37.359375 48.484375 30.078125 48.484375 \nQ 22.859375 48.484375 18.828125 43.109375 \nQ 14.796875 37.75 14.796875 27.984375 \nQ 14.796875 18.265625 18.828125 12.890625 \nQ 22.859375 7.515625 30.078125 7.515625 \nQ 37.359375 7.515625 41.375 12.890625 \nQ 45.40625 18.265625 45.40625 27.984375 \nz\nM 54.390625 6.78125 \nQ 54.390625 -7.171875 48.1875 -13.984375 \nQ 42 -20.796875 29.203125 -20.796875 \nQ 24.46875 -20.796875 20.265625 -20.09375 \nQ 16.0625 -19.390625 12.109375 -17.921875 \nL 12.109375 -9.1875 \nQ 16.0625 -11.328125 19.921875 -12.34375 \nQ 23.78125 -13.375 27.78125 -13.375 \nQ 36.625 -13.375 41.015625 -8.765625 \nQ 45.40625 -4.15625 45.40625 5.171875 \nL 45.40625 9.625 \nQ 42.625 4.78125 38.28125 2.390625 \nQ 33.9375 0 27.875 0 \nQ 17.828125 0 11.671875 7.65625 \nQ 5.515625 15.328125 5.515625 27.984375 \nQ 5.515625 40.671875 11.671875 48.328125 \nQ 17.828125 56 27.875 56 \nQ 33.9375 56 38.28125 53.609375 \nQ 42.625 51.21875 45.40625 46.390625 \nL 45.40625 54.6875 \nL 54.390625 54.6875 \nz\n\" id=\"DejaVuSans-103\"/>\n     </defs>\n     <use xlink:href=\"#DejaVuSans-67\"/>\n     <use x=\"69.824219\" xlink:href=\"#DejaVuSans-111\"/>\n     <use x=\"131.005859\" xlink:href=\"#DejaVuSans-110\"/>\n     <use x=\"194.384766\" xlink:href=\"#DejaVuSans-100\"/>\n     <use x=\"257.861328\" xlink:href=\"#DejaVuSans-117\"/>\n     <use x=\"321.240234\" xlink:href=\"#DejaVuSans-99\"/>\n     <use x=\"376.220703\" xlink:href=\"#DejaVuSans-116\"/>\n     <use x=\"415.429688\" xlink:href=\"#DejaVuSans-97\"/>\n     <use x=\"476.708984\" xlink:href=\"#DejaVuSans-110\"/>\n     <use x=\"540.087891\" xlink:href=\"#DejaVuSans-99\"/>\n     <use x=\"595.068359\" xlink:href=\"#DejaVuSans-101\"/>\n     <use x=\"656.591797\" xlink:href=\"#DejaVuSans-32\"/>\n     <use x=\"688.378906\" xlink:href=\"#DejaVuSans-68\"/>\n     <use x=\"765.380859\" xlink:href=\"#DejaVuSans-105\"/>\n     <use x=\"793.164062\" xlink:href=\"#DejaVuSans-115\"/>\n     <use x=\"845.263672\" xlink:href=\"#DejaVuSans-116\"/>\n     <use x=\"884.472656\" xlink:href=\"#DejaVuSans-46\"/>\n     <use x=\"916.259766\" xlink:href=\"#DejaVuSans-32\"/>\n     <use x=\"948.046875\" xlink:href=\"#DejaVuSans-66\"/>\n     <use x=\"1016.650391\" xlink:href=\"#DejaVuSans-114\"/>\n     <use x=\"1055.513672\" xlink:href=\"#DejaVuSans-111\"/>\n     <use x=\"1116.695312\" xlink:href=\"#DejaVuSans-97\"/>\n     <use x=\"1177.974609\" xlink:href=\"#DejaVuSans-100\"/>\n     <use x=\"1241.451172\" xlink:href=\"#DejaVuSans-101\"/>\n     <use x=\"1302.974609\" xlink:href=\"#DejaVuSans-110\"/>\n     <use x=\"1366.353516\" xlink:href=\"#DejaVuSans-105\"/>\n     <use x=\"1394.136719\" xlink:href=\"#DejaVuSans-110\"/>\n     <use x=\"1457.515625\" xlink:href=\"#DejaVuSans-103\"/>\n    </g>\n    <!-- (Tech C, Room Temp) -->\n    <g transform=\"translate(78.69 29.7555)scale(0.12 -0.12)\">\n     <defs>\n      <path d=\"M 31 75.875 \nQ 24.46875 64.65625 21.28125 53.65625 \nQ 18.109375 42.671875 18.109375 31.390625 \nQ 18.109375 20.125 21.3125 9.0625 \nQ 24.515625 -2 31 -13.1875 \nL 23.1875 -13.1875 \nQ 15.875 -1.703125 12.234375 9.375 \nQ 8.59375 20.453125 8.59375 31.390625 \nQ 8.59375 42.28125 12.203125 53.3125 \nQ 15.828125 64.359375 23.1875 75.875 \nz\n\" id=\"DejaVuSans-40\"/>\n      <path d=\"M -0.296875 72.90625 \nL 61.375 72.90625 \nL 61.375 64.59375 \nL 35.5 64.59375 \nL 35.5 0 \nL 25.59375 0 \nL 25.59375 64.59375 \nL -0.296875 64.59375 \nz\n\" id=\"DejaVuSans-84\"/>\n      <path d=\"M 54.890625 33.015625 \nL 54.890625 0 \nL 45.90625 0 \nL 45.90625 32.71875 \nQ 45.90625 40.484375 42.875 44.328125 \nQ 39.84375 48.1875 33.796875 48.1875 \nQ 26.515625 48.1875 22.3125 43.546875 \nQ 18.109375 38.921875 18.109375 30.90625 \nL 18.109375 0 \nL 9.078125 0 \nL 9.078125 75.984375 \nL 18.109375 75.984375 \nL 18.109375 46.1875 \nQ 21.34375 51.125 25.703125 53.5625 \nQ 30.078125 56 35.796875 56 \nQ 45.21875 56 50.046875 50.171875 \nQ 54.890625 44.34375 54.890625 33.015625 \nz\n\" id=\"DejaVuSans-104\"/>\n      <path d=\"M 11.71875 12.40625 \nL 22.015625 12.40625 \nL 22.015625 4 \nL 14.015625 -11.625 \nL 7.71875 -11.625 \nL 11.71875 4 \nz\n\" id=\"DejaVuSans-44\"/>\n      <path d=\"M 44.390625 34.1875 \nQ 47.5625 33.109375 50.5625 29.59375 \nQ 53.5625 26.078125 56.59375 19.921875 \nL 66.609375 0 \nL 56 0 \nL 46.6875 18.703125 \nQ 43.0625 26.03125 39.671875 28.421875 \nQ 36.28125 30.8125 30.421875 30.8125 \nL 19.671875 30.8125 \nL 19.671875 0 \nL 9.8125 0 \nL 9.8125 72.90625 \nL 32.078125 72.90625 \nQ 44.578125 72.90625 50.734375 67.671875 \nQ 56.890625 62.453125 56.890625 51.90625 \nQ 56.890625 45.015625 53.6875 40.46875 \nQ 50.484375 35.9375 44.390625 34.1875 \nz\nM 19.671875 64.796875 \nL 19.671875 38.921875 \nL 32.078125 38.921875 \nQ 39.203125 38.921875 42.84375 42.21875 \nQ 46.484375 45.515625 46.484375 51.90625 \nQ 46.484375 58.296875 42.84375 61.546875 \nQ 39.203125 64.796875 32.078125 64.796875 \nz\n\" id=\"DejaVuSans-82\"/>\n      <path d=\"M 52 44.1875 \nQ 55.375 50.25 60.0625 53.125 \nQ 64.75 56 71.09375 56 \nQ 79.640625 56 84.28125 50.015625 \nQ 88.921875 44.046875 88.921875 33.015625 \nL 88.921875 0 \nL 79.890625 0 \nL 79.890625 32.71875 \nQ 79.890625 40.578125 77.09375 44.375 \nQ 74.3125 48.1875 68.609375 48.1875 \nQ 61.625 48.1875 57.5625 43.546875 \nQ 53.515625 38.921875 53.515625 30.90625 \nL 53.515625 0 \nL 44.484375 0 \nL 44.484375 32.71875 \nQ 44.484375 40.625 41.703125 44.40625 \nQ 38.921875 48.1875 33.109375 48.1875 \nQ 26.21875 48.1875 22.15625 43.53125 \nQ 18.109375 38.875 18.109375 30.90625 \nL 18.109375 0 \nL 9.078125 0 \nL 9.078125 54.6875 \nL 18.109375 54.6875 \nL 18.109375 46.1875 \nQ 21.1875 51.21875 25.484375 53.609375 \nQ 29.78125 56 35.6875 56 \nQ 41.65625 56 45.828125 52.96875 \nQ 50 49.953125 52 44.1875 \nz\n\" id=\"DejaVuSans-109\"/>\n      <path d=\"M 18.109375 8.203125 \nL 18.109375 -20.796875 \nL 9.078125 -20.796875 \nL 9.078125 54.6875 \nL 18.109375 54.6875 \nL 18.109375 46.390625 \nQ 20.953125 51.265625 25.265625 53.625 \nQ 29.59375 56 35.59375 56 \nQ 45.5625 56 51.78125 48.09375 \nQ 58.015625 40.1875 58.015625 27.296875 \nQ 58.015625 14.40625 51.78125 6.484375 \nQ 45.5625 -1.421875 35.59375 -1.421875 \nQ 29.59375 -1.421875 25.265625 0.953125 \nQ 20.953125 3.328125 18.109375 8.203125 \nz\nM 48.6875 27.296875 \nQ 48.6875 37.203125 44.609375 42.84375 \nQ 40.53125 48.484375 33.40625 48.484375 \nQ 26.265625 48.484375 22.1875 42.84375 \nQ 18.109375 37.203125 18.109375 27.296875 \nQ 18.109375 17.390625 22.1875 11.75 \nQ 26.265625 6.109375 33.40625 6.109375 \nQ 40.53125 6.109375 44.609375 11.75 \nQ 48.6875 17.390625 48.6875 27.296875 \nz\n\" id=\"DejaVuSans-112\"/>\n      <path d=\"M 8.015625 75.875 \nL 15.828125 75.875 \nQ 23.140625 64.359375 26.78125 53.3125 \nQ 30.421875 42.28125 30.421875 31.390625 \nQ 30.421875 20.453125 26.78125 9.375 \nQ 23.140625 -1.703125 15.828125 -13.1875 \nL 8.015625 -13.1875 \nQ 14.5 -2 17.703125 9.0625 \nQ 20.90625 20.125 20.90625 31.390625 \nQ 20.90625 42.671875 17.703125 53.65625 \nQ 14.5 64.65625 8.015625 75.875 \nz\n\" id=\"DejaVuSans-41\"/>\n     </defs>\n     <use xlink:href=\"#DejaVuSans-40\"/>\n     <use x=\"39.013672\" xlink:href=\"#DejaVuSans-84\"/>\n     <use x=\"83.097656\" xlink:href=\"#DejaVuSans-101\"/>\n     <use x=\"144.621094\" xlink:href=\"#DejaVuSans-99\"/>\n     <use x=\"199.601562\" xlink:href=\"#DejaVuSans-104\"/>\n     <use x=\"262.980469\" xlink:href=\"#DejaVuSans-32\"/>\n     <use x=\"294.767578\" xlink:href=\"#DejaVuSans-67\"/>\n     <use x=\"364.591797\" xlink:href=\"#DejaVuSans-44\"/>\n     <use x=\"396.378906\" xlink:href=\"#DejaVuSans-32\"/>\n     <use x=\"428.166016\" xlink:href=\"#DejaVuSans-82\"/>\n     <use x=\"493.148438\" xlink:href=\"#DejaVuSans-111\"/>\n     <use x=\"554.330078\" xlink:href=\"#DejaVuSans-111\"/>\n     <use x=\"615.511719\" xlink:href=\"#DejaVuSans-109\"/>\n     <use x=\"712.923828\" xlink:href=\"#DejaVuSans-32\"/>\n     <use x=\"744.710938\" xlink:href=\"#DejaVuSans-84\"/>\n     <use x=\"788.794922\" xlink:href=\"#DejaVuSans-101\"/>\n     <use x=\"850.318359\" xlink:href=\"#DejaVuSans-109\"/>\n     <use x=\"947.730469\" xlink:href=\"#DejaVuSans-112\"/>\n     <use x=\"1011.207031\" xlink:href=\"#DejaVuSans-41\"/>\n    </g>\n   </g>\n  </g>\n </g>\n</svg>\n",
      "text/plain": [
       "<Figure size 288x194.4 with 1 Axes>"
      ]
     },
     "metadata": {
      "needs_background": "light"
     },
     "output_type": "display_data"
    }
   ],
   "source": [
    "# Select ranges to study\n",
    "ranges = [0, 8, 16, 24, 30]\n",
    "\n",
    "# Conductance broadening behavior\n",
    "fig = plt.figure(figsize=(4, 2.7))\n",
    "ax = fig.add_subplot(111)\n",
    "ax.set_title(f\"Conductance Dist. Broadening\\n(Tech {TECH}, Room Temp)\")\n",
    "colors = plt.rcParams[\"axes.prop_cycle\"].by_key()[\"color\"]\n",
    "for time, color in zip(settings[\"times\"], colors):\n",
    "    for r in ranges:\n",
    "        gx = np.linspace(0, settings[\"gmax\"] * 1.1e6, 500)\n",
    "        gvals = data[(data[\"range\"] == r) & (data[\"timept\"] == time)][\"g\"]\n",
    "        # pdf = scipy.stats.gaussian_kde(gvals * 1e6).pdf(gx)\n",
    "        cdf = np.sort(gvals) * 1e6\n",
    "        print(cdf)\n",
    "        pdf = len(gvals)/np.diff(cdf)\n",
    "        label = (f\"t={time}s\" if time < 100 else f\"t=1E{int(np.log10(time))}s\") if r == 30 else None\n",
    "        plt.plot(np.sort(gvals) * 1e6, pdf, color=color, label=label, linewidth=0.8)\n",
    "ax.legend(ncol=3, handletextpad=0.2, fontsize=\"small\")\n",
    "ax.set_ylim(*settings[\"gbroad_ylim\"])\n",
    "ax.set_xlabel(\"Conductance (µS)\")\n",
    "ax.set_ylabel(\"KDE Probability Density\")\n",
    "plt.savefig(f\"figs/tech{TECH}/broadening-time.pdf\", bbox_inches=\"tight\")\n",
    "plt.show()"
   ]
  },
  {
   "cell_type": "markdown",
   "metadata": {},
   "source": [
    "### Mean Drift and Variance Growth (Time Dependence)\n",
    "Here, we examine the drift of the distribution mean and variance growth as a function of time."
   ]
  },
  {
   "cell_type": "code",
   "execution_count": null,
   "metadata": {},
   "outputs": [],
   "source": [
    "# Mean drift behavior (time dependence)\n",
    "fig = plt.figure(figsize=(4, 3.5))\n",
    "ax = fig.add_subplot(111)\n",
    "ax.set_title(f\"Mean Conductance Drift vs. Time\\n(Tech {TECH}, Room Temp)\")\n",
    "colors = plt.rcParams[\"axes.prop_cycle\"].by_key()[\"color\"]\n",
    "for r, color in zip(ranges, colors):\n",
    "    d = data[(data[\"range\"] == r) & (data[\"gi\"] <= settings[\"gmax\"])]\n",
    "    gi = d.groupby(\"timept\").mean()[\"gi\"] * 1e6\n",
    "    gf = d.groupby(\"timept\").mean()[\"g\"] * 1e6\n",
    "    deltag = gf - gi\n",
    "    plt.plot(deltag.index, deltag, '-D', color=color, label=r, linewidth=0.8)\n",
    "ax.legend(title=\"Cond. Range #\", ncol=2 if TECH == 'C' else 3, handletextpad=0.2)\n",
    "if \"gmeandrift_t_ylim\" in settings:\n",
    "    ax.set_ylim(*settings[\"gmeandrift_t_ylim\"])\n",
    "ax.set_xscale(\"log\")\n",
    "ax.set_xlabel(\"Time (s)\")\n",
    "ax.set_ylabel(\"Mean Drift (µS)\")\n",
    "plt.savefig(f\"figs/tech{TECH}/mean-drift-vs-time.pdf\", bbox_inches=\"tight\")\n",
    "plt.show()"
   ]
  },
  {
   "cell_type": "code",
   "execution_count": null,
   "metadata": {
    "collapsed": false,
    "pycharm": {
     "name": "#%%\n"
    }
   },
   "outputs": [],
   "source": [
    "# Variance behavior fitting on time dependence (var(g, t) = C1(g) * log(t) + C2(g))\n",
    "fig = plt.figure(figsize=(4, 3.5))\n",
    "ax = fig.add_subplot(111)\n",
    "ax.set_title(f\"Conductance Variance vs. Time\\n(Tech {TECH}, Room Temp)\")\n",
    "C_fit = np.zeros((32, 2))\n",
    "for r in range(0, 32, 2):\n",
    "    d = data[(data[\"range\"] == r) & (data[\"gi\"] <= settings[\"gmax\"]) & (data[\"timept\"] > 0)]\n",
    "    gfvar = d.groupby(\"timept\").var()[\"g\"] * (1e6 ** 2)\n",
    "    #gfvar = d.groupby(\"timept\").agg(lambda x : scipy.stats.median_abs_deviation(x)**2)[\"g\"] * (1e6 ** 2)\n",
    "    fit = np.polyfit(np.log10(gfvar.index), gfvar.values, 1)\n",
    "    p = np.poly1d(fit)\n",
    "    if r in ranges:\n",
    "        C_fit[r, :] = fit\n",
    "        print(r, fit)\n",
    "        color = colors[ranges.index(r)]\n",
    "        ax.plot(gfvar.index, gfvar, '-D', color=color, label=r)\n",
    "        ax.plot(gfvar.index, p(np.log10(gfvar.index)), '--', color=color)\n",
    "ax.set_xscale(\"log\")\n",
    "ax.legend(title=\"Cond. Range #\", ncol=2, handletextpad=0.2)\n",
    "ax.set_xlabel(\"Time (s)\")\n",
    "ax.set_ylabel(\"Variance (µS$^2$)\")\n",
    "plt.savefig(f\"figs/tech{TECH}/var-vs-time.pdf\", bbox_inches=\"tight\")\n",
    "plt.show()\n",
    "\n",
    "fig = plt.figure(figsize=(4, 3.5))\n",
    "ax = fig.add_subplot(111)\n",
    "ax.plot(range(32), C_fit[:, 0], range(32), C_fit[:, 1] / C_fit[:, 0]) # C_fit[:, 1] / C_fit[:, 0] should be constant log(fs/2)\n",
    "ax.set_xlabel(\"Range\")\n",
    "plt.show()"
   ]
  },
  {
   "cell_type": "code",
   "execution_count": null,
   "metadata": {},
   "outputs": [],
   "source": []
  },
  {
   "cell_type": "markdown",
   "metadata": {},
   "source": [
    "### Mean Drift and Variance Growth (Conductance Dependence)\n",
    "Here, we examine the drift of the distribution mean and variance growth as a function of conductance."
   ]
  },
  {
   "cell_type": "code",
   "execution_count": null,
   "metadata": {},
   "outputs": [],
   "source": [
    "# Mean drift behavior (conductance dependence)\n",
    "fig = plt.figure(figsize=(4, 3.5))\n",
    "ax = fig.add_subplot(111)\n",
    "ax.set_title(f\"Mean Drift vs. Init. Conductance\\n(Tech {TECH}, Room Temp)\")\n",
    "colors = plt.rcParams[\"axes.prop_cycle\"].by_key()[\"color\"]\n",
    "for time, color in zip(settings[\"times\"], colors):\n",
    "    d = data[(data[\"timept\"] == time) & (data[\"gi\"] <= settings[\"gmax\"])]\n",
    "    gi = d.groupby(\"range\").mean()[\"gi\"] * 1e6\n",
    "    gf = d.groupby(\"range\").mean()[\"g\"] * 1e6\n",
    "    deltag = gf - gi\n",
    "    label = (f\"t={time}s\" if time < 100 else f\"t=1E{int(np.log10(time))}s\")\n",
    "    plt.plot(gi, deltag, '-+', color=color, label=label, linewidth=0.8)\n",
    "ax.legend(ncol=3, handletextpad=0.2, fontsize=\"small\")\n",
    "ax.set_ylim(*settings[\"gmeandrift_gi_ylim\"])\n",
    "ax.set_xlabel(\"Initial Conductance (µS)\")\n",
    "ax.set_ylabel(\"Mean Drift (µS)\")\n",
    "plt.savefig(f\"figs/tech{TECH}/mean-drift-vs-g.pdf\", bbox_inches=\"tight\")\n",
    "plt.show()"
   ]
  },
  {
   "cell_type": "code",
   "execution_count": null,
   "metadata": {},
   "outputs": [],
   "source": [
    "# Variance behavior (conductance dependence)\n",
    "fig = plt.figure(figsize=(4, 3.5))\n",
    "ax = fig.add_subplot(111)\n",
    "ax.set_title(f\"Variance vs. Init. Conductance\\n(Tech {TECH}, Room Temp)\")\n",
    "colors = plt.rcParams[\"axes.prop_cycle\"].by_key()[\"color\"]\n",
    "for time, color in zip(settings[\"times\"], colors):\n",
    "    d = data[(data[\"timept\"] == time) & (data[\"gi\"] <= settings[\"gmax\"])]\n",
    "    gi = d.groupby(\"range\").mean()[\"gi\"] * 1e6\n",
    "    gfvar = (d.groupby(\"range\")).var()[\"g\"] * (1e6 ** 2)\n",
    "    #gfvar = (d.groupby(\"range\")).agg(lambda x : scipy.stats.median_abs_deviation(x)**2)[\"g\"] * (1e6 ** 2)\n",
    "    label = (f\"t={time}s\" if time < 100 else f\"t=1E{int(np.log10(time))}s\")\n",
    "    plt.plot(gi, gfvar, '-+', color=color, label=label, linewidth=0.8)\n",
    "ax.legend(ncol=3, handletextpad=0.2, fontsize=\"small\")\n",
    "ax.set_ylim(*settings[\"gvar_gi_ylim\"])\n",
    "ax.set_xlabel(\"Initial Conductance (µS)\")\n",
    "ax.set_ylabel(\"Variance (µS$^2$)\")\n",
    "plt.savefig(f\"figs/tech{TECH}/var-vs-g.pdf\", bbox_inches=\"tight\")\n",
    "plt.show()"
   ]
  },
  {
   "cell_type": "code",
   "execution_count": null,
   "metadata": {},
   "outputs": [],
   "source": [
    "# Norm. stdev. behavior (conductance dependence)\n",
    "fig = plt.figure(figsize=(4, 3.5))\n",
    "ax = fig.add_subplot(111)\n",
    "ax.set_title(f\"Norm. Stdev. vs. Init. Conductance\\n(Tech {TECH}, Room Temp)\")\n",
    "colors = plt.rcParams[\"axes.prop_cycle\"].by_key()[\"color\"]\n",
    "for time, color in zip(settings[\"times\"], colors):\n",
    "    d = data[(data[\"timept\"] == time) & (data[\"gi\"] <= settings[\"gmax\"])]\n",
    "    gi = d.groupby(\"range\").mean()[\"gi\"]*1e6\n",
    "    gfnormdev = d.groupby(\"range\").std()[\"g\"] / d.groupby(\"range\").mean()[\"gi\"]\n",
    "    label = (f\"t={time}s\" if time < 100 else f\"t=1E{int(np.log10(time))}s\")\n",
    "    plt.plot(gi, gfnormdev, '-+', color=color, label=label, linewidth=0.8)\n",
    "ax.legend(ncol=3, handletextpad=0.2, fontsize=\"small\")\n",
    "#ax.set_ylim(*settings[\"gvar_gi_ylim\"])\n",
    "ax.set_xlabel(\"Initial Conductance (µS)\")\n",
    "ax.set_ylabel(\"Stdev. / Init. Conductance\")\n",
    "plt.savefig(f\"figs/tech{TECH}/norm-stdev-vs-g.pdf\", bbox_inches=\"tight\")\n",
    "plt.show()"
   ]
  },
  {
   "cell_type": "markdown",
   "metadata": {},
   "source": [
    "## Temperature dependence analysis via 1hr bake\n",
    "\n",
    "Here, we analyze the effect of baking on the distribution broadening. In particular, we will examine examples of the conductance distributions broadening for different temperatures and then analyze the temperature-dependent mean drift and variance. We can first load the data and preprocess it a little bit:"
   ]
  },
  {
   "cell_type": "code",
   "execution_count": null,
   "metadata": {},
   "outputs": [],
   "source": [
    "# Load data for technology\n",
    "colnames = [\"addr\", \"time\", \"r\", \"g\", \"temp\"]\n",
    "data = pd.read_csv(f\"data/tech{TECH}/bake.tsv.gz\", names=colnames, sep='\\t')\n",
    "\n",
    "# Get conductance range\n",
    "data[\"gi\"] = data.groupby([\"addr\", \"temp\"])[\"g\"].transform(\"first\")\n",
    "data[\"range\"] = np.int32(data[\"gi\"] / settings[\"gmax\"] * 32)\n",
    "\n",
    "# Filter out the rest of the data\n",
    "data = data[data[\"time\"] > 100].groupby([\"addr\", \"temp\"]).first().reset_index()\n",
    "\n",
    "# Show data\n",
    "data.head()"
   ]
  },
  {
   "cell_type": "markdown",
   "metadata": {},
   "source": [
    "### Conductance distribution broadening behavior\n",
    "\n",
    "Below are examples of conductance broadening behavior at different temperatures:"
   ]
  },
  {
   "cell_type": "code",
   "execution_count": null,
   "metadata": {},
   "outputs": [],
   "source": [
    "# Select ranges to study\n",
    "ranges = [0, 8, 16, 24, 31]\n",
    "\n",
    "# Conductance broadening behavior\n",
    "fig = plt.figure(figsize=(4, 2.7))\n",
    "ax = fig.add_subplot(111)\n",
    "ax.set_title(f\"Conductance Dist. Broadening\\n(Tech {TECH}, 1hr Bake @ Temp T)\")\n",
    "colors = plt.rcParams[\"axes.prop_cycle\"].by_key()[\"color\"]\n",
    "for temp, color in zip(settings[\"temps\"], colors):\n",
    "    for r in ranges:\n",
    "        gx = np.linspace(0, settings[\"gmax\"]*1.1e6, 500)\n",
    "        gvals = data[(data[\"range\"] == r) & (data[\"temp\"] == temp)][\"g\"]\n",
    "        pdf = scipy.stats.gaussian_kde(gvals*1e6).pdf(gx)\n",
    "        plt.plot(gx, pdf, color=color, label=f\"T={temp}°C\" if r==0 else None, linewidth=0.8)\n",
    "ax.legend(ncol=2, handletextpad=0.2)\n",
    "ax.set_xlim(0, settings[\"gmax\"]*1.1e6)\n",
    "ax.set_ylim(*settings[\"gbroad_temp_ylim\"])\n",
    "ax.set_xlabel(\"Conductance (µS)\")\n",
    "ax.set_ylabel(\"KDE Probability Density\")\n",
    "plt.savefig(f\"figs/tech{TECH}/broadening-temp.pdf\", bbox_inches=\"tight\")\n",
    "plt.show()"
   ]
  },
  {
   "cell_type": "code",
   "execution_count": null,
   "metadata": {},
   "outputs": [],
   "source": [
    "# Mean drift behavior (temperature dependence)\n",
    "fig = plt.figure(figsize=(4, 3.5))\n",
    "ax = fig.add_subplot(111)\n",
    "ax.set_title(f\"Mean Conductance Drift vs. Temperature\\n(Tech {TECH}, 1hr Bake @ Temp T)\")\n",
    "colors = plt.rcParams[\"axes.prop_cycle\"].by_key()[\"color\"]\n",
    "for r, color in zip(ranges, colors):\n",
    "    d = data[data[\"range\"] == r]\n",
    "    gi = d.groupby(\"temp\").mean()[\"gi\"]*1e6\n",
    "    gf = d.groupby(\"temp\").mean()[\"g\"]*1e6\n",
    "    deltag = gf - gi\n",
    "    plt.plot(deltag.index, deltag, '-D', color=color, label=r, linewidth=0.8)\n",
    "ax.legend(title=\"Conductance Range #\", ncol=2 if TECH == 'C' else 3, handletextpad=0.2)\n",
    "if \"gmeandrift_temp_ylim\" in settings:\n",
    "    ax.set_ylim(*settings[\"gmeandrift_temp_ylim\"])\n",
    "ax.set_xlabel(\"Temperature (°C)\")\n",
    "ax.set_ylabel(\"Mean Drift (µS)\")\n",
    "plt.savefig(f\"figs/tech{TECH}/mean-drift-vs-temp.pdf\", bbox_inches=\"tight\")\n",
    "plt.show()"
   ]
  },
  {
   "cell_type": "code",
   "execution_count": null,
   "metadata": {},
   "outputs": [],
   "source": [
    "# Variance behavior (temperature dependence)\n",
    "fig = plt.figure(figsize=(4, 3.5))\n",
    "ax = fig.add_subplot(111)\n",
    "ax.set_title(f\"Conductance Variance vs. Temperature\\n(Tech {TECH}, 1hr Bake @ Temp T)\")\n",
    "colors = plt.rcParams[\"axes.prop_cycle\"].by_key()[\"color\"]\n",
    "for r, color in zip(ranges, colors):\n",
    "    d = data[data[\"range\"] == r]\n",
    "    gfvar = d.groupby(\"temp\").var()[\"g\"]*(1e6**2)\n",
    "    plt.plot(gfvar.index, gfvar, '-D', color=color, label=r, linewidth=0.8)\n",
    "ax.legend(title=\"Cond. Range #\", ncol=1, handletextpad=0.2)\n",
    "if \"gvar_temp_ylim\" in settings:\n",
    "    ax.set_ylim(*settings[\"gvar_temp_ylim\"])\n",
    "ax.set_xlabel(\"Temperature (°C)\")\n",
    "ax.set_ylabel(\"Variance (µS$^2$)\")\n",
    "plt.savefig(f\"figs/tech{TECH}/var-vs-temp.pdf\", bbox_inches=\"tight\")\n",
    "plt.show()"
   ]
  },
  {
   "cell_type": "code",
   "execution_count": null,
   "metadata": {},
   "outputs": [],
   "source": [
    "# TTF behavior (temperature dependence)\n",
    "fig = plt.figure(figsize=(4, 3.5))\n",
    "ax = fig.add_subplot(111)\n",
    "ax.set_title(f\"TTV 100uS$^2$ vs. 1/Temperature\\n(Tech {TECH}, 1hr Bake @ Temp T)\")\n",
    "colors = plt.rcParams[\"axes.prop_cycle\"].by_key()[\"color\"]\n",
    "for r, color in zip(ranges, colors):\n",
    "    d = data[data[\"range\"] == r]\n",
    "    gfvar = d.groupby(\"temp\").var()[\"g\"]*(1e6**2)\n",
    "    fit = C_fit[r,:]\n",
    "    invfitfn = np.poly1d([1/fit[0], -fit[1]/fit[0]])\n",
    "    times = invfitfn(gfvar)\n",
    "    plt.plot(1/(gfvar.index+273), times, '-D', color=color, label=r, linewidth=0.8)\n",
    "ax.legend(title=\"Cond. Range #\", ncol=1, handletextpad=0.2)\n",
    "ax.set_yscale('log')\n",
    "ax.set_xlabel(\"1/T (K$^{-1}$)\")\n",
    "ax.set_ylabel(\"Time to Variance (s)\")\n",
    "plt.savefig(f\"figs/tech{TECH}/var-vs-temp.pdf\", bbox_inches=\"tight\")\n",
    "plt.show()\n",
    "\n"
   ]
  },
  {
   "cell_type": "markdown",
   "metadata": {},
   "source": [
    "### Temperature dependence fitting\n",
    "\n",
    "Here we fit the temperature dependence parameters. The basic idea is to match the time dependence with the temperature dependence, and limit the number of assumptions made to derive the carrier distribution from temperature dependence. According to the equation $\\sigma_{\\Delta x}^2(t, T) = \\frac{\\pi (\\rho_x w_0^3)^2 \\ln(f_s t / 2)}{(E_{a2}-E_{a1})/kT + \\gamma (d_2 - d_1)}$, for any temperature $T_1$ other than room temperature $T_0$, there exists some time $\\tilde{t}$ such that $\\sigma_{\\Delta x}^2(\\tilde{t}, T_1) = \\sigma_{\\Delta x}^2(t, T_0)$ holds on both width and length directions. Hence without approximating the final conductance variance on only one dimension, there should be $\\text{Var}(g_j, \\tilde{t}, T_1) = \\text{Var}(g_j, t, T_0)$ for all $j$.\n",
    "\n",
    "For any time dependence relationship $\\text{Var}(g_j, t, T_0) = f_j (t)$, we could extract $\\tilde{t}$ from the temperature-dependent variance data, and get the ratio of the denominator $(E_{a2}-E_{a1})/kT + \\gamma (d_2 - d_1)$ from $\\ln(f_s t / 2)$. In tech B example, the time dependence is shows a linear $\\ln(f_s t / 2)$ relationship, so the denominator ratio would be exactly the variance ratio, but such a linear $\\ln{t}$ relationship is not needed for assumption here. We could derive the ratio between $E_{a2}-E_{a1}$ and $\\gamma (d_2 - d_1)$ from the plot. Moreover, the denominator might not be linear with $1/kT$ if the carriers are not uniformly distributed, in which case the more complicated relationship could be reversely derived from the $\\ln(f_s \\tilde{t} / 2)$-$1/kT$ relationship."
   ]
  },
  {
   "cell_type": "code",
   "execution_count": null,
   "metadata": {
    "collapsed": false,
    "pycharm": {
     "name": "#%%\n"
    }
   },
   "outputs": [],
   "source": [
    "fig = plt.figure(figsize=(4, 3.5))\n",
    "ax = fig.add_subplot(111)\n",
    "colors = plt.rcParams[\"axes.prop_cycle\"].by_key()[\"color\"]\n",
    "ranges = list(range(16, 31, 2))\n",
    "for r, color in zip(ranges, colors):\n",
    "    temp = np.array(settings[\"temps\"]) + 273.15\n",
    "    d = data[data[\"range\"] == r]\n",
    "    gfvar = d.groupby(\"temp\").var()[\"g\"]\n",
    "    ttrv = np.exp(gfvar)\n",
    "    ax.plot(1 / temp[:-2], 1 / gfvar[:-2], '-x', color=color, label=r, linewidth=0.8)\n",
    "    ax.set_xlabel(\"1/T (1/K)\")\n",
    "    # fit = np.polyfit(1 / temp, 1 / x, 1)\n",
    "    # print(fit)\n",
    "ax.legend(title=\"Cond. Range #\", ncol=1, handletextpad=0.2)\n",
    "ax.set_yscale('log')\n",
    "plt.show()"
   ]
  }
 ],
 "metadata": {
  "interpreter": {
   "hash": "c30f2af5f468e7f5b45bcc30fca5f4886c90d54777aed916ed5f6294dfb24bf2"
  },
  "kernelspec": {
   "display_name": "Python 3.8.3 64-bit ('base': conda)",
   "name": "python3"
  },
  "language_info": {
   "codemirror_mode": {
    "name": "ipython",
    "version": 3
   },
   "file_extension": ".py",
   "mimetype": "text/x-python",
   "name": "python",
   "nbconvert_exporter": "python",
   "pygments_lexer": "ipython3",
   "version": "3.8.3"
  },
  "orig_nbformat": 4
 },
 "nbformat": 4,
 "nbformat_minor": 2
}
