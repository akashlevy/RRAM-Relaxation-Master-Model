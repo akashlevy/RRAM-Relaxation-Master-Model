{
 "cells": [
  {
   "cell_type": "markdown",
   "metadata": {},
   "source": [
    "# RRAM Relaxation Data Notebook\n",
    "\n",
    "This notebook contains the analysis on empirical RRAM relaxation data across three technologies (A, B, C). It loads and processes the measurements taken for each technology."
   ]
  },
  {
   "cell_type": "code",
   "execution_count": 9,
   "metadata": {},
   "outputs": [],
   "source": [
    "# Imports\n",
    "import gzip\n",
    "import json\n",
    "import matplotlib.pyplot as plt\n",
    "import numpy as np\n",
    "import pandas as pd\n",
    "import scipy.signal\n",
    "import scipy.stats\n",
    "# from matplotlib.offsetbox import AnchoredText\n",
    "\n",
    "%config InlineBackend.figure_format = 'svg'"
   ]
  },
  {
   "cell_type": "markdown",
   "metadata": {},
   "source": [
    "## Load the technology and its settings\n",
    "\n",
    "Below, choose which technology to load data and settings for:"
   ]
  },
  {
   "cell_type": "code",
   "execution_count": 13,
   "metadata": {},
   "outputs": [],
   "source": [
    "# Choose technology here\n",
    "TECH = 'C'\n",
    "\n",
    "# Load settings for technology\n",
    "with open(f\"data/tech{TECH}/settings.json\") as sfile:\n",
    "    settings = json.load(sfile)"
   ]
  },
  {
   "cell_type": "markdown",
   "metadata": {},
   "source": [
    "## Time series analysis\n",
    "In this section, we will look at example time series data on a log scale and also examine the power spectral density (PSD). First, let us load the time series data:"
   ]
  },
  {
   "cell_type": "markdown",
   "metadata": {},
   "source": [
    "### Example Time Series Data\n",
    "\n",
    "Below, we can look at the time series data for the ranges chosen above:"
   ]
  },
  {
   "cell_type": "code",
   "execution_count": null,
   "metadata": {},
   "outputs": [],
   "source": [
    "# Load data for technology\n",
    "with gzip.open(f\"data/tech{TECH}/tsdata.min.tsv.gz\", \"rt\") as datafile:\n",
    "    # Plot example time series data\n",
    "    fig = plt.figure(figsize=(4,2.7))\n",
    "    ax = fig.add_subplot(111)\n",
    "    ax.set_title(f\"Conductance Time Series Examples\\n(Tech {TECH}, Room Temp)\")\n",
    "    for r in settings[\"ts_ranges\"]:\n",
    "        # Select data\n",
    "        d = datafile.readline()\n",
    "        print(r, \"step 1\")\n",
    "        d = np.fromstring(d, dtype=float, sep='\\t')[2:]\n",
    "        print(r, \"step 2\")\n",
    "\n",
    "        # Plot time series data\n",
    "        plt.plot(np.arange(len(d))/settings[\"fs\"], d*1e6, label=r, linewidth=0.8)\n",
    "\n",
    "    # Format and display\n",
    "    ax.legend(title=\"Conductance Range #\", ncol=4, loc=9)\n",
    "    ax.set_ylim(*settings[\"ts_ylim\"])\n",
    "    ax.set_xlabel(\"Time (s)\")\n",
    "    ax.set_ylabel(\"Meas. Conductance (µS)\")\n",
    "    ax.set_xscale(\"log\")\n",
    "    plt.savefig(f\"figs/tech{TECH}/time-series.png\", dpi=300, bbox_inches=\"tight\")\n",
    "    plt.show()"
   ]
  },
  {
   "cell_type": "markdown",
   "metadata": {},
   "source": [
    "### Power Spectral Density (PSD)\n",
    "\n",
    "In this section, we will look at the PSDs to understand the relaxation behavior better:"
   ]
  },
  {
   "cell_type": "code",
   "execution_count": null,
   "metadata": {},
   "outputs": [],
   "source": [
    "# Load data for technology\n",
    "with gzip.open(f\"data/tech{TECH}/tsdata.min.tsv.gz\", \"rt\") as datafile:\n",
    "    # Plot power spectral density (PSD)\n",
    "    fig = plt.figure(figsize=(4,4))\n",
    "    ax = fig.add_subplot(111)\n",
    "    ax.set_title(f\"Conductance Power Spectral Density\\n(Tech {TECH}, Room Temp)\")\n",
    "    slopes = []\n",
    "    for i, r in enumerate(settings[\"ts_ranges\"]):\n",
    "        # Select data\n",
    "        d = datafile.readline()\n",
    "        print(r, \"step 1\")\n",
    "        d = np.fromstring(d, dtype=float, sep='\\t')[2:]\n",
    "        print(r, \"step 2\")\n",
    "\n",
    "        # # Lomb-Scargle PSD\n",
    "        # f = np.logspace(np.log10(1/600), np.log10(2), 500)\n",
    "        # f = np.logspace(np.log10(2), np.log10(400/2), 1000)\n",
    "        # p = scipy.signal.lombscargle(d[\"time\"], d[\"g\"], f)\n",
    "\n",
    "        # Welch PSD\n",
    "        f, p = scipy.signal.welch(d, fs=settings[\"fs\"], nperseg=settings[\"psd_nperseg\"])\n",
    "        plt.plot(f, p, label=r, linewidth=0.8)\n",
    "\n",
    "        # # Power law fit\n",
    "        # a, b = np.polyfit(np.log(f[[30,-30]]), np.log(p[[30,-30]]), 1)\n",
    "        # print(f\"Range {r} slope: {a}\")\n",
    "        # slopes.append(a)\n",
    "        # plt.plot(f[1:], np.exp(a*np.log(f[1:]) + b), 'k--', zorder=10, linewidth=2)\n",
    "\n",
    "        # # 1/f fit\n",
    "        # fitfn = lambda logf, A: A - logf\n",
    "        # params, _ = scipy.optimize.curve_fit(fitfn, np.log(f), np.log(p))\n",
    "        # A = params[0]\n",
    "        # print(A)\n",
    "        # plt.plot(f, np.exp(fitfn(np.log(f), A)), 'k--', zorder=10, linewidth=2)\n",
    "\n",
    "    # Format and display\n",
    "    # ax.add_artist(AnchoredText(\"Slopes: [%.2f, %.2f]\" % (max(slopes), min(slopes)), loc=1, frameon=False))\n",
    "    plt.plot(*settings[\"psd_fpts\"], 'k--', zorder=10, linewidth=4)\n",
    "    if \"psd_f2pts\" in settings:\n",
    "        plt.plot(*settings[\"psd_f2pts\"], 'k--', zorder=10, linewidth=4)\n",
    "    ax.legend(title=\"Cond. Range #\", ncol=2, loc=3)\n",
    "    ax.set_xlabel(\"Frequency (Hz)\")\n",
    "    ax.set_ylabel(\"Power Spectral Density (S$^2$/Hz)\")\n",
    "    ax.set_xscale(\"log\")\n",
    "    ax.set_xlim(*settings[\"psd_xlim\"])\n",
    "    ax.set_ylim(*settings[\"psd_ylim\"])\n",
    "    ax.set_yscale(\"log\")\n",
    "    plt.text(*settings[\"psd_ftextloc\"], \"1/f behavior\")\n",
    "    if \"psd_f2textloc\" in settings:\n",
    "        plt.text(*settings[\"psd_f2textloc\"], \"1/f$^2$\")\n",
    "    plt.savefig(f\"figs/tech{TECH}/psd.png\", dpi=300, bbox_inches=\"tight\")\n",
    "    plt.show()"
   ]
  },
  {
   "cell_type": "markdown",
   "metadata": {},
   "source": [
    "## Relaxation data analysis\n",
    "\n",
    "Here, we will be analyzing the large dataset relaxation behavior. We will examine: (1) examples of conductance distribution broadening behavior over time, (2) scatterplot of conductance deviation vs. conductance, (3) standard deviation vs. time for different starting conductance values. First let us load the data:"
   ]
  },
  {
   "cell_type": "code",
   "execution_count": 14,
   "metadata": {},
   "outputs": [
    {
     "data": {
      "text/html": [
       "<div>\n",
       "<style scoped>\n",
       "    .dataframe tbody tr th:only-of-type {\n",
       "        vertical-align: middle;\n",
       "    }\n",
       "\n",
       "    .dataframe tbody tr th {\n",
       "        vertical-align: top;\n",
       "    }\n",
       "\n",
       "    .dataframe thead th {\n",
       "        text-align: right;\n",
       "    }\n",
       "</style>\n",
       "<table border=\"1\" class=\"dataframe\">\n",
       "  <thead>\n",
       "    <tr style=\"text-align: right;\">\n",
       "      <th></th>\n",
       "      <th>addr</th>\n",
       "      <th>time</th>\n",
       "      <th>r</th>\n",
       "      <th>g</th>\n",
       "      <th>gi</th>\n",
       "      <th>range</th>\n",
       "      <th>timept</th>\n",
       "    </tr>\n",
       "  </thead>\n",
       "  <tbody>\n",
       "    <tr>\n",
       "      <th>0</th>\n",
       "      <td>10354</td>\n",
       "      <td>0.0</td>\n",
       "      <td>2.082326e+06</td>\n",
       "      <td>4.802322e-07</td>\n",
       "      <td>4.802322e-07</td>\n",
       "      <td>0</td>\n",
       "      <td>0.0</td>\n",
       "    </tr>\n",
       "    <tr>\n",
       "      <th>1</th>\n",
       "      <td>10191</td>\n",
       "      <td>0.0</td>\n",
       "      <td>2.375569e+06</td>\n",
       "      <td>4.209518e-07</td>\n",
       "      <td>4.209518e-07</td>\n",
       "      <td>0</td>\n",
       "      <td>0.0</td>\n",
       "    </tr>\n",
       "    <tr>\n",
       "      <th>2</th>\n",
       "      <td>13027</td>\n",
       "      <td>0.0</td>\n",
       "      <td>1.586060e+06</td>\n",
       "      <td>6.304932e-07</td>\n",
       "      <td>6.304932e-07</td>\n",
       "      <td>0</td>\n",
       "      <td>0.0</td>\n",
       "    </tr>\n",
       "    <tr>\n",
       "      <th>3</th>\n",
       "      <td>7397</td>\n",
       "      <td>0.0</td>\n",
       "      <td>2.592918e+06</td>\n",
       "      <td>3.856659e-07</td>\n",
       "      <td>3.856659e-07</td>\n",
       "      <td>0</td>\n",
       "      <td>0.0</td>\n",
       "    </tr>\n",
       "    <tr>\n",
       "      <th>4</th>\n",
       "      <td>2216</td>\n",
       "      <td>0.0</td>\n",
       "      <td>2.542619e+06</td>\n",
       "      <td>3.932953e-07</td>\n",
       "      <td>3.932953e-07</td>\n",
       "      <td>0</td>\n",
       "      <td>0.0</td>\n",
       "    </tr>\n",
       "  </tbody>\n",
       "</table>\n",
       "</div>"
      ],
      "text/plain": [
       "    addr  time             r             g            gi  range  timept\n",
       "0  10354   0.0  2.082326e+06  4.802322e-07  4.802322e-07      0     0.0\n",
       "1  10191   0.0  2.375569e+06  4.209518e-07  4.209518e-07      0     0.0\n",
       "2  13027   0.0  1.586060e+06  6.304932e-07  6.304932e-07      0     0.0\n",
       "3   7397   0.0  2.592918e+06  3.856659e-07  3.856659e-07      0     0.0\n",
       "4   2216   0.0  2.542619e+06  3.932953e-07  3.932953e-07      0     0.0"
      ]
     },
     "execution_count": 14,
     "metadata": {},
     "output_type": "execute_result"
    }
   ],
   "source": [
    "# Load data for technology\n",
    "colnames = [\"addr\", \"time\", \"r\", \"g\", \"gi\", \"range\", \"timept\"]\n",
    "data = pd.read_csv(f\"data/tech{TECH}/relaxdata.min.tsv.gz\", names=colnames, sep='\\t')\n",
    "#data = data[data[\"addr\"] % 2 == 0]\n",
    "#data = data[data[\"range\"] % 2 == 0]\n",
    "data.head()"
   ]
  },
  {
   "cell_type": "markdown",
   "metadata": {},
   "source": [
    "### Conductance distribution broadening behavior\n",
    "\n",
    "Below are examples of conductance broadening behavior over time:"
   ]
  },
  {
   "cell_type": "code",
   "execution_count": 15,
   "metadata": {
    "tags": []
   },
   "outputs": [
    {
     "data": {
      "image/svg+xml": "<?xml version=\"1.0\" encoding=\"utf-8\" standalone=\"no\"?>\n<!DOCTYPE svg PUBLIC \"-//W3C//DTD SVG 1.1//EN\"\n  \"http://www.w3.org/Graphics/SVG/1.1/DTD/svg11.dtd\">\n<!-- Created with matplotlib (https://matplotlib.org/) -->\n<svg height=\"220.08375pt\" version=\"1.1\" viewBox=\"0 0 325.18375 220.08375\" width=\"325.18375pt\" xmlns=\"http://www.w3.org/2000/svg\" xmlns:xlink=\"http://www.w3.org/1999/xlink\">\n <metadata>\n  <rdf:RDF xmlns:cc=\"http://creativecommons.org/ns#\" xmlns:dc=\"http://purl.org/dc/elements/1.1/\" xmlns:rdf=\"http://www.w3.org/1999/02/22-rdf-syntax-ns#\">\n   <cc:Work>\n    <dc:type rdf:resource=\"http://purl.org/dc/dcmitype/StillImage\"/>\n    <dc:date>2022-01-25T02:57:43.420532</dc:date>\n    <dc:format>image/svg+xml</dc:format>\n    <dc:creator>\n     <cc:Agent>\n      <dc:title>Matplotlib v3.3.3, https://matplotlib.org/</dc:title>\n     </cc:Agent>\n    </dc:creator>\n   </cc:Work>\n  </rdf:RDF>\n </metadata>\n <defs>\n  <style type=\"text/css\">*{stroke-linecap:butt;stroke-linejoin:round;}</style>\n </defs>\n <g id=\"figure_1\">\n  <g id=\"patch_1\">\n   <path d=\"M 0 220.08375 \nL 325.18375 220.08375 \nL 325.18375 -0 \nL 0 -0 \nz\n\" style=\"fill:none;\"/>\n  </g>\n  <g id=\"axes_1\">\n   <g id=\"patch_2\">\n    <path d=\"M 50.14375 182.5275 \nL 317.98375 182.5275 \nL 317.98375 35.7555 \nL 50.14375 35.7555 \nz\n\" style=\"fill:#ffffff;\"/>\n   </g>\n   <g id=\"matplotlib.axis_1\">\n    <g id=\"xtick_1\">\n     <g id=\"line2d_1\">\n      <defs>\n       <path d=\"M 0 0 \nL 0 3.5 \n\" id=\"m7b80370933\" style=\"stroke:#000000;stroke-width:0.8;\"/>\n      </defs>\n      <g>\n       <use style=\"stroke:#000000;stroke-width:0.8;\" x=\"62.964087\" xlink:href=\"#m7b80370933\" y=\"182.5275\"/>\n      </g>\n     </g>\n     <g id=\"text_1\">\n      <!-- 0 -->\n      <g transform=\"translate(59.782837 197.125938)scale(0.1 -0.1)\">\n       <defs>\n        <path d=\"M 31.78125 66.40625 \nQ 24.171875 66.40625 20.328125 58.90625 \nQ 16.5 51.421875 16.5 36.375 \nQ 16.5 21.390625 20.328125 13.890625 \nQ 24.171875 6.390625 31.78125 6.390625 \nQ 39.453125 6.390625 43.28125 13.890625 \nQ 47.125 21.390625 47.125 36.375 \nQ 47.125 51.421875 43.28125 58.90625 \nQ 39.453125 66.40625 31.78125 66.40625 \nz\nM 31.78125 74.21875 \nQ 44.046875 74.21875 50.515625 64.515625 \nQ 56.984375 54.828125 56.984375 36.375 \nQ 56.984375 17.96875 50.515625 8.265625 \nQ 44.046875 -1.421875 31.78125 -1.421875 \nQ 19.53125 -1.421875 13.0625 8.265625 \nQ 6.59375 17.96875 6.59375 36.375 \nQ 6.59375 54.828125 13.0625 64.515625 \nQ 19.53125 74.21875 31.78125 74.21875 \nz\n\" id=\"DejaVuSans-48\"/>\n       </defs>\n       <use xlink:href=\"#DejaVuSans-48\"/>\n      </g>\n     </g>\n    </g>\n    <g id=\"xtick_2\">\n     <g id=\"line2d_2\">\n      <g>\n       <use style=\"stroke:#000000;stroke-width:0.8;\" x=\"115.5183\" xlink:href=\"#m7b80370933\" y=\"182.5275\"/>\n      </g>\n     </g>\n     <g id=\"text_2\">\n      <!-- 10 -->\n      <g transform=\"translate(109.1558 197.125938)scale(0.1 -0.1)\">\n       <defs>\n        <path d=\"M 12.40625 8.296875 \nL 28.515625 8.296875 \nL 28.515625 63.921875 \nL 10.984375 60.40625 \nL 10.984375 69.390625 \nL 28.421875 72.90625 \nL 38.28125 72.90625 \nL 38.28125 8.296875 \nL 54.390625 8.296875 \nL 54.390625 0 \nL 12.40625 0 \nz\n\" id=\"DejaVuSans-49\"/>\n       </defs>\n       <use xlink:href=\"#DejaVuSans-49\"/>\n       <use x=\"63.623047\" xlink:href=\"#DejaVuSans-48\"/>\n      </g>\n     </g>\n    </g>\n    <g id=\"xtick_3\">\n     <g id=\"line2d_3\">\n      <g>\n       <use style=\"stroke:#000000;stroke-width:0.8;\" x=\"168.072514\" xlink:href=\"#m7b80370933\" y=\"182.5275\"/>\n      </g>\n     </g>\n     <g id=\"text_3\">\n      <!-- 20 -->\n      <g transform=\"translate(161.710014 197.125938)scale(0.1 -0.1)\">\n       <defs>\n        <path d=\"M 19.1875 8.296875 \nL 53.609375 8.296875 \nL 53.609375 0 \nL 7.328125 0 \nL 7.328125 8.296875 \nQ 12.9375 14.109375 22.625 23.890625 \nQ 32.328125 33.6875 34.8125 36.53125 \nQ 39.546875 41.84375 41.421875 45.53125 \nQ 43.3125 49.21875 43.3125 52.78125 \nQ 43.3125 58.59375 39.234375 62.25 \nQ 35.15625 65.921875 28.609375 65.921875 \nQ 23.96875 65.921875 18.8125 64.3125 \nQ 13.671875 62.703125 7.8125 59.421875 \nL 7.8125 69.390625 \nQ 13.765625 71.78125 18.9375 73 \nQ 24.125 74.21875 28.421875 74.21875 \nQ 39.75 74.21875 46.484375 68.546875 \nQ 53.21875 62.890625 53.21875 53.421875 \nQ 53.21875 48.921875 51.53125 44.890625 \nQ 49.859375 40.875 45.40625 35.40625 \nQ 44.1875 33.984375 37.640625 27.21875 \nQ 31.109375 20.453125 19.1875 8.296875 \nz\n\" id=\"DejaVuSans-50\"/>\n       </defs>\n       <use xlink:href=\"#DejaVuSans-50\"/>\n       <use x=\"63.623047\" xlink:href=\"#DejaVuSans-48\"/>\n      </g>\n     </g>\n    </g>\n    <g id=\"xtick_4\">\n     <g id=\"line2d_4\">\n      <g>\n       <use style=\"stroke:#000000;stroke-width:0.8;\" x=\"220.626728\" xlink:href=\"#m7b80370933\" y=\"182.5275\"/>\n      </g>\n     </g>\n     <g id=\"text_4\">\n      <!-- 30 -->\n      <g transform=\"translate(214.264228 197.125938)scale(0.1 -0.1)\">\n       <defs>\n        <path d=\"M 40.578125 39.3125 \nQ 47.65625 37.796875 51.625 33 \nQ 55.609375 28.21875 55.609375 21.1875 \nQ 55.609375 10.40625 48.1875 4.484375 \nQ 40.765625 -1.421875 27.09375 -1.421875 \nQ 22.515625 -1.421875 17.65625 -0.515625 \nQ 12.796875 0.390625 7.625 2.203125 \nL 7.625 11.71875 \nQ 11.71875 9.328125 16.59375 8.109375 \nQ 21.484375 6.890625 26.8125 6.890625 \nQ 36.078125 6.890625 40.9375 10.546875 \nQ 45.796875 14.203125 45.796875 21.1875 \nQ 45.796875 27.640625 41.28125 31.265625 \nQ 36.765625 34.90625 28.71875 34.90625 \nL 20.21875 34.90625 \nL 20.21875 43.015625 \nL 29.109375 43.015625 \nQ 36.375 43.015625 40.234375 45.921875 \nQ 44.09375 48.828125 44.09375 54.296875 \nQ 44.09375 59.90625 40.109375 62.90625 \nQ 36.140625 65.921875 28.71875 65.921875 \nQ 24.65625 65.921875 20.015625 65.03125 \nQ 15.375 64.15625 9.8125 62.3125 \nL 9.8125 71.09375 \nQ 15.4375 72.65625 20.34375 73.4375 \nQ 25.25 74.21875 29.59375 74.21875 \nQ 40.828125 74.21875 47.359375 69.109375 \nQ 53.90625 64.015625 53.90625 55.328125 \nQ 53.90625 49.265625 50.4375 45.09375 \nQ 46.96875 40.921875 40.578125 39.3125 \nz\n\" id=\"DejaVuSans-51\"/>\n       </defs>\n       <use xlink:href=\"#DejaVuSans-51\"/>\n       <use x=\"63.623047\" xlink:href=\"#DejaVuSans-48\"/>\n      </g>\n     </g>\n    </g>\n    <g id=\"xtick_5\">\n     <g id=\"line2d_5\">\n      <g>\n       <use style=\"stroke:#000000;stroke-width:0.8;\" x=\"273.180941\" xlink:href=\"#m7b80370933\" y=\"182.5275\"/>\n      </g>\n     </g>\n     <g id=\"text_5\">\n      <!-- 40 -->\n      <g transform=\"translate(266.818441 197.125938)scale(0.1 -0.1)\">\n       <defs>\n        <path d=\"M 37.796875 64.3125 \nL 12.890625 25.390625 \nL 37.796875 25.390625 \nz\nM 35.203125 72.90625 \nL 47.609375 72.90625 \nL 47.609375 25.390625 \nL 58.015625 25.390625 \nL 58.015625 17.1875 \nL 47.609375 17.1875 \nL 47.609375 0 \nL 37.796875 0 \nL 37.796875 17.1875 \nL 4.890625 17.1875 \nL 4.890625 26.703125 \nz\n\" id=\"DejaVuSans-52\"/>\n       </defs>\n       <use xlink:href=\"#DejaVuSans-52\"/>\n       <use x=\"63.623047\" xlink:href=\"#DejaVuSans-48\"/>\n      </g>\n     </g>\n    </g>\n    <g id=\"text_6\">\n     <!-- Conductance (µS) -->\n     <g transform=\"translate(139.387187 210.804063)scale(0.1 -0.1)\">\n      <defs>\n       <path d=\"M 64.40625 67.28125 \nL 64.40625 56.890625 \nQ 59.421875 61.53125 53.78125 63.8125 \nQ 48.140625 66.109375 41.796875 66.109375 \nQ 29.296875 66.109375 22.65625 58.46875 \nQ 16.015625 50.828125 16.015625 36.375 \nQ 16.015625 21.96875 22.65625 14.328125 \nQ 29.296875 6.6875 41.796875 6.6875 \nQ 48.140625 6.6875 53.78125 8.984375 \nQ 59.421875 11.28125 64.40625 15.921875 \nL 64.40625 5.609375 \nQ 59.234375 2.09375 53.4375 0.328125 \nQ 47.65625 -1.421875 41.21875 -1.421875 \nQ 24.65625 -1.421875 15.125 8.703125 \nQ 5.609375 18.84375 5.609375 36.375 \nQ 5.609375 53.953125 15.125 64.078125 \nQ 24.65625 74.21875 41.21875 74.21875 \nQ 47.75 74.21875 53.53125 72.484375 \nQ 59.328125 70.75 64.40625 67.28125 \nz\n\" id=\"DejaVuSans-67\"/>\n       <path d=\"M 30.609375 48.390625 \nQ 23.390625 48.390625 19.1875 42.75 \nQ 14.984375 37.109375 14.984375 27.296875 \nQ 14.984375 17.484375 19.15625 11.84375 \nQ 23.34375 6.203125 30.609375 6.203125 \nQ 37.796875 6.203125 41.984375 11.859375 \nQ 46.1875 17.53125 46.1875 27.296875 \nQ 46.1875 37.015625 41.984375 42.703125 \nQ 37.796875 48.390625 30.609375 48.390625 \nz\nM 30.609375 56 \nQ 42.328125 56 49.015625 48.375 \nQ 55.71875 40.765625 55.71875 27.296875 \nQ 55.71875 13.875 49.015625 6.21875 \nQ 42.328125 -1.421875 30.609375 -1.421875 \nQ 18.84375 -1.421875 12.171875 6.21875 \nQ 5.515625 13.875 5.515625 27.296875 \nQ 5.515625 40.765625 12.171875 48.375 \nQ 18.84375 56 30.609375 56 \nz\n\" id=\"DejaVuSans-111\"/>\n       <path d=\"M 54.890625 33.015625 \nL 54.890625 0 \nL 45.90625 0 \nL 45.90625 32.71875 \nQ 45.90625 40.484375 42.875 44.328125 \nQ 39.84375 48.1875 33.796875 48.1875 \nQ 26.515625 48.1875 22.3125 43.546875 \nQ 18.109375 38.921875 18.109375 30.90625 \nL 18.109375 0 \nL 9.078125 0 \nL 9.078125 54.6875 \nL 18.109375 54.6875 \nL 18.109375 46.1875 \nQ 21.34375 51.125 25.703125 53.5625 \nQ 30.078125 56 35.796875 56 \nQ 45.21875 56 50.046875 50.171875 \nQ 54.890625 44.34375 54.890625 33.015625 \nz\n\" id=\"DejaVuSans-110\"/>\n       <path d=\"M 45.40625 46.390625 \nL 45.40625 75.984375 \nL 54.390625 75.984375 \nL 54.390625 0 \nL 45.40625 0 \nL 45.40625 8.203125 \nQ 42.578125 3.328125 38.25 0.953125 \nQ 33.9375 -1.421875 27.875 -1.421875 \nQ 17.96875 -1.421875 11.734375 6.484375 \nQ 5.515625 14.40625 5.515625 27.296875 \nQ 5.515625 40.1875 11.734375 48.09375 \nQ 17.96875 56 27.875 56 \nQ 33.9375 56 38.25 53.625 \nQ 42.578125 51.265625 45.40625 46.390625 \nz\nM 14.796875 27.296875 \nQ 14.796875 17.390625 18.875 11.75 \nQ 22.953125 6.109375 30.078125 6.109375 \nQ 37.203125 6.109375 41.296875 11.75 \nQ 45.40625 17.390625 45.40625 27.296875 \nQ 45.40625 37.203125 41.296875 42.84375 \nQ 37.203125 48.484375 30.078125 48.484375 \nQ 22.953125 48.484375 18.875 42.84375 \nQ 14.796875 37.203125 14.796875 27.296875 \nz\n\" id=\"DejaVuSans-100\"/>\n       <path d=\"M 8.5 21.578125 \nL 8.5 54.6875 \nL 17.484375 54.6875 \nL 17.484375 21.921875 \nQ 17.484375 14.15625 20.5 10.265625 \nQ 23.53125 6.390625 29.59375 6.390625 \nQ 36.859375 6.390625 41.078125 11.03125 \nQ 45.3125 15.671875 45.3125 23.6875 \nL 45.3125 54.6875 \nL 54.296875 54.6875 \nL 54.296875 0 \nL 45.3125 0 \nL 45.3125 8.40625 \nQ 42.046875 3.421875 37.71875 1 \nQ 33.40625 -1.421875 27.6875 -1.421875 \nQ 18.265625 -1.421875 13.375 4.4375 \nQ 8.5 10.296875 8.5 21.578125 \nz\nM 31.109375 56 \nz\n\" id=\"DejaVuSans-117\"/>\n       <path d=\"M 48.78125 52.59375 \nL 48.78125 44.1875 \nQ 44.96875 46.296875 41.140625 47.34375 \nQ 37.3125 48.390625 33.40625 48.390625 \nQ 24.65625 48.390625 19.8125 42.84375 \nQ 14.984375 37.3125 14.984375 27.296875 \nQ 14.984375 17.28125 19.8125 11.734375 \nQ 24.65625 6.203125 33.40625 6.203125 \nQ 37.3125 6.203125 41.140625 7.25 \nQ 44.96875 8.296875 48.78125 10.40625 \nL 48.78125 2.09375 \nQ 45.015625 0.34375 40.984375 -0.53125 \nQ 36.96875 -1.421875 32.421875 -1.421875 \nQ 20.0625 -1.421875 12.78125 6.34375 \nQ 5.515625 14.109375 5.515625 27.296875 \nQ 5.515625 40.671875 12.859375 48.328125 \nQ 20.21875 56 33.015625 56 \nQ 37.15625 56 41.109375 55.140625 \nQ 45.0625 54.296875 48.78125 52.59375 \nz\n\" id=\"DejaVuSans-99\"/>\n       <path d=\"M 18.3125 70.21875 \nL 18.3125 54.6875 \nL 36.8125 54.6875 \nL 36.8125 47.703125 \nL 18.3125 47.703125 \nL 18.3125 18.015625 \nQ 18.3125 11.328125 20.140625 9.421875 \nQ 21.96875 7.515625 27.59375 7.515625 \nL 36.8125 7.515625 \nL 36.8125 0 \nL 27.59375 0 \nQ 17.1875 0 13.234375 3.875 \nQ 9.28125 7.765625 9.28125 18.015625 \nL 9.28125 47.703125 \nL 2.6875 47.703125 \nL 2.6875 54.6875 \nL 9.28125 54.6875 \nL 9.28125 70.21875 \nz\n\" id=\"DejaVuSans-116\"/>\n       <path d=\"M 34.28125 27.484375 \nQ 23.390625 27.484375 19.1875 25 \nQ 14.984375 22.515625 14.984375 16.5 \nQ 14.984375 11.71875 18.140625 8.90625 \nQ 21.296875 6.109375 26.703125 6.109375 \nQ 34.1875 6.109375 38.703125 11.40625 \nQ 43.21875 16.703125 43.21875 25.484375 \nL 43.21875 27.484375 \nz\nM 52.203125 31.203125 \nL 52.203125 0 \nL 43.21875 0 \nL 43.21875 8.296875 \nQ 40.140625 3.328125 35.546875 0.953125 \nQ 30.953125 -1.421875 24.3125 -1.421875 \nQ 15.921875 -1.421875 10.953125 3.296875 \nQ 6 8.015625 6 15.921875 \nQ 6 25.140625 12.171875 29.828125 \nQ 18.359375 34.515625 30.609375 34.515625 \nL 43.21875 34.515625 \nL 43.21875 35.40625 \nQ 43.21875 41.609375 39.140625 45 \nQ 35.0625 48.390625 27.6875 48.390625 \nQ 23 48.390625 18.546875 47.265625 \nQ 14.109375 46.140625 10.015625 43.890625 \nL 10.015625 52.203125 \nQ 14.9375 54.109375 19.578125 55.046875 \nQ 24.21875 56 28.609375 56 \nQ 40.484375 56 46.34375 49.84375 \nQ 52.203125 43.703125 52.203125 31.203125 \nz\n\" id=\"DejaVuSans-97\"/>\n       <path d=\"M 56.203125 29.59375 \nL 56.203125 25.203125 \nL 14.890625 25.203125 \nQ 15.484375 15.921875 20.484375 11.0625 \nQ 25.484375 6.203125 34.421875 6.203125 \nQ 39.59375 6.203125 44.453125 7.46875 \nQ 49.3125 8.734375 54.109375 11.28125 \nL 54.109375 2.78125 \nQ 49.265625 0.734375 44.1875 -0.34375 \nQ 39.109375 -1.421875 33.890625 -1.421875 \nQ 20.796875 -1.421875 13.15625 6.1875 \nQ 5.515625 13.8125 5.515625 26.8125 \nQ 5.515625 40.234375 12.765625 48.109375 \nQ 20.015625 56 32.328125 56 \nQ 43.359375 56 49.78125 48.890625 \nQ 56.203125 41.796875 56.203125 29.59375 \nz\nM 47.21875 32.234375 \nQ 47.125 39.59375 43.09375 43.984375 \nQ 39.0625 48.390625 32.421875 48.390625 \nQ 24.90625 48.390625 20.390625 44.140625 \nQ 15.875 39.890625 15.1875 32.171875 \nz\n\" id=\"DejaVuSans-101\"/>\n       <path id=\"DejaVuSans-32\"/>\n       <path d=\"M 31 75.875 \nQ 24.46875 64.65625 21.28125 53.65625 \nQ 18.109375 42.671875 18.109375 31.390625 \nQ 18.109375 20.125 21.3125 9.0625 \nQ 24.515625 -2 31 -13.1875 \nL 23.1875 -13.1875 \nQ 15.875 -1.703125 12.234375 9.375 \nQ 8.59375 20.453125 8.59375 31.390625 \nQ 8.59375 42.28125 12.203125 53.3125 \nQ 15.828125 64.359375 23.1875 75.875 \nz\n\" id=\"DejaVuSans-40\"/>\n       <path d=\"M 8.5 -20.796875 \nL 8.5 54.6875 \nL 17.484375 54.6875 \nL 17.484375 20.703125 \nQ 17.484375 13.625 20.84375 10 \nQ 24.21875 6.390625 30.8125 6.390625 \nQ 38.03125 6.390625 41.671875 10.484375 \nQ 45.3125 14.59375 45.3125 22.796875 \nL 45.3125 54.6875 \nL 54.296875 54.6875 \nL 54.296875 12.59375 \nQ 54.296875 9.671875 55.140625 8.28125 \nQ 56 6.890625 57.8125 6.890625 \nQ 58.25 6.890625 59.03125 7.15625 \nQ 59.8125 7.421875 61.1875 8.015625 \nL 61.1875 0.78125 \nQ 59.1875 -0.34375 57.390625 -0.875 \nQ 55.609375 -1.421875 53.90625 -1.421875 \nQ 50.53125 -1.421875 48.53125 0.484375 \nQ 46.53125 2.390625 45.796875 6.296875 \nQ 43.359375 2.4375 39.8125 0.5 \nQ 36.28125 -1.421875 31.5 -1.421875 \nQ 26.515625 -1.421875 23.015625 0.484375 \nQ 19.53125 2.390625 17.484375 6.203125 \nL 17.484375 -20.796875 \nz\n\" id=\"DejaVuSans-181\"/>\n       <path d=\"M 53.515625 70.515625 \nL 53.515625 60.890625 \nQ 47.90625 63.578125 42.921875 64.890625 \nQ 37.9375 66.21875 33.296875 66.21875 \nQ 25.25 66.21875 20.875 63.09375 \nQ 16.5 59.96875 16.5 54.203125 \nQ 16.5 49.359375 19.40625 46.890625 \nQ 22.3125 44.4375 30.421875 42.921875 \nL 36.375 41.703125 \nQ 47.40625 39.59375 52.65625 34.296875 \nQ 57.90625 29 57.90625 20.125 \nQ 57.90625 9.515625 50.796875 4.046875 \nQ 43.703125 -1.421875 29.984375 -1.421875 \nQ 24.8125 -1.421875 18.96875 -0.25 \nQ 13.140625 0.921875 6.890625 3.21875 \nL 6.890625 13.375 \nQ 12.890625 10.015625 18.65625 8.296875 \nQ 24.421875 6.59375 29.984375 6.59375 \nQ 38.421875 6.59375 43.015625 9.90625 \nQ 47.609375 13.234375 47.609375 19.390625 \nQ 47.609375 24.75 44.3125 27.78125 \nQ 41.015625 30.8125 33.5 32.328125 \nL 27.484375 33.5 \nQ 16.453125 35.6875 11.515625 40.375 \nQ 6.59375 45.0625 6.59375 53.421875 \nQ 6.59375 63.09375 13.40625 68.65625 \nQ 20.21875 74.21875 32.171875 74.21875 \nQ 37.3125 74.21875 42.625 73.28125 \nQ 47.953125 72.359375 53.515625 70.515625 \nz\n\" id=\"DejaVuSans-83\"/>\n       <path d=\"M 8.015625 75.875 \nL 15.828125 75.875 \nQ 23.140625 64.359375 26.78125 53.3125 \nQ 30.421875 42.28125 30.421875 31.390625 \nQ 30.421875 20.453125 26.78125 9.375 \nQ 23.140625 -1.703125 15.828125 -13.1875 \nL 8.015625 -13.1875 \nQ 14.5 -2 17.703125 9.0625 \nQ 20.90625 20.125 20.90625 31.390625 \nQ 20.90625 42.671875 17.703125 53.65625 \nQ 14.5 64.65625 8.015625 75.875 \nz\n\" id=\"DejaVuSans-41\"/>\n      </defs>\n      <use xlink:href=\"#DejaVuSans-67\"/>\n      <use x=\"69.824219\" xlink:href=\"#DejaVuSans-111\"/>\n      <use x=\"131.005859\" xlink:href=\"#DejaVuSans-110\"/>\n      <use x=\"194.384766\" xlink:href=\"#DejaVuSans-100\"/>\n      <use x=\"257.861328\" xlink:href=\"#DejaVuSans-117\"/>\n      <use x=\"321.240234\" xlink:href=\"#DejaVuSans-99\"/>\n      <use x=\"376.220703\" xlink:href=\"#DejaVuSans-116\"/>\n      <use x=\"415.429688\" xlink:href=\"#DejaVuSans-97\"/>\n      <use x=\"476.708984\" xlink:href=\"#DejaVuSans-110\"/>\n      <use x=\"540.087891\" xlink:href=\"#DejaVuSans-99\"/>\n      <use x=\"595.068359\" xlink:href=\"#DejaVuSans-101\"/>\n      <use x=\"656.591797\" xlink:href=\"#DejaVuSans-32\"/>\n      <use x=\"688.378906\" xlink:href=\"#DejaVuSans-40\"/>\n      <use x=\"727.392578\" xlink:href=\"#DejaVuSans-181\"/>\n      <use x=\"791.015625\" xlink:href=\"#DejaVuSans-83\"/>\n      <use x=\"854.492188\" xlink:href=\"#DejaVuSans-41\"/>\n     </g>\n    </g>\n   </g>\n   <g id=\"matplotlib.axis_2\">\n    <g id=\"ytick_1\">\n     <g id=\"line2d_6\">\n      <defs>\n       <path d=\"M 0 0 \nL -3.5 0 \n\" id=\"m6a6555b750\" style=\"stroke:#000000;stroke-width:0.8;\"/>\n      </defs>\n      <g>\n       <use style=\"stroke:#000000;stroke-width:0.8;\" x=\"50.14375\" xlink:href=\"#m6a6555b750\" y=\"151.405534\"/>\n      </g>\n     </g>\n     <g id=\"text_7\">\n      <!-- .001 -->\n      <g transform=\"translate(20.878125 155.204752)scale(0.1 -0.1)\">\n       <defs>\n        <path d=\"M 10.6875 12.40625 \nL 21 12.40625 \nL 21 0 \nL 10.6875 0 \nz\n\" id=\"DejaVuSans-46\"/>\n       </defs>\n       <use xlink:href=\"#DejaVuSans-46\"/>\n       <use x=\"31.787109\" xlink:href=\"#DejaVuSans-48\"/>\n       <use x=\"95.410156\" xlink:href=\"#DejaVuSans-48\"/>\n       <use x=\"159.033203\" xlink:href=\"#DejaVuSans-49\"/>\n      </g>\n     </g>\n    </g>\n    <g id=\"ytick_2\">\n     <g id=\"line2d_7\">\n      <g>\n       <use style=\"stroke:#000000;stroke-width:0.8;\" x=\"50.14375\" xlink:href=\"#m6a6555b750\" y=\"137.111582\"/>\n      </g>\n     </g>\n     <g id=\"text_8\">\n      <!-- .01 -->\n      <g transform=\"translate(27.240625 140.910801)scale(0.1 -0.1)\">\n       <use xlink:href=\"#DejaVuSans-46\"/>\n       <use x=\"31.787109\" xlink:href=\"#DejaVuSans-48\"/>\n       <use x=\"95.410156\" xlink:href=\"#DejaVuSans-49\"/>\n      </g>\n     </g>\n    </g>\n    <g id=\"ytick_3\">\n     <g id=\"line2d_8\">\n      <g>\n       <use style=\"stroke:#000000;stroke-width:0.8;\" x=\"50.14375\" xlink:href=\"#m6a6555b750\" y=\"117.561154\"/>\n      </g>\n     </g>\n     <g id=\"text_9\">\n      <!-- .1 -->\n      <g transform=\"translate(33.603125 121.360373)scale(0.1 -0.1)\">\n       <use xlink:href=\"#DejaVuSans-46\"/>\n       <use x=\"31.787109\" xlink:href=\"#DejaVuSans-49\"/>\n      </g>\n     </g>\n    </g>\n    <g id=\"ytick_4\">\n     <g id=\"line2d_9\">\n      <g>\n       <use style=\"stroke:#000000;stroke-width:0.8;\" x=\"50.14375\" xlink:href=\"#m6a6555b750\" y=\"103.393199\"/>\n      </g>\n     </g>\n     <g id=\"text_10\">\n      <!-- .3 -->\n      <g transform=\"translate(33.603125 107.192418)scale(0.1 -0.1)\">\n       <use xlink:href=\"#DejaVuSans-46\"/>\n       <use x=\"31.787109\" xlink:href=\"#DejaVuSans-51\"/>\n      </g>\n     </g>\n    </g>\n    <g id=\"ytick_5\">\n     <g id=\"line2d_10\">\n      <g>\n       <use style=\"stroke:#000000;stroke-width:0.8;\" x=\"50.14375\" xlink:href=\"#m6a6555b750\" y=\"93.580517\"/>\n      </g>\n     </g>\n     <g id=\"text_11\">\n      <!-- .5 -->\n      <g transform=\"translate(33.603125 97.379736)scale(0.1 -0.1)\">\n       <defs>\n        <path d=\"M 10.796875 72.90625 \nL 49.515625 72.90625 \nL 49.515625 64.59375 \nL 19.828125 64.59375 \nL 19.828125 46.734375 \nQ 21.96875 47.46875 24.109375 47.828125 \nQ 26.265625 48.1875 28.421875 48.1875 \nQ 40.625 48.1875 47.75 41.5 \nQ 54.890625 34.8125 54.890625 23.390625 \nQ 54.890625 11.625 47.5625 5.09375 \nQ 40.234375 -1.421875 26.90625 -1.421875 \nQ 22.3125 -1.421875 17.546875 -0.640625 \nQ 12.796875 0.140625 7.71875 1.703125 \nL 7.71875 11.625 \nQ 12.109375 9.234375 16.796875 8.0625 \nQ 21.484375 6.890625 26.703125 6.890625 \nQ 35.15625 6.890625 40.078125 11.328125 \nQ 45.015625 15.765625 45.015625 23.390625 \nQ 45.015625 31 40.078125 35.4375 \nQ 35.15625 39.890625 26.703125 39.890625 \nQ 22.75 39.890625 18.8125 39.015625 \nQ 14.890625 38.140625 10.796875 36.28125 \nz\n\" id=\"DejaVuSans-53\"/>\n       </defs>\n       <use xlink:href=\"#DejaVuSans-46\"/>\n       <use x=\"31.787109\" xlink:href=\"#DejaVuSans-53\"/>\n      </g>\n     </g>\n    </g>\n    <g id=\"ytick_6\">\n     <g id=\"line2d_11\">\n      <g>\n       <use style=\"stroke:#000000;stroke-width:0.8;\" x=\"50.14375\" xlink:href=\"#m6a6555b750\" y=\"83.767834\"/>\n      </g>\n     </g>\n     <g id=\"text_12\">\n      <!-- .7 -->\n      <g transform=\"translate(33.603125 87.567053)scale(0.1 -0.1)\">\n       <defs>\n        <path d=\"M 8.203125 72.90625 \nL 55.078125 72.90625 \nL 55.078125 68.703125 \nL 28.609375 0 \nL 18.3125 0 \nL 43.21875 64.59375 \nL 8.203125 64.59375 \nz\n\" id=\"DejaVuSans-55\"/>\n       </defs>\n       <use xlink:href=\"#DejaVuSans-46\"/>\n       <use x=\"31.787109\" xlink:href=\"#DejaVuSans-55\"/>\n      </g>\n     </g>\n    </g>\n    <g id=\"ytick_7\">\n     <g id=\"line2d_12\">\n      <g>\n       <use style=\"stroke:#000000;stroke-width:0.8;\" x=\"50.14375\" xlink:href=\"#m6a6555b750\" y=\"69.599879\"/>\n      </g>\n     </g>\n     <g id=\"text_13\">\n      <!-- .9 -->\n      <g transform=\"translate(33.603125 73.399098)scale(0.1 -0.1)\">\n       <defs>\n        <path d=\"M 10.984375 1.515625 \nL 10.984375 10.5 \nQ 14.703125 8.734375 18.5 7.8125 \nQ 22.3125 6.890625 25.984375 6.890625 \nQ 35.75 6.890625 40.890625 13.453125 \nQ 46.046875 20.015625 46.78125 33.40625 \nQ 43.953125 29.203125 39.59375 26.953125 \nQ 35.25 24.703125 29.984375 24.703125 \nQ 19.046875 24.703125 12.671875 31.3125 \nQ 6.296875 37.9375 6.296875 49.421875 \nQ 6.296875 60.640625 12.9375 67.421875 \nQ 19.578125 74.21875 30.609375 74.21875 \nQ 43.265625 74.21875 49.921875 64.515625 \nQ 56.59375 54.828125 56.59375 36.375 \nQ 56.59375 19.140625 48.40625 8.859375 \nQ 40.234375 -1.421875 26.421875 -1.421875 \nQ 22.703125 -1.421875 18.890625 -0.6875 \nQ 15.09375 0.046875 10.984375 1.515625 \nz\nM 30.609375 32.421875 \nQ 37.25 32.421875 41.125 36.953125 \nQ 45.015625 41.5 45.015625 49.421875 \nQ 45.015625 57.28125 41.125 61.84375 \nQ 37.25 66.40625 30.609375 66.40625 \nQ 23.96875 66.40625 20.09375 61.84375 \nQ 16.21875 57.28125 16.21875 49.421875 \nQ 16.21875 41.5 20.09375 36.953125 \nQ 23.96875 32.421875 30.609375 32.421875 \nz\n\" id=\"DejaVuSans-57\"/>\n       </defs>\n       <use xlink:href=\"#DejaVuSans-46\"/>\n       <use x=\"31.787109\" xlink:href=\"#DejaVuSans-57\"/>\n      </g>\n     </g>\n    </g>\n    <g id=\"ytick_8\">\n     <g id=\"line2d_13\">\n      <g>\n       <use style=\"stroke:#000000;stroke-width:0.8;\" x=\"50.14375\" xlink:href=\"#m6a6555b750\" y=\"50.049451\"/>\n      </g>\n     </g>\n     <g id=\"text_14\">\n      <!-- .99 -->\n      <g transform=\"translate(27.240625 53.84867)scale(0.1 -0.1)\">\n       <use xlink:href=\"#DejaVuSans-46\"/>\n       <use x=\"31.787109\" xlink:href=\"#DejaVuSans-57\"/>\n       <use x=\"95.410156\" xlink:href=\"#DejaVuSans-57\"/>\n      </g>\n     </g>\n    </g>\n    <g id=\"ytick_9\">\n     <g id=\"line2d_14\">\n      <g>\n       <use style=\"stroke:#000000;stroke-width:0.8;\" x=\"50.14375\" xlink:href=\"#m6a6555b750\" y=\"35.7555\"/>\n      </g>\n     </g>\n     <g id=\"text_15\">\n      <!-- .999 -->\n      <g transform=\"translate(20.878125 39.554719)scale(0.1 -0.1)\">\n       <use xlink:href=\"#DejaVuSans-46\"/>\n       <use x=\"31.787109\" xlink:href=\"#DejaVuSans-57\"/>\n       <use x=\"95.410156\" xlink:href=\"#DejaVuSans-57\"/>\n       <use x=\"159.033203\" xlink:href=\"#DejaVuSans-57\"/>\n      </g>\n     </g>\n    </g>\n    <g id=\"text_16\">\n     <!-- Cumulative Density Function -->\n     <g transform=\"translate(14.798438 181.130562)rotate(-90)scale(0.1 -0.1)\">\n      <defs>\n       <path d=\"M 52 44.1875 \nQ 55.375 50.25 60.0625 53.125 \nQ 64.75 56 71.09375 56 \nQ 79.640625 56 84.28125 50.015625 \nQ 88.921875 44.046875 88.921875 33.015625 \nL 88.921875 0 \nL 79.890625 0 \nL 79.890625 32.71875 \nQ 79.890625 40.578125 77.09375 44.375 \nQ 74.3125 48.1875 68.609375 48.1875 \nQ 61.625 48.1875 57.5625 43.546875 \nQ 53.515625 38.921875 53.515625 30.90625 \nL 53.515625 0 \nL 44.484375 0 \nL 44.484375 32.71875 \nQ 44.484375 40.625 41.703125 44.40625 \nQ 38.921875 48.1875 33.109375 48.1875 \nQ 26.21875 48.1875 22.15625 43.53125 \nQ 18.109375 38.875 18.109375 30.90625 \nL 18.109375 0 \nL 9.078125 0 \nL 9.078125 54.6875 \nL 18.109375 54.6875 \nL 18.109375 46.1875 \nQ 21.1875 51.21875 25.484375 53.609375 \nQ 29.78125 56 35.6875 56 \nQ 41.65625 56 45.828125 52.96875 \nQ 50 49.953125 52 44.1875 \nz\n\" id=\"DejaVuSans-109\"/>\n       <path d=\"M 9.421875 75.984375 \nL 18.40625 75.984375 \nL 18.40625 0 \nL 9.421875 0 \nz\n\" id=\"DejaVuSans-108\"/>\n       <path d=\"M 9.421875 54.6875 \nL 18.40625 54.6875 \nL 18.40625 0 \nL 9.421875 0 \nz\nM 9.421875 75.984375 \nL 18.40625 75.984375 \nL 18.40625 64.59375 \nL 9.421875 64.59375 \nz\n\" id=\"DejaVuSans-105\"/>\n       <path d=\"M 2.984375 54.6875 \nL 12.5 54.6875 \nL 29.59375 8.796875 \nL 46.6875 54.6875 \nL 56.203125 54.6875 \nL 35.6875 0 \nL 23.484375 0 \nz\n\" id=\"DejaVuSans-118\"/>\n       <path d=\"M 19.671875 64.796875 \nL 19.671875 8.109375 \nL 31.59375 8.109375 \nQ 46.6875 8.109375 53.6875 14.9375 \nQ 60.6875 21.78125 60.6875 36.53125 \nQ 60.6875 51.171875 53.6875 57.984375 \nQ 46.6875 64.796875 31.59375 64.796875 \nz\nM 9.8125 72.90625 \nL 30.078125 72.90625 \nQ 51.265625 72.90625 61.171875 64.09375 \nQ 71.09375 55.28125 71.09375 36.53125 \nQ 71.09375 17.671875 61.125 8.828125 \nQ 51.171875 0 30.078125 0 \nL 9.8125 0 \nz\n\" id=\"DejaVuSans-68\"/>\n       <path d=\"M 44.28125 53.078125 \nL 44.28125 44.578125 \nQ 40.484375 46.53125 36.375 47.5 \nQ 32.28125 48.484375 27.875 48.484375 \nQ 21.1875 48.484375 17.84375 46.4375 \nQ 14.5 44.390625 14.5 40.28125 \nQ 14.5 37.15625 16.890625 35.375 \nQ 19.28125 33.59375 26.515625 31.984375 \nL 29.59375 31.296875 \nQ 39.15625 29.25 43.1875 25.515625 \nQ 47.21875 21.78125 47.21875 15.09375 \nQ 47.21875 7.46875 41.1875 3.015625 \nQ 35.15625 -1.421875 24.609375 -1.421875 \nQ 20.21875 -1.421875 15.453125 -0.5625 \nQ 10.6875 0.296875 5.421875 2 \nL 5.421875 11.28125 \nQ 10.40625 8.6875 15.234375 7.390625 \nQ 20.0625 6.109375 24.8125 6.109375 \nQ 31.15625 6.109375 34.5625 8.28125 \nQ 37.984375 10.453125 37.984375 14.40625 \nQ 37.984375 18.0625 35.515625 20.015625 \nQ 33.0625 21.96875 24.703125 23.78125 \nL 21.578125 24.515625 \nQ 13.234375 26.265625 9.515625 29.90625 \nQ 5.8125 33.546875 5.8125 39.890625 \nQ 5.8125 47.609375 11.28125 51.796875 \nQ 16.75 56 26.8125 56 \nQ 31.78125 56 36.171875 55.265625 \nQ 40.578125 54.546875 44.28125 53.078125 \nz\n\" id=\"DejaVuSans-115\"/>\n       <path d=\"M 32.171875 -5.078125 \nQ 28.375 -14.84375 24.75 -17.8125 \nQ 21.140625 -20.796875 15.09375 -20.796875 \nL 7.90625 -20.796875 \nL 7.90625 -13.28125 \nL 13.1875 -13.28125 \nQ 16.890625 -13.28125 18.9375 -11.515625 \nQ 21 -9.765625 23.484375 -3.21875 \nL 25.09375 0.875 \nL 2.984375 54.6875 \nL 12.5 54.6875 \nL 29.59375 11.921875 \nL 46.6875 54.6875 \nL 56.203125 54.6875 \nz\n\" id=\"DejaVuSans-121\"/>\n       <path d=\"M 9.8125 72.90625 \nL 51.703125 72.90625 \nL 51.703125 64.59375 \nL 19.671875 64.59375 \nL 19.671875 43.109375 \nL 48.578125 43.109375 \nL 48.578125 34.8125 \nL 19.671875 34.8125 \nL 19.671875 0 \nL 9.8125 0 \nz\n\" id=\"DejaVuSans-70\"/>\n      </defs>\n      <use xlink:href=\"#DejaVuSans-67\"/>\n      <use x=\"69.824219\" xlink:href=\"#DejaVuSans-117\"/>\n      <use x=\"133.203125\" xlink:href=\"#DejaVuSans-109\"/>\n      <use x=\"230.615234\" xlink:href=\"#DejaVuSans-117\"/>\n      <use x=\"293.994141\" xlink:href=\"#DejaVuSans-108\"/>\n      <use x=\"321.777344\" xlink:href=\"#DejaVuSans-97\"/>\n      <use x=\"383.056641\" xlink:href=\"#DejaVuSans-116\"/>\n      <use x=\"422.265625\" xlink:href=\"#DejaVuSans-105\"/>\n      <use x=\"450.048828\" xlink:href=\"#DejaVuSans-118\"/>\n      <use x=\"509.228516\" xlink:href=\"#DejaVuSans-101\"/>\n      <use x=\"570.751953\" xlink:href=\"#DejaVuSans-32\"/>\n      <use x=\"602.539062\" xlink:href=\"#DejaVuSans-68\"/>\n      <use x=\"679.541016\" xlink:href=\"#DejaVuSans-101\"/>\n      <use x=\"741.064453\" xlink:href=\"#DejaVuSans-110\"/>\n      <use x=\"804.443359\" xlink:href=\"#DejaVuSans-115\"/>\n      <use x=\"856.542969\" xlink:href=\"#DejaVuSans-105\"/>\n      <use x=\"884.326172\" xlink:href=\"#DejaVuSans-116\"/>\n      <use x=\"923.535156\" xlink:href=\"#DejaVuSans-121\"/>\n      <use x=\"982.714844\" xlink:href=\"#DejaVuSans-32\"/>\n      <use x=\"1014.501953\" xlink:href=\"#DejaVuSans-70\"/>\n      <use x=\"1066.521484\" xlink:href=\"#DejaVuSans-117\"/>\n      <use x=\"1129.900391\" xlink:href=\"#DejaVuSans-110\"/>\n      <use x=\"1193.279297\" xlink:href=\"#DejaVuSans-99\"/>\n      <use x=\"1248.259766\" xlink:href=\"#DejaVuSans-116\"/>\n      <use x=\"1287.46875\" xlink:href=\"#DejaVuSans-105\"/>\n      <use x=\"1315.251953\" xlink:href=\"#DejaVuSans-111\"/>\n      <use x=\"1376.433594\" xlink:href=\"#DejaVuSans-110\"/>\n     </g>\n    </g>\n   </g>\n   <g id=\"line2d_15\">\n    <path clip-path=\"url(#pd3b2aa3f08)\" d=\"M 63.134857 147.460788 \nL 63.250269 138.683861 \nL 63.396995 134.725856 \nL 63.526479 132.848988 \nL 63.715179 127.764042 \nL 63.877266 126.817422 \nL 64.135983 121.234727 \nL 65.851176 103.565148 \nL 66.005144 102.713435 \nL 66.103378 101.674554 \nL 66.192992 100.559789 \nL 66.386855 98.980345 \nL 66.496115 98.495072 \nL 66.591944 97.629612 \nL 66.705415 96.96251 \nL 66.890256 95.358459 \nL 67.096348 93.393643 \nL 67.314067 90.861354 \nL 67.44077 89.339909 \nL 67.609973 87.396476 \nL 67.656083 86.701311 \nL 67.77637 85.486479 \nL 67.864982 84.342199 \nL 67.967627 83.05298 \nL 68.150062 81.366911 \nL 68.374197 78.436223 \nL 68.451983 77.238149 \nL 68.560642 75.07592 \nL 68.674915 73.651068 \nL 68.829283 72.100166 \nL 69.015728 69.342744 \nL 69.375787 56.547887 \nL 69.470814 39.700245 \nL 69.470814 39.700245 \n\" style=\"fill:none;stroke:#1f77b4;stroke-linecap:square;stroke-width:0.8;\"/>\n   </g>\n   <g id=\"line2d_16\">\n    <path clip-path=\"url(#pd3b2aa3f08)\" d=\"M 115.534339 147.232719 \nL 115.720383 132.554756 \nL 116.137378 120.57903 \nL 116.281722 117.190594 \nL 116.390782 115.366938 \nL 116.49022 114.257853 \nL 116.592865 113.386241 \nL 117.37874 104.39941 \nL 117.68026 101.961216 \nL 117.818189 100.587171 \nL 117.882342 99.65801 \nL 118.017063 98.542143 \nL 118.847846 92.65759 \nL 119.322579 88.819779 \nL 119.405978 88.417429 \nL 119.479754 87.400562 \nL 119.547115 87.092048 \nL 119.636929 86.155429 \nL 119.762027 85.733249 \nL 119.890334 84.768134 \nL 120.03147 83.778975 \nL 120.166192 82.761624 \nL 120.451673 80.498301 \nL 120.506203 80.123681 \nL 121.266417 71.601685 \nL 121.843795 58.103755 \nL 122.004178 52.719013 \nL 122.052293 46.801657 \nL 122.065123 39.928315 \nL 122.065123 39.928315 \n\" style=\"fill:none;stroke:#1f77b4;stroke-linecap:square;stroke-width:0.8;\"/>\n   </g>\n   <g id=\"line2d_17\">\n    <path clip-path=\"url(#pd3b2aa3f08)\" d=\"M 168.111006 147.565552 \nL 168.194405 133.869655 \nL 168.874428 116.968156 \nL 168.970657 116.378466 \nL 169.175947 113.235483 \nL 169.22727 112.609076 \nL 169.33633 110.987213 \nL 169.932954 105.378318 \nL 170.042014 104.933731 \nL 170.247304 102.901544 \nL 170.343534 102.488137 \nL 170.722037 98.64418 \nL 170.824682 97.229197 \nL 172.640214 83.205145 \nL 172.871165 80.640602 \nL 172.999472 80.170156 \nL 173.191931 78.195216 \nL 173.345898 77.409357 \nL 173.448543 76.314808 \nL 173.544773 75.888838 \nL 173.647418 73.92555 \nL 174.269703 64.892356 \nL 174.372348 61.056708 \nL 174.584053 51.188461 \nL 174.62896 39.595481 \nL 174.62896 39.595481 \n\" style=\"fill:none;stroke:#1f77b4;stroke-linecap:square;stroke-width:0.8;\"/>\n   </g>\n   <g id=\"line2d_18\">\n    <path clip-path=\"url(#pd3b2aa3f08)\" d=\"M 220.652389 147.889909 \nL 220.793526 132.602088 \nL 220.876925 131.189677 \nL 221.069384 123.088073 \nL 221.236182 120.395478 \nL 221.306751 119.919183 \nL 221.486379 116.980411 \nL 222.269047 108.241525 \nL 222.499998 105.984454 \nL 223.122283 101.450176 \nL 223.180021 101.166396 \nL 223.289081 99.86369 \nL 223.532863 97.874045 \nL 223.584185 97.163561 \nL 223.815136 95.233006 \nL 223.898535 94.710386 \nL 224.463083 90.17425 \nL 224.565728 89.465151 \nL 225.104614 85.041464 \nL 225.207259 83.767834 \nL 225.489532 82.238948 \nL 225.65633 80.740378 \nL 225.739729 79.732239 \nL 225.829544 79.154485 \nL 225.932189 77.457455 \nL 226.201632 75.616138 \nL 226.387675 72.470478 \nL 226.657118 68.363428 \nL 226.965053 61.370066 \nL 227.067698 52.88138 \nL 227.151097 46.066806 \nL 227.163928 39.271124 \nL 227.163928 39.271124 \n\" style=\"fill:none;stroke:#1f77b4;stroke-linecap:square;stroke-width:0.8;\"/>\n   </g>\n   <g id=\"line2d_19\">\n    <path clip-path=\"url(#pd3b2aa3f08)\" d=\"M 266.624495 145.716039 \nL 266.72714 135.05352 \nL 266.791293 130.581412 \nL 267.13772 122.06115 \nL 267.214704 120.212451 \nL 267.638114 111.190083 \nL 267.702267 110.804308 \nL 267.779251 109.870411 \nL 267.869065 109.151566 \nL 267.95888 107.945827 \nL 268.035863 106.796985 \nL 268.138508 105.542102 \nL 268.741547 99.625261 \nL 268.79287 99.100463 \nL 269.729505 90.12125 \nL 269.844981 89.738798 \nL 270.011779 88.451316 \nL 270.114424 87.667403 \nL 270.332544 86.336636 \nL 270.473681 85.794285 \nL 270.576326 84.408002 \nL 271.038228 80.524079 \nL 271.217857 79.382576 \nL 271.602775 75.176009 \nL 271.743912 74.557294 \nL 272.013355 71.342513 \nL 272.141661 70.563001 \nL 272.218645 69.166995 \nL 272.295629 67.943602 \nL 272.385443 66.240953 \nL 272.513749 65.099884 \nL 272.680547 61.385341 \nL 272.808854 60.225914 \nL 273.129619 41.444995 \nL 273.129619 41.444995 \n\" style=\"fill:none;stroke:#1f77b4;stroke-linecap:square;stroke-width:0.8;\"/>\n   </g>\n   <g id=\"line2d_20\">\n    <path clip-path=\"url(#pd3b2aa3f08)\" d=\"M 64.245545 146.512783 \nL 64.393698 142.2161 \nL 64.695017 139.55233 \nL 64.921758 128.055358 \nL 65.026208 126.923676 \nL 65.164337 120.861583 \nL 66.128839 106.757636 \nL 66.186176 106.064455 \nL 69.141628 71.948419 \nL 69.237858 68.884957 \nL 69.31404 67.217782 \nL 69.653249 60.760289 \nL 69.717803 60.237357 \nL 70.008898 59.687008 \nL 70.398628 58.489028 \nL 70.637999 57.831734 \nL 70.761494 56.366676 \nL 70.784349 55.539291 \nL 71.923066 52.47427 \nL 73.086242 51.152092 \nL 73.208935 47.608704 \nL 74.810757 44.944933 \nL 82.080104 40.648251 \nL 82.080104 40.648251 \n\" style=\"fill:none;stroke:#ff7f0e;stroke-linecap:square;stroke-width:0.8;\"/>\n   </g>\n   <g id=\"line2d_21\">\n    <path clip-path=\"url(#pd3b2aa3f08)\" d=\"M 84.272536 147.208143 \nL 89.340631 142.961294 \nL 93.356614 140.331863 \nL 98.629999 138.391406 \nL 102.026905 136.838914 \nL 102.254648 135.537114 \nL 102.681266 134.411406 \nL 105.350035 133.416561 \nL 105.468718 132.523013 \nL 107.579355 131.71033 \nL 107.893705 130.963784 \nL 108.031634 130.272392 \nL 108.756564 129.62774 \nL 108.836756 129.023232 \nL 109.196013 128.453599 \nL 109.308281 127.914562 \nL 109.670746 127.402596 \nL 109.818298 126.914764 \nL 111.117398 125.573081 \nL 111.204005 125.160374 \nL 111.508732 124.762481 \nL 112.150263 122.957932 \nL 112.666695 122.628103 \nL 112.904062 121.994256 \nL 113.099729 121.100545 \nL 113.471817 120.537933 \nL 113.696352 119.998687 \nL 114.026741 119.737101 \nL 114.042779 119.480529 \nL 114.31543 118.981504 \nL 114.443736 118.738628 \nL 114.443736 118.499918 \nL 114.649026 118.265195 \nL 114.892808 117.145908 \nL 115.030737 116.72099 \nL 115.143005 116.105123 \nL 115.357918 114.3896 \nL 115.473393 113.50791 \nL 115.887181 111.399712 \nL 115.976995 110.063864 \nL 116.066809 109.778307 \nL 116.281722 108.40334 \nL 116.365121 108.006306 \nL 116.470974 107.486803 \nL 116.608903 106.35515 \nL 116.730794 105.626116 \nL 116.836646 104.449798 \nL 117.26968 102.541605 \nL 117.420439 101.249793 \nL 117.519877 100.932705 \nL 117.725167 99.376478 \nL 117.956118 97.8594 \nL 118.312167 95.09364 \nL 118.511042 94.409662 \nL 118.629725 93.72679 \nL 118.825392 92.556102 \nL 118.931245 91.283166 \nL 119.707497 86.122872 \nL 119.903164 85.911241 \nL 120.066755 84.837549 \nL 120.188645 84.619429 \nL 120.377897 83.509551 \nL 120.583187 82.128735 \nL 120.775646 81.172755 \nL 120.926406 79.929992 \nL 121.11245 79.023112 \nL 121.410762 77.240424 \nL 121.516614 76.807722 \nL 121.737943 75.607261 \nL 121.914364 74.817907 \nL 122.017009 73.993669 \nL 122.20626 73.305847 \nL 122.328151 72.03132 \nL 123.120442 70.648097 \nL 123.152518 70.440044 \nL 123.312901 70.22909 \nL 123.335355 70.015126 \nL 123.588759 69.798035 \nL 123.851787 68.422406 \nL 124.538225 67.423933 \nL 124.782007 66.623101 \nL 125.073903 66.344873 \nL 125.891855 64.203101 \nL 126.292812 63.863884 \nL 126.344135 63.154534 \nL 126.607162 62.782826 \nL 126.648862 62.398552 \nL 126.976043 62.00066 \nL 127.133218 61.159069 \nL 127.348131 60.24627 \nL 128.050607 59.758438 \nL 128.233443 59.246472 \nL 129.035357 58.707435 \nL 129.324046 58.137801 \nL 129.785948 56.888641 \nL 130.119544 56.19725 \nL 130.24785 55.450704 \nL 132.015268 54.638021 \nL 132.794728 53.744472 \nL 133.266253 52.749628 \nL 133.285499 51.62392 \nL 134.854042 50.32212 \nL 138.244533 48.769628 \nL 143.251682 46.82917 \nL 147.136152 44.199739 \nL 151.732721 39.95289 \nL 151.732721 39.95289 \n\" style=\"fill:none;stroke:#ff7f0e;stroke-linecap:square;stroke-width:0.8;\"/>\n   </g>\n   <g id=\"line2d_22\">\n    <path clip-path=\"url(#pd3b2aa3f08)\" d=\"M 141.179537 147.554012 \nL 141.782577 143.331536 \nL 146.221971 140.718855 \nL 150.834578 138.791683 \nL 152.739925 137.25044 \nL 157.09592 134.841728 \nL 157.198565 133.855047 \nL 157.455177 132.969075 \nL 157.557822 132.163492 \nL 158.609933 131.423651 \nL 159.180895 130.100067 \nL 159.251464 129.501398 \nL 159.617136 128.403782 \nL 159.969978 127.897078 \nL 160.791138 127.414354 \nL 160.803969 126.953151 \nL 161.66362 126.087222 \nL 161.990801 124.538615 \nL 162.228167 124.18283 \nL 162.638747 123.837777 \nL 162.7029 123.176982 \nL 162.914605 122.859977 \nL 163.74218 122.55116 \nL 163.915394 121.956163 \nL 164.062946 121.388546 \nL 164.306727 120.582266 \nL 164.332389 120.071405 \nL 164.492771 119.579559 \nL 164.614662 119.105048 \nL 165.217701 118.873827 \nL 165.281854 118.422627 \nL 165.641112 118.202346 \nL 165.71168 117.561154 \nL 165.987538 117.353568 \nL 166.115845 116.55107 \nL 166.430195 115.975841 \nL 166.706053 115.788733 \nL 167.47589 112.431844 \nL 167.764579 111.683094 \nL 167.937793 110.962261 \nL 168.098175 110.681057 \nL 168.258558 109.460538 \nL 168.810275 106.259488 \nL 168.887258 106.029043 \nL 168.977073 105.125366 \nL 169.195193 103.711205 \nL 169.33633 103.078003 \nL 171.633011 90.065101 \nL 171.735656 89.407552 \nL 172.13982 87.107818 \nL 172.383602 86.617347 \nL 172.742859 84.808323 \nL 172.896827 84.083031 \nL 173.057209 82.696067 \nL 173.16627 81.924212 \nL 173.38439 81.13199 \nL 173.487035 80.552221 \nL 173.608926 80.079254 \nL 173.756478 79.353123 \nL 173.916861 78.350143 \nL 174.038752 77.83194 \nL 174.924064 72.795546 \nL 175.103693 71.740002 \nL 175.25766 71.372301 \nL 175.35389 70.995818 \nL 175.828623 70.609963 \nL 176.046743 70.012168 \nL 176.155804 69.599879 \nL 176.438077 68.287206 \nL 176.457323 68.055986 \nL 176.688274 67.581474 \nL 176.80375 66.83669 \nL 177.63774 66.315611 \nL 177.682647 65.772488 \nL 178.112473 65.49191 \nL 178.15738 64.910996 \nL 178.523053 64.609873 \nL 179.209491 62.978203 \nL 179.652147 62.622418 \nL 179.895929 61.48189 \nL 180.146126 61.073812 \nL 180.248771 60.207883 \nL 180.915963 59.746679 \nL 180.986532 59.263956 \nL 182.693004 58.223646 \nL 182.923955 57.659635 \nL 183.199813 56.422402 \nL 184.431553 55.737383 \nL 185.233466 54.997542 \nL 185.400264 54.191959 \nL 185.714615 53.305987 \nL 186.612758 52.319305 \nL 187.113152 51.202505 \nL 187.48524 49.910594 \nL 188.607919 48.369351 \nL 189.159636 46.442179 \nL 189.557385 43.829498 \nL 191.975956 39.607022 \nL 191.975956 39.607022 \n\" style=\"fill:none;stroke:#ff7f0e;stroke-linecap:square;stroke-width:0.8;\"/>\n   </g>\n   <g id=\"line2d_23\">\n    <path clip-path=\"url(#pd3b2aa3f08)\" d=\"M 205.287723 147.889909 \nL 206.538709 143.690846 \nL 206.833813 139.17978 \nL 208.168197 137.649298 \nL 209.958068 136.366839 \nL 210.888288 135.258545 \nL 211.189808 134.279654 \nL 212.248334 133.400906 \nL 212.902695 132.602088 \nL 213.236291 131.868633 \nL 214.095943 131.189677 \nL 214.468031 130.556901 \nL 214.493692 129.963784 \nL 214.692567 129.405115 \nL 215.48165 128.374955 \nL 215.757508 127.897078 \nL 216.078273 126.180037 \nL 216.73905 125.790968 \nL 216.803203 125.05213 \nL 217.014909 124.700399 \nL 217.265106 122.500452 \nL 217.759084 121.94004 \nL 217.957959 120.640283 \nL 218.092681 120.155179 \nL 218.432692 119.919183 \nL 218.676474 119.459367 \nL 219.087054 119.235206 \nL 219.131961 118.797606 \nL 219.600278 117.561154 \nL 219.760661 116.605438 \nL 219.908213 116.23949 \nL 220.318793 114.205281 \nL 220.466345 113.579053 \nL 220.851264 111.962496 \nL 220.934663 111.544896 \nL 221.056553 111.271398 \nL 221.210521 109.956863 \nL 221.268259 109.578039 \nL 222.923408 99.497283 \nL 222.981146 99.223967 \nL 223.327573 97.340658 \nL 223.391726 96.986783 \nL 223.500786 96.546132 \nL 223.667584 95.320224 \nL 223.776645 94.449431 \nL 224.334777 89.908965 \nL 224.437421 89.376117 \nL 224.572143 88.570258 \nL 224.655542 88.118607 \nL 224.809509 87.754993 \nL 225.13669 84.556596 \nL 225.252166 83.96661 \nL 225.925773 79.387209 \nL 226.06691 78.80115 \nL 226.528812 75.338747 \nL 226.740518 74.334591 \nL 226.952223 72.955752 \nL 227.003545 72.305529 \nL 227.131851 71.970574 \nL 227.279403 71.279025 \nL 227.298649 71.10131 \nL 227.452617 70.921544 \nL 227.542431 69.599879 \nL 227.645076 68.787656 \nL 227.895273 68.363428 \nL 228.25453 65.757064 \nL 228.594542 65.49191 \nL 228.76134 64.943998 \nL 228.889646 64.370372 \nL 229.107767 62.801702 \nL 229.338718 62.460635 \nL 230.73084 56.604132 \nL 230.833485 55.292401 \nL 230.961791 54.558945 \nL 231.244065 53.760128 \nL 231.410863 52.88138 \nL 232.065224 50.794195 \nL 234.727578 49.511735 \nL 235.625721 47.981254 \nL 235.632136 46.066806 \nL 236.305744 43.470188 \nL 236.851045 39.271124 \nL 236.851045 39.271124 \n\" style=\"fill:none;stroke:#ff7f0e;stroke-linecap:square;stroke-width:0.8;\"/>\n   </g>\n   <g id=\"line2d_24\">\n    <path clip-path=\"url(#pd3b2aa3f08)\" d=\"M 251.663994 145.699841 \nL 252.574968 141.343447 \nL 254.26861 138.638365 \nL 256.462645 136.637684 \nL 257.38645 135.034046 \nL 257.720046 133.687161 \nL 258.759326 132.52074 \nL 258.900463 131.488501 \nL 259.388026 130.560175 \nL 259.426518 129.714834 \nL 259.734453 128.216578 \nL 260.70958 127.543776 \nL 260.940531 126.912215 \nL 260.991854 125.752208 \nL 261.261297 125.215752 \nL 261.286958 124.704103 \nL 261.53074 124.214719 \nL 261.73603 122.859977 \nL 262.069626 122.440796 \nL 262.236424 122.035616 \nL 262.723987 121.643355 \nL 262.813802 120.893852 \nL 263.083245 120.534989 \nL 263.6093 117.965867 \nL 263.994219 117.675638 \nL 264.379137 116.30441 \nL 264.468951 115.289393 \nL 264.687072 115.045425 \nL 264.802548 114.104115 \nL 265.007837 113.876772 \nL 265.456909 111.749959 \nL 265.739183 111.550052 \nL 265.867489 110.962261 \nL 266.021456 110.579754 \nL 266.239577 108.590705 \nL 266.329391 108.077303 \nL 266.624495 106.758387 \nL 266.983753 105.655962 \nL 267.022245 105.196245 \nL 267.163381 104.743435 \nL 267.266026 103.5663 \nL 267.419994 103.135109 \nL 267.702267 101.732201 \nL 267.830574 101.048043 \nL 267.97171 100.507859 \nL 268.074355 99.312502 \nL 268.228323 98.398939 \nL 268.407951 97.882152 \nL 268.959668 93.455103 \nL 269.42157 90.684495 \nL 269.511385 90.303096 \nL 269.588368 89.920329 \nL 269.691013 89.150007 \nL 269.973287 87.187646 \nL 270.152915 86.383833 \nL 270.627648 83.304313 \nL 270.717463 82.567082 \nL 272.167323 73.508647 \nL 272.7447 67.647167 \nL 272.873007 66.626045 \nL 273.386231 63.866644 \nL 273.591521 62.456931 \nL 273.809642 61.408826 \nL 274.091915 59.617258 \nL 274.39985 58.944456 \nL 274.694954 56.600859 \nL 275.22101 55.672533 \nL 275.618759 52.126988 \nL 275.785557 48.522668 \nL 279.134349 45.817586 \nL 283.278638 41.461192 \nL 283.278638 41.461192 \n\" style=\"fill:none;stroke:#ff7f0e;stroke-linecap:square;stroke-width:0.8;\"/>\n   </g>\n   <g id=\"line2d_25\">\n    <path clip-path=\"url(#pd3b2aa3f08)\" d=\"M 63.142049 147.449021 \nL 63.703802 127.747237 \nL 63.813764 126.800276 \nL 63.916159 124.020379 \nL 63.992942 123.010782 \nL 64.326839 117.797161 \nL 65.097377 109.489767 \nL 65.190399 108.82777 \nL 65.283421 108.568269 \nL 65.393885 108.057711 \nL 65.49232 107.311424 \nL 66.476669 98.359876 \nL 66.577309 97.781716 \nL 66.873015 95.127035 \nL 67.12241 93.159183 \nL 67.249513 92.221808 \nL 68.431534 82.864554 \nL 68.520546 81.855933 \nL 68.678523 80.455202 \nL 68.923508 77.400838 \nL 69.074669 76.139338 \nL 69.257906 74.637485 \nL 69.890215 70.805256 \nL 70.002884 69.998771 \nL 70.467994 68.699802 \nL 70.586276 68.239067 \nL 70.646419 68.002825 \nL 71.414653 67.517706 \nL 71.427483 67.268436 \nL 71.820421 66.49112 \nL 71.874149 65.945746 \nL 72.713753 65.080788 \nL 72.776302 64.778484 \nL 73.196505 64.150252 \nL 73.247426 63.486977 \nL 73.506845 63.140655 \nL 73.628335 62.414925 \nL 74.342439 62.033761 \nL 74.452703 61.639038 \nL 75.068973 60.803994 \nL 75.089021 60.360757 \nL 76.158774 59.898058 \nL 76.257409 59.413796 \nL 76.655158 58.905508 \nL 76.971914 57.804563 \nL 77.420184 57.204135 \nL 78.088178 56.563736 \nL 78.425784 55.876796 \nL 79.064107 55.134934 \nL 79.380061 54.327211 \nL 79.454639 52.44981 \nL 80.234099 51.330321 \nL 81.423337 50.035425 \nL 84.476222 48.490786 \nL 85.550787 46.559601 \nL 89.731965 43.941858 \nL 91.154559 39.712012 \nL 91.154559 39.712012 \n\" style=\"fill:none;stroke:#2ca02c;stroke-linecap:square;stroke-width:0.8;\"/>\n   </g>\n   <g id=\"line2d_26\">\n    <path clip-path=\"url(#pd3b2aa3f08)\" d=\"M 81.082524 147.232719 \nL 81.218849 142.987611 \nL 81.677544 140.359377 \nL 87.497833 138.41987 \nL 93.674172 136.868183 \nL 94.819305 135.567091 \nL 95.351776 134.442021 \nL 96.326903 133.447761 \nL 97.417505 132.554756 \nL 98.800004 130.305582 \nL 99.348513 129.661367 \nL 101.314806 128.488049 \nL 101.661232 127.949402 \nL 103.191283 126.950349 \nL 103.595448 126.038255 \nL 103.903383 125.609712 \nL 104.038104 124.415818 \nL 105.298713 124.044424 \nL 105.638724 123.335687 \nL 105.892129 122.346482 \nL 105.946659 122.033966 \nL 106.796687 121.72919 \nL 106.886502 121.431704 \nL 107.829552 121.141096 \nL 107.871252 120.856987 \nL 108.333154 120.57903 \nL 108.554482 120.04032 \nL 108.583351 119.778999 \nL 108.923362 119.271157 \nL 108.949024 119.024182 \nL 109.401303 118.781563 \nL 109.452625 118.543107 \nL 109.667538 118.308638 \nL 109.779806 117.627531 \nL 109.924151 117.407438 \nL 110.443791 116.976874 \nL 110.450206 116.766164 \nL 110.9506 116.151021 \nL 111.017961 115.754113 \nL 111.531186 115.366938 \nL 111.656284 114.803076 \nL 112.04441 114.437628 \nL 112.191962 113.729642 \nL 112.294607 113.217017 \nL 112.307438 113.049384 \nL 112.9201 112.233639 \nL 113.138221 111.605719 \nL 113.423702 111.299253 \nL 113.529554 110.700146 \nL 114.199954 109.691852 \nL 114.31543 109.136196 \nL 114.488643 108.593929 \nL 114.556004 108.195371 \nL 114.693933 107.933313 \nL 114.873562 107.29012 \nL 115.165458 106.539024 \nL 115.24565 106.171236 \nL 115.389994 105.449807 \nL 115.691514 104.861854 \nL 115.787743 104.170659 \nL 115.932088 103.830464 \nL 116.021902 103.605542 \nL 116.416444 102.719755 \nL 116.833439 100.275641 \nL 116.926461 100.068986 \nL 116.990614 99.453628 \nL 117.125335 99.148356 \nL 119.005021 90.998915 \nL 119.274464 90.409302 \nL 119.373901 89.915565 \nL 119.537492 89.419263 \nL 119.707497 88.920016 \nL 119.803727 88.719405 \nL 119.919202 88.316475 \nL 120.086 87.911089 \nL 120.268837 86.365097 \nL 121.513407 82.876199 \nL 121.625675 82.646642 \nL 121.882287 81.592236 \nL 122.061916 81.111314 \nL 122.286452 79.997607 \nL 122.369851 79.486993 \nL 122.494949 78.833555 \nL 122.860622 77.469182 \nL 123.02742 77.042939 \nL 123.640082 75.243936 \nL 123.835749 74.927395 \nL 123.887071 74.767106 \nL 124.204629 74.442313 \nL 124.345766 73.431392 \nL 124.798045 71.984231 \nL 125.388254 71.601685 \nL 125.840533 71.406921 \nL 126.016954 71.209725 \nL 126.026577 71.010012 \nL 126.947174 70.18416 \nL 127.723426 69.97044 \nL 127.819656 69.533503 \nL 128.153252 69.083046 \nL 128.227028 68.852396 \nL 128.804406 68.379471 \nL 128.961581 68.136851 \nL 129.022526 67.638345 \nL 129.282346 67.382035 \nL 129.327254 66.582004 \nL 129.497259 66.304047 \nL 129.801986 66.019938 \nL 129.814817 65.729329 \nL 130.552578 65.431843 \nL 130.725791 64.493799 \nL 131.059387 64.164265 \nL 131.06901 63.825347 \nL 132.226973 63.11661 \nL 132.31358 62.361262 \nL 133.753817 61.122779 \nL 133.955899 60.676502 \nL 134.914988 60.210685 \nL 135.306322 59.72322 \nL 135.444251 59.211632 \nL 135.78747 58.672985 \nL 136.5124 58.103755 \nL 136.820335 57.499666 \nL 136.833165 56.855451 \nL 139.646279 56.164517 \nL 140.117804 55.418452 \nL 140.310263 54.606278 \nL 142.834687 52.719013 \nL 143.123376 51.593942 \nL 143.707169 50.292851 \nL 158.754277 44.173423 \nL 162.728561 39.928315 \nL 162.728561 39.928315 \n\" style=\"fill:none;stroke:#2ca02c;stroke-linecap:square;stroke-width:0.8;\"/>\n   </g>\n   <g id=\"line2d_27\">\n    <path clip-path=\"url(#pd3b2aa3f08)\" d=\"M 116.827023 147.565552 \nL 123.91594 143.343885 \nL 128.874974 140.731759 \nL 131.024103 138.805028 \nL 136.214088 137.264157 \nL 136.368055 135.972573 \nL 138.324725 133.869655 \nL 140.178749 132.983934 \nL 140.486684 132.178585 \nL 140.544422 131.438966 \nL 141.551625 130.754157 \nL 144.432099 130.115793 \nL 145.176275 129.517317 \nL 145.400811 128.953492 \nL 147.832213 128.420065 \nL 148.422422 127.913534 \nL 148.672619 127.430979 \nL 150.122479 126.969939 \nL 150.494567 126.528321 \nL 152.143301 125.696401 \nL 152.399913 125.303191 \nL 153.291641 124.92351 \nL 153.452024 124.556311 \nL 153.99091 124.200667 \nL 154.119216 123.855752 \nL 156.217022 122.878357 \nL 156.326083 122.569671 \nL 157.320456 121.688018 \nL 157.474423 121.133227 \nL 158.391812 119.842959 \nL 158.462381 119.59942 \nL 158.661255 119.36021 \nL 159.07825 119.12514 \nL 159.739027 117.582035 \nL 159.751858 117.374558 \nL 161.079827 115.997589 \nL 161.137565 115.62578 \nL 161.657205 115.262477 \nL 161.695697 114.907168 \nL 162.330812 114.732364 \nL 162.375719 114.388183 \nL 162.542517 114.218704 \nL 163.53689 113.720143 \nL 163.658781 113.5571 \nL 164.050115 113.39556 \nL 164.216913 113.076832 \nL 164.550509 112.455776 \nL 164.627493 111.854846 \nL 164.87769 111.561342 \nL 164.941843 111.272196 \nL 165.589789 110.429021 \nL 166.192828 108.582919 \nL 166.417364 108.331109 \nL 166.564916 107.835321 \nL 166.629069 107.109814 \nL 166.808698 106.872481 \nL 167.411737 105.266555 \nL 167.68118 105.044268 \nL 168.021192 104.278568 \nL 168.30988 102.488137 \nL 168.40611 102.283065 \nL 168.412525 102.180921 \nL 168.566493 101.977396 \nL 168.72046 101.172856 \nL 168.944996 100.677147 \nL 169.092548 100.088767 \nL 169.323499 99.700095 \nL 169.426144 99.314045 \nL 169.631434 98.834872 \nL 170.503916 95.188814 \nL 170.638638 94.636658 \nL 170.773359 94.177251 \nL 170.972234 92.616299 \nL 171.312245 91.32623 \nL 171.453382 90.584603 \nL 171.543196 90.11876 \nL 171.985853 87.557689 \nL 172.101328 87.266943 \nL 172.203973 86.778917 \nL 172.999472 83.097932 \nL 173.147024 82.665572 \nL 173.467789 81.217417 \nL 173.801385 78.954832 \nL 174.179888 78.195216 \nL 174.385178 77.805764 \nL 174.558392 77.542292 \nL 174.815004 77.005555 \nL 174.94331 76.17382 \nL 175.392382 75.453497 \nL 176.072405 72.942329 \nL 176.444493 72.42867 \nL 176.643367 71.717935 \nL 176.835827 71.163444 \nL 176.932056 70.974177 \nL 177.278483 70.782567 \nL 177.438866 70.392003 \nL 177.740385 70.192877 \nL 177.753216 69.991067 \nL 177.900768 69.786475 \nL 178.523053 69.368529 \nL 178.830988 69.15495 \nL 179.023447 68.717973 \nL 179.324967 68.035893 \nL 180.524629 67.318075 \nL 180.550291 67.070004 \nL 180.717089 66.817184 \nL 180.781242 66.027807 \nL 181.628063 64.892356 \nL 181.711462 64.282677 \nL 182.134872 63.965805 \nL 183.507748 63.305282 \nL 184.104372 62.237524 \nL 184.611181 61.464633 \nL 184.79081 61.056708 \nL 185.669707 60.632713 \nL 185.708199 60.191094 \nL 186.426714 59.730054 \nL 186.76031 59.247499 \nL 187.305611 57.643717 \nL 187.37618 57.045241 \nL 188.896608 55.722068 \nL 189.236619 54.982448 \nL 190.596665 54.1771 \nL 191.21895 53.291378 \nL 192.392952 52.304967 \nL 192.418613 51.188461 \nL 195.716082 49.896877 \nL 196.267798 48.356006 \nL 196.659132 46.429274 \nL 198.26296 43.817149 \nL 203.183502 39.595481 \nL 203.183502 39.595481 \n\" style=\"fill:none;stroke:#2ca02c;stroke-linecap:square;stroke-width:0.8;\"/>\n   </g>\n   <g id=\"line2d_28\">\n    <path clip-path=\"url(#pd3b2aa3f08)\" d=\"M 177.964921 147.889909 \nL 178.176626 143.690846 \nL 182.160533 141.094228 \nL 186.3369 139.17978 \nL 187.793175 137.649298 \nL 194.785862 136.366839 \nL 199.347147 135.258545 \nL 200.168306 133.400906 \nL 200.758515 132.602088 \nL 202.689523 131.868633 \nL 203.215578 131.189677 \nL 205.416029 130.556901 \nL 205.518674 129.963784 \nL 206.04473 129.405115 \nL 206.147375 128.876667 \nL 206.724753 128.374955 \nL 207.026272 127.440587 \nL 207.257223 127.003401 \nL 208.501793 126.180037 \nL 208.559531 125.790968 \nL 209.220308 125.05213 \nL 209.412767 124.700399 \nL 210.195435 124.359332 \nL 210.490539 123.706326 \nL 210.548277 123.393132 \nL 211.106409 123.088073 \nL 211.382267 122.500452 \nL 212.06229 122.217035 \nL 212.312487 121.669124 \nL 212.312487 121.40397 \nL 212.626837 121.144289 \nL 212.832127 120.395478 \nL 213.043832 120.155179 \nL 213.71744 119.919183 \nL 213.775177 119.687305 \nL 213.999713 119.235206 \nL 214.051036 119.014667 \nL 214.641244 118.583885 \nL 214.846534 117.759956 \nL 214.936348 117.561154 \nL 215.186545 117.365024 \nL 215.244283 117.171472 \nL 215.719016 116.79176 \nL 215.744677 116.421372 \nL 216.161672 116.059724 \nL 216.354132 115.706283 \nL 216.488853 115.360564 \nL 216.572252 114.855505 \nL 216.918679 114.205281 \nL 217.431904 113.123694 \nL 217.598702 112.679623 \nL 217.733423 112.389457 \nL 217.996451 111.683094 \nL 218.208156 111.407671 \nL 218.342878 111.136057 \nL 218.362124 111.001629 \nL 218.509676 110.735432 \nL 218.522506 110.603628 \nL 218.747042 110.34252 \nL 218.894594 109.829849 \nL 218.997239 109.578039 \nL 219.029316 109.453215 \nL 219.305174 109.205662 \nL 219.52971 108.359884 \nL 219.63877 108.12375 \nL 219.786322 107.543277 \nL 220.075011 106.310959 \nL 220.241809 105.984454 \nL 220.344454 105.448488 \nL 221.678838 100.697243 \nL 221.832806 99.86369 \nL 222.185648 98.590776 \nL 222.269047 98.142025 \nL 222.820764 96.282544 \nL 222.85284 95.844393 \nL 222.94907 95.407479 \nL 223.090207 94.536395 \nL 223.366065 93.319928 \nL 223.449464 93.059288 \nL 223.629092 92.102358 \nL 225.034045 86.182855 \nL 225.12386 85.805649 \nL 225.271412 85.2338 \nL 225.354811 85.041464 \nL 225.662746 83.567945 \nL 225.829544 83.265945 \nL 225.95785 82.961234 \nL 226.182386 82.343147 \nL 227.029206 78.442464 \nL 227.035622 78.321662 \nL 227.31148 78.078128 \nL 227.394879 77.457455 \nL 227.664322 76.292941 \nL 227.901688 76.024976 \nL 228.453405 73.735074 \nL 228.575296 73.427538 \nL 229.242488 71.10131 \nL 229.531177 69.401078 \nL 229.986664 68.363428 \nL 230.025156 67.925828 \nL 230.345921 67.701667 \nL 230.692348 66.52075 \nL 230.8399 65.757064 \nL 231.038775 65.49191 \nL 231.994656 61.745688 \nL 232.475804 61.370066 \nL 232.572034 60.980997 \nL 233.309794 60.157633 \nL 233.476592 59.720447 \nL 233.900003 59.263956 \nL 233.94491 58.786078 \nL 234.810977 58.284367 \nL 235.721951 56.604132 \nL 236.960105 55.292401 \nL 237.781265 54.558945 \nL 238.159768 53.760128 \nL 239.55189 52.88138 \nL 240.097191 51.902489 \nL 240.488525 50.794195 \nL 241.30327 49.511735 \nL 241.42516 47.981254 \nL 241.996123 46.066806 \nL 242.644069 43.470188 \nL 243.90147 39.271124 \nL 243.90147 39.271124 \n\" style=\"fill:none;stroke:#2ca02c;stroke-linecap:square;stroke-width:0.8;\"/>\n   </g>\n   <g id=\"line2d_29\">\n    <path clip-path=\"url(#pd3b2aa3f08)\" d=\"M 240.668154 145.716039 \nL 245.415483 141.360851 \nL 246.146828 138.656604 \nL 250.676036 136.656591 \nL 251.137939 135.05352 \nL 253.357636 133.707138 \nL 253.627079 131.50935 \nL 254.332763 130.581412 \nL 254.833157 129.736438 \nL 255.128261 128.23886 \nL 255.679978 127.566375 \nL 256.34717 126.935119 \nL 256.616613 126.339689 \nL 256.77058 125.239513 \nL 257.117007 124.728135 \nL 257.296636 124.239014 \nL 257.322297 123.769987 \nL 257.950997 122.466091 \nL 258.00232 122.06115 \nL 258.400069 121.669124 \nL 258.772157 120.920081 \nL 259.45218 120.561443 \nL 259.490671 120.212451 \nL 259.772945 119.540981 \nL 260.119372 117.704017 \nL 260.465798 117.419676 \nL 260.50429 117.140737 \nL 260.760903 116.866936 \nL 260.953362 116.074029 \nL 261.32545 115.818521 \nL 261.389603 115.319575 \nL 261.594893 115.075802 \nL 261.684707 114.598897 \nL 262.428883 113.908118 \nL 262.672665 113.028039 \nL 263.455333 111.385804 \nL 263.724776 111.190083 \nL 263.737606 110.99627 \nL 263.865912 110.614141 \nL 263.930065 110.238987 \nL 264.456121 108.975429 \nL 264.635749 107.778458 \nL 265.046329 106.162469 \nL 265.148974 105.542102 \nL 265.315772 105.236822 \nL 265.392756 104.784617 \nL 265.533893 104.045066 \nL 265.89315 102.612244 \nL 266.188254 102.332186 \nL 266.611665 100.959399 \nL 266.739971 100.689773 \nL 266.93243 100.02198 \nL 267.047906 99.625261 \nL 267.099228 99.362293 \nL 267.266026 98.839709 \nL 267.676606 97.167099 \nL 267.856235 96.658772 \nL 268.010202 96.152707 \nL 270.114424 86.336636 \nL 270.152915 86.066249 \nL 270.383867 85.794285 \nL 270.576326 84.408002 \nL 270.845769 83.551905 \nL 270.935583 82.82217 \nL 271.140873 81.618932 \nL 272.013355 76.735316 \nL 272.154492 76.356726 \nL 272.244306 75.577541 \nL 272.423935 75.176009 \nL 272.577902 74.34638 \nL 272.911498 72.085232 \nL 273.129619 71.59394 \nL 273.257925 71.087005 \nL 273.514538 69.166995 \nL 273.617183 68.870986 \nL 273.899456 68.568662 \nL 274.027762 67.943602 \nL 274.489665 66.599591 \nL 274.746277 66.240953 \nL 274.848922 64.694943 \nL 275.028551 64.276004 \nL 275.464792 63.841839 \nL 275.593098 62.922019 \nL 275.747065 61.92152 \nL 275.785557 61.385341 \nL 276.183306 60.225914 \nL 276.196137 59.594659 \nL 276.568225 58.201695 \nL 277.068619 57.424595 \nL 277.286739 56.579621 \nL 277.787134 55.651684 \nL 277.812795 54.619864 \nL 278.12073 53.453896 \nL 279.506436 50.504443 \nL 279.737388 48.504429 \nL 280.597039 45.800183 \nL 280.981958 41.444995 \nL 280.981958 41.444995 \n\" style=\"fill:none;stroke:#2ca02c;stroke-linecap:square;stroke-width:0.8;\"/>\n   </g>\n   <g id=\"line2d_30\">\n    <path clip-path=\"url(#pd3b2aa3f08)\" d=\"M 63.132827 147.460788 \nL 63.332791 132.041505 \nL 63.670623 126.817422 \nL 63.749711 124.395532 \nL 63.851705 123.692422 \nL 63.931696 122.099295 \nL 64.062408 120.959262 \nL 64.137888 119.663514 \nL 64.275015 116.575219 \nL 64.583451 112.085114 \nL 64.769194 111.192023 \nL 64.898904 109.922885 \nL 65.332739 106.26041 \nL 65.677161 104.327696 \nL 65.893678 103.457582 \nL 66.117412 100.660056 \nL 66.226873 100.160688 \nL 66.408506 98.980345 \nL 66.668527 96.677968 \nL 66.733482 96.299679 \nL 66.832117 95.452339 \nL 66.983679 94.608822 \nL 67.230267 92.926337 \nL 67.387442 92.365004 \nL 67.44919 91.990205 \nL 67.514546 91.708694 \nL 67.664904 90.955747 \nL 67.749907 90.57775 \nL 68.248698 86.701311 \nL 68.385424 85.691195 \nL 69.170096 81.366911 \nL 69.251892 80.782823 \nL 69.345715 80.545683 \nL 69.451167 79.698542 \nL 69.528953 79.326691 \nL 69.813632 77.644749 \nL 70.051399 77.238149 \nL 70.316833 76.257913 \nL 70.452356 75.969011 \nL 70.56703 75.527606 \nL 70.911452 75.378223 \nL 71.033744 74.922943 \nL 71.190919 74.613186 \nL 71.486424 73.815054 \nL 71.792354 72.979241 \nL 71.927477 72.457394 \nL 72.017291 71.918581 \nL 72.410629 71.170937 \nL 72.442706 70.978349 \nL 72.678469 70.783335 \nL 73.384153 68.450674 \nL 73.587037 68.218522 \nL 73.611094 67.742128 \nL 73.844451 67.49752 \nL 73.882943 66.994466 \nL 74.07019 66.735569 \nL 74.082619 66.471428 \nL 74.304349 65.926307 \nL 74.514049 65.356652 \nL 74.6191 64.759568 \nL 74.810757 63.468611 \nL 75.077794 62.765502 \nL 75.473138 62.396995 \nL 75.651965 61.621412 \nL 75.744185 61.212098 \nL 76.202879 60.343611 \nL 76.205285 59.88108 \nL 77.07055 59.396992 \nL 77.07055 58.888881 \nL 78.44102 58.353824 \nL 78.548477 55.861163 \nL 79.712855 55.119529 \nL 80.046451 54.312046 \nL 82.128219 53.424045 \nL 82.454598 52.435178 \nL 84.158665 51.315992 \nL 86.933286 48.477173 \nL 90.893136 46.546439 \nL 101.994828 43.929264 \nL 103.821588 39.700245 \nL 103.821588 39.700245 \n\" style=\"fill:none;stroke:#d62728;stroke-linecap:square;stroke-width:0.8;\"/>\n   </g>\n   <g id=\"line2d_31\">\n    <path clip-path=\"url(#pd3b2aa3f08)\" d=\"M 81.217245 147.232719 \nL 81.217245 142.987611 \nL 82.638236 138.41987 \nL 84.275744 136.868183 \nL 86.384777 135.567091 \nL 86.824226 134.442021 \nL 91.252393 133.447761 \nL 91.717503 132.554756 \nL 92.946035 131.742582 \nL 93.096794 130.996517 \nL 93.975692 130.305582 \nL 94.19702 129.661367 \nL 95.242715 128.488049 \nL 97.160893 127.949402 \nL 97.449582 127.437814 \nL 97.590718 126.950349 \nL 97.847331 126.484531 \nL 97.953183 126.038255 \nL 98.391028 125.609712 \nL 98.569053 124.415818 \nL 98.783966 124.044424 \nL 99.374174 123.684658 \nL 100.265902 123.335687 \nL 100.496854 122.667234 \nL 101.619533 122.033966 \nL 102.841649 121.72919 \nL 102.931463 121.141096 \nL 103.351666 120.856987 \nL 103.396573 120.57903 \nL 103.94829 120.04032 \nL 103.989989 119.778999 \nL 104.346039 119.522689 \nL 104.352454 119.271157 \nL 104.971532 118.308638 \nL 104.98757 118.077988 \nL 106.017227 116.353338 \nL 106.23214 116.151021 \nL 106.238555 115.951309 \nL 106.671589 115.754113 \nL 106.73895 115.559349 \nL 107.027638 115.176803 \nL 107.239344 114.437628 \nL 107.473502 113.903914 \nL 107.829552 113.729642 \nL 107.829552 113.5571 \nL 108.124656 113.217017 \nL 108.329946 112.883299 \nL 108.820717 112.393928 \nL 108.913739 111.917098 \nL 109.154313 111.605719 \nL 110.055664 110.700146 \nL 110.232085 110.407085 \nL 110.296239 109.832995 \nL 110.793425 109.55162 \nL 110.979469 108.999417 \nL 111.290611 108.863458 \nL 111.290611 108.7283 \nL 111.653076 108.460327 \nL 111.774967 108.063987 \nL 112.047618 107.163427 \nL 113.478232 105.449807 \nL 113.510308 105.331294 \nL 113.709183 105.095668 \nL 114.283353 104.284834 \nL 114.446944 103.830464 \nL 114.552796 103.270841 \nL 114.934507 102.501548 \nL 115.367541 101.640368 \nL 115.460562 101.321873 \nL 115.960957 100.172213 \nL 116.531919 98.945666 \nL 116.634564 98.743604 \nL 116.734001 98.140914 \nL 117.276095 96.456569 \nL 117.391571 96.064114 \nL 117.872719 94.989955 \nL 117.981779 94.503443 \nL 118.090839 94.309032 \nL 118.71954 93.046335 \nL 118.812562 92.560349 \nL 119.014644 91.976226 \nL 119.229557 91.683613 \nL 119.287294 91.292727 \nL 119.614475 90.704465 \nL 120.044301 89.518747 \nL 120.506203 88.819779 \nL 120.509411 88.719405 \nL 120.714701 88.518233 \nL 120.955275 87.297915 \nL 121.11245 86.885393 \nL 121.446046 84.984548 \nL 121.776434 84.331709 \nL 122.366643 82.761624 \nL 122.373058 82.531246 \nL 122.645709 82.29918 \nL 122.661747 82.182495 \nL 122.969682 81.82974 \nL 123.17818 80.867749 \nL 123.867825 79.870913 \nL 123.986509 79.357699 \nL 124.724269 78.700707 \nL 124.772384 78.432733 \nL 124.881444 78.161617 \nL 124.929559 78.024838 \nL 125.410707 77.609414 \nL 125.686566 77.185965 \nL 126.058653 77.042939 \nL 126.238282 76.607938 \nL 126.539802 76.312771 \nL 126.777168 76.013244 \nL 126.943966 75.709147 \nL 127.078688 75.400254 \nL 127.90947 74.442313 \nL 127.944754 74.11165 \nL 128.573455 73.431392 \nL 128.814029 73.25712 \nL 129.519713 73.081067 \nL 129.587074 72.903181 \nL 129.952746 72.723406 \nL 130.122752 72.172162 \nL 131.117125 71.010012 \nL 131.267885 70.602681 \nL 131.360907 70.18416 \nL 131.559781 69.97044 \nL 131.678464 69.533503 \nL 132.140367 69.083046 \nL 132.249427 68.617927 \nL 132.900581 67.889877 \nL 132.913411 67.638345 \nL 133.323991 67.382035 \nL 134.029675 67.120714 \nL 135.136316 65.127068 \nL 135.886907 64.814552 \nL 136.249372 64.493799 \nL 136.435416 63.825347 \nL 136.804297 63.476376 \nL 137.580549 63.11661 \nL 137.60621 62.745216 \nL 139.181169 61.963696 \nL 139.328721 61.551322 \nL 140.281394 61.122779 \nL 140.663105 60.676502 \nL 142.485053 60.210685 \nL 142.821857 59.72322 \nL 144.13058 59.211632 \nL 145.445718 56.855451 \nL 146.497829 56.164517 \nL 146.735195 55.418452 \nL 148.480159 54.606278 \nL 151.614038 53.713272 \nL 153.054275 52.719013 \nL 158.096708 51.593942 \nL 158.54578 50.292851 \nL 159.886579 48.741164 \nL 160.803969 46.801657 \nL 169.881631 44.173423 \nL 174.526315 39.928315 \nL 174.526315 39.928315 \n\" style=\"fill:none;stroke:#d62728;stroke-linecap:square;stroke-width:0.8;\"/>\n   </g>\n   <g id=\"line2d_32\">\n    <path clip-path=\"url(#pd3b2aa3f08)\" d=\"M 111.386841 147.565552 \nL 112.403668 143.343885 \nL 112.721225 140.731759 \nL 122.116446 138.805028 \nL 122.514195 137.264157 \nL 123.078742 135.972573 \nL 128.682515 134.856067 \nL 131.601481 132.983934 \nL 136.400132 131.438966 \nL 138.190003 130.754157 \nL 138.728889 130.115793 \nL 140.262148 129.517317 \nL 140.897264 128.953492 \nL 141.590117 126.528321 \nL 142.039189 126.104326 \nL 142.783365 125.696401 \nL 142.975824 125.303191 \nL 143.29659 124.92351 \nL 144.560405 124.556311 \nL 144.630974 124.200667 \nL 146.638966 123.855752 \nL 147.254835 123.195228 \nL 147.97335 122.268678 \nL 149.153767 121.97493 \nL 149.660576 121.688018 \nL 150.661365 121.407565 \nL 150.719102 121.133227 \nL 150.962884 120.864687 \nL 151.642907 120.601652 \nL 151.854612 120.34385 \nL 152.380667 120.09103 \nL 152.515389 119.842959 \nL 153.285226 119.59942 \nL 153.753544 118.894034 \nL 154.516965 118.222892 \nL 154.940376 118.006083 \nL 155.113589 117.582035 \nL 155.370202 117.374558 \nL 156.114377 117.169966 \nL 156.826477 115.997589 \nL 157.198565 115.443098 \nL 157.61556 115.083853 \nL 157.634806 114.907168 \nL 158.096708 114.732364 \nL 158.269921 114.218704 \nL 158.276337 114.050902 \nL 158.520118 113.720143 \nL 159.302786 113.39556 \nL 159.424677 113.076832 \nL 159.59789 112.763663 \nL 159.681289 112.455776 \nL 159.925071 112.152917 \nL 159.944317 112.003297 \nL 160.130361 111.707536 \nL 160.175268 111.561342 \nL 160.611509 111.272196 \nL 160.861706 110.987213 \nL 160.906614 110.846226 \nL 161.753434 110.291804 \nL 161.875325 110.020028 \nL 162.677239 109.486612 \nL 162.856868 108.965818 \nL 163.3316 108.456677 \nL 163.678027 107.835321 \nL 163.928224 107.591151 \nL 164.646739 106.404098 \nL 164.839198 105.943617 \nL 164.98675 105.378318 \nL 164.993166 105.155207 \nL 165.435822 104.60446 \nL 165.544882 104.170659 \nL 165.872063 103.319552 \nL 166.135091 103.109953 \nL 166.205659 103.005602 \nL 166.462271 102.797773 \nL 167.206447 100.088767 \nL 167.328338 99.797009 \nL 167.905716 98.075163 \nL 168.040437 97.416486 \nL 168.425356 96.483493 \nL 168.662722 96.297832 \nL 169.836724 93.626412 \nL 169.990691 92.616299 \nL 170.292211 92.156404 \nL 170.420517 91.603367 \nL 170.587315 91.32623 \nL 170.651468 90.863202 \nL 170.940157 90.11876 \nL 171.228846 89.274597 \nL 171.472628 88.230613 \nL 171.498289 87.846988 \nL 171.652257 87.654279 \nL 171.71641 87.364024 \nL 171.831885 87.169691 \nL 171.93453 86.680765 \nL 172.64663 84.466749 \nL 172.903242 84.25949 \nL 173.057209 83.418556 \nL 173.236838 83.097932 \nL 173.48062 82.882466 \nL 173.692325 82.005826 \nL 174.141397 81.331367 \nL 174.269703 80.756935 \nL 174.436501 80.523767 \nL 174.53273 80.170156 \nL 174.661037 79.81169 \nL 174.802173 79.448099 \nL 174.94331 79.079092 \nL 175.231999 78.451187 \nL 175.347475 78.195216 \nL 175.565595 77.409357 \nL 176.033913 76.86923 \nL 176.168634 76.314808 \nL 176.662613 75.306188 \nL 176.701105 75.157737 \nL 176.919226 74.8573 \nL 177.034701 74.551958 \nL 177.156592 74.397371 \nL 177.509434 74.241463 \nL 177.62491 73.765474 \nL 178.279271 73.276304 \nL 178.452484 73.110132 \nL 178.4589 72.772851 \nL 178.984955 72.253866 \nL 179.376289 72.07718 \nL 179.485349 71.717935 \nL 179.947252 71.350446 \nL 180.466892 70.974177 \nL 181.442019 70.782567 \nL 181.583155 70.192877 \nL 182.057888 69.786475 \nL 182.378654 69.15495 \nL 183.559071 67.561614 \nL 184.104372 66.296347 \nL 184.450799 66.027807 \nL 184.502121 65.753469 \nL 184.745903 65.473016 \nL 185.21422 65.186104 \nL 186.394637 64.591363 \nL 187.241458 63.965805 \nL 187.356934 63.305282 \nL 187.767514 62.604723 \nL 188.056202 61.056708 \nL 188.126771 60.632713 \nL 188.83887 59.730054 \nL 189.089067 59.247499 \nL 190.109101 58.740968 \nL 190.59025 57.045241 \nL 191.007245 56.406877 \nL 191.462732 54.982448 \nL 191.815574 54.1771 \nL 193.111466 53.291378 \nL 193.201281 52.304967 \nL 194.606233 51.188461 \nL 196.691209 49.896877 \nL 197.685582 48.356006 \nL 201.99667 46.429274 \nL 206.083222 43.817149 \nL 221.473549 39.595481 \nL 221.473549 39.595481 \n\" style=\"fill:none;stroke:#d62728;stroke-linecap:square;stroke-width:0.8;\"/>\n   </g>\n   <g id=\"line2d_33\">\n    <path clip-path=\"url(#pd3b2aa3f08)\" d=\"M 167.116633 147.889909 \nL 175.552765 143.690846 \nL 178.67702 141.094228 \nL 184.964023 139.17978 \nL 187.959973 136.366839 \nL 192.739378 135.258545 \nL 194.939829 134.279654 \nL 196.575733 133.400906 \nL 199.225256 132.602088 \nL 200.360766 131.868633 \nL 200.610963 131.189677 \nL 201.650243 129.963784 \nL 204.094476 129.405115 \nL 204.248443 128.374955 \nL 204.633362 127.897078 \nL 204.742422 127.440587 \nL 205.153002 127.003401 \nL 205.262062 126.180037 \nL 205.377538 125.790968 \nL 206.622108 125.415346 \nL 206.981365 125.05213 \nL 207.590819 123.706326 \nL 208.456886 122.790662 \nL 208.732744 122.217035 \nL 209.2588 121.669124 \nL 210.342987 121.144289 \nL 210.464878 120.395478 \nL 210.978103 120.155179 \nL 211.324529 119.459367 \nL 211.805677 119.014667 \nL 213.1978 116.980411 \nL 213.300445 116.421372 \nL 213.723855 115.706283 \nL 213.92273 115.532486 \nL 214.018959 115.022124 \nL 214.320479 114.690556 \nL 214.358971 114.365487 \nL 215.68694 112.679623 \nL 215.956383 112.389457 \nL 216.026951 111.962496 \nL 216.142427 111.544896 \nL 216.277148 110.868093 \nL 216.289979 110.735432 \nL 216.687728 110.34252 \nL 216.899433 109.956863 \nL 216.970001 109.453215 \nL 217.226614 109.082906 \nL 217.24586 108.960813 \nL 217.579456 108.598395 \nL 217.598702 108.478837 \nL 217.855314 108.241525 \nL 217.957959 107.773825 \nL 218.201741 107.428794 \nL 218.407031 107.088409 \nL 218.791949 105.448488 \nL 218.926671 105.026637 \nL 219.042146 104.610526 \nL 219.151207 104.404511 \nL 219.574617 102.996727 \nL 219.709339 102.800076 \nL 219.946705 101.831397 \nL 220.549744 99.314936 \nL 220.735788 98.771071 \nL 220.985985 98.052597 \nL 221.210521 97.784916 \nL 221.338827 97.075133 \nL 221.409395 96.81031 \nL 221.556948 96.282544 \nL 221.826391 95.669493 \nL 221.935451 95.407479 \nL 222.102249 94.623379 \nL 222.262632 94.449431 \nL 222.307539 94.101745 \nL 222.519244 93.841106 \nL 222.878501 92.885475 \nL 222.987562 92.624639 \nL 223.090207 92.189474 \nL 223.340404 91.666259 \nL 223.680415 89.997473 \nL 223.750983 89.731701 \nL 223.847213 89.465151 \nL 224.501575 87.480839 \nL 224.642711 87.113242 \nL 224.72611 86.928512 \nL 224.828755 86.743132 \nL 224.937816 86.182855 \nL 224.957062 86.088841 \nL 225.181597 85.805649 \nL 225.252166 85.425257 \nL 225.34198 85.137744 \nL 225.476702 84.944959 \nL 225.592177 84.654045 \nL 225.746145 83.96661 \nL 225.938604 82.859039 \nL 226.336353 82.446998 \nL 226.548058 81.606143 \nL 226.702026 81.17658 \nL 226.702026 81.068169 \nL 226.9009 80.850075 \nL 227.048452 80.185095 \nL 227.21525 79.617757 \nL 227.375633 79.037283 \nL 228.421329 75.616138 \nL 228.658695 75.198538 \nL 228.754925 74.481411 \nL 229.178335 73.735074 \nL 229.287395 72.955752 \nL 229.588915 72.795546 \nL 229.89685 71.628547 \nL 230.037986 71.10131 \nL 230.2112 70.739662 \nL 230.371583 69.989562 \nL 230.910469 69.79601 \nL 231.070851 69.599879 \nL 231.070851 69.401078 \nL 231.256895 68.995071 \nL 231.56483 67.473729 \nL 231.885596 66.765555 \nL 231.988241 66.016745 \nL 232.058809 65.757064 \nL 233.31621 64.370372 \nL 233.450931 63.767902 \nL 233.893587 63.454708 \nL 234.05397 63.13284 \nL 234.522288 62.801702 \nL 234.708332 62.108904 \nL 235.074004 61.745688 \nL 235.138157 61.370066 \nL 235.567983 60.980997 \nL 235.651382 60.577301 \nL 235.952902 60.157633 \nL 236.985766 59.720447 \nL 237.287286 59.263956 \nL 237.409177 58.786078 \nL 238.005801 58.284367 \nL 238.852621 57.755918 \nL 239.911147 55.971356 \nL 239.96247 55.292401 \nL 240.231913 54.558945 \nL 240.302481 53.760128 \nL 241.361007 52.88138 \nL 243.2856 51.902489 \nL 243.298431 50.794195 \nL 243.702595 49.511735 \nL 244.600739 47.981254 \nL 245.338499 46.066806 \nL 245.595112 43.470188 \nL 251.843623 39.271124 \nL 251.843623 39.271124 \n\" style=\"fill:none;stroke:#d62728;stroke-linecap:square;stroke-width:0.8;\"/>\n   </g>\n   <g id=\"line2d_34\">\n    <path clip-path=\"url(#pd3b2aa3f08)\" d=\"M 236.85746 145.716039 \nL 242.708222 141.360851 \nL 243.259939 138.656604 \nL 243.2856 136.656591 \nL 244.260727 135.05352 \nL 245.274346 133.707138 \nL 246.839682 132.54117 \nL 248.571815 131.50935 \nL 249.315991 130.581412 \nL 251.086616 129.736438 \nL 251.7923 128.959339 \nL 251.959098 128.23886 \nL 253.22933 126.935119 \nL 253.562926 125.775692 \nL 254.409746 125.239513 \nL 255.346382 122.88503 \nL 255.384873 122.466091 \nL 255.654316 121.669124 \nL 256.629444 120.920081 \nL 256.873225 119.872484 \nL 257.155499 119.540981 \nL 257.912505 117.140737 \nL 258.464222 116.866936 \nL 258.656681 116.3338 \nL 258.656681 116.074029 \nL 259.490671 114.835624 \nL 259.6703 113.908118 \nL 260.529952 112.395216 \nL 261.107329 110.238987 \nL 261.197144 109.688476 \nL 261.73603 109.329094 \nL 262.018303 108.62718 \nL 262.108118 108.114353 \nL 262.326238 107.778458 \nL 262.403222 107.283009 \nL 262.865124 106.796985 \nL 263.429671 105.389069 \nL 263.532316 104.934613 \nL 263.622131 104.486758 \nL 263.917235 104.338864 \nL 264.071202 103.753826 \nL 264.391968 103.465029 \nL 264.404798 103.321514 \nL 264.584427 103.036182 \nL 264.764056 102.471966 \nL 264.918023 101.915722 \nL 265.444078 100.824398 \nL 265.46974 100.288066 \nL 265.572385 100.02198 \nL 265.726352 99.362293 \nL 266.162593 98.709718 \nL 266.342222 98.321196 \nL 267.458486 94.894923 \nL 267.663775 94.268605 \nL 267.907557 93.392896 \nL 268.023033 93.142702 \nL 268.318137 92.140692 \nL 268.472104 91.512517 \nL 269.036652 88.191078 \nL 269.164958 87.79874 \nL 269.857811 86.201635 \nL 269.934795 85.930469 \nL 270.204238 85.520665 \nL 270.25556 84.968141 \nL 270.512173 83.83952 \nL 270.755955 83.696004 \nL 270.8586 83.115968 \nL 271.256349 82.376416 \nL 271.333332 82.075691 \nL 271.50013 81.310434 \nL 271.679759 80.68316 \nL 271.91071 79.878025 \nL 271.974863 79.548816 \nL 272.577902 77.290622 \nL 272.821684 76.164764 \nL 272.93716 75.77523 \nL 273.270756 75.377823 \nL 273.488876 75.176009 \nL 273.745489 73.025766 \nL 274.553818 72.562137 \nL 274.900244 71.087005 \nL 275.169687 70.563001 \nL 275.195349 69.741357 \nL 275.503283 69.457017 \nL 275.811218 68.568662 \nL 276.311612 68.259664 \nL 276.606717 67.943602 \nL 276.709362 66.599591 \nL 277.196925 65.871981 \nL 277.312401 65.49191 \nL 277.864117 65.099884 \nL 278.107899 64.276004 \nL 278.775091 63.841839 \nL 279.185671 63.391047 \nL 279.224163 62.432899 \nL 279.37813 61.92152 \nL 280.006831 61.385341 \nL 280.250612 60.821345 \nL 280.314765 60.225914 \nL 280.802329 59.594659 \nL 280.892143 58.922174 \nL 282.136713 57.424595 \nL 282.162374 56.579621 \nL 282.521632 55.651684 \nL 282.598616 54.619864 \nL 283.137502 52.107513 \nL 284.510378 50.504443 \nL 285.831931 48.504429 \nL 285.973068 45.800183 \nL 287.936153 41.444995 \nL 287.936153 41.444995 \n\" style=\"fill:none;stroke:#d62728;stroke-linecap:square;stroke-width:0.8;\"/>\n   </g>\n   <g id=\"line2d_35\">\n    <path clip-path=\"url(#pd3b2aa3f08)\" d=\"M 63.038132 147.460788 \nL 63.830604 124.038602 \nL 63.903428 122.711346 \nL 63.972894 121.516318 \nL 64.110021 120.689606 \nL 64.191917 118.71036 \nL 64.268499 118.036119 \nL 64.409335 115.060868 \nL 64.562902 114.011365 \nL 64.70454 112.862891 \nL 64.818211 111.933364 \nL 65.053272 109.922885 \nL 65.153912 109.249351 \nL 65.24914 108.085399 \nL 65.32492 107.585827 \nL 65.435785 106.615351 \nL 65.598172 105.449334 \nL 65.803262 103.350342 \nL 65.934375 102.818835 \nL 66.080724 101.266063 \nL 66.219455 100.660056 \nL 66.31789 100.061385 \nL 66.624421 97.152635 \nL 66.901483 95.358459 \nL 67.106372 93.954283 \nL 67.263346 93.487081 \nL 67.391452 92.926337 \nL 67.455605 92.645776 \nL 67.547023 91.614766 \nL 67.690365 90.861354 \nL 67.806242 90.388301 \nL 67.911292 90.008399 \nL 68.024563 89.43572 \nL 68.103551 88.665962 \nL 68.26233 87.593496 \nL 68.310846 87.29771 \nL 68.409882 86.701311 \nL 68.976033 85.177571 \nL 69.080683 84.130514 \nL 69.165686 83.917612 \nL 69.451568 81.939334 \nL 69.615559 81.017924 \nL 69.729832 80.426326 \nL 69.969203 79.575207 \nL 70.628777 78.175466 \nL 70.867748 77.100892 \nL 71.077448 76.400827 \nL 71.18731 75.527606 \nL 71.371349 75.378223 \nL 71.526119 74.298142 \nL 72.339259 73.485538 \nL 72.405016 73.318419 \nL 72.630354 73.149669 \nL 72.764273 72.279751 \nL 73.324811 71.170937 \nL 73.441089 70.783335 \nL 73.667228 70.385697 \nL 73.780298 69.977299 \nL 74.052548 69.557338 \nL 74.271871 68.679021 \nL 74.433056 68.450674 \nL 74.492397 67.982399 \nL 74.704904 67.742128 \nL 74.717735 67.49752 \nL 75.124305 66.994466 \nL 75.209308 66.735569 \nL 75.63753 66.201772 \nL 75.827584 65.926307 \nL 75.831593 65.644716 \nL 76.12349 65.061739 \nL 76.216512 64.131607 \nL 76.790682 63.804781 \nL 77.794678 62.765502 \nL 77.849208 62.396995 \nL 78.27743 61.621412 \nL 78.45786 61.212098 \nL 78.852402 60.786684 \nL 79.268595 59.396992 \nL 80.206834 58.888881 \nL 82.17874 58.353824 \nL 82.663096 57.78831 \nL 83.060043 56.547887 \nL 83.873985 55.861163 \nL 85.975801 55.119529 \nL 89.075999 54.312046 \nL 89.653377 53.424045 \nL 92.408752 52.435178 \nL 98.788777 51.315992 \nL 101.619533 50.021431 \nL 114.905638 48.477173 \nL 117.115712 46.546439 \nL 118.116501 43.929264 \nL 121.346609 39.700245 \nL 121.346609 39.700245 \n\" style=\"fill:none;stroke:#9467bd;stroke-linecap:square;stroke-width:0.8;\"/>\n   </g>\n   <g id=\"line2d_36\">\n    <path clip-path=\"url(#pd3b2aa3f08)\" d=\"M 74.775473 141.582513 \nL 80.845157 136.897316 \nL 82.104162 133.961424 \nL 82.493892 131.774681 \nL 85.858722 130.011333 \nL 85.959763 128.522332 \nL 88.634947 127.22646 \nL 88.881936 126.074367 \nL 89.49941 125.033726 \nL 89.51224 124.08216 \nL 91.258808 123.203508 \nL 92.278842 121.619493 \nL 92.472905 120.214226 \nL 95.212243 119.564632 \nL 95.377437 118.944926 \nL 95.816885 118.351854 \nL 97.706194 117.782673 \nL 97.974033 116.706958 \nL 98.431124 115.223639 \nL 99.207376 114.758377 \nL 101.058193 114.305852 \nL 101.465565 113.435391 \nL 102.597867 113.015872 \nL 102.753439 112.204866 \nL 103.611486 111.427417 \nL 105.250598 110.679617 \nL 105.468718 110.315787 \nL 106.142326 109.958176 \nL 106.389315 109.260295 \nL 106.572151 108.583571 \nL 108.079749 108.252482 \nL 108.458252 106.660816 \nL 108.929778 106.353881 \nL 108.9811 106.050345 \nL 109.237712 105.750055 \nL 109.314696 105.452868 \nL 109.722068 105.158645 \nL 111.598546 104.578581 \nL 112.066864 104.2925 \nL 112.839909 102.624561 \nL 113.192751 102.353769 \nL 113.722014 101.552032 \nL 114.167878 101.288077 \nL 114.203162 101.025647 \nL 114.687518 100.505089 \nL 114.716387 99.989837 \nL 115.066021 99.734046 \nL 115.406032 97.972475 \nL 115.659437 97.724327 \nL 115.842273 96.73853 \nL 116.259269 96.249069 \nL 116.326629 95.518181 \nL 117.423647 92.855008 \nL 117.571199 91.885772 \nL 118.161408 90.667484 \nL 118.549534 90.422504 \nL 118.693878 90.176982 \nL 118.806146 89.436707 \nL 119.126912 88.689887 \nL 119.25201 88.187718 \nL 119.765235 86.914202 \nL 120.243176 84.536473 \nL 120.74357 83.152134 \nL 121.731527 82.868534 \nL 121.856626 82.582452 \nL 122.164561 82.293776 \nL 122.434004 81.410978 \nL 122.67137 81.110689 \nL 122.879868 80.189723 \nL 123.242333 79.875496 \nL 123.389885 79.557356 \nL 123.393092 79.235109 \nL 123.813295 78.908551 \nL 123.906317 78.577462 \nL 124.137268 78.241608 \nL 124.28482 77.554585 \nL 124.612001 77.202858 \nL 125.099565 76.845247 \nL 125.282401 76.481416 \nL 125.763549 76.111004 \nL 126.591124 74.956167 \nL 127.54059 74.145161 \nL 127.620781 73.725643 \nL 127.858148 73.295899 \nL 128.387411 72.855182 \nL 128.701761 71.937395 \nL 129.19574 71.458354 \nL 129.590281 69.92599 \nL 129.593489 69.378361 \nL 130.472386 68.80918 \nL 131.963946 67.596402 \nL 132.336034 66.946808 \nL 133.458713 66.263429 \nL 134.007222 63.957526 \nL 134.558938 63.078874 \nL 134.613468 62.127307 \nL 135.187639 61.086666 \nL 136.34881 59.934574 \nL 136.499569 58.638702 \nL 137.404128 57.1497 \nL 140.018366 55.386353 \nL 140.207618 53.19961 \nL 145.38798 50.263718 \nL 151.517808 45.578521 \nL 151.517808 45.578521 \n\" style=\"fill:none;stroke:#9467bd;stroke-linecap:square;stroke-width:0.8;\"/>\n   </g>\n   <g id=\"line2d_37\">\n    <path clip-path=\"url(#pd3b2aa3f08)\" d=\"M 113.205581 140.833993 \nL 115.024321 136.083816 \nL 134.026468 133.101617 \nL 135.437836 130.877105 \nL 137.503565 129.081013 \nL 137.795462 127.562613 \nL 141.064062 126.239743 \nL 142.212402 125.062462 \nL 144.54116 123.998046 \nL 149.596423 123.023838 \nL 150.943638 122.123472 \nL 151.546677 121.284725 \nL 152.258777 120.498216 \nL 154.613195 119.75658 \nL 155.986071 119.053926 \nL 156.492881 117.747234 \nL 156.569864 117.135946 \nL 157.262718 115.98346 \nL 157.30121 115.43785 \nL 157.589899 114.910216 \nL 158.795977 113.420674 \nL 158.982021 112.951276 \nL 159.463169 112.493761 \nL 159.482415 112.047282 \nL 160.226591 111.184455 \nL 160.290744 110.766794 \nL 160.62434 110.357524 \nL 160.848876 108.794608 \nL 161.945894 107.331266 \nL 161.96514 106.978534 \nL 162.555348 106.6305 \nL 163.3316 105.61225 \nL 163.350846 105.280744 \nL 164.005208 104.30732 \nL 164.172006 103.674293 \nL 164.646739 103.052614 \nL 164.717307 102.745694 \nL 164.929012 102.441221 \nL 165.005996 101.839145 \nL 165.204871 101.541321 \nL 165.230532 101.245501 \nL 165.763003 100.951585 \nL 165.788664 100.659476 \nL 166.192828 100.369081 \nL 167.013988 98.097557 \nL 167.392491 97.541196 \nL 167.623442 96.988315 \nL 167.745333 96.438394 \nL 168.034022 96.164386 \nL 168.322711 94.801442 \nL 168.553662 94.529859 \nL 168.598569 94.258476 \nL 168.829521 93.987235 \nL 169.522374 93.444954 \nL 169.522374 93.173798 \nL 171.087709 90.172719 \nL 171.2096 89.342126 \nL 171.337906 88.783823 \nL 171.369983 88.503093 \nL 171.806224 88.221216 \nL 171.915284 87.653721 \nL 171.947361 87.367949 \nL 172.223219 86.791952 \nL 172.287372 86.209449 \nL 172.685121 85.619712 \nL 172.774936 85.321889 \nL 173.127778 85.021959 \nL 173.410051 84.415339 \nL 173.487035 83.486741 \nL 173.852708 82.853713 \nL 173.936107 82.532582 \nL 174.545561 81.880289 \nL 174.750851 81.548783 \nL 174.808589 81.213457 \nL 175.045955 80.874111 \nL 175.475781 79.109162 \nL 176.059574 78.740717 \nL 176.258449 77.598907 \nL 176.482984 76.80351 \nL 177.098854 75.549957 \nL 177.84303 74.667273 \nL 178.112473 74.209758 \nL 178.863064 73.740359 \nL 179.049108 72.762017 \nL 179.331382 72.250818 \nL 179.466103 70.612222 \nL 179.979328 70.025088 \nL 182.532621 69.4138 \nL 182.975278 68.107108 \nL 183.661716 67.404453 \nL 183.873421 66.662818 \nL 184.566274 65.037562 \nL 184.598351 64.137196 \nL 188.736225 63.162987 \nL 190.834031 62.098571 \nL 190.987999 59.598421 \nL 191.180458 58.080021 \nL 193.271849 56.283929 \nL 193.483554 54.059417 \nL 197.801057 51.077217 \nL 203.042365 46.327041 \nL 203.042365 46.327041 \n\" style=\"fill:none;stroke:#9467bd;stroke-linecap:square;stroke-width:0.8;\"/>\n   </g>\n   <g id=\"line2d_38\">\n    <path clip-path=\"url(#pd3b2aa3f08)\" d=\"M 174.859911 140.718855 \nL 185.008931 135.958529 \nL 189.666445 132.969075 \nL 191.719344 130.738632 \nL 195.927787 128.937388 \nL 197.050466 127.414354 \nL 198.442588 126.087222 \nL 202.83066 123.837777 \nL 203.010288 122.859977 \nL 204.70393 121.114085 \nL 204.838652 120.324344 \nL 206.98778 119.579559 \nL 207.937246 118.202346 \nL 208.21952 116.356933 \nL 208.95728 115.240305 \nL 209.098417 114.709877 \nL 209.752778 114.195905 \nL 209.79127 113.697033 \nL 210.342987 113.212064 \nL 210.676583 112.739935 \nL 211.658125 112.279699 \nL 212.331733 111.39159 \nL 212.844958 110.129916 \nL 213.069493 109.725808 \nL 214.147265 108.939335 \nL 214.718228 108.556128 \nL 214.75672 108.179102 \nL 215.064655 107.807911 \nL 215.205791 107.442236 \nL 215.500896 107.08178 \nL 215.725431 105.686867 \nL 216.026951 105.348693 \nL 216.033366 105.014319 \nL 216.700558 104.356228 \nL 217.643609 103.393199 \nL 218.407031 101.539576 \nL 218.432692 101.238564 \nL 218.80478 100.939522 \nL 219.356497 100.642347 \nL 219.362912 100.346943 \nL 219.581032 100.053216 \nL 219.991612 97.753482 \nL 220.594651 96.908891 \nL 220.607482 96.628945 \nL 220.973154 96.34968 \nL 221.40298 94.684793 \nL 222.172817 94.132415 \nL 222.403768 93.580517 \nL 222.487167 93.028619 \nL 222.730949 92.476241 \nL 222.814348 91.922898 \nL 223.090207 91.368102 \nL 223.757399 89.689942 \nL 223.802306 89.124207 \nL 223.943443 88.554368 \nL 223.98835 88.267725 \nL 224.212886 87.979829 \nL 224.315531 87.399959 \nL 224.72611 86.814091 \nL 224.745356 86.518687 \nL 225.040461 85.92247 \nL 225.329149 84.705538 \nL 225.76539 84.395555 \nL 225.778221 84.083031 \nL 226.022003 83.449829 \nL 226.098987 82.477477 \nL 226.233708 82.146715 \nL 226.798255 81.474166 \nL 227.035622 80.7856 \nL 227.042037 80.434769 \nL 227.31148 80.079254 \nL 227.343557 79.718798 \nL 227.786213 79.353123 \nL 228.408498 76.61914 \nL 228.658695 74.881335 \nL 228.934553 73.94897 \nL 229.364379 73.464001 \nL 229.454193 72.451157 \nL 229.948172 71.920729 \nL 230.012325 71.372301 \nL 230.230446 70.804101 \nL 230.256107 70.214087 \nL 230.660271 69.599879 \nL 230.891223 68.958688 \nL 231.725213 68.287206 \nL 232.636187 66.83669 \nL 232.751662 66.046949 \nL 233.399609 65.204871 \nL 233.752451 64.301056 \nL 235.593644 63.323257 \nL 235.811765 62.255076 \nL 238.60884 61.073812 \nL 240.475695 59.746679 \nL 243.093141 58.223646 \nL 243.651273 56.422402 \nL 244.209405 54.191959 \nL 244.63923 51.202505 \nL 245.582281 46.442179 \nL 245.582281 46.442179 \n\" style=\"fill:none;stroke:#9467bd;stroke-linecap:square;stroke-width:0.8;\"/>\n   </g>\n   <g id=\"line2d_39\">\n    <path clip-path=\"url(#pd3b2aa3f08)\" d=\"M 238.910359 138.546343 \nL 247.198939 133.586355 \nL 248.828427 130.452988 \nL 249.149193 128.104109 \nL 251.77947 126.19938 \nL 252.331186 124.582777 \nL 252.421001 123.169148 \nL 253.550095 121.906683 \nL 254.024828 120.7614 \nL 254.448238 119.709751 \nL 255.808284 118.734713 \nL 256.283017 117.823563 \nL 256.436984 116.966527 \nL 257.360789 116.155925 \nL 257.38645 115.385608 \nL 257.643062 114.650573 \nL 257.720046 113.946687 \nL 258.01515 113.270499 \nL 258.066473 112.619091 \nL 258.169118 111.989974 \nL 258.387238 111.381007 \nL 259.323873 110.790333 \nL 260.658258 110.216328 \nL 260.91487 109.657566 \nL 261.184313 109.112784 \nL 261.813013 108.580861 \nL 262.262085 108.060791 \nL 262.287746 107.551674 \nL 262.313408 107.052695 \nL 262.36473 106.563117 \nL 262.518697 106.08227 \nL 262.608512 105.60954 \nL 262.9806 105.144366 \nL 263.057583 104.686232 \nL 263.788929 104.23466 \nL 263.801759 103.78921 \nL 263.827421 103.349472 \nL 263.955727 102.915064 \nL 264.084033 102.48563 \nL 264.199508 102.060836 \nL 264.661411 101.640368 \nL 264.725564 101.223932 \nL 264.905192 100.811248 \nL 265.033499 100.402051 \nL 265.05916 99.996091 \nL 265.071991 99.593128 \nL 265.097652 99.192936 \nL 265.225958 98.795294 \nL 265.238789 98.399993 \nL 265.418417 98.006832 \nL 265.957303 97.615616 \nL 265.995795 97.226155 \nL 266.624495 96.838268 \nL 266.752802 96.451775 \nL 266.881108 96.066504 \nL 267.12489 95.682284 \nL 267.266026 95.298948 \nL 267.278857 94.916332 \nL 267.355841 94.534273 \nL 267.5483 94.152612 \nL 267.894727 93.771189 \nL 267.946049 93.389845 \nL 267.997372 93.008422 \nL 268.112847 92.62676 \nL 268.343798 92.244702 \nL 268.407951 91.862086 \nL 268.459274 91.47875 \nL 268.497766 91.09453 \nL 268.510596 90.709258 \nL 268.523427 90.322766 \nL 268.549088 89.934879 \nL 268.677394 89.545418 \nL 268.741547 89.154202 \nL 268.946837 88.76104 \nL 268.99816 88.36574 \nL 269.023821 87.968098 \nL 269.100805 87.567905 \nL 269.472893 87.164943 \nL 269.844981 86.758983 \nL 269.857811 86.349786 \nL 270.345375 85.937102 \nL 270.46085 85.520665 \nL 270.473681 85.100198 \nL 270.678971 84.675404 \nL 270.730293 84.24597 \nL 270.781616 83.811562 \nL 270.845769 83.371824 \nL 271.179365 82.926374 \nL 271.320502 82.474802 \nL 271.4873 82.016668 \nL 271.679759 81.551494 \nL 271.731082 81.078764 \nL 271.872218 80.597916 \nL 272.128831 80.108339 \nL 272.603564 79.60936 \nL 272.73187 79.100243 \nL 272.94999 78.580173 \nL 273.052635 78.048249 \nL 273.309248 77.503468 \nL 273.527368 76.944706 \nL 273.591521 76.370701 \nL 274.451173 75.780027 \nL 274.694954 75.17106 \nL 274.887414 74.541943 \nL 275.092704 73.890535 \nL 275.528945 73.214347 \nL 275.84971 72.510461 \nL 275.965186 71.775426 \nL 276.298782 71.005109 \nL 276.298782 70.194507 \nL 276.773515 69.33747 \nL 277.068619 68.42632 \nL 277.338062 67.451283 \nL 278.056577 66.399634 \nL 278.762261 65.254351 \nL 278.787922 63.991886 \nL 279.994 62.578257 \nL 280.083814 60.961654 \nL 280.224951 59.056925 \nL 280.468733 56.708045 \nL 284.818313 53.574679 \nL 291.772508 48.614691 \n\" style=\"fill:none;stroke:#9467bd;stroke-linecap:square;stroke-width:0.8;\"/>\n   </g>\n   <g id=\"line2d_40\">\n    <path clip-path=\"url(#pd3b2aa3f08)\" d=\"M 63.054101 147.460788 \nL 63.179125 134.725856 \nL 63.281043 132.041505 \nL 63.449946 126.817422 \nL 63.523923 124.764039 \nL 63.734275 120.166568 \nL 63.874559 118.942512 \nL 64.112828 115.990096 \nL 64.188809 115.426101 \nL 64.303583 114.353948 \nL 64.42367 111.782811 \nL 64.816808 109.516285 \nL 64.892087 108.854818 \nL 65.021597 107.585827 \nL 65.295049 105.449334 \nL 65.737304 102.608325 \nL 65.874632 101.572077 \nL 65.982289 100.962092 \nL 66.111598 100.061385 \nL 66.504936 98.495072 \nL 66.927545 95.922499 \nL 67.001321 95.546267 \nL 67.175336 94.421718 \nL 67.345342 93.487081 \nL 67.448388 92.645776 \nL 67.52898 92.365004 \nL 67.680141 91.144335 \nL 67.866185 90.293455 \nL 68.004114 89.817904 \nL 68.217423 88.955527 \nL 68.314054 88.665962 \nL 68.486866 87.985577 \nL 68.68534 87.29771 \nL 68.824472 86.601244 \nL 68.973227 86.299831 \nL 69.783159 83.162258 \nL 69.925098 82.943342 \nL 70.014511 82.389529 \nL 70.21499 81.825734 \nL 70.652033 80.06499 \nL 70.89822 79.821277 \nL 71.012092 79.45126 \nL 71.201344 78.565504 \nL 71.428285 78.306215 \nL 71.465173 78.043961 \nL 71.922264 77.238149 \nL 72.133167 76.823682 \nL 72.530917 76.257913 \nL 72.680072 75.675848 \nL 72.938289 75.22767 \nL 73.117115 74.138552 \nL 73.359293 73.815054 \nL 73.903793 73.318419 \nL 74.079412 72.979241 \nL 74.59825 72.279751 \nL 74.787502 71.549155 \nL 74.87491 71.170937 \nL 75.515639 70.585814 \nL 76.150755 70.385697 \nL 76.725727 68.903719 \nL 77.040879 68.679021 \nL 77.319945 67.742128 \nL 77.376881 66.994466 \nL 77.679202 66.735569 \nL 77.772224 65.926307 \nL 78.195635 64.449688 \nL 78.485927 64.131607 \nL 78.572534 63.804781 \nL 79.355202 63.122432 \nL 79.589361 62.765502 \nL 80.216457 62.396995 \nL 80.347971 61.621412 \nL 81.658298 60.343611 \nL 81.703205 59.88108 \nL 83.031174 58.888881 \nL 83.231652 58.353824 \nL 83.969413 57.78831 \nL 84.357539 57.18808 \nL 84.362351 56.547887 \nL 85.145018 55.861163 \nL 85.493049 55.119529 \nL 85.717585 54.312046 \nL 89.095245 53.424045 \nL 94.344572 52.435178 \nL 95.043841 51.315992 \nL 97.792801 50.021431 \nL 99.319644 48.477173 \nL 100.737428 46.546439 \nL 103.431858 43.929264 \nL 103.68847 39.700245 \nL 103.68847 39.700245 \n\" style=\"fill:none;stroke:#8c564b;stroke-linecap:square;stroke-width:0.8;\"/>\n   </g>\n   <g id=\"line2d_41\">\n    <path clip-path=\"url(#pd3b2aa3f08)\" d=\"M 67.435958 147.232719 \nL 70.099514 142.987611 \nL 70.595097 138.41987 \nL 72.324023 136.868183 \nL 75.354455 135.567091 \nL 76.53407 134.442021 \nL 77.387306 132.554756 \nL 78.187616 131.742582 \nL 78.400925 130.996517 \nL 79.106609 130.305582 \nL 79.156327 129.661367 \nL 80.185984 129.057279 \nL 80.570903 128.488049 \nL 81.1146 127.949402 \nL 81.157904 127.437814 \nL 82.745693 126.038255 \nL 83.064854 125.609712 \nL 83.074477 125.197338 \nL 83.302221 124.799771 \nL 83.332694 124.044424 \nL 84.201968 123.684658 \nL 84.625378 122.667234 \nL 84.989447 122.346482 \nL 85.18351 121.72919 \nL 85.483426 121.431704 \nL 85.528333 121.141096 \nL 86.562802 120.57903 \nL 86.814603 119.778999 \nL 86.952532 119.271157 \nL 87.401603 118.781563 \nL 87.414434 118.543107 \nL 88.15861 117.851001 \nL 88.745611 117.627531 \nL 88.780895 117.407438 \nL 88.962127 117.190594 \nL 89.60847 116.976874 \nL 89.680642 116.558353 \nL 90.488971 116.151021 \nL 90.57237 115.754113 \nL 91.253997 115.559349 \nL 91.399945 115.176803 \nL 91.486552 114.803076 \nL 91.553912 114.619348 \nL 91.868263 114.257853 \nL 91.938831 114.079966 \nL 92.85622 113.5571 \nL 93.039057 113.049384 \nL 93.286046 112.718721 \nL 94.476086 112.393928 \nL 94.630053 112.233639 \nL 95.172147 112.074707 \nL 95.358191 111.760779 \nL 96.105574 111.451887 \nL 96.551438 111.14779 \nL 96.792012 110.848262 \nL 96.971641 110.553096 \nL 97.504112 110.262093 \nL 97.667702 109.975069 \nL 98.014129 109.691852 \nL 98.052621 109.55162 \nL 98.383009 109.27381 \nL 98.469616 108.863458 \nL 99.059824 107.803335 \nL 99.310021 107.545415 \nL 99.672486 107.29012 \nL 100.731012 106.539024 \nL 100.824034 106.04972 \nL 100.923472 105.928728 \nL 101.231406 105.688276 \nL 101.67727 105.095668 \nL 102.719758 104.514392 \nL 103.79753 103.382059 \nL 103.989989 103.159965 \nL 104.791903 102.3929 \nL 105.346827 102.176486 \nL 105.401358 101.853998 \nL 105.969112 101.427784 \nL 106.694042 100.483116 \nL 106.84801 100.379274 \nL 107.226513 100.172213 \nL 107.556901 99.863119 \nL 107.839175 99.65801 \nL 108.022011 99.351701 \nL 108.060503 99.046931 \nL 108.599389 98.6428 \nL 108.660335 98.441629 \nL 109.09016 98.241017 \nL 109.250543 97.941094 \nL 109.59697 97.443661 \nL 109.766976 97.245469 \nL 109.766976 97.146528 \nL 110.350769 96.751732 \nL 110.633042 96.064114 \nL 111.123813 95.770499 \nL 111.143059 95.67275 \nL 112.224039 94.795254 \nL 112.519143 94.309032 \nL 113.215204 94.114699 \nL 113.295396 93.823301 \nL 113.635407 93.629072 \nL 113.709183 93.434849 \nL 114.039571 93.24061 \nL 114.052402 93.046335 \nL 114.956961 92.171079 \nL 115.380371 91.390535 \nL 115.636984 91.096919 \nL 115.762082 90.802691 \nL 115.771705 90.704465 \nL 116.041148 90.507773 \nL 116.35229 89.915565 \nL 116.563996 89.618116 \nL 116.592865 89.518747 \nL 116.910422 89.319662 \nL 116.958537 89.21994 \nL 117.410817 88.920016 \nL 117.471762 88.719405 \nL 117.888757 88.518233 \nL 118.039517 88.215367 \nL 119.085212 86.260378 \nL 119.377109 86.050246 \nL 119.537492 85.839161 \nL 119.983356 85.307036 \nL 120.246383 84.768134 \nL 120.855838 84.550535 \nL 121.131696 84.221821 \nL 121.192641 84.001069 \nL 121.471707 83.778975 \nL 121.683413 83.555492 \nL 122.510987 83.104157 \nL 122.648917 82.531246 \nL 122.71307 82.415427 \nL 122.969682 82.182495 \nL 123.733104 80.989798 \nL 124.002547 80.62201 \nL 124.092361 80.249147 \nL 124.304066 79.870913 \nL 124.679362 79.615619 \nL 125.298439 78.965663 \nL 125.397877 78.700707 \nL 126.289605 78.024838 \nL 126.661693 77.748755 \nL 126.71943 77.609414 \nL 127.566251 77.328038 \nL 127.74588 76.898941 \nL 127.890224 76.607938 \nL 128.576662 76.163566 \nL 128.807613 75.400254 \nL 129.635188 75.086327 \nL 129.875762 74.605424 \nL 130.34408 74.277735 \nL 130.510878 73.944017 \nL 130.879758 73.774793 \nL 130.943911 73.603933 \nL 131.720164 73.431392 \nL 132.018476 73.081067 \nL 132.095459 72.903181 \nL 132.951903 72.541685 \nL 134.116282 72.172162 \nL 134.305534 71.984231 \nL 134.327987 71.794096 \nL 134.472332 71.601685 \nL 134.773851 71.406921 \nL 134.85725 71.209725 \nL 135.777847 71.010012 \nL 135.912569 70.602681 \nL 136.910149 70.18416 \nL 137.394505 69.97044 \nL 138.456239 69.753595 \nL 138.943802 69.533503 \nL 138.95984 69.310032 \nL 139.781 68.852396 \nL 140.942171 68.617927 \nL 140.983871 68.379471 \nL 141.926921 67.889877 \nL 142.061642 67.638345 \nL 142.568452 67.382035 \nL 143.325458 66.304047 \nL 143.376781 66.019938 \nL 143.543579 65.729329 \nL 143.553202 65.431843 \nL 145.513079 64.493799 \nL 145.936489 64.164265 \nL 145.952528 63.825347 \nL 146.353484 63.476376 \nL 147.13936 63.11661 \nL 147.258043 62.361262 \nL 149.102444 61.963696 \nL 150.138517 61.551322 \nL 150.8859 61.122779 \nL 151.100813 60.676502 \nL 151.129682 60.210685 \nL 151.796874 59.72322 \nL 153.445609 59.211632 \nL 159.642798 58.103755 \nL 159.867333 57.499666 \nL 161.682866 56.855451 \nL 161.766265 56.164517 \nL 162.080615 55.418452 \nL 163.607459 54.606278 \nL 164.402957 53.713272 \nL 167.738918 52.719013 \nL 168.367618 51.593942 \nL 172.588892 50.292851 \nL 174.641791 48.741164 \nL 180.627274 46.801657 \nL 187.363349 44.173423 \nL 196.004771 39.928315 \nL 196.004771 39.928315 \n\" style=\"fill:none;stroke:#8c564b;stroke-linecap:square;stroke-width:0.8;\"/>\n   </g>\n   <g id=\"line2d_42\">\n    <path clip-path=\"url(#pd3b2aa3f08)\" d=\"M 81.996705 147.565552 \nL 90.6269 143.343885 \nL 94.809682 140.731759 \nL 96.07029 138.805028 \nL 96.121613 137.264157 \nL 98.309233 135.972573 \nL 105.558533 134.856067 \nL 108.3524 133.869655 \nL 108.791848 132.983934 \nL 112.608958 132.178585 \nL 119.438054 131.438966 \nL 120.146946 130.754157 \nL 120.377897 130.115793 \nL 120.448465 129.517317 \nL 122.119654 128.953492 \nL 124.211044 128.420065 \nL 124.27199 127.913534 \nL 126.344135 127.430979 \nL 126.523763 126.969939 \nL 126.876605 126.528321 \nL 126.963212 126.104326 \nL 128.932712 125.303191 \nL 129.461975 124.92351 \nL 130.199736 123.855752 \nL 131.251846 123.195228 \nL 131.38336 122.569671 \nL 131.870924 121.688018 \nL 132.897373 121.133227 \nL 133.609472 120.864687 \nL 134.578184 120.09103 \nL 134.969518 119.36021 \nL 136.505985 118.894034 \nL 136.544476 118.666726 \nL 137.843577 117.792505 \nL 138.01679 117.582035 \nL 138.911726 117.374558 \nL 138.966256 117.169966 \nL 139.989498 116.76903 \nL 141.349543 116.378466 \nL 141.497095 115.62578 \nL 141.978243 115.262477 \nL 141.984659 115.083853 \nL 142.385616 114.907168 \nL 142.440146 114.732364 \nL 143.251682 114.559386 \nL 143.691131 114.218704 \nL 143.710377 114.050902 \nL 144.627766 113.884729 \nL 144.765695 113.720143 \nL 145.275712 113.5571 \nL 145.692708 113.076832 \nL 145.917243 112.763663 \nL 145.952528 112.609076 \nL 146.157817 112.455776 \nL 146.157817 112.303734 \nL 146.552359 112.003297 \nL 146.661419 111.561342 \nL 147.081622 111.416236 \nL 147.245212 110.987213 \nL 148.290908 110.155479 \nL 148.319777 110.020028 \nL 148.704695 109.618742 \nL 149.317357 108.965818 \nL 150.116063 108.709847 \nL 150.709479 108.456677 \nL 150.815332 108.081942 \nL 151.200251 107.835321 \nL 151.408748 107.349343 \nL 151.938011 107.109814 \nL 152.002164 106.872481 \nL 152.59558 106.520431 \nL 152.643695 106.288259 \nL 152.823324 106.058026 \nL 153.198619 105.490503 \nL 153.493724 104.933731 \nL 154.779993 104.063102 \nL 154.779993 103.955889 \nL 155.001321 103.742477 \nL 155.12642 103.109953 \nL 155.947579 102.591074 \nL 156.066263 102.180921 \nL 156.537788 101.472837 \nL 157.067051 101.073298 \nL 157.089505 100.973952 \nL 157.92991 100.677147 \nL 158.176899 100.382116 \nL 158.276337 100.186369 \nL 158.735031 99.121942 \nL 159.193726 98.834872 \nL 159.264294 98.549032 \nL 159.732612 98.169697 \nL 159.809596 97.886436 \nL 160.098285 97.698147 \nL 160.181684 97.416486 \nL 160.245837 97.322795 \nL 160.540941 97.135691 \nL 160.675662 96.855695 \nL 161.163226 96.112437 \nL 161.439084 95.92729 \nL 161.695697 95.465387 \nL 162.048539 95.188814 \nL 162.266659 94.820584 \nL 162.523271 94.636658 \nL 162.856868 94.452834 \nL 163.485568 93.993604 \nL 163.819164 93.626412 \nL 164.024454 93.259237 \nL 164.024454 93.16743 \nL 165.127887 92.248443 \nL 165.230532 92.06433 \nL 165.269024 91.97222 \nL 166.244151 91.511039 \nL 166.6419 90.955932 \nL 166.892097 90.67754 \nL 167.084556 90.398505 \nL 167.501551 90.11876 \nL 167.899301 89.556874 \nL 167.957038 89.18029 \nL 168.136667 88.896686 \nL 168.245727 88.421575 \nL 168.51517 88.134923 \nL 168.765367 87.460939 \nL 169.317084 87.266943 \nL 169.483882 86.974664 \nL 169.548035 86.483887 \nL 169.657095 86.28622 \nL 169.804648 85.788412 \nL 170.099752 85.386174 \nL 170.15749 85.082001 \nL 170.439763 84.775565 \nL 170.503916 84.363261 \nL 170.901665 83.946432 \nL 171.081294 83.630655 \nL 171.216016 83.205145 \nL 171.40206 82.882466 \nL 171.51112 82.447201 \nL 172.197558 82.227303 \nL 172.313033 81.894479 \nL 172.576061 81.670531 \nL 172.787766 81.331367 \nL 173.268915 80.40642 \nL 173.544773 80.170156 \nL 173.69874 79.931735 \nL 173.839877 79.691077 \nL 174.045167 79.202715 \nL 174.83425 78.829925 \nL 175.084447 78.451187 \nL 175.103693 78.323558 \nL 176.155804 78.066146 \nL 176.425247 77.674422 \nL 176.534307 77.2756 \nL 176.771673 76.86923 \nL 177.21433 76.732013 \nL 177.278483 76.593883 \nL 177.560756 76.454821 \nL 177.592833 76.314808 \nL 177.977752 75.888838 \nL 178.080397 75.453497 \nL 178.66419 74.8573 \nL 179.209491 74.705257 \nL 179.543087 73.92555 \nL 179.966497 73.603933 \nL 179.972913 73.440891 \nL 180.434815 72.942329 \nL 180.466892 72.772851 \nL 181.127668 72.07718 \nL 181.26239 71.717935 \nL 181.416357 71.535253 \nL 181.730708 71.350446 \nL 181.820522 71.163444 \nL 182.3979 70.974177 \nL 182.532621 70.588537 \nL 183.366611 70.192877 \nL 183.918328 69.368529 \nL 184.149279 69.15495 \nL 184.938362 68.938141 \nL 185.618385 67.800824 \nL 185.765937 67.561614 \nL 186.516528 67.318075 \nL 187.235043 66.817184 \nL 187.292781 66.559382 \nL 188.235831 66.296347 \nL 188.749056 66.027807 \nL 189.326434 64.892356 \nL 192.078601 64.591363 \nL 192.534088 63.640206 \nL 193.515631 63.305282 \nL 193.522046 62.960367 \nL 193.810735 62.604723 \nL 193.887719 62.237524 \nL 194.554911 61.857843 \nL 196.697624 61.464633 \nL 196.774608 61.056708 \nL 197.133865 60.632713 \nL 197.890872 60.191094 \nL 198.243714 59.730054 \nL 198.789015 59.247499 \nL 200.87399 58.740968 \nL 201.040788 57.643717 \nL 202.991042 57.045241 \nL 203.260485 56.406877 \nL 203.671065 55.722068 \nL 204.601285 54.982448 \nL 205.120925 54.1771 \nL 205.306969 53.291378 \nL 206.750414 52.304967 \nL 207.597235 51.188461 \nL 210.933195 48.356006 \nL 211.292453 46.429274 \nL 213.845746 43.817149 \nL 216.495269 39.595481 \nL 216.495269 39.595481 \n\" style=\"fill:none;stroke:#8c564b;stroke-linecap:square;stroke-width:0.8;\"/>\n   </g>\n   <g id=\"line2d_43\">\n    <path clip-path=\"url(#pd3b2aa3f08)\" d=\"M 105.600232 147.889909 \nL 145.509871 143.690846 \nL 153.99091 141.094228 \nL 154.058271 139.17978 \nL 160.496034 137.649298 \nL 166.6419 136.366839 \nL 166.680392 135.258545 \nL 167.020403 134.279654 \nL 169.997107 133.400906 \nL 170.888835 132.602088 \nL 171.363568 131.868633 \nL 172.223219 131.189677 \nL 173.570434 130.556901 \nL 174.10932 129.963784 \nL 174.31461 129.405115 \nL 174.654621 128.876667 \nL 175.912022 127.897078 \nL 176.168634 127.440587 \nL 177.470942 127.003401 \nL 177.618494 126.583733 \nL 179.260813 126.180037 \nL 179.934421 125.790968 \nL 180.287263 125.415346 \nL 180.33217 125.05213 \nL 180.768411 124.700399 \nL 182.853387 124.359332 \nL 183.443595 124.028194 \nL 184.245509 123.706326 \nL 184.713826 123.088073 \nL 184.989685 122.790662 \nL 185.727445 122.500452 \nL 185.791598 122.217035 \nL 186.946354 121.94004 \nL 187.093906 121.669124 \nL 189.55097 121.144289 \nL 189.685691 120.889809 \nL 190.038533 120.640283 \nL 190.571004 119.687305 \nL 190.923846 119.459367 \nL 191.193289 119.014667 \nL 191.892557 118.373378 \nL 192.36729 117.961524 \nL 192.66881 117.759956 \nL 192.675225 117.561154 \nL 193.566953 116.23949 \nL 193.80432 116.059724 \nL 193.945456 115.19046 \nL 194.317544 115.022124 \nL 194.74737 114.365487 \nL 194.926999 114.046573 \nL 194.926999 113.889324 \nL 195.722497 112.826443 \nL 197.159526 112.53397 \nL 197.512368 112.246057 \nL 198.48108 111.544896 \nL 198.910906 111.136057 \nL 199.129026 110.603628 \nL 199.590929 110.34252 \nL 201.015127 109.453215 \nL 201.246078 108.839372 \nL 202.112145 108.359884 \nL 202.201959 108.241525 \nL 202.695938 107.88991 \nL 202.811414 107.658284 \nL 203.510683 107.428794 \nL 204.460148 106.641387 \nL 204.806575 106.420656 \nL 204.889974 106.201698 \nL 205.416029 105.554891 \nL 205.448106 105.448488 \nL 206.083222 105.026637 \nL 206.211528 104.714036 \nL 206.403987 104.404511 \nL 206.968534 103.895089 \nL 207.039103 103.693462 \nL 207.385529 103.393199 \nL 207.69988 102.996727 \nL 207.994984 102.800076 \nL 208.604438 102.216075 \nL 208.732744 101.831397 \nL 208.938034 101.545169 \nL 209.2588 101.260793 \nL 210.631676 99.680194 \nL 210.72149 99.497283 \nL 210.888288 99.314936 \nL 211.03584 99.133132 \nL 211.626049 98.680864 \nL 212.164935 97.784916 \nL 212.164935 97.695883 \nL 212.389471 97.429332 \nL 212.633252 97.252068 \nL 212.902695 97.075133 \nL 213.204215 96.634123 \nL 213.351767 96.194803 \nL 213.371013 96.107119 \nL 213.659702 95.931916 \nL 213.666117 95.844393 \nL 213.800839 95.669493 \nL 213.800839 95.582112 \nL 214.03179 95.407479 \nL 214.070282 95.320224 \nL 214.487277 94.97156 \nL 215.026163 94.536395 \nL 215.340513 94.275558 \nL 215.59071 94.014857 \nL 215.738262 93.667377 \nL 215.80883 93.580517 \nL 216.540176 93.319928 \nL 216.72622 93.059288 \nL 216.893018 92.885475 \nL 216.937925 92.624639 \nL 217.220199 92.450648 \nL 217.393412 92.102358 \nL 217.662855 91.666259 \nL 217.957959 91.053915 \nL 218.368539 90.790689 \nL 218.419861 90.614902 \nL 218.997239 90.17425 \nL 219.266682 89.642941 \nL 219.491218 89.376117 \nL 219.818399 89.019009 \nL 220.107088 88.660231 \nL 220.434268 88.027902 \nL 220.652389 87.846098 \nL 221.08863 86.928512 \nL 221.338827 86.743132 \nL 221.396565 86.557078 \nL 221.845637 85.994637 \nL 222.532075 84.360958 \nL 222.884917 84.164307 \nL 223.16719 83.767834 \nL 223.27625 83.467572 \nL 223.308327 83.265945 \nL 223.917781 82.653681 \nL 224.424591 81.818567 \nL 224.937816 80.850075 \nL 225.489532 80.297083 \nL 225.720483 80.072625 \nL 226.49032 78.442464 \nL 226.779009 78.200221 \nL 227.029206 77.83194 \nL 227.131851 77.707818 \nL 227.632245 77.457455 \nL 228.376421 76.557406 \nL 228.382837 76.425602 \nL 228.953799 75.889635 \nL 229.293811 75.47794 \nL 229.511931 75.198538 \nL 229.544008 75.057289 \nL 229.742882 74.771577 \nL 229.89685 74.334591 \nL 230.063648 74.03734 \nL 230.172708 73.735074 \nL 230.307429 73.427538 \nL 230.52555 72.305529 \nL 231.378786 70.555596 \nL 231.892011 70.180623 \nL 231.917672 69.989562 \nL 232.411651 69.401078 \nL 232.584864 68.995071 \nL 232.835061 68.577148 \nL 233.418854 67.473729 \nL 233.855096 67.24185 \nL 233.893587 66.765555 \nL 234.605687 66.52075 \nL 235.420431 65.220994 \nL 235.446092 64.943998 \nL 236.13253 64.660582 \nL 236.530279 63.767902 \nL 236.549525 63.454708 \nL 236.7484 63.13284 \nL 236.761231 62.801702 \nL 237.06275 62.460635 \nL 237.114073 62.108904 \nL 237.389931 61.745688 \nL 238.788468 61.370066 \nL 238.980928 60.577301 \nL 239.506983 60.157633 \nL 240.520602 57.755918 \nL 241.367423 57.19725 \nL 241.444406 55.971356 \nL 243.035403 55.292401 \nL 243.445983 54.558945 \nL 247.757071 53.760128 \nL 247.814809 52.88138 \nL 248.462755 51.902489 \nL 248.603892 50.794195 \nL 249.104286 49.511735 \nL 249.142778 47.981254 \nL 249.380144 46.066806 \nL 257.630232 39.271124 \nL 257.630232 39.271124 \n\" style=\"fill:none;stroke:#8c564b;stroke-linecap:square;stroke-width:0.8;\"/>\n   </g>\n   <g id=\"line2d_44\">\n    <path clip-path=\"url(#pd3b2aa3f08)\" d=\"M 200.771345 145.716039 \nL 204.299766 141.360851 \nL 205.698303 138.656604 \nL 206.096052 136.656591 \nL 217.515303 135.05352 \nL 217.707762 133.707138 \nL 218.977993 132.54117 \nL 222.801518 130.581412 \nL 225.508778 129.736438 \nL 225.6435 128.959339 \nL 227.285819 128.23886 \nL 227.497524 127.566375 \nL 228.671526 126.935119 \nL 228.812662 126.339689 \nL 230.871977 125.775692 \nL 233.803773 125.239513 \nL 233.842265 124.728135 \nL 234.278506 124.239014 \nL 236.940859 123.769987 \nL 238.679408 122.88503 \nL 238.916775 122.06115 \nL 239.154141 121.669124 \nL 239.564721 121.289053 \nL 239.96247 120.212451 \nL 239.988131 119.540981 \nL 240.161345 119.217431 \nL 240.911936 118.90137 \nL 241.245532 118.592372 \nL 241.418745 117.704017 \nL 241.758757 117.419676 \nL 241.867817 117.140737 \nL 242.118014 116.866936 \nL 242.188582 116.598033 \nL 242.855774 116.3338 \nL 242.868605 116.074029 \nL 243.17654 115.818521 \nL 243.227862 115.319575 \nL 243.657688 115.075802 \nL 243.933546 114.135268 \nL 244.299219 113.683925 \nL 244.889427 113.462581 \nL 245.184532 113.028039 \nL 245.287177 112.395216 \nL 245.941538 111.385804 \nL 246.050598 110.99627 \nL 246.512501 110.238987 \nL 247.917453 109.508051 \nL 248.007268 109.329094 \nL 248.405017 109.151566 \nL 248.462755 108.975429 \nL 248.706537 108.800646 \nL 248.841258 108.284067 \nL 249.181269 107.945827 \nL 249.187685 107.778458 \nL 249.854877 107.612217 \nL 250.188473 106.636955 \nL 250.579807 106.477873 \nL 250.611883 106.162469 \nL 251.105862 105.695939 \nL 251.317567 105.236822 \nL 252.587799 104.784617 \nL 252.895733 104.486758 \nL 253.049701 103.899133 \nL 253.729724 102.753031 \nL 253.806707 102.612244 \nL 254.242948 102.471966 \nL 254.319932 101.777823 \nL 254.653528 101.503347 \nL 255.012786 101.230565 \nL 255.115431 100.824398 \nL 255.410535 100.02198 \nL 255.705639 99.889427 \nL 255.71847 99.75719 \nL 255.987913 99.493631 \nL 256.103388 99.23124 \nL 256.193202 98.321196 \nL 256.424154 97.934708 \nL 256.616613 97.678087 \nL 256.719258 97.422235 \nL 257.437772 97.294581 \nL 257.553248 97.039784 \nL 258.104965 96.279033 \nL 258.502714 95.397007 \nL 258.990277 95.020341 \nL 259.25972 94.393784 \nL 259.798606 93.893228 \nL 260.157864 93.267806 \nL 260.671088 92.642033 \nL 260.799395 92.266111 \nL 261.043176 91.764027 \nL 261.32545 91.386624 \nL 261.825844 90.502261 \nL 262.043965 90.248405 \nL 262.903616 89.097711 \nL 263.40401 88.968884 \nL 263.416841 88.839838 \nL 263.711945 88.451316 \nL 263.788929 88.191078 \nL 264.161017 87.929794 \nL 264.212339 87.667403 \nL 264.699903 87.271607 \nL 266.059948 84.689068 \nL 266.252407 84.408002 \nL 266.265238 84.266694 \nL 266.701479 83.982465 \nL 266.93243 83.2619 \nL 267.227534 82.82217 \nL 267.471316 82.525696 \nL 267.676606 82.376416 \nL 267.779251 82.075691 \nL 268.292476 81.465095 \nL 268.767209 80.524079 \nL 269.21628 80.203045 \nL 269.306095 79.713957 \nL 269.472893 79.382576 \nL 269.780828 79.215207 \nL 270.011779 78.360388 \nL 270.127254 78.009467 \nL 270.935583 77.83194 \nL 270.948414 77.652983 \nL 271.346163 76.922047 \nL 271.50013 76.356726 \nL 271.91071 75.377823 \nL 272.141661 74.972031 \nL 272.167323 74.765818 \nL 272.706209 74.557294 \nL 272.783192 73.917049 \nL 273.553029 73.477109 \nL 273.77115 73.025766 \nL 274.014932 72.562137 \nL 274.104746 71.841459 \nL 274.271544 71.59394 \nL 274.464003 70.563001 \nL 274.771938 70.294097 \nL 275.092704 69.741357 \nL 275.297994 69.457017 \nL 275.336485 69.166995 \nL 275.490453 68.870986 \nL 275.952355 68.568662 \nL 276.029339 67.943602 \nL 276.337274 67.620053 \nL 276.47841 66.948583 \nL 276.760684 66.240953 \nL 276.837668 65.871981 \nL 277.184094 65.099884 \nL 277.222586 64.694943 \nL 278.146391 62.922019 \nL 278.33885 61.92152 \nL 279.108687 61.385341 \nL 279.621912 60.821345 \nL 280.584208 58.922174 \nL 281.764625 58.201695 \nL 281.944254 57.424595 \nL 282.970703 55.651684 \nL 283.265808 50.504443 \nL 286.588938 48.504429 \nL 289.142231 45.800183 \nL 301.061876 41.444995 \nL 301.061876 41.444995 \n\" style=\"fill:none;stroke:#8c564b;stroke-linecap:square;stroke-width:0.8;\"/>\n   </g>\n   <g id=\"patch_3\">\n    <path d=\"M 50.14375 182.5275 \nL 50.14375 35.7555 \n\" style=\"fill:none;stroke:#000000;stroke-linecap:square;stroke-linejoin:miter;stroke-width:0.8;\"/>\n   </g>\n   <g id=\"patch_4\">\n    <path d=\"M 317.98375 182.5275 \nL 317.98375 35.7555 \n\" style=\"fill:none;stroke:#000000;stroke-linecap:square;stroke-linejoin:miter;stroke-width:0.8;\"/>\n   </g>\n   <g id=\"patch_5\">\n    <path d=\"M 50.14375 182.5275 \nL 317.98375 182.5275 \n\" style=\"fill:none;stroke:#000000;stroke-linecap:square;stroke-linejoin:miter;stroke-width:0.8;\"/>\n   </g>\n   <g id=\"patch_6\">\n    <path d=\"M 50.14375 35.7555 \nL 317.98375 35.7555 \n\" style=\"fill:none;stroke:#000000;stroke-linecap:square;stroke-linejoin:miter;stroke-width:0.8;\"/>\n   </g>\n   <g id=\"text_17\">\n    <!-- Conductance Dist. Broadening -->\n    <g transform=\"translate(92.80375 16.318125)scale(0.12 -0.12)\">\n     <defs>\n      <path d=\"M 19.671875 34.8125 \nL 19.671875 8.109375 \nL 35.5 8.109375 \nQ 43.453125 8.109375 47.28125 11.40625 \nQ 51.125 14.703125 51.125 21.484375 \nQ 51.125 28.328125 47.28125 31.5625 \nQ 43.453125 34.8125 35.5 34.8125 \nz\nM 19.671875 64.796875 \nL 19.671875 42.828125 \nL 34.28125 42.828125 \nQ 41.5 42.828125 45.03125 45.53125 \nQ 48.578125 48.25 48.578125 53.8125 \nQ 48.578125 59.328125 45.03125 62.0625 \nQ 41.5 64.796875 34.28125 64.796875 \nz\nM 9.8125 72.90625 \nL 35.015625 72.90625 \nQ 46.296875 72.90625 52.390625 68.21875 \nQ 58.5 63.53125 58.5 54.890625 \nQ 58.5 48.1875 55.375 44.234375 \nQ 52.25 40.28125 46.1875 39.3125 \nQ 53.46875 37.75 57.5 32.78125 \nQ 61.53125 27.828125 61.53125 20.40625 \nQ 61.53125 10.640625 54.890625 5.3125 \nQ 48.25 0 35.984375 0 \nL 9.8125 0 \nz\n\" id=\"DejaVuSans-66\"/>\n      <path d=\"M 41.109375 46.296875 \nQ 39.59375 47.171875 37.8125 47.578125 \nQ 36.03125 48 33.890625 48 \nQ 26.265625 48 22.1875 43.046875 \nQ 18.109375 38.09375 18.109375 28.8125 \nL 18.109375 0 \nL 9.078125 0 \nL 9.078125 54.6875 \nL 18.109375 54.6875 \nL 18.109375 46.1875 \nQ 20.953125 51.171875 25.484375 53.578125 \nQ 30.03125 56 36.53125 56 \nQ 37.453125 56 38.578125 55.875 \nQ 39.703125 55.765625 41.0625 55.515625 \nz\n\" id=\"DejaVuSans-114\"/>\n      <path d=\"M 45.40625 27.984375 \nQ 45.40625 37.75 41.375 43.109375 \nQ 37.359375 48.484375 30.078125 48.484375 \nQ 22.859375 48.484375 18.828125 43.109375 \nQ 14.796875 37.75 14.796875 27.984375 \nQ 14.796875 18.265625 18.828125 12.890625 \nQ 22.859375 7.515625 30.078125 7.515625 \nQ 37.359375 7.515625 41.375 12.890625 \nQ 45.40625 18.265625 45.40625 27.984375 \nz\nM 54.390625 6.78125 \nQ 54.390625 -7.171875 48.1875 -13.984375 \nQ 42 -20.796875 29.203125 -20.796875 \nQ 24.46875 -20.796875 20.265625 -20.09375 \nQ 16.0625 -19.390625 12.109375 -17.921875 \nL 12.109375 -9.1875 \nQ 16.0625 -11.328125 19.921875 -12.34375 \nQ 23.78125 -13.375 27.78125 -13.375 \nQ 36.625 -13.375 41.015625 -8.765625 \nQ 45.40625 -4.15625 45.40625 5.171875 \nL 45.40625 9.625 \nQ 42.625 4.78125 38.28125 2.390625 \nQ 33.9375 0 27.875 0 \nQ 17.828125 0 11.671875 7.65625 \nQ 5.515625 15.328125 5.515625 27.984375 \nQ 5.515625 40.671875 11.671875 48.328125 \nQ 17.828125 56 27.875 56 \nQ 33.9375 56 38.28125 53.609375 \nQ 42.625 51.21875 45.40625 46.390625 \nL 45.40625 54.6875 \nL 54.390625 54.6875 \nz\n\" id=\"DejaVuSans-103\"/>\n     </defs>\n     <use xlink:href=\"#DejaVuSans-67\"/>\n     <use x=\"69.824219\" xlink:href=\"#DejaVuSans-111\"/>\n     <use x=\"131.005859\" xlink:href=\"#DejaVuSans-110\"/>\n     <use x=\"194.384766\" xlink:href=\"#DejaVuSans-100\"/>\n     <use x=\"257.861328\" xlink:href=\"#DejaVuSans-117\"/>\n     <use x=\"321.240234\" xlink:href=\"#DejaVuSans-99\"/>\n     <use x=\"376.220703\" xlink:href=\"#DejaVuSans-116\"/>\n     <use x=\"415.429688\" xlink:href=\"#DejaVuSans-97\"/>\n     <use x=\"476.708984\" xlink:href=\"#DejaVuSans-110\"/>\n     <use x=\"540.087891\" xlink:href=\"#DejaVuSans-99\"/>\n     <use x=\"595.068359\" xlink:href=\"#DejaVuSans-101\"/>\n     <use x=\"656.591797\" xlink:href=\"#DejaVuSans-32\"/>\n     <use x=\"688.378906\" xlink:href=\"#DejaVuSans-68\"/>\n     <use x=\"765.380859\" xlink:href=\"#DejaVuSans-105\"/>\n     <use x=\"793.164062\" xlink:href=\"#DejaVuSans-115\"/>\n     <use x=\"845.263672\" xlink:href=\"#DejaVuSans-116\"/>\n     <use x=\"884.472656\" xlink:href=\"#DejaVuSans-46\"/>\n     <use x=\"916.259766\" xlink:href=\"#DejaVuSans-32\"/>\n     <use x=\"948.046875\" xlink:href=\"#DejaVuSans-66\"/>\n     <use x=\"1016.650391\" xlink:href=\"#DejaVuSans-114\"/>\n     <use x=\"1055.513672\" xlink:href=\"#DejaVuSans-111\"/>\n     <use x=\"1116.695312\" xlink:href=\"#DejaVuSans-97\"/>\n     <use x=\"1177.974609\" xlink:href=\"#DejaVuSans-100\"/>\n     <use x=\"1241.451172\" xlink:href=\"#DejaVuSans-101\"/>\n     <use x=\"1302.974609\" xlink:href=\"#DejaVuSans-110\"/>\n     <use x=\"1366.353516\" xlink:href=\"#DejaVuSans-105\"/>\n     <use x=\"1394.136719\" xlink:href=\"#DejaVuSans-110\"/>\n     <use x=\"1457.515625\" xlink:href=\"#DejaVuSans-103\"/>\n    </g>\n    <!-- (Tech C, Room Temp) -->\n    <g transform=\"translate(121.050625 29.7555)scale(0.12 -0.12)\">\n     <defs>\n      <path d=\"M -0.296875 72.90625 \nL 61.375 72.90625 \nL 61.375 64.59375 \nL 35.5 64.59375 \nL 35.5 0 \nL 25.59375 0 \nL 25.59375 64.59375 \nL -0.296875 64.59375 \nz\n\" id=\"DejaVuSans-84\"/>\n      <path d=\"M 54.890625 33.015625 \nL 54.890625 0 \nL 45.90625 0 \nL 45.90625 32.71875 \nQ 45.90625 40.484375 42.875 44.328125 \nQ 39.84375 48.1875 33.796875 48.1875 \nQ 26.515625 48.1875 22.3125 43.546875 \nQ 18.109375 38.921875 18.109375 30.90625 \nL 18.109375 0 \nL 9.078125 0 \nL 9.078125 75.984375 \nL 18.109375 75.984375 \nL 18.109375 46.1875 \nQ 21.34375 51.125 25.703125 53.5625 \nQ 30.078125 56 35.796875 56 \nQ 45.21875 56 50.046875 50.171875 \nQ 54.890625 44.34375 54.890625 33.015625 \nz\n\" id=\"DejaVuSans-104\"/>\n      <path d=\"M 11.71875 12.40625 \nL 22.015625 12.40625 \nL 22.015625 4 \nL 14.015625 -11.625 \nL 7.71875 -11.625 \nL 11.71875 4 \nz\n\" id=\"DejaVuSans-44\"/>\n      <path d=\"M 44.390625 34.1875 \nQ 47.5625 33.109375 50.5625 29.59375 \nQ 53.5625 26.078125 56.59375 19.921875 \nL 66.609375 0 \nL 56 0 \nL 46.6875 18.703125 \nQ 43.0625 26.03125 39.671875 28.421875 \nQ 36.28125 30.8125 30.421875 30.8125 \nL 19.671875 30.8125 \nL 19.671875 0 \nL 9.8125 0 \nL 9.8125 72.90625 \nL 32.078125 72.90625 \nQ 44.578125 72.90625 50.734375 67.671875 \nQ 56.890625 62.453125 56.890625 51.90625 \nQ 56.890625 45.015625 53.6875 40.46875 \nQ 50.484375 35.9375 44.390625 34.1875 \nz\nM 19.671875 64.796875 \nL 19.671875 38.921875 \nL 32.078125 38.921875 \nQ 39.203125 38.921875 42.84375 42.21875 \nQ 46.484375 45.515625 46.484375 51.90625 \nQ 46.484375 58.296875 42.84375 61.546875 \nQ 39.203125 64.796875 32.078125 64.796875 \nz\n\" id=\"DejaVuSans-82\"/>\n      <path d=\"M 18.109375 8.203125 \nL 18.109375 -20.796875 \nL 9.078125 -20.796875 \nL 9.078125 54.6875 \nL 18.109375 54.6875 \nL 18.109375 46.390625 \nQ 20.953125 51.265625 25.265625 53.625 \nQ 29.59375 56 35.59375 56 \nQ 45.5625 56 51.78125 48.09375 \nQ 58.015625 40.1875 58.015625 27.296875 \nQ 58.015625 14.40625 51.78125 6.484375 \nQ 45.5625 -1.421875 35.59375 -1.421875 \nQ 29.59375 -1.421875 25.265625 0.953125 \nQ 20.953125 3.328125 18.109375 8.203125 \nz\nM 48.6875 27.296875 \nQ 48.6875 37.203125 44.609375 42.84375 \nQ 40.53125 48.484375 33.40625 48.484375 \nQ 26.265625 48.484375 22.1875 42.84375 \nQ 18.109375 37.203125 18.109375 27.296875 \nQ 18.109375 17.390625 22.1875 11.75 \nQ 26.265625 6.109375 33.40625 6.109375 \nQ 40.53125 6.109375 44.609375 11.75 \nQ 48.6875 17.390625 48.6875 27.296875 \nz\n\" id=\"DejaVuSans-112\"/>\n     </defs>\n     <use xlink:href=\"#DejaVuSans-40\"/>\n     <use x=\"39.013672\" xlink:href=\"#DejaVuSans-84\"/>\n     <use x=\"83.097656\" xlink:href=\"#DejaVuSans-101\"/>\n     <use x=\"144.621094\" xlink:href=\"#DejaVuSans-99\"/>\n     <use x=\"199.601562\" xlink:href=\"#DejaVuSans-104\"/>\n     <use x=\"262.980469\" xlink:href=\"#DejaVuSans-32\"/>\n     <use x=\"294.767578\" xlink:href=\"#DejaVuSans-67\"/>\n     <use x=\"364.591797\" xlink:href=\"#DejaVuSans-44\"/>\n     <use x=\"396.378906\" xlink:href=\"#DejaVuSans-32\"/>\n     <use x=\"428.166016\" xlink:href=\"#DejaVuSans-82\"/>\n     <use x=\"493.148438\" xlink:href=\"#DejaVuSans-111\"/>\n     <use x=\"554.330078\" xlink:href=\"#DejaVuSans-111\"/>\n     <use x=\"615.511719\" xlink:href=\"#DejaVuSans-109\"/>\n     <use x=\"712.923828\" xlink:href=\"#DejaVuSans-32\"/>\n     <use x=\"744.710938\" xlink:href=\"#DejaVuSans-84\"/>\n     <use x=\"788.794922\" xlink:href=\"#DejaVuSans-101\"/>\n     <use x=\"850.318359\" xlink:href=\"#DejaVuSans-109\"/>\n     <use x=\"947.730469\" xlink:href=\"#DejaVuSans-112\"/>\n     <use x=\"1011.207031\" xlink:href=\"#DejaVuSans-41\"/>\n    </g>\n   </g>\n   <g id=\"legend_1\">\n    <g id=\"patch_7\">\n     <path d=\"M 55.97475 178.3625 \nL 293.889962 178.3625 \nQ 295.555962 178.3625 295.555962 176.6965 \nL 295.555962 153.075744 \nQ 295.555962 151.409744 293.889962 151.409744 \nL 55.97475 151.409744 \nQ 54.30875 151.409744 54.30875 153.075744 \nL 54.30875 176.6965 \nQ 54.30875 178.3625 55.97475 178.3625 \nz\n\" style=\"fill:#ffffff;opacity:0.8;stroke:#cccccc;stroke-linejoin:miter;\"/>\n    </g>\n    <g id=\"line2d_45\">\n     <path d=\"M 57.64075 158.155742 \nL 74.30075 158.155742 \n\" style=\"fill:none;stroke:#1f77b4;stroke-linecap:square;stroke-width:0.8;\"/>\n    </g>\n    <g id=\"line2d_46\"/>\n    <g id=\"text_18\">\n     <!-- t=0s -->\n     <g transform=\"translate(75.96675 161.071242)scale(0.0833 -0.0833)\">\n      <defs>\n       <path d=\"M 10.59375 45.40625 \nL 73.1875 45.40625 \nL 73.1875 37.203125 \nL 10.59375 37.203125 \nz\nM 10.59375 25.484375 \nL 73.1875 25.484375 \nL 73.1875 17.1875 \nL 10.59375 17.1875 \nz\n\" id=\"DejaVuSans-61\"/>\n      </defs>\n      <use xlink:href=\"#DejaVuSans-116\"/>\n      <use x=\"39.208984\" xlink:href=\"#DejaVuSans-61\"/>\n      <use x=\"122.998047\" xlink:href=\"#DejaVuSans-48\"/>\n      <use x=\"186.621094\" xlink:href=\"#DejaVuSans-115\"/>\n     </g>\n    </g>\n    <g id=\"line2d_47\">\n     <path d=\"M 57.64075 170.38262 \nL 74.30075 170.38262 \n\" style=\"fill:none;stroke:#ff7f0e;stroke-linecap:square;stroke-width:0.8;\"/>\n    </g>\n    <g id=\"line2d_48\"/>\n    <g id=\"text_19\">\n     <!-- t=0.01s -->\n     <g transform=\"translate(75.96675 173.29812)scale(0.0833 -0.0833)\">\n      <use xlink:href=\"#DejaVuSans-116\"/>\n      <use x=\"39.208984\" xlink:href=\"#DejaVuSans-61\"/>\n      <use x=\"122.998047\" xlink:href=\"#DejaVuSans-48\"/>\n      <use x=\"186.621094\" xlink:href=\"#DejaVuSans-46\"/>\n      <use x=\"218.408203\" xlink:href=\"#DejaVuSans-48\"/>\n      <use x=\"282.03125\" xlink:href=\"#DejaVuSans-49\"/>\n      <use x=\"345.654297\" xlink:href=\"#DejaVuSans-115\"/>\n     </g>\n    </g>\n    <g id=\"line2d_49\">\n     <path d=\"M 125.759325 158.155742 \nL 142.419325 158.155742 \n\" style=\"fill:none;stroke:#2ca02c;stroke-linecap:square;stroke-width:0.8;\"/>\n    </g>\n    <g id=\"line2d_50\"/>\n    <g id=\"text_20\">\n     <!-- t=0.1s -->\n     <g transform=\"translate(144.085325 161.071242)scale(0.0833 -0.0833)\">\n      <use xlink:href=\"#DejaVuSans-116\"/>\n      <use x=\"39.208984\" xlink:href=\"#DejaVuSans-61\"/>\n      <use x=\"122.998047\" xlink:href=\"#DejaVuSans-48\"/>\n      <use x=\"186.621094\" xlink:href=\"#DejaVuSans-46\"/>\n      <use x=\"218.408203\" xlink:href=\"#DejaVuSans-49\"/>\n      <use x=\"282.03125\" xlink:href=\"#DejaVuSans-115\"/>\n     </g>\n    </g>\n    <g id=\"line2d_51\">\n     <path d=\"M 125.759325 170.38262 \nL 142.419325 170.38262 \n\" style=\"fill:none;stroke:#d62728;stroke-linecap:square;stroke-width:0.8;\"/>\n    </g>\n    <g id=\"line2d_52\"/>\n    <g id=\"text_21\">\n     <!-- t=1s -->\n     <g transform=\"translate(144.085325 173.29812)scale(0.0833 -0.0833)\">\n      <use xlink:href=\"#DejaVuSans-116\"/>\n      <use x=\"39.208984\" xlink:href=\"#DejaVuSans-61\"/>\n      <use x=\"122.998047\" xlink:href=\"#DejaVuSans-49\"/>\n      <use x=\"186.621094\" xlink:href=\"#DejaVuSans-115\"/>\n     </g>\n    </g>\n    <g id=\"line2d_53\">\n     <path d=\"M 188.577937 158.155742 \nL 205.237937 158.155742 \n\" style=\"fill:none;stroke:#9467bd;stroke-linecap:square;stroke-width:0.8;\"/>\n    </g>\n    <g id=\"line2d_54\"/>\n    <g id=\"text_22\">\n     <!-- t=4s -->\n     <g transform=\"translate(206.903937 161.071242)scale(0.0833 -0.0833)\">\n      <use xlink:href=\"#DejaVuSans-116\"/>\n      <use x=\"39.208984\" xlink:href=\"#DejaVuSans-61\"/>\n      <use x=\"122.998047\" xlink:href=\"#DejaVuSans-52\"/>\n      <use x=\"186.621094\" xlink:href=\"#DejaVuSans-115\"/>\n     </g>\n    </g>\n    <g id=\"line2d_55\">\n     <path d=\"M 243.449209 158.155742 \nL 260.109209 158.155742 \n\" style=\"fill:none;stroke:#8c564b;stroke-linecap:square;stroke-width:0.8;\"/>\n    </g>\n    <g id=\"line2d_56\"/>\n    <g id=\"text_23\">\n     <!-- t=1E5s -->\n     <g transform=\"translate(261.775209 161.071242)scale(0.0833 -0.0833)\">\n      <defs>\n       <path d=\"M 9.8125 72.90625 \nL 55.90625 72.90625 \nL 55.90625 64.59375 \nL 19.671875 64.59375 \nL 19.671875 43.015625 \nL 54.390625 43.015625 \nL 54.390625 34.71875 \nL 19.671875 34.71875 \nL 19.671875 8.296875 \nL 56.78125 8.296875 \nL 56.78125 0 \nL 9.8125 0 \nz\n\" id=\"DejaVuSans-69\"/>\n      </defs>\n      <use xlink:href=\"#DejaVuSans-116\"/>\n      <use x=\"39.208984\" xlink:href=\"#DejaVuSans-61\"/>\n      <use x=\"122.998047\" xlink:href=\"#DejaVuSans-49\"/>\n      <use x=\"186.621094\" xlink:href=\"#DejaVuSans-69\"/>\n      <use x=\"249.804688\" xlink:href=\"#DejaVuSans-53\"/>\n      <use x=\"313.427734\" xlink:href=\"#DejaVuSans-115\"/>\n     </g>\n    </g>\n   </g>\n  </g>\n </g>\n <defs>\n  <clipPath id=\"pd3b2aa3f08\">\n   <rect height=\"146.772\" width=\"267.84\" x=\"50.14375\" y=\"35.7555\"/>\n  </clipPath>\n </defs>\n</svg>\n",
      "text/plain": [
       "<Figure size 345.6x194.4 with 1 Axes>"
      ]
     },
     "metadata": {
      "needs_background": "light"
     },
     "output_type": "display_data"
    }
   ],
   "source": [
    "# Select ranges to study\n",
    "ranges = [0, 8, 16, 24, 31]\n",
    "\n",
    "# Conductance broadening behavior\n",
    "fig = plt.figure(figsize=(4.8, 2.7))\n",
    "ax = fig.add_subplot(111)\n",
    "ax.set_title(f\"Conductance Dist. Broadening\\n(Tech {TECH}, Room Temp)\")\n",
    "colors = plt.rcParams[\"axes.prop_cycle\"].by_key()[\"color\"]\n",
    "for time, color in zip(settings[\"times\"], colors):\n",
    "    for r in ranges:\n",
    "        gx = np.linspace(0, settings[\"gmax\"] * 1.1e6, 500)\n",
    "        gvals = data[(data[\"range\"] == r) & (data[\"timept\"] == time)][\"g\"]\n",
    "        cdf = np.sort(gvals) * 1e6\n",
    "        cdfy = np.linspace(0, 1, len(cdf))\n",
    "        label = (f\"t={time}s\" if time < 100 else f\"t=1E{int(np.log10(time))}s\") if r == 0 else None\n",
    "        plt.plot(cdf, cdfy, color=color, label=label, linewidth=0.8)\n",
    "ax.legend(ncol=4, handletextpad=0.2, fontsize=\"small\")\n",
    "ax.set_yscale(\"ppf\")\n",
    "ax.set_ylim(0.00000001, 0.999)\n",
    "ax.set_xlabel(\"Conductance (µS)\")\n",
    "ax.set_ylabel(\"Cumulative Density Function\")\n",
    "plt.savefig(f\"figs/tech{TECH}/broadening-time.pdf\", bbox_inches=\"tight\")\n",
    "plt.show()"
   ]
  },
  {
   "cell_type": "markdown",
   "metadata": {},
   "source": [
    "### Mean Drift and Variance Growth (Time Dependence)\n",
    "Here, we examine the drift of the distribution mean and variance growth as a function of time."
   ]
  },
  {
   "cell_type": "code",
   "execution_count": null,
   "metadata": {},
   "outputs": [],
   "source": [
    "# Mean drift behavior (time dependence)\n",
    "fig = plt.figure(figsize=(4, 3.5))\n",
    "ax = fig.add_subplot(111)\n",
    "ax.set_title(f\"Mean Conductance Drift vs. Time\\n(Tech {TECH}, Room Temp)\")\n",
    "colors = plt.rcParams[\"axes.prop_cycle\"].by_key()[\"color\"]\n",
    "for r, color in zip(ranges, colors):\n",
    "    d = data[(data[\"range\"] == r) & (data[\"gi\"] <= settings[\"gmax\"])]\n",
    "    gi = d.groupby(\"timept\").mean()[\"gi\"] * 1e6\n",
    "    gf = d.groupby(\"timept\").mean()[\"g\"] * 1e6\n",
    "    deltag = gf - gi\n",
    "    plt.plot(deltag.index, deltag, '-D', color=color, label=r, linewidth=0.8)\n",
    "ax.legend(title=\"Cond. Range #\", ncol=2 if TECH == 'C' else 3, handletextpad=0.2)\n",
    "if \"gmeandrift_t_ylim\" in settings:\n",
    "    ax.set_ylim(*settings[\"gmeandrift_t_ylim\"])\n",
    "ax.set_xscale(\"log\")\n",
    "ax.set_xlabel(\"Time (s)\")\n",
    "ax.set_ylabel(\"Mean Drift (µS)\")\n",
    "plt.savefig(f\"figs/tech{TECH}/mean-drift-vs-time.pdf\", bbox_inches=\"tight\")\n",
    "plt.show()"
   ]
  },
  {
   "cell_type": "code",
   "execution_count": null,
   "metadata": {
    "collapsed": false,
    "pycharm": {
     "name": "#%%\n"
    }
   },
   "outputs": [],
   "source": [
    "# Variance behavior fitting on time dependence (var(g, t) = C1(g) * log(t) + C2(g))\n",
    "fig = plt.figure(figsize=(4, 3.5))\n",
    "ax = fig.add_subplot(111)\n",
    "ax.set_title(f\"Conductance Variance vs. Time\\n(Tech {TECH}, Room Temp)\")\n",
    "C_fit = np.zeros((32, 2))\n",
    "for r in range(0, 32, 2):\n",
    "    d = data[(data[\"range\"] == r) & (data[\"gi\"] <= settings[\"gmax\"]) & (data[\"timept\"] > 0)]\n",
    "    gfvar = d.groupby(\"timept\").var()[\"g\"] * (1e6 ** 2)\n",
    "    #gfvar = d.groupby(\"timept\").agg(lambda x : scipy.stats.median_abs_deviation(x)**2)[\"g\"] * (1e6 ** 2)\n",
    "    fit = np.polyfit(np.log10(gfvar.index), gfvar.values, 1)\n",
    "    p = np.poly1d(fit)\n",
    "    if r in ranges:\n",
    "        C_fit[r, :] = fit\n",
    "        print(r, fit)\n",
    "        color = colors[ranges.index(r)]\n",
    "        ax.plot(gfvar.index, gfvar, '-D', color=color, label=r)\n",
    "        ax.plot(gfvar.index, p(np.log10(gfvar.index)), '--', color=color)\n",
    "ax.set_xscale(\"log\")\n",
    "ax.legend(title=\"Cond. Range #\", ncol=2, handletextpad=0.2)\n",
    "ax.set_xlabel(\"Time (s)\")\n",
    "ax.set_ylabel(\"Variance (µS$^2$)\")\n",
    "plt.savefig(f\"figs/tech{TECH}/var-vs-time.pdf\", bbox_inches=\"tight\")\n",
    "plt.show()\n",
    "\n",
    "fig = plt.figure(figsize=(4, 3.5))\n",
    "ax = fig.add_subplot(111)\n",
    "ax.plot(range(32), C_fit[:, 0], range(32), C_fit[:, 1] / C_fit[:, 0]) # C_fit[:, 1] / C_fit[:, 0] should be constant log(fs/2)\n",
    "ax.set_xlabel(\"Range\")\n",
    "plt.show()"
   ]
  },
  {
   "cell_type": "markdown",
   "metadata": {},
   "source": [
    "### Mean Drift and Variance Growth (Conductance Dependence)\n",
    "Here, we examine the drift of the distribution mean and variance growth as a function of conductance."
   ]
  },
  {
   "cell_type": "code",
   "execution_count": null,
   "metadata": {},
   "outputs": [],
   "source": [
    "# Mean drift behavior (conductance dependence)\n",
    "fig = plt.figure(figsize=(4, 3.5))\n",
    "ax = fig.add_subplot(111)\n",
    "ax.set_title(f\"Mean Drift vs. Init. Conductance\\n(Tech {TECH}, Room Temp)\")\n",
    "colors = plt.rcParams[\"axes.prop_cycle\"].by_key()[\"color\"]\n",
    "for time, color in zip(settings[\"times\"], colors):\n",
    "    d = data[(data[\"timept\"] == time) & (data[\"gi\"] <= settings[\"gmax\"])]\n",
    "    gi = d.groupby(\"range\").mean()[\"gi\"] * 1e6\n",
    "    gf = d.groupby(\"range\").mean()[\"g\"] * 1e6\n",
    "    deltag = gf - gi\n",
    "    label = (f\"t={time}s\" if time < 100 else f\"t=1E{int(np.log10(time))}s\")\n",
    "    plt.plot(gi, deltag, '-+', color=color, label=label, linewidth=0.8)\n",
    "ax.legend(ncol=3, handletextpad=0.2, fontsize=\"small\")\n",
    "ax.set_ylim(*settings[\"gmeandrift_gi_ylim\"])\n",
    "ax.set_xlabel(\"Initial Conductance (µS)\")\n",
    "ax.set_ylabel(\"Mean Drift (µS)\")\n",
    "plt.savefig(f\"figs/tech{TECH}/mean-drift-vs-g.pdf\", bbox_inches=\"tight\")\n",
    "plt.show()"
   ]
  },
  {
   "cell_type": "code",
   "execution_count": null,
   "metadata": {},
   "outputs": [],
   "source": [
    "# Variance behavior (conductance dependence)\n",
    "fig = plt.figure(figsize=(4, 3.5))\n",
    "ax = fig.add_subplot(111)\n",
    "ax.set_title(f\"Variance vs. Init. Conductance\\n(Tech {TECH}, Room Temp)\")\n",
    "colors = plt.rcParams[\"axes.prop_cycle\"].by_key()[\"color\"]\n",
    "for time, color in zip(settings[\"times\"], colors):\n",
    "    d = data[(data[\"timept\"] == time) & (data[\"gi\"] <= settings[\"gmax\"])]\n",
    "    gi = d.groupby(\"range\").mean()[\"gi\"] * 1e6\n",
    "    gfvar = (d.groupby(\"range\")).var()[\"g\"] * (1e6 ** 2)\n",
    "    #gfvar = (d.groupby(\"range\")).agg(lambda x : scipy.stats.median_abs_deviation(x)**2)[\"g\"] * (1e6 ** 2)\n",
    "    label = (f\"t={time}s\" if time < 100 else f\"t=1E{int(np.log10(time))}s\")\n",
    "    plt.plot(gi, gfvar, '-+', color=color, label=label, linewidth=0.8)\n",
    "ax.legend(ncol=3, handletextpad=0.2, fontsize=\"small\")\n",
    "ax.set_ylim(*settings[\"gvar_gi_ylim\"])\n",
    "ax.set_xlabel(\"Initial Conductance (µS)\")\n",
    "ax.set_ylabel(\"Variance (µS$^2$)\")\n",
    "plt.savefig(f\"figs/tech{TECH}/var-vs-g.pdf\", bbox_inches=\"tight\")\n",
    "plt.show()"
   ]
  },
  {
   "cell_type": "code",
   "execution_count": null,
   "metadata": {},
   "outputs": [],
   "source": [
    "# Norm. stdev. behavior (conductance dependence)\n",
    "fig = plt.figure(figsize=(4, 3.5))\n",
    "ax = fig.add_subplot(111)\n",
    "ax.set_title(f\"Norm. Stdev. vs. Init. Conductance\\n(Tech {TECH}, Room Temp)\")\n",
    "colors = plt.rcParams[\"axes.prop_cycle\"].by_key()[\"color\"]\n",
    "for time, color in zip(settings[\"times\"], colors):\n",
    "    d = data[(data[\"timept\"] == time) & (data[\"gi\"] <= settings[\"gmax\"])]\n",
    "    gi = d.groupby(\"range\").mean()[\"gi\"]*1e6\n",
    "    gfnormdev = d.groupby(\"range\").std()[\"g\"] / d.groupby(\"range\").mean()[\"gi\"]\n",
    "    label = (f\"t={time}s\" if time < 100 else f\"t=1E{int(np.log10(time))}s\")\n",
    "    plt.plot(gi, gfnormdev, '-+', color=color, label=label, linewidth=0.8)\n",
    "ax.legend(ncol=3, handletextpad=0.2, fontsize=\"small\")\n",
    "#ax.set_ylim(*settings[\"gvar_gi_ylim\"])\n",
    "ax.set_xlabel(\"Initial Conductance (µS)\")\n",
    "ax.set_ylabel(\"Stdev. / Init. Conductance\")\n",
    "plt.savefig(f\"figs/tech{TECH}/norm-stdev-vs-g.pdf\", bbox_inches=\"tight\")\n",
    "plt.show()"
   ]
  },
  {
   "cell_type": "markdown",
   "metadata": {},
   "source": [
    "## Temperature dependence analysis via 1hr bake\n",
    "\n",
    "Here, we analyze the effect of baking on the distribution broadening. In particular, we will examine examples of the conductance distributions broadening for different temperatures and then analyze the temperature-dependent mean drift and variance. We can first load the data and preprocess it a little bit:"
   ]
  },
  {
   "cell_type": "code",
   "execution_count": 16,
   "metadata": {},
   "outputs": [
    {
     "data": {
      "text/html": [
       "<div>\n",
       "<style scoped>\n",
       "    .dataframe tbody tr th:only-of-type {\n",
       "        vertical-align: middle;\n",
       "    }\n",
       "\n",
       "    .dataframe tbody tr th {\n",
       "        vertical-align: top;\n",
       "    }\n",
       "\n",
       "    .dataframe thead th {\n",
       "        text-align: right;\n",
       "    }\n",
       "</style>\n",
       "<table border=\"1\" class=\"dataframe\">\n",
       "  <thead>\n",
       "    <tr style=\"text-align: right;\">\n",
       "      <th></th>\n",
       "      <th>addr</th>\n",
       "      <th>temp</th>\n",
       "      <th>time</th>\n",
       "      <th>r</th>\n",
       "      <th>g</th>\n",
       "      <th>gi</th>\n",
       "      <th>range</th>\n",
       "    </tr>\n",
       "  </thead>\n",
       "  <tbody>\n",
       "    <tr>\n",
       "      <th>0</th>\n",
       "      <td>0</td>\n",
       "      <td>100</td>\n",
       "      <td>11755.538581</td>\n",
       "      <td>17964.912281</td>\n",
       "      <td>0.000056</td>\n",
       "      <td>0.000039</td>\n",
       "      <td>30</td>\n",
       "    </tr>\n",
       "    <tr>\n",
       "      <th>1</th>\n",
       "      <td>0</td>\n",
       "      <td>140</td>\n",
       "      <td>8588.506214</td>\n",
       "      <td>16020.025031</td>\n",
       "      <td>0.000062</td>\n",
       "      <td>0.000058</td>\n",
       "      <td>46</td>\n",
       "    </tr>\n",
       "    <tr>\n",
       "      <th>2</th>\n",
       "      <td>0</td>\n",
       "      <td>180</td>\n",
       "      <td>26493.001072</td>\n",
       "      <td>19711.260828</td>\n",
       "      <td>0.000051</td>\n",
       "      <td>0.000039</td>\n",
       "      <td>30</td>\n",
       "    </tr>\n",
       "    <tr>\n",
       "      <th>3</th>\n",
       "      <td>0</td>\n",
       "      <td>220</td>\n",
       "      <td>17142.441053</td>\n",
       "      <td>23744.927536</td>\n",
       "      <td>0.000042</td>\n",
       "      <td>0.000046</td>\n",
       "      <td>36</td>\n",
       "    </tr>\n",
       "    <tr>\n",
       "      <th>4</th>\n",
       "      <td>0</td>\n",
       "      <td>260</td>\n",
       "      <td>61807.724560</td>\n",
       "      <td>23968.634794</td>\n",
       "      <td>0.000042</td>\n",
       "      <td>0.000047</td>\n",
       "      <td>37</td>\n",
       "    </tr>\n",
       "  </tbody>\n",
       "</table>\n",
       "</div>"
      ],
      "text/plain": [
       "   addr  temp          time             r         g        gi  range\n",
       "0     0   100  11755.538581  17964.912281  0.000056  0.000039     30\n",
       "1     0   140   8588.506214  16020.025031  0.000062  0.000058     46\n",
       "2     0   180  26493.001072  19711.260828  0.000051  0.000039     30\n",
       "3     0   220  17142.441053  23744.927536  0.000042  0.000046     36\n",
       "4     0   260  61807.724560  23968.634794  0.000042  0.000047     37"
      ]
     },
     "execution_count": 16,
     "metadata": {},
     "output_type": "execute_result"
    }
   ],
   "source": [
    "# Load data for technology\n",
    "colnames = [\"addr\", \"time\", \"r\", \"g\", \"temp\"]\n",
    "data = pd.read_csv(f\"data/tech{TECH}/bake.tsv.gz\", names=colnames, sep='\\t')\n",
    "\n",
    "# Get conductance range\n",
    "data[\"gi\"] = data.groupby([\"addr\", \"temp\"])[\"g\"].transform(\"first\")\n",
    "data[\"range\"] = np.int32(data[\"gi\"] / settings[\"gmax\"] * 32)\n",
    "\n",
    "# Filter out the rest of the data\n",
    "data = data[data[\"time\"] > 100].groupby([\"addr\", \"temp\"]).first().reset_index()\n",
    "\n",
    "# Show data\n",
    "data.head()"
   ]
  },
  {
   "cell_type": "markdown",
   "metadata": {},
   "source": [
    "### Conductance distribution broadening behavior\n",
    "\n",
    "Below are examples of conductance broadening behavior at different temperatures:"
   ]
  },
  {
   "cell_type": "code",
   "execution_count": null,
   "metadata": {},
   "outputs": [],
   "source": [
    "# Select ranges to study\n",
    "ranges = [0, 8, 16, 24, 31]\n",
    "\n",
    "# Conductance broadening behavior\n",
    "fig = plt.figure(figsize=(4.8, 2.7))\n",
    "ax = fig.add_subplot(111)\n",
    "ax.set_title(f\"Conductance Dist. Broadening\\n(Tech {TECH}, 1hr Bake @ Temp T)\")\n",
    "colors = plt.rcParams[\"axes.prop_cycle\"].by_key()[\"color\"]\n",
    "for temp, color in zip(settings[\"temps\"], colors):\n",
    "    for r in ranges:\n",
    "        gx = np.linspace(0, settings[\"gmax\"] * 1.1e6, 500)\n",
    "        gvals = data[(data[\"range\"] == r) & (data[\"temp\"] == temp)][\"g\"]\n",
    "        cdf = np.sort(gvals) * 1e6\n",
    "        cdfy = np.linspace(0, 1, len(cdf))\n",
    "        plt.plot(cdf, cdfy, color=color, label=f\"T={temp}°C\" if r==0 else None, linewidth=0.8)\n",
    "\n",
    "ax.legend(ncol=2, handletextpad=0.2)\n",
    "ax.set_xlim(0, settings[\"gmax\"]*1.1e6)\n",
    "ax.set_ylim(*settings[\"gbroad_temp_ylim\"])\n",
    "ax.set_xlabel(\"Conductance (µS)\")\n",
    "ax.set_ylabel(\"KDE Probability Density\")\n",
    "ax.set_yscale(0, 100)\n",
    "plt.savefig(f\"figs/tech{TECH}/broadening-temp.pdf\", bbox_inches=\"tight\")\n",
    "plt.show()"
   ]
  },
  {
   "cell_type": "code",
   "execution_count": null,
   "metadata": {},
   "outputs": [],
   "source": [
    "# Mean drift behavior (temperature dependence)\n",
    "fig = plt.figure(figsize=(4, 3.5))\n",
    "ax = fig.add_subplot(111)\n",
    "ax.set_title(f\"Mean Conductance Drift vs. Temperature\\n(Tech {TECH}, 1hr Bake @ Temp T)\")\n",
    "colors = plt.rcParams[\"axes.prop_cycle\"].by_key()[\"color\"]\n",
    "for r, color in zip(ranges, colors):\n",
    "    d = data[data[\"range\"] == r]\n",
    "    gi = d.groupby(\"temp\").mean()[\"gi\"]*1e6\n",
    "    gf = d.groupby(\"temp\").mean()[\"g\"]*1e6\n",
    "    deltag = gf - gi\n",
    "    plt.plot(deltag.index, deltag, '-D', color=color, label=r, linewidth=0.8)\n",
    "ax.legend(title=\"Conductance Range #\", ncol=2 if TECH == 'C' else 3, handletextpad=0.2)\n",
    "if \"gmeandrift_temp_ylim\" in settings:\n",
    "    ax.set_ylim(*settings[\"gmeandrift_temp_ylim\"])\n",
    "ax.set_xlabel(\"Temperature (°C)\")\n",
    "ax.set_ylabel(\"Mean Drift (µS)\")\n",
    "plt.savefig(f\"figs/tech{TECH}/mean-drift-vs-temp.pdf\", bbox_inches=\"tight\")\n",
    "plt.show()"
   ]
  },
  {
   "cell_type": "code",
   "execution_count": null,
   "metadata": {},
   "outputs": [],
   "source": [
    "# Variance behavior (temperature dependence)\n",
    "fig = plt.figure(figsize=(4, 3.5))\n",
    "ax = fig.add_subplot(111)\n",
    "ax.set_title(f\"Conductance Variance vs. Temperature\\n(Tech {TECH}, 1hr Bake @ Temp T)\")\n",
    "colors = plt.rcParams[\"axes.prop_cycle\"].by_key()[\"color\"]\n",
    "for r, color in zip(ranges, colors):\n",
    "    d = data[data[\"range\"] == r]\n",
    "    gfvar = d.groupby(\"temp\").var()[\"g\"]*(1e6**2)\n",
    "    plt.plot(gfvar.index, gfvar, '-D', color=color, label=r, linewidth=0.8)\n",
    "ax.legend(title=\"Cond. Range #\", ncol=1, handletextpad=0.2)\n",
    "if \"gvar_temp_ylim\" in settings:\n",
    "    ax.set_ylim(*settings[\"gvar_temp_ylim\"])\n",
    "ax.set_xlabel(\"Temperature (°C)\")\n",
    "ax.set_ylabel(\"Variance (µS$^2$)\")\n",
    "plt.savefig(f\"figs/tech{TECH}/var-vs-temp.pdf\", bbox_inches=\"tight\")\n",
    "plt.show()"
   ]
  },
  {
   "cell_type": "code",
   "execution_count": null,
   "metadata": {},
   "outputs": [],
   "source": [
    "# TTF behavior (temperature dependence)\n",
    "fig = plt.figure(figsize=(4, 3.5))\n",
    "ax = fig.add_subplot(111)\n",
    "ax.set_title(f\"TTV 100uS$^2$ vs. 1/Temperature\\n(Tech {TECH}, 1hr Bake @ Temp T)\")\n",
    "colors = plt.rcParams[\"axes.prop_cycle\"].by_key()[\"color\"]\n",
    "for r, color in zip(ranges, colors):\n",
    "    d = data[data[\"range\"] == r]\n",
    "    gfvar = d.groupby(\"temp\").var()[\"g\"]*(1e6**2)\n",
    "    fit = C_fit[r,:]\n",
    "    invfitfn = np.poly1d([1/fit[0], -fit[1]/fit[0]])\n",
    "    times = invfitfn(gfvar)\n",
    "    plt.plot(1/(gfvar.index+273), times, '-D', color=color, label=r, linewidth=0.8)\n",
    "ax.legend(title=\"Cond. Range #\", ncol=1, handletextpad=0.2)\n",
    "ax.set_yscale('log')\n",
    "ax.set_xlabel(\"1/T (K$^{-1}$)\")\n",
    "ax.set_ylabel(\"Time to Variance (s)\")\n",
    "plt.savefig(f\"figs/tech{TECH}/var-vs-temp.pdf\", bbox_inches=\"tight\")\n",
    "plt.show()\n",
    "\n"
   ]
  },
  {
   "cell_type": "markdown",
   "metadata": {},
   "source": [
    "### Temperature dependence fitting\n",
    "\n",
    "Here we fit the temperature dependence parameters. The basic idea is to match the time dependence with the temperature dependence, and limit the number of assumptions made to derive the carrier distribution from temperature dependence. According to the equation $\\sigma_{\\Delta x}^2(t, T) = \\frac{\\pi (\\rho_x w_0^3)^2 \\ln(f_s t / 2)}{(E_{a2}-E_{a1})/kT + \\gamma (d_2 - d_1)}$, for any temperature $T_1$ other than room temperature $T_0$, there exists some time $\\tilde{t}$ such that $\\sigma_{\\Delta x}^2(\\tilde{t}, T_1) = \\sigma_{\\Delta x}^2(t, T_0)$ holds on both width and length directions. Hence without approximating the final conductance variance on only one dimension, there should be $\\text{Var}(g_j, \\tilde{t}, T_1) = \\text{Var}(g_j, t, T_0)$ for all $j$.\n",
    "\n",
    "For any time dependence relationship $\\text{Var}(g_j, t, T_0) = f_j (t)$, we could extract $\\tilde{t}$ from the temperature-dependent variance data, and get the ratio of the denominator $(E_{a2}-E_{a1})/kT + \\gamma (d_2 - d_1)$ from $\\ln(f_s t / 2)$. In tech B example, the time dependence is shows a linear $\\ln(f_s t / 2)$ relationship, so the denominator ratio would be exactly the variance ratio, but such a linear $\\ln{t}$ relationship is not needed for assumption here. We could derive the ratio between $E_{a2}-E_{a1}$ and $\\gamma (d_2 - d_1)$ from the plot. Moreover, the denominator might not be linear with $1/kT$ if the carriers are not uniformly distributed, in which case the more complicated relationship could be reversely derived from the $\\ln(f_s \\tilde{t} / 2)$-$1/kT$ relationship."
   ]
  },
  {
   "cell_type": "code",
   "execution_count": null,
   "metadata": {
    "collapsed": false,
    "pycharm": {
     "name": "#%%\n"
    }
   },
   "outputs": [],
   "source": [
    "fig = plt.figure(figsize=(4, 3.5))\n",
    "ax = fig.add_subplot(111)\n",
    "colors = plt.rcParams[\"axes.prop_cycle\"].by_key()[\"color\"]\n",
    "ranges = list(range(16, 31, 2))\n",
    "for r, color in zip(ranges, colors):\n",
    "    temp = np.array(settings[\"temps\"]) + 273.15\n",
    "    d = data[data[\"range\"] == r]\n",
    "    gfvar = d.groupby(\"temp\").var()[\"g\"]\n",
    "    ttrv = np.exp(gfvar)\n",
    "    ax.plot(1 / temp[:-2], 1 / gfvar[:-2], '-x', color=color, label=r, linewidth=0.8)\n",
    "    ax.set_xlabel(\"1/T (1/K)\")\n",
    "    # fit = np.polyfit(1 / temp, 1 / x, 1)\n",
    "    # print(fit)\n",
    "ax.legend(title=\"Cond. Range #\", ncol=1, handletextpad=0.2)\n",
    "ax.set_yscale('log')\n",
    "plt.show()"
   ]
  }
 ],
 "metadata": {
  "interpreter": {
   "hash": "c30f2af5f468e7f5b45bcc30fca5f4886c90d54777aed916ed5f6294dfb24bf2"
  },
  "kernelspec": {
   "display_name": "Python 3.8.3 64-bit ('base': conda)",
   "name": "python3"
  },
  "language_info": {
   "codemirror_mode": {
    "name": "ipython",
    "version": 3
   },
   "file_extension": ".py",
   "mimetype": "text/x-python",
   "name": "python",
   "nbconvert_exporter": "python",
   "pygments_lexer": "ipython3",
   "version": "3.8.3"
  },
  "orig_nbformat": 4
 },
 "nbformat": 4,
 "nbformat_minor": 2
}
