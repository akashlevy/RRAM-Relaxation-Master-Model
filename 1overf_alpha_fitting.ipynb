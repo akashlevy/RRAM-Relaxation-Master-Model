{
 "cells": [
  {
   "cell_type": "markdown",
   "metadata": {},
   "source": [
    "# RRAM Relaxation 1/f^α Fitting\n",
    "\n",
    "This notebook contains the fitting for 1/f^α RRAM relaxation data across three technologies (A, B, C). It loads and processes the measurements taken for each technology to enable fitting and understanding of the data."
   ]
  },
  {
   "cell_type": "code",
   "execution_count": 1,
   "metadata": {},
   "outputs": [],
   "source": [
    "# Imports\n",
    "import gzip\n",
    "import json\n",
    "import matplotlib.pyplot as plt\n",
    "import numpy as np\n",
    "import pandas as pd\n",
    "import scipy.signal\n",
    "import scipy.stats\n",
    "\n",
    "%config InlineBackend.figure_format = 'svg'"
   ]
  },
  {
   "cell_type": "markdown",
   "metadata": {},
   "source": [
    "## Load the technology and its settings\n",
    "\n",
    "Below, choose which technology to load data and settings for:"
   ]
  },
  {
   "cell_type": "code",
   "execution_count": null,
   "metadata": {},
   "outputs": [],
   "source": [
    "# Choose technology here\n",
    "TECH = 'A'\n",
    "\n",
    "# Load settings for technology\n",
    "with open(f\"data/tech{TECH}/settings.json\") as sfile:\n",
    "    settings = json.load(sfile)"
   ]
  },
  {
   "cell_type": "markdown",
   "metadata": {},
   "source": [
    "## Load the conductance data vs. time\n",
    "Here, we will load the full dataset of conductance over time at room temperature to look at the 1/f behaviors of cells."
   ]
  },
  {
   "cell_type": "code",
   "execution_count": null,
   "metadata": {},
   "outputs": [],
   "source": [
    "# Load data for technology\n",
    "colnames = [\"addr\", \"time\", \"r\", \"g\"]\n",
    "data = pd.read_csv(f\"data/tech{TECH}/relaxdata.tsv.gz\", names=colnames, sep='\\t')\n",
    "data = data[data[\"addr\"] % 2 == 0] # use only even addresses (odd addresses have weird behavior due to 2T2R architecture)\n",
    "data[\"time\"] -= data.groupby(\"addr\")[\"time\"].transform(\"first\") # start from t=0 for each addr\n",
    "data[\"gi\"] = data.groupby(\"addr\")[\"g\"].transform(\"first\") # get initial conductance each addr was programmed to\n",
    "data[\"range\"] = np.int32(data[\"gi\"] / settings[\"gmax\"] * 32) # get initial conductance range each addr was programmed to\n",
    "data.head()"
   ]
  },
  {
   "cell_type": "code",
   "execution_count": null,
   "metadata": {},
   "outputs": [],
   "source": [
    "# Plot some 1/f PSDs\n",
    "for r in list(range(0, 32, 8)) + [31]:\n",
    "    # Data for some cells within range r\n",
    "    plt.figure(figsize=(6,4))\n",
    "    for cell, a in enumerate(data[data[\"range\"] == r][\"addr\"].unique()[:3]):\n",
    "        # Select which addr is being studied\n",
    "        # print(f\"addr = {a}\")\n",
    "        d = data[(data[\"addr\"] == a) & (data[\"time\"] < 10)]\n",
    "        gvals = d.drop_duplicates(subset=[\"time\"]).sort_values([\"time\"])\n",
    "\n",
    "        # Compute sampling time\n",
    "        fs = 1/np.median(np.gradient(gvals['time']))\n",
    "        # print(f\"fs = {fs}\")\n",
    "        freq, p = scipy.signal.welch(gvals[\"g\"], fs, nperseg=len(gvals[\"g\"]))\n",
    "\n",
    "        # Fit functions\n",
    "        fitfn = lambda f, c, α: c / f**α\n",
    "        fit = scipy.optimize.curve_fit(fitfn, freq[1:], p[1:])\n",
    "        # print(f\"1/f fit coefficient = {fit[0][0]}\")\n",
    "\n",
    "        # Plot PSD and fits\n",
    "        plt.plot(freq, p, linewidth=0.8, label=f\"PSD {cell}\")\n",
    "        color = plt.gca().lines[-1].get_color()\n",
    "        plt.plot(freq[1:], fitfn(freq[1:], fit[0][0]), '--', color=color, label=f\"$1/f^\\\\alpha$ Fit {cell}\")\n",
    "    plt.title(f\"Range {r} Conductance PSDs\")\n",
    "    plt.xlabel(\"Frequency (Hz)\")\n",
    "    plt.ylabel(\"Conductance PSD (S$^2$/Hz)\")\n",
    "    plt.xscale(\"log\")\n",
    "    plt.yscale(\"log\")\n",
    "    plt.legend(ncol=3)\n",
    "    plt.savefig(f\"figs/tech{TECH}/1overf-alpha-tech{TECH}-range{r}.png\", dpi=300)\n",
    "    plt.show()"
   ]
  },
  {
   "cell_type": "code",
   "execution_count": null,
   "metadata": {},
   "outputs": [],
   "source": [
    "# 1/f coefficient statistics\n",
    "fitfn = lambda f, c, α: c / f**α\n",
    "\n",
    "# Noise fitting function\n",
    "def noise_fit(gvals, loglogfit=False):\n",
    "    gvals = gvals.drop_duplicates(subset=['time']).sort_values([\"time\"])\n",
    "    freq, p = scipy.signal.welch(gvals[\"g\"]*10**6, fs=1/np.median(np.gradient(gvals[\"time\"])), nperseg=len(gvals[\"g\"]))\n",
    "    popt, pcov = scipy.optimize.curve_fit(fitfn, freq[1:], p[1:])\n",
    "    return popt[:2]\n",
    "\n",
    "# Log-normal fitting of 1/f coefficients\n",
    "mus, sigmas = [], []\n",
    "ranges = list(range(0, 32, 2)) + [31]\n",
    "for r in ranges:\n",
    "    # Fit 1/f coefficients\n",
    "    coefs = data[(data[\"range\"]==r) & (data[\"time\"] < 10)].groupby(\"addr\")[[\"g\", \"time\"]].apply(noise_fit)\n",
    "    \n",
    "    print(coefs)\n",
    "#     if r in list(range(0, 32, 8)) + [31]:\n",
    "#         # Plot log-normal histogram\n",
    "#         plt.hist(np.log10(coefs), bins=20)\n",
    "#         plt.title(f\"Range {r} Distribution of 1/f Coefficients\")\n",
    "#         plt.xlabel(\"Log$_{{10}}$($1/f$ Coef.)\")\n",
    "#         plt.ylabel(\"Frequency\")\n",
    "#         plt.show()\n",
    "\n",
    "#         # Plot log-normal fit\n",
    "#         scipy.stats.probplot(np.log10(coefs), dist='norm', plot=plt, fit=True)\n",
    "#         plt.title(f\"Probability Plot of Log$_{{10}}$($1/f$ Coef.) for Range {r}\")\n",
    "#         plt.savefig(f\"figs/tech{TECH}/1overf-coefln-tech{TECH}-range{r}.png\", dpi=300)\n",
    "#         plt.show()\n",
    "\n",
    "#     # Get log-normal fit parameters\n",
    "#     mu, sigma = scipy.stats.norm.fit(np.log(coefs))\n",
    "#     mus.append(mu)\n",
    "#     sigmas.append(sigma)\n",
    "\n",
    "# # Plot mus\n",
    "# plt.plot(ranges, mus)\n",
    "# plt.title(f\"$\\mu$ of Log-Normal $1/f$ Coefficients\")\n",
    "# plt.xlabel(\"Range Number\")\n",
    "# plt.ylabel(\"$\\mu$\")\n",
    "# plt.savefig(f\"figs/tech{TECH}/1overf-tech{TECH}-lognorm-mu.pdf\")\n",
    "# plt.show()\n",
    "\n",
    "# # Plot sigmas\n",
    "# plt.plot(ranges, sigmas)\n",
    "# plt.title(f\"$\\sigma$ of Log-Normal $1/f$ Coefficients\")\n",
    "# plt.xlabel(\"Range Number\")\n",
    "# plt.ylabel(\"$\\sigma$\")\n",
    "# plt.savefig(f\"figs/tech{TECH}/1overf-tech{TECH}-lognorm-sigma.pdf\")\n",
    "# plt.show()"
   ]
  }
 ],
 "metadata": {
  "interpreter": {
   "hash": "c30f2af5f468e7f5b45bcc30fca5f4886c90d54777aed916ed5f6294dfb24bf2"
  },
  "kernelspec": {
   "display_name": "Python 3.8.3 64-bit ('base': conda)",
   "name": "python3"
  },
  "language_info": {
   "codemirror_mode": {
    "name": "ipython",
    "version": 3
   },
   "file_extension": ".py",
   "mimetype": "text/x-python",
   "name": "python",
   "nbconvert_exporter": "python",
   "pygments_lexer": "ipython3",
   "version": "3.8.3"
  },
  "orig_nbformat": 4
 },
 "nbformat": 4,
 "nbformat_minor": 2
}
