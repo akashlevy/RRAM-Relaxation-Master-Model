{
 "metadata": {
  "language_info": {
   "codemirror_mode": {
    "name": "ipython",
    "version": 3
   },
   "file_extension": ".py",
   "mimetype": "text/x-python",
   "name": "python",
   "nbconvert_exporter": "python",
   "pygments_lexer": "ipython3",
   "version": "3.8.3"
  },
  "orig_nbformat": 4,
  "kernelspec": {
   "name": "python3",
   "display_name": "Python 3.8.3 64-bit ('base': conda)"
  },
  "interpreter": {
   "hash": "f85c0ae1067a86ad6a96b144378883e79fd1516474b579ba33ee3a7084540002"
  }
 },
 "nbformat": 4,
 "nbformat_minor": 2,
 "cells": [
  {
   "source": [
    "# Generate Confusion Matrices"
   ],
   "cell_type": "markdown",
   "metadata": {}
  },
  {
   "cell_type": "code",
   "execution_count": 1,
   "metadata": {},
   "outputs": [],
   "source": [
    "# Imports\n",
    "import json\n",
    "import matplotlib.pyplot as plt\n",
    "import numpy as np\n",
    "import pandas as pd\n",
    "\n",
    "%config InlineBackend.figure_format = 'svg'\n",
    "np.set_printoptions(edgeitems=10,linewidth=180)"
   ]
  },
  {
   "source": [
    "## Load the technology and its settings\n",
    "\n",
    "Below, choose which technology to load data and settings for:"
   ],
   "cell_type": "markdown",
   "metadata": {}
  },
  {
   "cell_type": "code",
   "execution_count": 2,
   "metadata": {},
   "outputs": [],
   "source": [
    "# Choose technology here\n",
    "TECH = 'A'\n",
    "\n",
    "# Load settings for technology\n",
    "with open(f\"data/tech{TECH}/settings.json\") as sfile:\n",
    "    settings = json.load(sfile)"
   ]
  },
  {
   "cell_type": "code",
   "execution_count": 3,
   "metadata": {},
   "outputs": [
    {
     "output_type": "execute_result",
     "data": {
      "text/plain": [
       "    addr  time              r         g        gi  range  timept\n",
       "0  80000   0.0  337532.079408  0.000003  0.000003      0     0.0\n",
       "1  80001   0.0   76320.104403  0.000013  0.000013      1     0.0\n",
       "2  80002   0.0   48034.594014  0.000021  0.000021      2     0.0\n",
       "3  80003   0.0   21027.150891  0.000048  0.000048      6     0.0\n",
       "4  80004   0.0   33193.229603  0.000030  0.000030      4     0.0"
      ],
      "text/html": "<div>\n<style scoped>\n    .dataframe tbody tr th:only-of-type {\n        vertical-align: middle;\n    }\n\n    .dataframe tbody tr th {\n        vertical-align: top;\n    }\n\n    .dataframe thead th {\n        text-align: right;\n    }\n</style>\n<table border=\"1\" class=\"dataframe\">\n  <thead>\n    <tr style=\"text-align: right;\">\n      <th></th>\n      <th>addr</th>\n      <th>time</th>\n      <th>r</th>\n      <th>g</th>\n      <th>gi</th>\n      <th>range</th>\n      <th>timept</th>\n    </tr>\n  </thead>\n  <tbody>\n    <tr>\n      <th>0</th>\n      <td>80000</td>\n      <td>0.0</td>\n      <td>337532.079408</td>\n      <td>0.000003</td>\n      <td>0.000003</td>\n      <td>0</td>\n      <td>0.0</td>\n    </tr>\n    <tr>\n      <th>1</th>\n      <td>80001</td>\n      <td>0.0</td>\n      <td>76320.104403</td>\n      <td>0.000013</td>\n      <td>0.000013</td>\n      <td>1</td>\n      <td>0.0</td>\n    </tr>\n    <tr>\n      <th>2</th>\n      <td>80002</td>\n      <td>0.0</td>\n      <td>48034.594014</td>\n      <td>0.000021</td>\n      <td>0.000021</td>\n      <td>2</td>\n      <td>0.0</td>\n    </tr>\n    <tr>\n      <th>3</th>\n      <td>80003</td>\n      <td>0.0</td>\n      <td>21027.150891</td>\n      <td>0.000048</td>\n      <td>0.000048</td>\n      <td>6</td>\n      <td>0.0</td>\n    </tr>\n    <tr>\n      <th>4</th>\n      <td>80004</td>\n      <td>0.0</td>\n      <td>33193.229603</td>\n      <td>0.000030</td>\n      <td>0.000030</td>\n      <td>4</td>\n      <td>0.0</td>\n    </tr>\n  </tbody>\n</table>\n</div>"
     },
     "metadata": {},
     "execution_count": 3
    }
   ],
   "source": [
    "# Load data for technology\n",
    "colnames = [\"addr\", \"time\", \"r\", \"g\", \"gi\", \"range\", \"timept\"]\n",
    "data = pd.read_csv(f\"data/tech{TECH}/relaxdata.min.tsv.gz\", names=colnames, sep='\\t')\n",
    "data.head()"
   ]
  },
  {
   "cell_type": "code",
   "execution_count": 4,
   "metadata": {},
   "outputs": [],
   "source": [
    "# Specify the allocation\n",
    "ranges = range(0, 32, 2) # Use every second range as the 4-bit allocation\n",
    "\n",
    "# Clip to [0, gmax]\n",
    "data[\"g\"] = np.clip(data[\"g\"], 0, settings[\"gmax\"] * 30/32)\n",
    "data[\"gi\"] = np.clip(data[\"gi\"], 0, settings[\"gmax\"] * 30/32)\n",
    "\n",
    "# Get the initial and final range at each timept\n",
    "data[\"irange\"] = np.int16((data[\"gi\"] + settings[\"gmax\"]/32)//(settings[\"gmax\"]/16))\n",
    "data[\"range\"] = np.int16((data[\"g\"] + settings[\"gmax\"]/32)//(settings[\"gmax\"]/16))"
   ]
  },
  {
   "cell_type": "code",
   "execution_count": 5,
   "metadata": {},
   "outputs": [
    {
     "output_type": "execute_result",
     "data": {
      "text/plain": [
       "     addr  time              r         g        gi  range  timept  irange\n",
       "0   80000   0.0  337532.079408  0.000003  0.000003      0     0.0       0\n",
       "1   80001   0.0   76320.104403  0.000013  0.000013      1     0.0       1\n",
       "2   80002   0.0   48034.594014  0.000021  0.000021      1     0.0       1\n",
       "3   80003   0.0   21027.150891  0.000048  0.000048      3     0.0       3\n",
       "4   80004   0.0   33193.229603  0.000030  0.000030      2     0.0       2\n",
       "5   80005   0.0   25751.131647  0.000039  0.000039      3     0.0       3\n",
       "6   80006   0.0   19943.666308  0.000050  0.000050      3     0.0       3\n",
       "7   80007   0.0   18814.811120  0.000053  0.000053      4     0.0       4\n",
       "8   80008   0.0   16647.549300  0.000060  0.000060      4     0.0       4\n",
       "9   80009   0.0   13469.155868  0.000074  0.000074      5     0.0       5\n",
       "10  80010   0.0   12671.774313  0.000079  0.000079      5     0.0       5\n",
       "11  80011   0.0   11825.825603  0.000085  0.000085      6     0.0       6\n",
       "12  80012   0.0   11220.025331  0.000089  0.000089      6     0.0       6\n",
       "13  80013   0.0    9878.427885  0.000101  0.000101      7     0.0       7\n",
       "14  80014   0.0    9078.557413  0.000110  0.000110      7     0.0       7\n",
       "15  80015   0.0    8547.143114  0.000117  0.000117      8     0.0       8\n",
       "16  80016   0.0    8111.591288  0.000123  0.000123      8     0.0       8\n",
       "17  80017   0.0    7441.804880  0.000134  0.000134      9     0.0       9\n",
       "18  80018   0.0    7123.771708  0.000140  0.000140      9     0.0       9\n",
       "19  80019   0.0    6922.190533  0.000144  0.000144     10     0.0      10"
      ],
      "text/html": "<div>\n<style scoped>\n    .dataframe tbody tr th:only-of-type {\n        vertical-align: middle;\n    }\n\n    .dataframe tbody tr th {\n        vertical-align: top;\n    }\n\n    .dataframe thead th {\n        text-align: right;\n    }\n</style>\n<table border=\"1\" class=\"dataframe\">\n  <thead>\n    <tr style=\"text-align: right;\">\n      <th></th>\n      <th>addr</th>\n      <th>time</th>\n      <th>r</th>\n      <th>g</th>\n      <th>gi</th>\n      <th>range</th>\n      <th>timept</th>\n      <th>irange</th>\n    </tr>\n  </thead>\n  <tbody>\n    <tr>\n      <th>0</th>\n      <td>80000</td>\n      <td>0.0</td>\n      <td>337532.079408</td>\n      <td>0.000003</td>\n      <td>0.000003</td>\n      <td>0</td>\n      <td>0.0</td>\n      <td>0</td>\n    </tr>\n    <tr>\n      <th>1</th>\n      <td>80001</td>\n      <td>0.0</td>\n      <td>76320.104403</td>\n      <td>0.000013</td>\n      <td>0.000013</td>\n      <td>1</td>\n      <td>0.0</td>\n      <td>1</td>\n    </tr>\n    <tr>\n      <th>2</th>\n      <td>80002</td>\n      <td>0.0</td>\n      <td>48034.594014</td>\n      <td>0.000021</td>\n      <td>0.000021</td>\n      <td>1</td>\n      <td>0.0</td>\n      <td>1</td>\n    </tr>\n    <tr>\n      <th>3</th>\n      <td>80003</td>\n      <td>0.0</td>\n      <td>21027.150891</td>\n      <td>0.000048</td>\n      <td>0.000048</td>\n      <td>3</td>\n      <td>0.0</td>\n      <td>3</td>\n    </tr>\n    <tr>\n      <th>4</th>\n      <td>80004</td>\n      <td>0.0</td>\n      <td>33193.229603</td>\n      <td>0.000030</td>\n      <td>0.000030</td>\n      <td>2</td>\n      <td>0.0</td>\n      <td>2</td>\n    </tr>\n    <tr>\n      <th>5</th>\n      <td>80005</td>\n      <td>0.0</td>\n      <td>25751.131647</td>\n      <td>0.000039</td>\n      <td>0.000039</td>\n      <td>3</td>\n      <td>0.0</td>\n      <td>3</td>\n    </tr>\n    <tr>\n      <th>6</th>\n      <td>80006</td>\n      <td>0.0</td>\n      <td>19943.666308</td>\n      <td>0.000050</td>\n      <td>0.000050</td>\n      <td>3</td>\n      <td>0.0</td>\n      <td>3</td>\n    </tr>\n    <tr>\n      <th>7</th>\n      <td>80007</td>\n      <td>0.0</td>\n      <td>18814.811120</td>\n      <td>0.000053</td>\n      <td>0.000053</td>\n      <td>4</td>\n      <td>0.0</td>\n      <td>4</td>\n    </tr>\n    <tr>\n      <th>8</th>\n      <td>80008</td>\n      <td>0.0</td>\n      <td>16647.549300</td>\n      <td>0.000060</td>\n      <td>0.000060</td>\n      <td>4</td>\n      <td>0.0</td>\n      <td>4</td>\n    </tr>\n    <tr>\n      <th>9</th>\n      <td>80009</td>\n      <td>0.0</td>\n      <td>13469.155868</td>\n      <td>0.000074</td>\n      <td>0.000074</td>\n      <td>5</td>\n      <td>0.0</td>\n      <td>5</td>\n    </tr>\n    <tr>\n      <th>10</th>\n      <td>80010</td>\n      <td>0.0</td>\n      <td>12671.774313</td>\n      <td>0.000079</td>\n      <td>0.000079</td>\n      <td>5</td>\n      <td>0.0</td>\n      <td>5</td>\n    </tr>\n    <tr>\n      <th>11</th>\n      <td>80011</td>\n      <td>0.0</td>\n      <td>11825.825603</td>\n      <td>0.000085</td>\n      <td>0.000085</td>\n      <td>6</td>\n      <td>0.0</td>\n      <td>6</td>\n    </tr>\n    <tr>\n      <th>12</th>\n      <td>80012</td>\n      <td>0.0</td>\n      <td>11220.025331</td>\n      <td>0.000089</td>\n      <td>0.000089</td>\n      <td>6</td>\n      <td>0.0</td>\n      <td>6</td>\n    </tr>\n    <tr>\n      <th>13</th>\n      <td>80013</td>\n      <td>0.0</td>\n      <td>9878.427885</td>\n      <td>0.000101</td>\n      <td>0.000101</td>\n      <td>7</td>\n      <td>0.0</td>\n      <td>7</td>\n    </tr>\n    <tr>\n      <th>14</th>\n      <td>80014</td>\n      <td>0.0</td>\n      <td>9078.557413</td>\n      <td>0.000110</td>\n      <td>0.000110</td>\n      <td>7</td>\n      <td>0.0</td>\n      <td>7</td>\n    </tr>\n    <tr>\n      <th>15</th>\n      <td>80015</td>\n      <td>0.0</td>\n      <td>8547.143114</td>\n      <td>0.000117</td>\n      <td>0.000117</td>\n      <td>8</td>\n      <td>0.0</td>\n      <td>8</td>\n    </tr>\n    <tr>\n      <th>16</th>\n      <td>80016</td>\n      <td>0.0</td>\n      <td>8111.591288</td>\n      <td>0.000123</td>\n      <td>0.000123</td>\n      <td>8</td>\n      <td>0.0</td>\n      <td>8</td>\n    </tr>\n    <tr>\n      <th>17</th>\n      <td>80017</td>\n      <td>0.0</td>\n      <td>7441.804880</td>\n      <td>0.000134</td>\n      <td>0.000134</td>\n      <td>9</td>\n      <td>0.0</td>\n      <td>9</td>\n    </tr>\n    <tr>\n      <th>18</th>\n      <td>80018</td>\n      <td>0.0</td>\n      <td>7123.771708</td>\n      <td>0.000140</td>\n      <td>0.000140</td>\n      <td>9</td>\n      <td>0.0</td>\n      <td>9</td>\n    </tr>\n    <tr>\n      <th>19</th>\n      <td>80019</td>\n      <td>0.0</td>\n      <td>6922.190533</td>\n      <td>0.000144</td>\n      <td>0.000144</td>\n      <td>10</td>\n      <td>0.0</td>\n      <td>10</td>\n    </tr>\n  </tbody>\n</table>\n</div>"
     },
     "metadata": {},
     "execution_count": 5
    }
   ],
   "source": [
    "# Show some data\n",
    "data.head(20)"
   ]
  },
  {
   "cell_type": "code",
   "execution_count": 6,
   "metadata": {},
   "outputs": [
    {
     "output_type": "stream",
     "name": "stdout",
     "text": [
      "0\nirange   0     1     2     3     4     5     6     7    8     9     10    11  \\\nrange                                                                          \n0       499     0     0     0     0     0     0     0    0     0     0     0   \n1         0  1035     0     0     0     0     0     0    0     0     0     0   \n2         0     0  1030     0     0     0     0     0    0     0     0     0   \n3         0     0     0  1043     0     0     0     0    0     0     0     0   \n4         0     0     0     0  1057     0     0     0    0     0     0     0   \n5         0     0     0     0     0  1021     0     0    0     0     0     0   \n6         0     0     0     0     0     0  1010     0    0     0     0     0   \n7         0     0     0     0     0     0     0  1011    0     0     0     0   \n8         0     0     0     0     0     0     0     0  983     0     0     0   \n9         0     0     0     0     0     0     0     0    0  1001     0     0   \n10        0     0     0     0     0     0     0     0    0     0  1044     0   \n11        0     0     0     0     0     0     0     0    0     0     0  1007   \n12        0     0     0     0     0     0     0     0    0     0     0     0   \n13        0     0     0     0     0     0     0     0    0     0     0     0   \n14        0     0     0     0     0     0     0     0    0     0     0     0   \n15        0     0     0     0     0     0     0     0    0     0     0     0   \n\nirange    12    13    14    15  \nrange                           \n0          0     0     0     0  \n1          0     0     0     0  \n2          0     0     0     0  \n3          0     0     0     0  \n4          0     0     0     0  \n5          0     0     0     0  \n6          0     0     0     0  \n7          0     0     0     0  \n8          0     0     0     0  \n9          0     0     0     0  \n10         0     0     0     0  \n11         0     0     0     0  \n12      1020     0     0     0  \n13         0  1009     0     0  \n14         0     0  1039     0  \n15         0     0     0  1575  \n0.01\nirange   0    1    2    3    4    5    6    7    8    9    10   11   12   13  \\\nrange                                                                          \n0       451   43    1    0    0    0    0    0    0    0    0    0    0    0   \n1        45  914   59    5    0    0    0    0    0    0    0    0    0    0   \n2         0   66  888   69    5    0    0    0    0    0    0    0    0    0   \n3         0    3   74  865   72    3    0    0    0    0    0    0    0    0   \n4         0    0    5  100  891   61    0    0    0    0    0    0    0    0   \n5         0    0    0    2   85  872   64    1    0    0    0    0    0    0   \n6         0    0    0    0    2   75  863   50    0    0    0    0    0    0   \n7         0    0    0    0    0    2   78  881   41    0    0    0    0    0   \n8         0    0    0    0    0    0    0   75  869   40    0    0    0    0   \n9         0    0    0    0    0    0    0    1   68  899   31    0    0    0   \n10        0    0    0    0    0    0    0    0    0   60  954   24    0    0   \n11        0    0    0    0    0    0    0    0    0    0   54  924   29    0   \n12        0    0    0    0    0    0    0    0    0    0    0   49  935   14   \n13        0    0    0    0    0    0    0    0    0    0    0    0   44  939   \n14        0    0    0    0    0    0    0    0    0    0    0    0    0   47   \n15        0    0    0    0    0    0    0    0    0    0    0    0    0    0   \n\nirange   14    15  \nrange              \n0         0     0  \n1         0     0  \n2         0     0  \n3         0     0  \n4         0     0  \n5         0     0  \n6         0     0  \n7         0     0  \n8         0     0  \n9         0     0  \n10        0     0  \n11        0     0  \n12        0     0  \n13       15     0  \n14      968    12  \n15       47  1552  \n0.1\nirange   0    1    2    3    4    5    6    7    8    9    10   11   12   13  \\\nrange                                                                          \n0       413   59    5    0    0    0    0    0    0    0    0    0    0    0   \n1        85  844  102    9    1    0    0    0    0    0    0    0    0    0   \n2         1  122  767  103   15    0    0    0    0    0    0    0    0    0   \n3         0    7  138  748  120    8    0    0    0    0    0    0    0    0   \n4         0    2   18  165  740  121    3    0    0    0    0    0    0    0   \n5         0    1    0   18  170  731  108    5    0    0    0    0    0    0   \n6         0    0    0    0   11  158  737   88    3    0    0    0    0    0   \n7         0    0    0    0    0    3  157  786   66    1    0    0    0    0   \n8         0    0    0    0    0    0    5  131  787   53    0    0    0    0   \n9         0    0    0    0    0    0    0    1  127  846   54    0    0    0   \n10        0    0    0    0    0    0    0    0    0  101  888   46    0    0   \n11        0    0    0    0    0    0    0    0    0    0  102  872   40    0   \n12        0    0    0    0    0    0    0    0    0    0    0   89  890   28   \n13        0    0    0    0    0    0    0    0    0    0    0    0   90  894   \n14        0    0    0    0    0    0    0    0    0    0    0    0    0   87   \n15        0    0    0    0    0    0    0    0    0    0    0    0    0    0   \n\nirange   14    15  \nrange              \n0         0     0  \n1         0     0  \n2         0     0  \n3         0     0  \n4         0     0  \n5         0     0  \n6         0     0  \n7         0     0  \n8         0     0  \n9         0     0  \n10        0     0  \n11        0     0  \n12        0     0  \n13       24     0  \n14      910    20  \n15      105  1555  \n1\nirange   0    1    2    3    4    5    6    7    8    9    10   11   12   13  \\\nrange                                                                          \n0       387   76    8    0    0    0    0    0    0    0    0    0    0    0   \n1       107  771  129   13    2    0    0    0    0    0    0    0    0    0   \n2         5  163  667  136   23    2    0    0    0    0    0    0    0    0   \n3         0   19  198  660  149   18    1    0    0    0    0    0    0    0   \n4         0    5   25  200  670  151    8    1    0    0    0    0    0    0   \n5         0    1    3   33  193  675  133    7    0    0    0    0    0    0   \n6         0    0    0    0   19  169  670  118    4    0    0    0    0    0   \n7         0    0    0    1    1    6  191  728   92    0    0    0    0    0   \n8         0    0    0    0    0    0    7  151  729   66    0    0    0    0   \n9         0    0    0    0    0    0    0    6  157  819   80    0    0    0   \n10        0    0    0    0    0    0    0    0    1  116  854   63    0    0   \n11        0    0    0    0    0    0    0    0    0    0  110  842   60    0   \n12        0    0    0    0    0    0    0    0    0    0    0  102  851   45   \n13        0    0    0    0    0    0    0    0    0    0    0    0  109  870   \n14        0    0    0    0    0    0    0    0    0    0    0    0    0   94   \n15        0    0    0    0    0    0    0    0    0    0    0    0    0    0   \n\nirange   14    15  \nrange              \n0         0     0  \n1         0     0  \n2         0     0  \n3         0     0  \n4         0     0  \n5         0     0  \n6         0     0  \n7         0     0  \n8         0     0  \n9         0     0  \n10        0     0  \n11        0     0  \n12        0     0  \n13       35     0  \n14      877    37  \n15      127  1538  \n100\nirange   0    1    2    3    4    5    6    7    8    9    10   11   12   13  \\\nrange                                                                          \n0       263   84    6    1    0    0    0    0    0    0    0    0    0    0   \n1        81  479   89    8    4    0    0    0    0    0    0    0    0    0   \n2         2  132  429   95   19    3    0    0    0    0    0    0    0    0   \n3         2   15  164  429  121    9    0    0    0    0    0    0    0    0   \n4         0    1   18  148  442  120    7    1    0    0    0    0    0    0   \n5         0    1    2   26  138  427   92    6    0    0    0    0    0    0   \n6         0    0    1    0   17  155  430   65    1    0    0    0    0    0   \n7         0    0    0    1    1    7  171  477   56    0    0    0    0    0   \n8         0    0    0    0    1    0   11  165  479   48    0    0    0    0   \n9         0    0    0    0    0    0    0    3  153  547   42    0    0    0   \n10        0    0    0    0    0    0    0    0    0  106  571   46    0    0   \n11        0    0    0    0    0    0    0    0    0    0  103  547   47    0   \n12        0    0    0    0    0    0    0    0    0    0    0   95  566   27   \n13        0    0    0    0    0    0    0    0    0    0    0    0   82  585   \n14        0    0    0    0    0    0    0    0    0    0    0    0    0   77   \n15        0    0    0    0    0    0    0    0    0    0    0    0    0    0   \n\nirange   14    15  \nrange              \n0         0     0  \n1         0     0  \n2         0     0  \n3         0     0  \n4         0     0  \n5         0     0  \n6         0     0  \n7         0     0  \n8         0     0  \n9         0     0  \n10        0     0  \n11        0     0  \n12        0     0  \n13       26     0  \n14      592    23  \n15       95  1063  \n1000\nirange   0    1    2    3    4    5    6    7    8    9    10   11   12   13  \\\nrange                                                                          \n0       376  127   14    1    0    0    0    0    0    0    0    0    0    0   \n1       110  687  153   15    4    0    0    0    0    0    0    0    0    0   \n2         9  182  600  169   30    4    0    0    0    0    0    0    0    0   \n3         4   31  228  602  183   26    1    0    0    0    0    0    0    0   \n4         0    4   32  216  598  161   12    0    0    0    0    0    0    0   \n5         0    3    2   36  211  623  131   11    0    0    0    0    0    0   \n6         0    1    1    4   28  196  632  125    6    0    0    0    0    0   \n7         0    0    0    0    2   11  218  661   89    0    0    0    0    0   \n8         0    0    0    0    0    0   16  208  687   65    1    0    0    0   \n9         0    0    0    0    1    0    0    6  200  788   67    0    0    0   \n10        0    0    0    0    0    0    0    0    1  148  821   64    0    0   \n11        0    0    0    0    0    0    0    0    0    0  155  811   77    0   \n12        0    0    0    0    0    0    0    0    0    0    0  132  818   43   \n13        0    0    0    0    0    0    0    0    0    0    0    0  125  843   \n14        0    0    0    0    0    0    0    0    0    0    0    0    0  123   \n15        0    0    0    0    0    0    0    0    0    0    0    0    0    0   \n\nirange   14    15  \nrange              \n0         0     0  \n1         0     0  \n2         0     0  \n3         0     0  \n4         0     0  \n5         0     0  \n6         0     0  \n7         0     0  \n8         0     0  \n9         0     0  \n10        0     0  \n11        0     0  \n12        0     0  \n13       53     0  \n14      824    42  \n15      162  1533  \n10000\nirange   0    1    2    3    4    5    6    7    8    9    10   11   12   13  \\\nrange                                                                          \n0       363  126   22    2    0    0    0    0    0    0    0    0    0    0   \n1       122  662  154   20    5    0    0    0    0    0    0    0    0    0   \n2         9  199  580  171   34    3    0    0    0    0    0    0    0    0   \n3         4   39  224  576  164   26    1    0    0    0    0    0    0    0   \n4         1    6   40  224  599  166   12    1    0    0    0    0    0    0   \n5         0    1    9   45  222  589  158    8    0    0    0    0    0    0   \n6         0    2    1    4   29  221  569  145    7    0    0    0    0    0   \n7         0    0    0    1    2   16  248  644  106    2    0    0    0    0   \n8         0    0    0    0    2    0   20  203  656   71    1    0    0    0   \n9         0    0    0    0    0    0    2   10  209  784   80    0    0    0   \n10        0    0    0    0    0    0    0    0    5  143  804   73    0    0   \n11        0    0    0    0    0    0    0    0    0    1  158  797   75    0   \n12        0    0    0    0    0    0    0    0    0    0    1  137  808   52   \n13        0    0    0    0    0    0    0    0    0    0    0    0  136  829   \n14        0    0    0    0    0    0    0    0    0    0    0    0    1  128   \n15        0    0    0    0    0    0    0    0    0    0    0    0    0    0   \n\nirange   14    15  \nrange              \n0         0     0  \n1         0     0  \n2         0     0  \n3         0     0  \n4         0     0  \n5         0     0  \n6         0     0  \n7         0     0  \n8         0     0  \n9         0     0  \n10        0     0  \n11        0     0  \n12        0     0  \n13       50     0  \n14      835    42  \n15      154  1533  \n100000\nirange   0    1    2    3    4    5    6    7    8    9    10   11   12   13  \\\nrange                                                                          \n0       360  154   26    1    0    0    0    0    0    0    0    0    0    0   \n1       116  602  153   31    4    0    0    0    0    0    0    0    0    0   \n2        15  228  546  162   28    2    0    0    0    0    0    0    0    0   \n3         3   39  251  535  200   30    3    0    0    0    0    0    0    0   \n4         4    6   44  251  549  170   15    0    0    0    0    0    0    0   \n5         0    2    7   54  235  559  168   19    0    0    0    0    0    0   \n6         1    3    3    7   37  235  530  147    4    0    0    0    0    0   \n7         0    0    0    2    2   25  275  606  114    4    0    0    0    0   \n8         0    1    0    0    2    0   15  230  629   71    2    0    0    0   \n9         0    0    0    0    0    0    4    9  232  749   77    0    0    0   \n10        0    0    0    0    0    0    0    0    4  176  780   74    0    0   \n11        0    0    0    0    0    0    0    0    0    1  185  776   75    0   \n12        0    0    0    0    0    0    0    0    0    0    0  157  782   44   \n13        0    0    0    0    0    0    0    0    0    0    0    0  163  812   \n14        0    0    0    0    0    0    0    0    0    0    0    0    0  153   \n15        0    0    0    0    0    0    0    0    0    0    0    0    0    0   \n\nirange   14    15  \nrange              \n0         0     0  \n1         0     0  \n2         0     0  \n3         0     0  \n4         0     0  \n5         0     0  \n6         0     0  \n7         0     0  \n8         0     0  \n9         0     0  \n10        0     0  \n11        0     0  \n12        0     0  \n13       41     0  \n14      796    33  \n15      202  1542  \n"
     ]
    }
   ],
   "source": [
    "# Get confusion matrix\n",
    "for timept in settings[\"times\"]:\n",
    "    confmat = data[data[\"timept\"] == timept].groupby([\"range\", \"irange\"]).size().unstack(fill_value=0)\n",
    "    print(timept)\n",
    "    print(confmat)\n",
    "    np.save(f\"confmats/tech{TECH}/{timept}.npy\", confmat)"
   ]
  },
  {
   "cell_type": "code",
   "execution_count": null,
   "metadata": {},
   "outputs": [],
   "source": []
  }
 ]
}