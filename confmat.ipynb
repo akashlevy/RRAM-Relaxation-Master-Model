{
 "metadata": {
  "language_info": {
   "codemirror_mode": {
    "name": "ipython",
    "version": 3
   },
   "file_extension": ".py",
   "mimetype": "text/x-python",
   "name": "python",
   "nbconvert_exporter": "python",
   "pygments_lexer": "ipython3",
   "version": "3.8.3"
  },
  "orig_nbformat": 4,
  "kernelspec": {
   "name": "python3",
   "display_name": "Python 3.8.3 64-bit ('base': conda)"
  },
  "interpreter": {
   "hash": "f85c0ae1067a86ad6a96b144378883e79fd1516474b579ba33ee3a7084540002"
  }
 },
 "nbformat": 4,
 "nbformat_minor": 2,
 "cells": [
  {
   "source": [
    "# Generate Confusion Matrices"
   ],
   "cell_type": "markdown",
   "metadata": {}
  },
  {
   "cell_type": "code",
   "execution_count": 1,
   "metadata": {},
   "outputs": [],
   "source": [
    "# Imports\n",
    "import json\n",
    "import matplotlib.pyplot as plt\n",
    "import numpy as np\n",
    "import pandas as pd\n",
    "\n",
    "%config InlineBackend.figure_format = 'svg'"
   ]
  },
  {
   "source": [
    "## Load the technology and its settings\n",
    "\n",
    "Below, choose which technology to load data and settings for:"
   ],
   "cell_type": "markdown",
   "metadata": {}
  },
  {
   "cell_type": "code",
   "execution_count": 2,
   "metadata": {},
   "outputs": [],
   "source": [
    "# Choose technology here\n",
    "TECH = 'B'\n",
    "\n",
    "# Load settings for technology\n",
    "with open(f\"data/tech{TECH}/settings.json\") as sfile:\n",
    "    settings = json.load(sfile)"
   ]
  },
  {
   "cell_type": "code",
   "execution_count": 3,
   "metadata": {},
   "outputs": [
    {
     "output_type": "execute_result",
     "data": {
      "text/plain": [
       "   addr  time              r         g        gi  range  timept\n",
       "0     0   0.0  394055.654398  0.000003  0.000003      0     0.0\n",
       "1     2   0.0  197630.281970  0.000005  0.000005      1     0.0\n",
       "2     4   0.0  118221.233040  0.000008  0.000008      2     0.0\n",
       "3     6   0.0   61104.839289  0.000016  0.000016      4     0.0\n",
       "4     8   0.0   59039.756070  0.000017  0.000017      4     0.0"
      ],
      "text/html": "<div>\n<style scoped>\n    .dataframe tbody tr th:only-of-type {\n        vertical-align: middle;\n    }\n\n    .dataframe tbody tr th {\n        vertical-align: top;\n    }\n\n    .dataframe thead th {\n        text-align: right;\n    }\n</style>\n<table border=\"1\" class=\"dataframe\">\n  <thead>\n    <tr style=\"text-align: right;\">\n      <th></th>\n      <th>addr</th>\n      <th>time</th>\n      <th>r</th>\n      <th>g</th>\n      <th>gi</th>\n      <th>range</th>\n      <th>timept</th>\n    </tr>\n  </thead>\n  <tbody>\n    <tr>\n      <th>0</th>\n      <td>0</td>\n      <td>0.0</td>\n      <td>394055.654398</td>\n      <td>0.000003</td>\n      <td>0.000003</td>\n      <td>0</td>\n      <td>0.0</td>\n    </tr>\n    <tr>\n      <th>1</th>\n      <td>2</td>\n      <td>0.0</td>\n      <td>197630.281970</td>\n      <td>0.000005</td>\n      <td>0.000005</td>\n      <td>1</td>\n      <td>0.0</td>\n    </tr>\n    <tr>\n      <th>2</th>\n      <td>4</td>\n      <td>0.0</td>\n      <td>118221.233040</td>\n      <td>0.000008</td>\n      <td>0.000008</td>\n      <td>2</td>\n      <td>0.0</td>\n    </tr>\n    <tr>\n      <th>3</th>\n      <td>6</td>\n      <td>0.0</td>\n      <td>61104.839289</td>\n      <td>0.000016</td>\n      <td>0.000016</td>\n      <td>4</td>\n      <td>0.0</td>\n    </tr>\n    <tr>\n      <th>4</th>\n      <td>8</td>\n      <td>0.0</td>\n      <td>59039.756070</td>\n      <td>0.000017</td>\n      <td>0.000017</td>\n      <td>4</td>\n      <td>0.0</td>\n    </tr>\n  </tbody>\n</table>\n</div>"
     },
     "metadata": {},
     "execution_count": 3
    }
   ],
   "source": [
    "# Load data for technology\n",
    "colnames = [\"addr\", \"time\", \"r\", \"g\", \"gi\", \"range\", \"timept\"]\n",
    "data = pd.read_csv(f\"data/tech{TECH}/relaxdata.min.tsv.gz\", names=colnames, sep='\\t')\n",
    "data.head()"
   ]
  },
  {
   "cell_type": "code",
   "execution_count": 12,
   "metadata": {},
   "outputs": [],
   "source": [
    "# Specify the allocation\n",
    "ranges = range(0, 32, 2) # Use every second range as the 4-bit allocation\n",
    "\n",
    "# Clip to [0, gmax]\n",
    "data[\"g\"] = np.clip(data[\"g\"], 0, settings[\"gmax\"])\n",
    "data[\"gi\"] = np.clip(data[\"gi\"], 0, settings[\"gmax\"])\n",
    "\n",
    "# Get the initial and final range at each timept\n",
    "data[\"irange\"] = np.int16((data[\"gi\"] + settings[\"gmax\"]/32)//(settings[\"gmax\"]/16))\n",
    "data[\"range\"] = np.int16((data[\"g\"] + settings[\"gmax\"]/32)//(settings[\"gmax\"]/16))"
   ]
  },
  {
   "cell_type": "code",
   "execution_count": 10,
   "metadata": {},
   "outputs": [
    {
     "output_type": "execute_result",
     "data": {
      "text/plain": [
       "    addr  time             r             g            gi  range  timept  \\\n",
       "0      0   0.0  3.940557e+05  2.537713e-06  2.537713e-06      0     0.0   \n",
       "1      2   0.0  1.976303e+05  5.059953e-06  5.059953e-06      1     0.0   \n",
       "2      4   0.0  1.182212e+05  8.458717e-06  8.458717e-06      1     0.0   \n",
       "3      6   0.0  6.110484e+04  1.636532e-05  1.636532e-05      2     0.0   \n",
       "4      8   0.0  5.903976e+04  1.693774e-05  1.693774e-05      2     0.0   \n",
       "5     10   0.0  4.541739e+04  2.201800e-05  2.201800e-05      3     0.0   \n",
       "6     12   0.0  3.531740e+04  2.831465e-05  2.831465e-05      4     0.0   \n",
       "7     14   0.0  3.394491e+04  2.945950e-05  2.945950e-05      4     0.0   \n",
       "8     16   0.0  2.835015e+04  3.527318e-05  3.527318e-05      4     0.0   \n",
       "9     18   0.0  2.654618e+04  3.767020e-05  3.767020e-05      5     0.0   \n",
       "10    20   0.0  1.438384e+06  6.952247e-07  6.952247e-07      0     0.0   \n",
       "11    22   0.0  2.186376e+04  4.573779e-05  4.573779e-05      6     0.0   \n",
       "12    24   0.0  1.958841e+04  5.105060e-05  5.105060e-05      6     0.0   \n",
       "13    26   0.0  1.983163e+04  5.042451e-05  5.042451e-05      6     0.0   \n",
       "14    28   0.0  1.765237e+04  5.664961e-05  5.664961e-05      7     0.0   \n",
       "15    30   0.0  1.519976e+04  6.579050e-05  6.579050e-05      8     0.0   \n",
       "16    32   0.0  1.520803e+04  6.575472e-05  6.575472e-05      8     0.0   \n",
       "17    34   0.0  1.379678e+04  7.248070e-05  7.248070e-05      9     0.0   \n",
       "18    36   0.0  1.345799e+04  7.430530e-05  7.430530e-05      9     0.0   \n",
       "19    38   0.0  1.323183e+04  7.557536e-05  7.557536e-05      9     0.0   \n",
       "\n",
       "    irange  \n",
       "0        0  \n",
       "1        1  \n",
       "2        1  \n",
       "3        2  \n",
       "4        2  \n",
       "5        3  \n",
       "6        4  \n",
       "7        4  \n",
       "8        4  \n",
       "9        5  \n",
       "10       0  \n",
       "11       6  \n",
       "12       6  \n",
       "13       6  \n",
       "14       7  \n",
       "15       8  \n",
       "16       8  \n",
       "17       9  \n",
       "18       9  \n",
       "19       9  "
      ],
      "text/html": "<div>\n<style scoped>\n    .dataframe tbody tr th:only-of-type {\n        vertical-align: middle;\n    }\n\n    .dataframe tbody tr th {\n        vertical-align: top;\n    }\n\n    .dataframe thead th {\n        text-align: right;\n    }\n</style>\n<table border=\"1\" class=\"dataframe\">\n  <thead>\n    <tr style=\"text-align: right;\">\n      <th></th>\n      <th>addr</th>\n      <th>time</th>\n      <th>r</th>\n      <th>g</th>\n      <th>gi</th>\n      <th>range</th>\n      <th>timept</th>\n      <th>irange</th>\n    </tr>\n  </thead>\n  <tbody>\n    <tr>\n      <th>0</th>\n      <td>0</td>\n      <td>0.0</td>\n      <td>3.940557e+05</td>\n      <td>2.537713e-06</td>\n      <td>2.537713e-06</td>\n      <td>0</td>\n      <td>0.0</td>\n      <td>0</td>\n    </tr>\n    <tr>\n      <th>1</th>\n      <td>2</td>\n      <td>0.0</td>\n      <td>1.976303e+05</td>\n      <td>5.059953e-06</td>\n      <td>5.059953e-06</td>\n      <td>1</td>\n      <td>0.0</td>\n      <td>1</td>\n    </tr>\n    <tr>\n      <th>2</th>\n      <td>4</td>\n      <td>0.0</td>\n      <td>1.182212e+05</td>\n      <td>8.458717e-06</td>\n      <td>8.458717e-06</td>\n      <td>1</td>\n      <td>0.0</td>\n      <td>1</td>\n    </tr>\n    <tr>\n      <th>3</th>\n      <td>6</td>\n      <td>0.0</td>\n      <td>6.110484e+04</td>\n      <td>1.636532e-05</td>\n      <td>1.636532e-05</td>\n      <td>2</td>\n      <td>0.0</td>\n      <td>2</td>\n    </tr>\n    <tr>\n      <th>4</th>\n      <td>8</td>\n      <td>0.0</td>\n      <td>5.903976e+04</td>\n      <td>1.693774e-05</td>\n      <td>1.693774e-05</td>\n      <td>2</td>\n      <td>0.0</td>\n      <td>2</td>\n    </tr>\n    <tr>\n      <th>5</th>\n      <td>10</td>\n      <td>0.0</td>\n      <td>4.541739e+04</td>\n      <td>2.201800e-05</td>\n      <td>2.201800e-05</td>\n      <td>3</td>\n      <td>0.0</td>\n      <td>3</td>\n    </tr>\n    <tr>\n      <th>6</th>\n      <td>12</td>\n      <td>0.0</td>\n      <td>3.531740e+04</td>\n      <td>2.831465e-05</td>\n      <td>2.831465e-05</td>\n      <td>4</td>\n      <td>0.0</td>\n      <td>4</td>\n    </tr>\n    <tr>\n      <th>7</th>\n      <td>14</td>\n      <td>0.0</td>\n      <td>3.394491e+04</td>\n      <td>2.945950e-05</td>\n      <td>2.945950e-05</td>\n      <td>4</td>\n      <td>0.0</td>\n      <td>4</td>\n    </tr>\n    <tr>\n      <th>8</th>\n      <td>16</td>\n      <td>0.0</td>\n      <td>2.835015e+04</td>\n      <td>3.527318e-05</td>\n      <td>3.527318e-05</td>\n      <td>4</td>\n      <td>0.0</td>\n      <td>4</td>\n    </tr>\n    <tr>\n      <th>9</th>\n      <td>18</td>\n      <td>0.0</td>\n      <td>2.654618e+04</td>\n      <td>3.767020e-05</td>\n      <td>3.767020e-05</td>\n      <td>5</td>\n      <td>0.0</td>\n      <td>5</td>\n    </tr>\n    <tr>\n      <th>10</th>\n      <td>20</td>\n      <td>0.0</td>\n      <td>1.438384e+06</td>\n      <td>6.952247e-07</td>\n      <td>6.952247e-07</td>\n      <td>0</td>\n      <td>0.0</td>\n      <td>0</td>\n    </tr>\n    <tr>\n      <th>11</th>\n      <td>22</td>\n      <td>0.0</td>\n      <td>2.186376e+04</td>\n      <td>4.573779e-05</td>\n      <td>4.573779e-05</td>\n      <td>6</td>\n      <td>0.0</td>\n      <td>6</td>\n    </tr>\n    <tr>\n      <th>12</th>\n      <td>24</td>\n      <td>0.0</td>\n      <td>1.958841e+04</td>\n      <td>5.105060e-05</td>\n      <td>5.105060e-05</td>\n      <td>6</td>\n      <td>0.0</td>\n      <td>6</td>\n    </tr>\n    <tr>\n      <th>13</th>\n      <td>26</td>\n      <td>0.0</td>\n      <td>1.983163e+04</td>\n      <td>5.042451e-05</td>\n      <td>5.042451e-05</td>\n      <td>6</td>\n      <td>0.0</td>\n      <td>6</td>\n    </tr>\n    <tr>\n      <th>14</th>\n      <td>28</td>\n      <td>0.0</td>\n      <td>1.765237e+04</td>\n      <td>5.664961e-05</td>\n      <td>5.664961e-05</td>\n      <td>7</td>\n      <td>0.0</td>\n      <td>7</td>\n    </tr>\n    <tr>\n      <th>15</th>\n      <td>30</td>\n      <td>0.0</td>\n      <td>1.519976e+04</td>\n      <td>6.579050e-05</td>\n      <td>6.579050e-05</td>\n      <td>8</td>\n      <td>0.0</td>\n      <td>8</td>\n    </tr>\n    <tr>\n      <th>16</th>\n      <td>32</td>\n      <td>0.0</td>\n      <td>1.520803e+04</td>\n      <td>6.575472e-05</td>\n      <td>6.575472e-05</td>\n      <td>8</td>\n      <td>0.0</td>\n      <td>8</td>\n    </tr>\n    <tr>\n      <th>17</th>\n      <td>34</td>\n      <td>0.0</td>\n      <td>1.379678e+04</td>\n      <td>7.248070e-05</td>\n      <td>7.248070e-05</td>\n      <td>9</td>\n      <td>0.0</td>\n      <td>9</td>\n    </tr>\n    <tr>\n      <th>18</th>\n      <td>36</td>\n      <td>0.0</td>\n      <td>1.345799e+04</td>\n      <td>7.430530e-05</td>\n      <td>7.430530e-05</td>\n      <td>9</td>\n      <td>0.0</td>\n      <td>9</td>\n    </tr>\n    <tr>\n      <th>19</th>\n      <td>38</td>\n      <td>0.0</td>\n      <td>1.323183e+04</td>\n      <td>7.557536e-05</td>\n      <td>7.557536e-05</td>\n      <td>9</td>\n      <td>0.0</td>\n      <td>9</td>\n    </tr>\n  </tbody>\n</table>\n</div>"
     },
     "metadata": {},
     "execution_count": 10
    }
   ],
   "source": [
    "# Show some data\n",
    "data.head(20)"
   ]
  },
  {
   "cell_type": "code",
   "execution_count": 24,
   "metadata": {},
   "outputs": [
    {
     "output_type": "execute_result",
     "data": {
      "text/plain": [
       "array([[9193,  409,    5,    0,    0,    0,    0,    0,    0,    0,    0,\n",
       "           0,    0,    0,    0,    0,    0],\n",
       "       [ 785, 6834, 1623,  224,   53,    1,    3,    0,    0,    0,    0,\n",
       "           0,    0,    0,    0,    0,    0],\n",
       "       [   9,  842, 5230, 1424,  503,  115,   27,    9,    0,    0,    0,\n",
       "           0,    0,    0,    0,    0,    0],\n",
       "       [   0,   61,  912, 4368, 1741,  579,  202,   39,   11,    5,    0,\n",
       "           0,    0,    0,    0,    0,    0],\n",
       "       [   0,    9,  121,  936, 4177, 1439,  646,  173,   49,   19,    4,\n",
       "           0,    0,    0,    0,    0,    0],\n",
       "       [   0,    0,   21,  202,  890, 3425, 1616,  494,  144,   34,    4,\n",
       "           0,    0,    0,    0,    0,    0],\n",
       "       [   0,    0,    4,   60,  239,  853, 4441, 1125,  336,  106,    8,\n",
       "           2,    0,    0,    0,    0,    0],\n",
       "       [   0,    0,    0,   15,   52,  249,  869, 3429, 1344,  320,   34,\n",
       "          14,    3,    0,    0,    0,    0],\n",
       "       [   0,    0,    0,    0,    2,   61,  231,  785, 4921, 1022,  205,\n",
       "          21,    3,    0,    0,    0,    0],\n",
       "       [   0,    0,    0,    0,    3,   13,   61,  163,  947, 4099, 1214,\n",
       "         119,    7,    0,    0,    0,    0],\n",
       "       [   0,    0,    0,    0,    0,    1,   10,   33,   93,  780, 5731,\n",
       "         916,   56,    4,    0,    0,    0],\n",
       "       [   0,    0,    0,    0,    0,    0,    1,    6,   12,   95,  631,\n",
       "        4979,  949,   43,    3,    0,    0],\n",
       "       [   0,    0,    0,    0,    0,    0,    0,    0,    0,   20,   20,\n",
       "         614, 6466,  725,   19,    0,    0],\n",
       "       [   0,    0,    0,    0,    0,    0,    0,    0,    0,    2,    2,\n",
       "          30,  407, 5196,  945,   18,    0],\n",
       "       [   0,    0,    0,    0,    0,    0,    0,    0,    0,    0,    0,\n",
       "           5,    6,  399, 6621, 1045,    3],\n",
       "       [   0,    0,    0,    0,    0,    0,    0,    0,    0,    0,    0,\n",
       "           0,    0,    0,  280, 6459,  793],\n",
       "       [   0,    0,    0,    0,    0,    0,    0,    0,    0,    0,    0,\n",
       "           0,    0,    0,    0,  265, 3107]])"
      ]
     },
     "metadata": {},
     "execution_count": 24
    }
   ],
   "source": [
    "# Get confusion matrix\n",
    "for timept in settings[\"times\"]:\n",
    "    confmat = data[data[\"timept\"] == timept].groupby([\"range\", \"irange\"]).size().unstack(fill_value=0).to_numpy()\n",
    "    print(timept)\n",
    "    print(confmat)\n",
    "    np.save(f\"confmats/tech{TECH}/{timept}.npy\", confmat)"
   ]
  },
  {
   "cell_type": "code",
   "execution_count": null,
   "metadata": {},
   "outputs": [],
   "source": []
  }
 ]
}